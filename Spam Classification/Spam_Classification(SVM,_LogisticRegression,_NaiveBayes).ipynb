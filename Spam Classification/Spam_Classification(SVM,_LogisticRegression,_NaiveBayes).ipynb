{
  "nbformat": 4,
  "nbformat_minor": 0,
  "metadata": {
    "colab": {
      "name": "Spam Classification(SVM, LogisticRegression, NaiveBayes).ipynb",
      "provenance": [],
      "mount_file_id": "1leXVFYSK4fGrPnBQ0QzTexABRuHjZWSK",
      "authorship_tag": "ABX9TyPbAQavbdWBxeX6LgEGhFZQ",
      "include_colab_link": true
    },
    "kernelspec": {
      "display_name": "Python 3",
      "name": "python3"
    },
    "language_info": {
      "name": "python"
    }
  },
  "cells": [
    {
      "cell_type": "markdown",
      "metadata": {
        "id": "view-in-github",
        "colab_type": "text"
      },
      "source": [
        "<a href=\"https://colab.research.google.com/github/fahimabrar/Natural-Language-Processing/blob/main/Spam%20Classification/Spam_Classification(SVM%2C_LogisticRegression%2C_NaiveBayes).ipynb\" target=\"_parent\"><img src=\"https://colab.research.google.com/assets/colab-badge.svg\" alt=\"Open In Colab\"/></a>"
      ]
    },
    {
      "cell_type": "markdown",
      "metadata": {
        "id": "nXYC5_4Pp9Ve"
      },
      "source": [
        "# Classification of Spam and Non Spam message using Machine Learning\n",
        "\n",
        "## This NoteBook Covers\n",
        "\n",
        "- Reading data from Tab delimited binray files\n",
        "- Data preprocessing using NLTK library (tokenization, lemmatization, Using Regular expression)\n",
        "- Converting Tokens into TFIDF Vectors\n",
        "- Classification Using Support Vector Machine, Logistic Regression and Naive Bayes\n",
        "- Plotting Confusion Matrix \n",
        "- Cross Validataion \n",
        "- GridSearchCV for HyperParameter Tuning of SVM\n",
        "\n",
        "### Higest Accuracy Obtained, 98.52 %\n",
        "\n",
        "<a href = \"https://www.linkedin.com/in/abrar-fahim/\">Abrar</a>"
      ]
    },
    {
      "cell_type": "code",
      "metadata": {
        "id": "CEVsD0-lHIPy"
      },
      "source": [
        "import pandas as pd"
      ],
      "execution_count": 1,
      "outputs": []
    },
    {
      "cell_type": "code",
      "metadata": {
        "colab": {
          "base_uri": "https://localhost:8080/",
          "height": 202
        },
        "id": "LGQKu7KuHwvB",
        "outputId": "a9decab2-6cba-44ac-ddbb-6b4d2661d15c"
      },
      "source": [
        "df = pd.DataFrame(pd.read_csv(\"https://raw.githubusercontent.com/fahimabrar/Natural-Language-Processing/main/Spam%20Classification/spam\", sep='\\t', names= [\"label\", \"message\"]))\n",
        "df.head()"
      ],
      "execution_count": 2,
      "outputs": [
        {
          "output_type": "execute_result",
          "data": {
            "text/html": [
              "<div>\n",
              "<style scoped>\n",
              "    .dataframe tbody tr th:only-of-type {\n",
              "        vertical-align: middle;\n",
              "    }\n",
              "\n",
              "    .dataframe tbody tr th {\n",
              "        vertical-align: top;\n",
              "    }\n",
              "\n",
              "    .dataframe thead th {\n",
              "        text-align: right;\n",
              "    }\n",
              "</style>\n",
              "<table border=\"1\" class=\"dataframe\">\n",
              "  <thead>\n",
              "    <tr style=\"text-align: right;\">\n",
              "      <th></th>\n",
              "      <th>label</th>\n",
              "      <th>message</th>\n",
              "    </tr>\n",
              "  </thead>\n",
              "  <tbody>\n",
              "    <tr>\n",
              "      <th>0</th>\n",
              "      <td>ham</td>\n",
              "      <td>Go until jurong point, crazy.. Available only ...</td>\n",
              "    </tr>\n",
              "    <tr>\n",
              "      <th>1</th>\n",
              "      <td>ham</td>\n",
              "      <td>Ok lar... Joking wif u oni...</td>\n",
              "    </tr>\n",
              "    <tr>\n",
              "      <th>2</th>\n",
              "      <td>spam</td>\n",
              "      <td>Free entry in 2 a wkly comp to win FA Cup fina...</td>\n",
              "    </tr>\n",
              "    <tr>\n",
              "      <th>3</th>\n",
              "      <td>ham</td>\n",
              "      <td>U dun say so early hor... U c already then say...</td>\n",
              "    </tr>\n",
              "    <tr>\n",
              "      <th>4</th>\n",
              "      <td>ham</td>\n",
              "      <td>Nah I don't think he goes to usf, he lives aro...</td>\n",
              "    </tr>\n",
              "  </tbody>\n",
              "</table>\n",
              "</div>"
            ],
            "text/plain": [
              "  label                                            message\n",
              "0   ham  Go until jurong point, crazy.. Available only ...\n",
              "1   ham                      Ok lar... Joking wif u oni...\n",
              "2  spam  Free entry in 2 a wkly comp to win FA Cup fina...\n",
              "3   ham  U dun say so early hor... U c already then say...\n",
              "4   ham  Nah I don't think he goes to usf, he lives aro..."
            ]
          },
          "metadata": {},
          "execution_count": 2
        }
      ]
    },
    {
      "cell_type": "code",
      "metadata": {
        "colab": {
          "base_uri": "https://localhost:8080/"
        },
        "id": "kqeDKlCZIFg_",
        "outputId": "1ecf9734-7de3-4cd5-c60e-9b8e3b72d928"
      },
      "source": [
        "df.shape"
      ],
      "execution_count": 3,
      "outputs": [
        {
          "output_type": "execute_result",
          "data": {
            "text/plain": [
              "(5572, 2)"
            ]
          },
          "metadata": {},
          "execution_count": 3
        }
      ]
    },
    {
      "cell_type": "code",
      "metadata": {
        "id": "ZpzbNF0HIqJZ",
        "colab": {
          "base_uri": "https://localhost:8080/"
        },
        "outputId": "13e2ad8a-7401-4c4f-c95f-ed0a6ee20265"
      },
      "source": [
        "import numpy as np\n",
        "import nltk\n",
        "nltk.download(\"punkt\")\n",
        "nltk.download('wordnet')\n",
        "from nltk.stem import WordNetLemmatizer\n",
        "import string\n",
        "import re\n",
        "wordnet_lemmatizer = WordNetLemmatizer()"
      ],
      "execution_count": 4,
      "outputs": [
        {
          "output_type": "stream",
          "name": "stdout",
          "text": [
            "[nltk_data] Downloading package punkt to /root/nltk_data...\n",
            "[nltk_data]   Package punkt is already up-to-date!\n",
            "[nltk_data] Downloading package wordnet to /root/nltk_data...\n",
            "[nltk_data]   Package wordnet is already up-to-date!\n"
          ]
        }
      ]
    },
    {
      "cell_type": "code",
      "metadata": {
        "id": "ZVrCKhzd5G2D"
      },
      "source": [
        "np.random.seed(500)\n",
        "# random seed is generated to obtain same resutl in each time"
      ],
      "execution_count": 5,
      "outputs": []
    },
    {
      "cell_type": "markdown",
      "metadata": {
        "id": "lPTXuRBVo-Rc"
      },
      "source": [
        "## Preprocessing Plan:\n",
        "\n",
        "\n",
        "1.   Remove the punctuations\n",
        "2.   Remove speical characters and numbers\n",
        "3.   Tokenize the sentences into list of words\n",
        "4.   Convert each word to lower case\n",
        "5.   Lemmatize the words using nltk-wordnet Lemmatizer\n",
        "6.   Convert the list into stirng (as TFIDF vectorizer needs string as input)\n",
        "\n"
      ]
    },
    {
      "cell_type": "code",
      "metadata": {
        "id": "_qDtjmbG5G5F"
      },
      "source": [
        "def preprocess(sentence):\n",
        "  sentence.translate(str.maketrans('', '', string.punctuation))\n",
        "  sentence =  re.sub('[^A-Za-z]+', ' ', sentence)\n",
        "  tokens = nltk.word_tokenize(sentence)\n",
        "  tokens = [word.lower() for word in tokens]\n",
        "  tokens = [wordnet_lemmatizer.lemmatize(word, pos=\"v\") for word in tokens]\n",
        "  tokens = str(tokens)\n",
        "  return tokens"
      ],
      "execution_count": 6,
      "outputs": []
    },
    {
      "cell_type": "code",
      "metadata": {
        "id": "-fQEU_I3HV0W"
      },
      "source": [
        "df[\"tokens\"] = df.message.apply(preprocess)\n"
      ],
      "execution_count": 7,
      "outputs": []
    },
    {
      "cell_type": "code",
      "metadata": {
        "colab": {
          "base_uri": "https://localhost:8080/",
          "height": 202
        },
        "id": "SX8xm6YqLvHP",
        "outputId": "512bef92-b4f3-4654-8d0b-1027e543b968"
      },
      "source": [
        "df.head()"
      ],
      "execution_count": 8,
      "outputs": [
        {
          "output_type": "execute_result",
          "data": {
            "text/html": [
              "<div>\n",
              "<style scoped>\n",
              "    .dataframe tbody tr th:only-of-type {\n",
              "        vertical-align: middle;\n",
              "    }\n",
              "\n",
              "    .dataframe tbody tr th {\n",
              "        vertical-align: top;\n",
              "    }\n",
              "\n",
              "    .dataframe thead th {\n",
              "        text-align: right;\n",
              "    }\n",
              "</style>\n",
              "<table border=\"1\" class=\"dataframe\">\n",
              "  <thead>\n",
              "    <tr style=\"text-align: right;\">\n",
              "      <th></th>\n",
              "      <th>label</th>\n",
              "      <th>message</th>\n",
              "      <th>tokens</th>\n",
              "    </tr>\n",
              "  </thead>\n",
              "  <tbody>\n",
              "    <tr>\n",
              "      <th>0</th>\n",
              "      <td>ham</td>\n",
              "      <td>Go until jurong point, crazy.. Available only ...</td>\n",
              "      <td>['go', 'until', 'jurong', 'point', 'crazy', 'a...</td>\n",
              "    </tr>\n",
              "    <tr>\n",
              "      <th>1</th>\n",
              "      <td>ham</td>\n",
              "      <td>Ok lar... Joking wif u oni...</td>\n",
              "      <td>['ok', 'lar', 'joke', 'wif', 'u', 'oni']</td>\n",
              "    </tr>\n",
              "    <tr>\n",
              "      <th>2</th>\n",
              "      <td>spam</td>\n",
              "      <td>Free entry in 2 a wkly comp to win FA Cup fina...</td>\n",
              "      <td>['free', 'entry', 'in', 'a', 'wkly', 'comp', '...</td>\n",
              "    </tr>\n",
              "    <tr>\n",
              "      <th>3</th>\n",
              "      <td>ham</td>\n",
              "      <td>U dun say so early hor... U c already then say...</td>\n",
              "      <td>['u', 'dun', 'say', 'so', 'early', 'hor', 'u',...</td>\n",
              "    </tr>\n",
              "    <tr>\n",
              "      <th>4</th>\n",
              "      <td>ham</td>\n",
              "      <td>Nah I don't think he goes to usf, he lives aro...</td>\n",
              "      <td>['nah', 'i', 'don', 't', 'think', 'he', 'go', ...</td>\n",
              "    </tr>\n",
              "  </tbody>\n",
              "</table>\n",
              "</div>"
            ],
            "text/plain": [
              "  label  ...                                             tokens\n",
              "0   ham  ...  ['go', 'until', 'jurong', 'point', 'crazy', 'a...\n",
              "1   ham  ...           ['ok', 'lar', 'joke', 'wif', 'u', 'oni']\n",
              "2  spam  ...  ['free', 'entry', 'in', 'a', 'wkly', 'comp', '...\n",
              "3   ham  ...  ['u', 'dun', 'say', 'so', 'early', 'hor', 'u',...\n",
              "4   ham  ...  ['nah', 'i', 'don', 't', 'think', 'he', 'go', ...\n",
              "\n",
              "[5 rows x 3 columns]"
            ]
          },
          "metadata": {},
          "execution_count": 8
        }
      ]
    },
    {
      "cell_type": "code",
      "metadata": {
        "id": "iMEd9tT-V5tQ"
      },
      "source": [
        "from sklearn.feature_extraction.text import TfidfVectorizer"
      ],
      "execution_count": 9,
      "outputs": []
    },
    {
      "cell_type": "code",
      "metadata": {
        "id": "navZzc8JIqyw"
      },
      "source": [
        "X = list(df['tokens'])\n",
        "y = list(df['label'])\n",
        "y = list(pd.get_dummies(y, drop_first = True)['spam'])\n",
        "\n",
        "from sklearn.model_selection import train_test_split\n",
        "X_train, X_test, y_train, y_test = train_test_split(X, y, test_size = 0.2, random_state = 0)"
      ],
      "execution_count": 10,
      "outputs": []
    },
    {
      "cell_type": "code",
      "metadata": {
        "id": "To8Bqr_DI1tn"
      },
      "source": [
        "Tfidf_vect = TfidfVectorizer(max_features=5000)\n",
        "Tfidf_vect.fit(df['tokens'])\n",
        "X_train = Tfidf_vect.transform(X_train)\n",
        "X_test = Tfidf_vect.transform(X_test)\n"
      ],
      "execution_count": 11,
      "outputs": []
    },
    {
      "cell_type": "code",
      "metadata": {
        "id": "rdC0npW3X5Ll"
      },
      "source": [
        "#un comment to see the vocab list\n",
        "#print(Tfidf_vect.vocabulary_)"
      ],
      "execution_count": 33,
      "outputs": []
    },
    {
      "cell_type": "code",
      "metadata": {
        "id": "zy6OtznHVKWJ",
        "colab": {
          "base_uri": "https://localhost:8080/"
        },
        "outputId": "410c8dad-d986-4e54-b11f-dc9ba20b39cf"
      },
      "source": [
        "type(X_train)\n",
        "#print(X_train)\n",
        "len(y_test)"
      ],
      "execution_count": 13,
      "outputs": [
        {
          "output_type": "execute_result",
          "data": {
            "text/plain": [
              "1115"
            ]
          },
          "metadata": {},
          "execution_count": 13
        }
      ]
    },
    {
      "cell_type": "markdown",
      "metadata": {
        "id": "0sAdI0U0oPbX"
      },
      "source": [
        "## If we print(X_train) we will see the data is something like the following picture, \n",
        "\n",
        "where the format is (Row number, Unique Integer number of each word in the first row)  Score calculated by TF-IDF Vectorizer\n",
        "![classic.JPG](data:image/jpeg;base64,/9j/4AAQSkZJRgABAQEAeAB4AAD/4RDaRXhpZgAATU0AKgAAAAgABAE7AAIAAAAFAAAISodpAAQAAAABAAAIUJydAAEAAAAKAAAQyOocAAcAAAgMAAAAPgAAAAAc6gAAAAgAAAAAAAAAAAAAAAAAAAAAAAAAAAAAAAAAAAAAAAAAAAAAAAAAAAAAAAAAAAAAAAAAAAAAAAAAAAAAAAAAAAAAAAAAAAAAAAAAAAAAAAAAAAAAAAAAAAAAAAAAAAAAAAAAAAAAAAAAAAAAAAAAAAAAAAAAAAAAAAAAAAAAAAAAAAAAAAAAAAAAAAAAAAAAAAAAAAAAAAAAAAAAAAAAAAAAAAAAAAAAAAAAAAAAAAAAAAAAAAAAAAAAAAAAAAAAAAAAAAAAAAAAAAAAAAAAAAAAAAAAAAAAAAAAAAAAAAAAAAAAAAAAAAAAAAAAAAAAAAAAAAAAAAAAAAAAAAAAAAAAAAAAAAAAAAAAAAAAAAAAAAAAAAAAAAAAAAAAAAAAAAAAAAAAAAAAAAAAAAAAAAAAAAAAAAAAAAAAAAAAAAAAAAAAAAAAAAAAAAAAAAAAAAAAAAAAAAAAAAAAAAAAAAAAAAAAAAAAAAAAAAAAAAAAAAAAAAAAAAAAAAAAAAAAAAAAAAAAAAAAAAAAAAAAAAAAAAAAAAAAAAAAAAAAAAAAAAAAAAAAAAAAAAAAAAAAAAAAAAAAAAAAAAAAAAAAAAAAAAAAAAAAAAAAAAAAAAAAAAAAAAAAAAAAAAAAAAAAAAAAAAAAAAAAAAAAAAAAAAAAAAAAAAAAAAAAAAAAAAAAAAAAAAAAAAAAAAAAAAAAAAAAAAAAAAAAAAAAAAAAAAAAAAAAAAAAAAAAAAAAAAAAAAAAAAAAAAAAAAAAAAAAAAAAAAAAAAAAAAAAAAAAAAAAAAAAAAAAAAAAAAAAAAAAAAAAAAAAAAAAAAAAAAAAAAAAAAAAAAAAAAAAAAAAAAAAAAAAAAAAAAAAAAAAAAAAAAAAAAAAAAAAAAAAAAAAAAAAAAAAAAAAAAAAAAAAAAAAAAAAAAAAAAAAAAAAAAAAAAAAAAAAAAAAAAAAAAAAAAAAAAAAAAAAAAAAAAAAAAAAAAAAAAAAAAAAAAAAAAAAAAAAAAAAAAAAAAAAAAAAAAAAAAAAAAAAAAAAAAAAAAAAAAAAAAAAAAAAAAAAAAAAAAAAAAAAAAAAAAAAAAAAAAAAAAAAAAAAAAAAAAAAAAAAAAAAAAAAAAAAAAAAAAAAAAAAAAAAAAAAAAAAAAAAAAAAAAAAAAAAAAAAAAAAAAAAAAAAAAAAAAAAAAAAAAAAAAAAAAAAAAAAAAAAAAAAAAAAAAAAAAAAAAAAAAAAAAAAAAAAAAAAAAAAAAAAAAAAAAAAAAAAAAAAAAAAAAAAAAAAAAAAAAAAAAAAAAAAAAAAAAAAAAAAAAAAAAAAAAAAAAAAAAAAAAAAAAAAAAAAAAAAAAAAAAAAAAAAAAAAAAAAAAAAAAAAAAAAAAAAAAAAAAAAAAAAAAAAAAAAAAAAAAAAAAAAAAAAAAAAAAAAAAAAAAAAAAAAAAAAAAAAAAAAAAAAAAAAAAAAAAAAAAAAAAAAAAAAAAAAAAAAAAAAAAAAAAAAAAAAAAAAAAAAAAAAAAAAAAAAAAAAAAAAAAAAAAAAAAAAAAAAAAAAAAAAAAAAAAAAAAAAAAAAAAAAAAAAAAAAAAAAAAAAAAAAAAAAAAAAAAAAAAAAAAAAAAAAAAAAAAAAAAAAAAAAAAAAAAAAAAAAAAAAAAAAAAAAAAAAAAAAAAAAAAAAAAAAAAAAAAAAAAAAAAAAAAAAAAAAAAAAAAAAAAAAAAAAAAAAAAAAAAAAAAAAAAAAAAAAAAAAAAAAAAAAAAAAAAAAAAAAAAAAAAAAAAAAAAAAAAAAAAAAAAAAAAAAAAAAAAAAAAAAAAAAAAAAAAAAAAAAAAAAAAAAAAAAAAAAAAAAAAAAAAAAAAAAAAAAAAAAAAAAAAAAAAAAAAAAAAAAAAAAAAAAAAAAAAAAAAAAAAAAAAAAAAAAAAAAAAAAAAAAAAAAAAAAAAAAAAAAAAAAAAAAAAAAAAAAAAAAAAAAAAAAAAAAAAAAAAAAAAAAAAAAAAAAAAAAAAAAAAAAAAAAAAAAAAAAAAAAAAAAAAAAAAAAAAAAAAAAAAAAAAAAAAAAAAAAAAAAAAAAAAAAAAAAAAAAAAAAAAAAAAAAAAAAAAAAAAAAAAAAAAAAAAAAAAAAAAAAAAAAAAAAAAAAAAAAAAAAAAAAAAAAAAAAAAAAAAAAAAAAAAAAAAAAAAAAAAAAAAAAAAAAAAAAAAAAAAAAAAAAAAAAAAAAAAAAAAAAAAAAAAAAAAAAAAAAAAAAAAAAAAAAAAAAAAAAAAAAAAAAAAAAAAAAAAAAAAAAAAAAAAAAAAAAAAAAAAAAAAAAAAAAAAAAAAAAAAAAAAAAAAAAAAAAAAAAAAAAAAAAAAAAAAAAAAAAAAAAAAAAAAAAAAAAAAAAAAAAAAAAAAAAAAAAAAAAAAAAAAAAAAAAAAAAAAAAAAAAAAAAAAAAAAAAAAAAAAAAAAAAAAAAAAAAAAAAAAAAAAAAAAAAAAAAAAAAAAAAAAAAAAAAAAAAAAAAAAAAAAAAAAAAAAAAAAAAAAAAAAAAAAAAAAAAAAAAAAAAAAAAAAAAAAAAAAAAAAAAAAAAAAAAAAAAAAAAAAAAAAAAAAAAAAAAAAAAAAAAAAAAAAAAAAAAAAAAAAAAAAAAAAAAAAAAAAAAAAAAAAAAAAAAAAAAAAAAAAAAAAAAAAAAAAAAAAAAAAAAAAAAAAAAAAAAAAAAAAAAAAAAAAAAAAAAAAAAAAAAAAAAAAAAAAAAAEFzdXMAAAAFkAMAAgAAABQAABCekAQAAgAAABQAABCykpEAAgAAAAM0NwAAkpIAAgAAAAM0NwAA6hwABwAACAwAAAiSAAAAABzqAAAACAAAAAAAAAAAAAAAAAAAAAAAAAAAAAAAAAAAAAAAAAAAAAAAAAAAAAAAAAAAAAAAAAAAAAAAAAAAAAAAAAAAAAAAAAAAAAAAAAAAAAAAAAAAAAAAAAAAAAAAAAAAAAAAAAAAAAAAAAAAAAAAAAAAAAAAAAAAAAAAAAAAAAAAAAAAAAAAAAAAAAAAAAAAAAAAAAAAAAAAAAAAAAAAAAAAAAAAAAAAAAAAAAAAAAAAAAAAAAAAAAAAAAAAAAAAAAAAAAAAAAAAAAAAAAAAAAAAAAAAAAAAAAAAAAAAAAAAAAAAAAAAAAAAAAAAAAAAAAAAAAAAAAAAAAAAAAAAAAAAAAAAAAAAAAAAAAAAAAAAAAAAAAAAAAAAAAAAAAAAAAAAAAAAAAAAAAAAAAAAAAAAAAAAAAAAAAAAAAAAAAAAAAAAAAAAAAAAAAAAAAAAAAAAAAAAAAAAAAAAAAAAAAAAAAAAAAAAAAAAAAAAAAAAAAAAAAAAAAAAAAAAAAAAAAAAAAAAAAAAAAAAAAAAAAAAAAAAAAAAAAAAAAAAAAAAAAAAAAAAAAAAAAAAAAAAAAAAAAAAAAAAAAAAAAAAAAAAAAAAAAAAAAAAAAAAAAAAAAAAAAAAAAAAAAAAAAAAAAAAAAAAAAAAAAAAAAAAAAAAAAAAAAAAAAAAAAAAAAAAAAAAAAAAAAAAAAAAAAAAAAAAAAAAAAAAAAAAAAAAAAAAAAAAAAAAAAAAAAAAAAAAAAAAAAAAAAAAAAAAAAAAAAAAAAAAAAAAAAAAAAAAAAAAAAAAAAAAAAAAAAAAAAAAAAAAAAAAAAAAAAAAAAAAAAAAAAAAAAAAAAAAAAAAAAAAAAAAAAAAAAAAAAAAAAAAAAAAAAAAAAAAAAAAAAAAAAAAAAAAAAAAAAAAAAAAAAAAAAAAAAAAAAAAAAAAAAAAAAAAAAAAAAAAAAAAAAAAAAAAAAAAAAAAAAAAAAAAAAAAAAAAAAAAAAAAAAAAAAAAAAAAAAAAAAAAAAAAAAAAAAAAAAAAAAAAAAAAAAAAAAAAAAAAAAAAAAAAAAAAAAAAAAAAAAAAAAAAAAAAAAAAAAAAAAAAAAAAAAAAAAAAAAAAAAAAAAAAAAAAAAAAAAAAAAAAAAAAAAAAAAAAAAAAAAAAAAAAAAAAAAAAAAAAAAAAAAAAAAAAAAAAAAAAAAAAAAAAAAAAAAAAAAAAAAAAAAAAAAAAAAAAAAAAAAAAAAAAAAAAAAAAAAAAAAAAAAAAAAAAAAAAAAAAAAAAAAAAAAAAAAAAAAAAAAAAAAAAAAAAAAAAAAAAAAAAAAAAAAAAAAAAAAAAAAAAAAAAAAAAAAAAAAAAAAAAAAAAAAAAAAAAAAAAAAAAAAAAAAAAAAAAAAAAAAAAAAAAAAAAAAAAAAAAAAAAAAAAAAAAAAAAAAAAAAAAAAAAAAAAAAAAAAAAAAAAAAAAAAAAAAAAAAAAAAAAAAAAAAAAAAAAAAAAAAAAAAAAAAAAAAAAAAAAAAAAAAAAAAAAAAAAAAAAAAAAAAAAAAAAAAAAAAAAAAAAAAAAAAAAAAAAAAAAAAAAAAAAAAAAAAAAAAAAAAAAAAAAAAAAAAAAAAAAAAAAAAAAAAAAAAAAAAAAAAAAAAAAAAAAAAAAAAAAAAAAAAAAAAAAAAAAAAAAAAAAAAAAAAAAAAAAAAAAAAAAAAAAAAAAAAAAAAAAAAAAAAAAAAAAAAAAAAAAAAAAAAAAAAAAAAAAAAAAAAAAAAAAAAAAAAAAAAAAAAAAAAAAAAAAAAAAAAAAAAAAAAAAAAAAAAAAAAAAAAAAAAAAAAAAAAAAAAAAAAAAAAAAAAAAAAAAAAAAAAAAAAAAAAAAAAAAAAAAAAAAAAAAAAAAAAAAAAAAAAAAAAAAAAAAAAAAAAAAAAAAAAAAAAAAAAAAAAAAAAAAAAAAAAAAAAAAAAAAAAAAAAAAAAAAAAAAAAAAAAAAAAAAAAAAAAAAAAAAAAAAAAAAAAAAAAAAAAAAAAAAAAAAAAAAAAAAAAAAAAAAAAAAAAAAAAAAAAAAAAAAAAAAAAAAAAAAAAAAAAAAAAAAAAAAAAAAAAAAAAAAAAAAAAAAAAAAAAAAAAAAAAAAAAAAAAAAAAAAAAAAAAAAAAAAAAAAAAAAAAAAAAAAAAAAAAAAAAAAAAAAAAAAAAAAAAAAAAAAAAAAAAAAAAAAAAAAAAAAAAAAAAAAAAAAAAAAAAAAAAAAAAAAAAAAAAAAAAAAAAAAAAAAAAAAAAAAAAAAAAAAAAAAAAAAAAAAAAAAAAAAAAAAAAAAAAAAAAAAAAAAAAAAAAAAAAAAAAAAAAAAAAAAAAAAAAAAAAAAAAAAAAAAAAAAAAAAAAAAAAAAAAAAAAAAAAAAAAAAAAAAAAAAAAAAAAAAAAAAAAAAAAAAAAAAAAAAAAAAAAAAAAAAAAAAAAAAAAAAAAAAAAAAAAAAAAAAAAAAAAAAAAAAAAAAAAAAAAAAAAAAAAAAAAAAAAAAAAAAAAAAAAAAAAAAAAAAAAAAAAAAAAAAAAAAAAAAAAAAAAAAAAAAAAAAAAAAAAAAAAAAAAAAAAAAAAAAAAAAAAAAAAAAAAAAAAAAAAAAAAAAAAAAAAAAAAAAAAAAAAAAAAAAAAAAAAAAAAAAAAAAAAAAAAAAAAAAAAAAAAAAAAAAAAAAAAAAAAAAAAAAAAAAAAAAAAAAAAAAAAAAAAAAAAAAAAAAAAAAAAAAAAAAAAAAMjAyMToxMDoxMCAwMTozNTo1MgAyMDIxOjEwOjEwIDAxOjM1OjUyAAAAQQBzAHUAcwAAAP/hCxdodHRwOi8vbnMuYWRvYmUuY29tL3hhcC8xLjAvADw/eHBhY2tldCBiZWdpbj0n77u/JyBpZD0nVzVNME1wQ2VoaUh6cmVTek5UY3prYzlkJz8+DQo8eDp4bXBtZXRhIHhtbG5zOng9ImFkb2JlOm5zOm1ldGEvIj48cmRmOlJERiB4bWxuczpyZGY9Imh0dHA6Ly93d3cudzMub3JnLzE5OTkvMDIvMjItcmRmLXN5bnRheC1ucyMiPjxyZGY6RGVzY3JpcHRpb24gcmRmOmFib3V0PSJ1dWlkOmZhZjViZGQ1LWJhM2QtMTFkYS1hZDMxLWQzM2Q3NTE4MmYxYiIgeG1sbnM6ZGM9Imh0dHA6Ly9wdXJsLm9yZy9kYy9lbGVtZW50cy8xLjEvIi8+PHJkZjpEZXNjcmlwdGlvbiByZGY6YWJvdXQ9InV1aWQ6ZmFmNWJkZDUtYmEzZC0xMWRhLWFkMzEtZDMzZDc1MTgyZjFiIiB4bWxuczp4bXA9Imh0dHA6Ly9ucy5hZG9iZS5jb20veGFwLzEuMC8iPjx4bXA6Q3JlYXRlRGF0ZT4yMDIxLTEwLTEwVDAxOjM1OjUyLjQ3MjwveG1wOkNyZWF0ZURhdGU+PC9yZGY6RGVzY3JpcHRpb24+PHJkZjpEZXNjcmlwdGlvbiByZGY6YWJvdXQ9InV1aWQ6ZmFmNWJkZDUtYmEzZC0xMWRhLWFkMzEtZDMzZDc1MTgyZjFiIiB4bWxuczpkYz0iaHR0cDovL3B1cmwub3JnL2RjL2VsZW1lbnRzLzEuMS8iPjxkYzpjcmVhdG9yPjxyZGY6U2VxIHhtbG5zOnJkZj0iaHR0cDovL3d3dy53My5vcmcvMTk5OS8wMi8yMi1yZGYtc3ludGF4LW5zIyI+PHJkZjpsaT5Bc3VzPC9yZGY6bGk+PC9yZGY6U2VxPg0KCQkJPC9kYzpjcmVhdG9yPjwvcmRmOkRlc2NyaXB0aW9uPjwvcmRmOlJERj48L3g6eG1wbWV0YT4NCiAgICAgICAgICAgICAgICAgICAgICAgICAgICAgICAgICAgICAgICAgICAgICAgICAgICAgICAgICAgICAgICAgICAgICAgICAgICAgICAgICAgICAgICAgICAgICAgICAgICAKICAgICAgICAgICAgICAgICAgICAgICAgICAgICAgICAgICAgICAgICAgICAgICAgICAgICAgICAgICAgICAgICAgICAgICAgICAgICAgICAgICAgICAgICAgICAgICAgICAgIAogICAgICAgICAgICAgICAgICAgICAgICAgICAgICAgICAgICAgICAgICAgICAgICAgICAgICAgICAgICAgICAgICAgICAgICAgICAgICAgICAgICAgICAgICAgICAgICAgICAgCiAgICAgICAgICAgICAgICAgICAgICAgICAgICAgICAgICAgICAgICAgICAgICAgICAgICAgICAgICAgICAgICAgICAgICAgICAgICAgICAgICAgICAgICAgICAgICAgICAgICAKICAgICAgICAgICAgICAgICAgICAgICAgICAgICAgICAgICAgICAgICAgICAgICAgICAgICAgICAgICAgICAgICAgICAgICAgICAgICAgICAgICAgICAgICAgICAgICAgICAgIAogICAgICAgICAgICAgICAgICAgICAgICAgICAgICAgICAgICAgICAgICAgICAgICAgICAgICAgICAgICAgICAgICAgICAgICAgICAgICAgICAgICAgICAgICAgICAgICAgICAgCiAgICAgICAgICAgICAgICAgICAgICAgICAgICAgICAgICAgICAgICAgICAgICAgICAgICAgICAgICAgICAgICAgICAgICAgICAgICAgICAgICAgICAgICAgICAgICAgICAgICAKICAgICAgICAgICAgICAgICAgICAgICAgICAgICAgICAgICAgICAgICAgICAgICAgICAgICAgICAgICAgICAgICAgICAgICAgICAgICAgICAgICAgICAgICAgICAgICAgICAgIAogICAgICAgICAgICAgICAgICAgICAgICAgICAgICAgICAgICAgICAgICAgICAgICAgICAgICAgICAgICAgICAgICAgICAgICAgICAgICAgICAgICAgICAgICAgICAgICAgICAgCiAgICAgICAgICAgICAgICAgICAgICAgICAgICAgICAgICAgICAgICAgICAgICAgICAgICAgICAgICAgICAgICAgICAgICAgICAgICAgICAgICAgICAgICAgICAgICAgICAgICAKICAgICAgICAgICAgICAgICAgICAgICAgICAgICAgICAgICAgICAgICAgICAgICAgICAgICAgICAgICAgICAgICAgICAgICAgICAgICAgICAgICAgICAgICAgICAgICAgICAgIAogICAgICAgICAgICAgICAgICAgICAgICAgICAgICAgICAgICAgICAgICAgICAgICAgICAgICAgICAgICAgICAgICAgICAgICAgICAgICAgICAgICAgICAgICAgICAgICAgICAgCiAgICAgICAgICAgICAgICAgICAgICAgICAgICAgICAgICAgICAgICAgICAgICAgICAgICAgICAgICAgICAgICAgICAgICAgICAgICAgICAgICAgICAgICAgICAgICAgICAgICAKICAgICAgICAgICAgICAgICAgICAgICAgICAgICAgICAgICAgICAgICAgICAgICAgICAgICAgICAgICAgICAgICAgICAgICAgICAgICAgICAgICAgICAgICAgICAgICAgICAgIAogICAgICAgICAgICAgICAgICAgICAgICAgICAgICAgICAgICAgICAgICAgICAgICAgICAgICAgICAgICAgICAgICAgICAgICAgICAgICAgICAgICAgICAgICAgICAgICAgICAgCiAgICAgICAgICAgICAgICAgICAgICAgICAgICAgICAgICAgICAgICAgICAgICAgICAgICAgICAgICAgICAgICAgICAgICAgICAgICAgICAgICAgICAgICAgICAgICAgICAgICAKICAgICAgICAgICAgICAgICAgICAgICAgICAgICAgICAgICAgICAgICAgICAgICAgICAgICAgICAgICAgICAgICAgICAgICAgICAgICAgICAgICAgICAgICAgICAgICAgICAgIAogICAgICAgICAgICAgICAgICAgICAgICAgICAgICAgICAgICAgICAgICAgICAgICAgICAgICAgICAgICAgICAgICAgICAgICAgICAgICAgICAgICAgICAgICAgICAgICAgICAgCiAgICAgICAgICAgICAgICAgICAgICAgICAgICAgICAgICAgICAgICAgICAgICAgICAgICAgICAgICAgICAgICAgICAgICAgICAgICAgICAgICAgICAgICAgICAgICAgICAgICAKICAgICAgICAgICAgICAgICAgICAgICAgICAgICAgICAgICAgICAgICAgICAgICAgICAgICAgICAgICAgICAgICAgICAgICAgICAgICAgICAgICAgICAgICAgICAgICAgICAgIAogICAgICAgICAgICAgICAgICAgICAgICAgICAgPD94cGFja2V0IGVuZD0ndyc/Pv/bAEMABwUFBgUEBwYFBggHBwgKEQsKCQkKFQ8QDBEYFRoZGBUYFxseJyEbHSUdFxgiLiIlKCkrLCsaIC8zLyoyJyorKv/bAEMBBwgICgkKFAsLFCocGBwqKioqKioqKioqKioqKioqKioqKioqKioqKioqKioqKioqKioqKioqKioqKioqKioqKv/AABEIAPoBdgMBIgACEQEDEQH/xAAfAAABBQEBAQEBAQAAAAAAAAAAAQIDBAUGBwgJCgv/xAC1EAACAQMDAgQDBQUEBAAAAX0BAgMABBEFEiExQQYTUWEHInEUMoGRoQgjQrHBFVLR8CQzYnKCCQoWFxgZGiUmJygpKjQ1Njc4OTpDREVGR0hJSlNUVVZXWFlaY2RlZmdoaWpzdHV2d3h5eoOEhYaHiImKkpOUlZaXmJmaoqOkpaanqKmqsrO0tba3uLm6wsPExcbHyMnK0tPU1dbX2Nna4eLj5OXm5+jp6vHy8/T19vf4+fr/xAAfAQADAQEBAQEBAQEBAAAAAAAAAQIDBAUGBwgJCgv/xAC1EQACAQIEBAMEBwUEBAABAncAAQIDEQQFITEGEkFRB2FxEyIygQgUQpGhscEJIzNS8BVictEKFiQ04SXxFxgZGiYnKCkqNTY3ODk6Q0RFRkdISUpTVFVWV1hZWmNkZWZnaGlqc3R1dnd4eXqCg4SFhoeIiYqSk5SVlpeYmZqio6Slpqeoqaqys7S1tre4ubrCw8TFxsfIycrS09TV1tfY2dri4+Tl5ufo6ery8/T19vf4+fr/2gAMAwEAAhEDEQA/APpGoxPCbk24lTzggcxbhuCk4Bx1xkHn2ouZ0tbWW4lOEiQux9gMmuZ+H9qZvD6+Ib3a+pa8FvZ5P7qMMxRD/ZRCAB65PUmjv5f1/n9wdDqqK8pk1G71fwzPrlrqepDX7prifT4ILt0gtIYpGCmSIHyymF+YurFixA7Y9H0LUhrPh3TtTC7ReWsc+0dtyhsfrQtVf+tf+GYPR2L9FFFABRXCTDUrH4s6HBc6xd3SXlneSSw7vLgG0x7AsY443H5m3Nzy2MAL8VhqVr4H1bUrLWLqyW2t1MUVo3lN5nmDLNIPmPGAFBUdc7sjAtk+/wDnYaV5cp3VFct451C50/QLN4p57W0mu4otQvIPv21uc733fwjgAv8AwhicjGRm+H9ZsI/HkeleHtYl1XS7vT5Lgs1694sU0bovyzOzHlX5TccYU4G7kWrt/WiuTfS/9aux3Ec8UzSCKRHMbbHCsDsbAOD6HBBx7in1xmowR+GviJpmoWSiK38QO1lfRIAFeYIzxS4/vYV1J7gj0rs6FtcfWwUUUUAFFFFABRRRQAUUV59qF/Fq/iLXF1O91SODTZo7CxsdNu5LeS4neJZGYeWyl2+YABjtUKzHAyaOthnoNFc14B1a/wBW8KqdZdZNQtLiazuJFxh3ikK7uAByAOgHPYV0pGQRQxBRXnsktvpvjjR7PQ73WoHe6kivBqtxdtbzRhD8kZuSVdy20r5WTgMfu5o1yW3g8c6rN4ll8Qw6VHZW7W0li9+luhHmeaWa3+UYGzJajpcZ6FRXNazr8eleG7JPDzrqF5qAW30oNOZhMxXIkZySWRVBdmJOQOuSKzPhrHfw2niKw1LV73U5bPV5IFurqTe4HlRngHIUZYkL0GaOrXb/AIH+Yuiff+v0O4orgdTiPh3xv4ZtdJ1bUri8v55EvbW6vZLhZoPLLNKUYlYyGVcFAo5IxjioLi7/ALdv9blu7/VEmhv303SrLTrx4G3oilpMKQHO5iSZMqqqOOTlX/r7v80H9fn/AJHotFeXxeKbnU9C8LyeJdRfTtOuRcRapfW8pt0a4hbYqmYbTErMrnIK5IAzg4Oz4V8RWUWp+IbSLVnvNF02KG7gvLidpgkbq5cCZiTIoKEhstjJGeMB6asOx29FeaaVf61ffEzRtTvru7t7LVrS6e30suVjjhTZ5bunTzG3FjnpkDtUPxO1nVNR0nWYvD2o3On2mgxebeXlpIUeW4ONsCsOyq258eqj1o7f1/X+eg0ruy/r+v8AgnqNFcZ4l1IT+J9P0W81CfT9NXT5tRvZoJ2gaRUZFVPMUhlGWJO0gnAGcEgweErm4vtR17w7qLagtnGsNzZfaLqRbqOCUN8rSAiQEMjEZYsAwBORgC1V1/XT/P7ib/1/Xy+87qiuBOkoPiTp+naNfausOnQm91IyaxdTK27KwxFXkZfmO5jx0QevMniYalY+N/C8raxdtHeao8RtYm8qFYvIchSq/fOVBJcnkcBQcUdvP/Ow3pfy/wArndUVx3jDXBBr2m6E95d2cF3BNcXD2MbvcSohRRFGEBcElySUG4KpIK9RWv8AxDY6X8P9RufCl7dSTpOtsDfyzyzW08jrGN63BLrjcG2sMH0waFr/AF8vzDqd1RXnD3x8PeLtHTR77U72xmvf7M1Ka9vJLiOWZkYr5e8na6snzbAqjdt5IwtNr+613QbvWLbUtSXXLqa5/su3t7t44rWOCRkVpIgfLZPlyzOrEltoz8opXVr/ANf1rf0HZ3t/Wt/8j1OivOrnxiut/wBgW091eWNtf6UNSuk06KR7ibJQLEnlgyBclyzIAwAHIGa6fQ30vU/Ds0Hh/U70xB3heWWeWS5t5B95W8/c6MP7rDjI4qmmr/1s7Epp2N6iuFsz/Y/xVttG0fUb66tpdNkm1C1u7yW6EBVl8pw0jMyFtzDAOCADjjNY/jbWtU1W4F7ouo3VjpOkapbWrPbSFPt87TokikjrGikqR0LE/wB2ktWrdf8AO35jel/L/K56lRRRQAUUUUAR3MCXVrLbyjKSoUYexGDXLfD288rQF8OXjbdT0ECznjIwWReIpQO6ugBB9cjtXW1ShvdOm1y5tIHifUYIUNwFXLojFtgY9s/MQCffHNC39f6/zDocbb+CdX0rTdW0PRTYRWGqSyE6k8z/AGq3jkzlBHsIfbuYKd6gZBxkHdc8dX1x4Z8BfYPC9/HZ6usSQ6ZAUWWWfYVBRIyDuO3gnBxnJx1rs6KVtLf1oPrf+tSvYG5bTbY36qt0YlM6p0D4G7HtnNWKKKpu7uSlZWOJ1PSfFd1460/XbfT9GMWnQ3ECRPqkqtKshXDHFudpATpz168VZ8f6Nr3iXwtdaJpNvpwW9hCyT3N5IhiYMDwqxNuHHXI+ldbRS6WKTs7oyopteGjsz6bpw1BWASAahIYmXjkyeTkHrxsPbnnippOiXzeIJNf16WD7a1v9lgtrUs0VtFu3MN7AF2YhcttX7oAHGT0FFHW5NtLHHam48RfETS9PtcyW+gu17eyj7qzMhSKLP97Ds5HYBfUV2NZ+mXuk3F1qFvpUluZ7a4xexwgBllIByw7kjHPfHtWhQtkPdhRRRQAUUUUAFFFFABXHz+GdR0rxjqHiDw7a6deS6lEqyrf3Dwm3dQF3IVR8hgq7hhT8g5PQdhRR1uBhaToFzoXhKXTrG8WTUXWaU3csfytcSFmLlcnjc3TJ445qfw5Brlp4ZtYfEt3b3+sIjefNCNkcjZOOijHGBnaPpWtRQByt5pOu+I7ixj12307T7Ozu47wi0u3uZJnjO5Fy0UYQbsEn5icY4zmtHVX8SPNJb6RZ6WIHXat3c3km+Mkct5KxYbHp5gz6itmiiyasHW5yth8PNGtNH0iyla9eXSrdoIbmC9mtnIYguf3Tr94jOPpUXhXwbN4Yuteu4ppJ5r27kltEm1C4kTYUQKJA5I37lOXwzY4z2rr6KNbt9/1BaKxwPhXw/wCK9I1W51PW7LR9R1S/l/0rUBqcoMcOeIoozb/Kij+HdyeSfS2vhjVdE8R6xqPhuHTZ/wC1yJDLezOj2bkYbaFRg6EgNtynI5PTb2dFG4HP2Glah4Y8L2Gl6BDb6k9uu2WS+u2t95OSz5WOTJLEnGO/Wq9r4Niu7LVR4nlF9c6y0bXgt2eGNFQAJGmG3BRjrnLEknGcDqKKN3dhtscVcfD2FvGGkanb3eofZbOKZZVm1i7eQs2zZtJc/L8p3DIB4yDUfif4Z2OpeGNVstEe7trq93uok1W6FuZHbczNGHK8nJ+6fpXc0UdBp2dzjtV8FFdR0bVdHSO7u9KDxiDU7yV1mRiG5lbe25WAZSQwGMYHBGpoGi3dnf6lq+rPC2o6kyb4oHLRwRxghI1YgFurEtgZLHgVu0UE2Of8JaFdaPa3tzq8sU2q6ldPc3TwsSg/hRFJAO1UCjoO9ZnifSPE2q+ItHu9PstJNtpF4bmMz6jKjzgxsmCogYJ97PVuldnRR28v02H38/1Ob1PSdXl1XS9e0+KyGp2tvJb3FpLcOIZEk2kgSiMkFWRSCU5GRgZyM6fwLNrWk+IRrVxHa3+utG5NkzMtoYgBEVYhS5BXcWwuc44xmu1oo6W/ruO7TucfY+HNVu7rRRrNvpun2OiHzYLXTZnkWaXYUDHcibFUMxCjcSSOeOadv4N1fRrfV9L0AafHZarLI/8AaEszi4tVkJLIIwhD7SzlfnUDdyM5Ld5RQ9dxbHKzeGrzSNQ0q+8LJay/YbD+zntLyZolkhG0owkVGIZSvTaQQx6YpbHRNa03TddvrRrA69q032hY3Z/s0LBFRF3AbmACgltoLHsB06mih3f9d3f8wVl/Xy/I4nwT4f17w7GYtTsdNnnvHMupaqupyST3EmOu026jA6BdwCj1PWHXvhfYXOgxWGgyXtt5d1DKI5dXuzEqLKrvhd5AbAODjg4OR1rvKKb1dw8iK1t0tLWO3iaRkjUKpllaRyPdmJZj7kk1LRRSAKKKKAIb25FnYXFy/wB2GJpD9AM/0rnfh5bbfBVlqMzeZeaug1C7lPV5JQGx9FBCgdgorppY1mheKQZR1KsPUGuV8CPPpthJ4W1COVbnRQIopWU7bi2JIhkVuhO0bSOxU+1C3f8AXr+n3A9l/Xp+v3nExRWvibwneajFbJceJZzcXbamT8+lIkj+UEk6rgIAsakbvmJwCTXqHhzUJdW8L6XqNwu2W7s4pnUjGGZATx9TXPt4DmistR0jTtVjtNC1OaSW4tls8zr5n+sRJt4AVueqMQCQD0w74gW95/whL6L4YOo22ozosdg2nI6+WUZeGlHyxrjglmGRnGTxSWkfu0/P9PWwWvL7/wCv62OwoqvYR3EOm20d7KJrlIlWaQdHcAbj+JzViqejsJO6uebeP9K0fTn09dEs44/FuoajG9jcxjddMQ4MrNIcsYxHuBBJULgYwAK0fFmhG+8a6dqN54W/4SLTobCaFotts/lytJGVbbM6jorcj196LHwX4g0/xNqOup4g0y6vr47BNd6RI7QQg5WFNtwoCDr0yTyc10mpW+vTNH/ZOp6faLsxJ9o095yW9VImQAexB+tJaJf1urf15lPd/wBdbmdotv4U8UeFYYbPRrJ9MhlYf2fcWKKttMpO9TERhXBJzx3JyQc1i+DNC0mbxtrGv6PpdjYWNqDpln9ktliEpU5nkO0DPzgID/sHHWuhsvDJ0jwtd6Xo9/JDd3PmyNqE0YkczyElpSo2gnJ4AwOAKvaDo1t4e0Gz0mxGILSIRqT1Y92PuTkn3NPrf+vP+vMnpb+rdP68jn/EKjR/H/h7V7YbDqUjaXeAHiVSjSRkjuVZCAfRzXYVyEwfxN8QrXyY2/s3w4zvLMwwJbtk2hF9QiMxJ6ZYDscdfSXw/wBbf1d/Mb3/AK3/AKsgooooAKKKKACiiigArzS7fTdf8Za/BrWlw63d2syWOmadPhkRfKSSSXkERjLjdJjIAUDJIU+l1zV34XvIfEN5rPhvULXT7nUYkjvPtNibgSFAQjriRCrAEg5JB449V11/r+tvmNEXw5ubybwl9n1K4a6uLC7uLIztnMojlZQckkngAZJJ4rqJFLxsqu0ZYEB1xlfcZBH5ismx8OxaV4VbRdMuZ4CYpFF2SDL5j5LSnoC25i3YZp3hvSbzQ/DVrpt/q02rXUCEPfXIO+UkkgkZJ4yB1J4603rv/wAP3/rzEvL/AIbsct4f02DS/jJq8FuZXzots8ks8rSSSsZZPmZmJJOAB7AADAAFUfiQX8V6N4gsY2ddI0SzllunUkfaboRlkiyP4U4dvVto7Gt208K+IoPGEviCXXtLkmuLeO1miXSZFUxo5b5T9oOGO48nI6cVZ8QfD3w5runajGdF0uC9vo5F+3fYI2kSRgf3mcAlgTnOc+9TJNwt6/m7FQdp39PyVzJ1u3km0/wqb+wuNR0BIc6jbQQtPuby18ovEoLSIGzkYODtJHFN8MTAeIPEuleHYJdL09bKC4s4prcwJBK4lVmWJsFFJQHaVXJDHHzZPR2+hT6NoNrpvhZ9N03ycby+nl4345OxJEwxPOcn+tMs/CcEWm6pDfXc93d6whW+vDhHfKbAEAGEVR90c47kkkm6mrlbrciGiin5Hm+iSWNz/wAIpDp2mxabr5vEN9rAKql2sf8ArdtwD/pXm8/KrMRyWA21rmPT/FGta/Hqemw6xqpv5LGxgmORZQRogMobnyhuJYuuGJ2gZIGNuLwLqc1lpGmavr0N1pekzRTRRQ2HkzS+V/qw8nmMMDAztRScdquy+E7y11jU73w5qkGmjVyrXiyWXnMHC7d8bb12nHZg4yM45OU/8/0+7ZrT9Q1/L9fv3W/b7+JtNcXVdN8Kaf4vna5sRBdyXnnKT9ukt5VhiDJyZNxIbZzubbwa2vDMN3Z+IfEGiQ2KafZ3Onx3tppsZG20LmRCnB2qW2hiq/KCTgnljtT+BLOGw0NNDkSyu9ByLGeeHzxhl2uHXKltw5JBU55z1BvaToE+nz6hqN1ex3WsagFElyLcpEioCI0WPcSFGSSC5JJPI4AGrpp+fz/rT7ilpa3l8v6/U5Hwda6J4YTw/Y634OTRNZaBLaLUpLS2YT3AjAdRLEzEMw3Eb9u7nvxVv4i6PYvp9/c2/hIXGoSQbxrkMMIe0YcCQsG88lAA3yKxwAB7bY8NahqOq2N54m1S2vV06Xz7W3s7I28fm7Su990khYgE4AKgHkg8Yn1TSte1Jri2XWrS0064BQrDp7faUQjB2ymUqG68+WcelE25a9df6/4YUbRfl/X9ajLvTvDWsaDbaprlrpurW0FoJlvby2SQeXtDFwWBwCBmuf8ABXh1Y/BWs6hZ6bBYz+IBLPDaQxLCIoihWBNowAduGPu5rf1rwlDqfhS28OWlwbLTYzDHNGqFjLbpjMQORjcAATzxnjmtySN1tGjs2jhkCFYi8e5EOOMqCMgegI+oomlJSXfT5BG65fL+v6+RwHhKDQvDk2h2Gp+Dk0HWJYBBDfPaWxFxMsfzqJYWYhiAx+bbuGep4rE8Rz6fb6l4tTxFpEWsagrBtOvkVXFojoojjeUn/RNrZfcxQHJYEmu8Tw3f32sWV/4m1O3vf7Ocy2kFnZm3jWQqVLvukkLEAkDBAGTkE4xQk8GatbnWoNF8QQ21jrE0k80dzYefLC8gw/luJFAHoGVse9E7y19f68vl+oRtHby/r+v8iHxLozz/AApm/tbUJr6az0OXzDHMRFcyiD/Wtj7/ACCQCSOc4yARteGbaO8+HmkW0+/y5tMhRvLkaNsGMZwykEH3BBqvqPhW6bwZF4Z0HULeyslsmsZHu7RriRoymwEFZEAbGeSCPYVJpuh67p/hJtI/tu0FxFbLb2d5DpzKYQq7QzI0rBzwD1Ue1OT+Jrr/AMH/ADElpDyv+n+Rz1jZ6XZfF63sfB1nBZRWdjJ/baWUQjh+bHkK4UYMmdxHfGe1c54glsof+Esh1vTIb7W1um/s/WRsK2gkAEIa4z/opiJBwxTPVdxbnuPCHhLVvCdrFZJqum3FqZGlumGmyrcXUjfekaQ3DDcTjJ2n0AHGK8ngTVI7HWNK0/xDFDpOrTyyyxzWHmzxCX/WqkvmBectgsjEZ74pP9H+dyla/wA1+X9af5Glq2k2lxodgdZ8OxeK7mCNY/8AUW7tkqNzjzmUAEgdDnkcVz2i2U+pfB/W9IsN0l5tvLZLBmINmzbiltl8fdVlGfu46Erg11kml6rZWFlZeHL+xtLe1hWHF7ZPcswUALgrLHjgehzRpegyaNpd5HZXgk1G8la5mvLqLerzMANxRSvygAAKCMADknkkrS5uzv8A1/X+YoNxUfKxgeGf+Ee0fWbOwfwinhzV7i3KwSvaW6m52jMirJCzDIxkqxBI5wecdxXO23hq8n8QWms+ItShvrmwR0s4rW0NvDEXGGchndmcjjO7AGeM810VNu+okraIKKKKQwooooAKz7TW7S/1i+0608ySSwCC4lCfu1dhkR7u7AYJA6BhnrVi/uDaabc3CqWaGF5AoHJIBOKwfh3brB8PdImBLTXtst7cSN1kllHmOx+pY0Lr5fr/AMMwexrT6/o9rqsemXOrWMN/Ljy7SS5RZXz0whOTn6VoV5BpjjxB8MdXt1ijX7Q15daxqEqcJIHcqqk9ZAFTB6IFXvgV6V4Xuri+8I6RdX2ftM9jDJLk87igJ/WiOqfy/G/+Qnv9/wCH/DmrRRRQMrNqVimpppz3tut88fmpamVRKyZxuCZyRx1xUtxcQ2ltJcXUscEMSl5JZGCqijkkk8AD1rhbrTLPS/jB4cSwt1hE1lfyysOWlcmLLMx5ZuBySTwKi8Za/oupeJP+EZ1jV9PsdOs41udQS7ukiN0x5igAYjK8b29to7mpb91P1/C/+Q18TXb/AIH+Z2U/iHRbXS4tSutXsIbCcgRXUlyixSE5xtcnB6Hoe1R6d4p8P6xdfZtI13Tb+42lvKtbyOV8DqcKScc1gfCbULK8+GekRWV3bzvbW6xzJFIrGJuTtYD7px2NP8JH/hIPEWqeLWbfbSE6fpnQjyI2+eQf78gJ+irVtWk0T9m5vv4i0SPVxpT6xp66iSFFmbpBMSRkDZnd056Uajr9lpOp6fZXxkibUZGigl8smLzAMhGforNzgHrg15VdT3J+H+oaJJGs2jS6o4bxLtbykjacu0jLjeZFb5Q4Bjzglxg16R4106HVfAmq28jgD7I8sUueY3RdyOD6hgDn2qHJKPM/60LSvLlN+is3w5qEmq+FtL1CdSst3ZxTOpGMMyAnj6mtKrknFtMiLurhRRRSGFFFFABVDVNe0jRBEda1Wy08TZ8v7XcJFvxjONxGcZH51frzqx1Ca5+IHiu2tbWO61Yyw2kTzITHa2ohVtz/AOyXdyEBBc8cAFlN3ZD82eiAhlBUggjII70tch8MVeHwcbIytNDY311a28jY+aJJmVenHGMceldcwDKVYAgjBB70PyF5Mz7PxDouoajLYWGsWF1eQ7vMtobpHkTacHKg5GDwaNQ8Q6LpFzFb6rq9hYzzDMcVzcpGzjOOAxBPPFcjrbWuq+OvDvh/w7boJNAuFvLyaBAsdjDsZVhyOAXyBsH8IzjFavjrUdN0fw7exvYR3l/rCm1gso4wZL6QrtAPqADyT0A+lJu0br/h/wDhxpXlb+l/W50d7f2mmWcl3qV1DaW0eN808gjRcnAyx4HJApLDUbLVbNLvTLy3vLZ8hZreVZEbBwcMCQea4tvD2s6bp/g2U2v9stocHl3dqsiiR5DEEEsZkIUsp3dWHDHHPFS+GJ5rv4heJ1n042MM1rZyS20ro7eYRIpLhCVDFVXIDNwF55wKa1aRKeibOmsvEWi6lfy2OnaxYXd3CCZLeC6R5EwcHKg5GCcfWpNT1nTNFgSfWdRtNPidtiyXU6xKzYzgFiMnAPFcdq7W2sfEPw9pGgWybvD0pub25hUKlnGYmRYAR0L5HyDsoOKZYXOsT+MvE+oafotnqFzZXK2cUl3emAxxCGN/LixG5+ZmLHO0HK8nHyrdf1/XUfU7a41bTrTTP7Su7+1gsdqt9qlmVYtrY2neTjByMc85pdP1Ow1a0F1pV7b31uSVE1tKsiEjqNykiuF1zXl1q08IeIdFVpZzdu8OkTLiS5PlujqMAhXTk7mIUd2AOar2djeeJH8eRxSLpOsalEluthISGt1EbLHJIwGCXyfmQsoAABJBo7/12BdDvLHX9H1O8mtNN1axvLm3z50NvcpI8eDg7lByOeOadqet6VokaSazqdnp6SHajXdwsQY+gLEZrhdSu70XXg2FvDcuiS22pRQJvmgKhDC4eOIRMxKbQc7tnAXg9BLpV5rB1zxPrFhoVrqNzBfSWvm3N75MghjRNsUQEb8E5YhigLNnnqDTXyv+Fv8AMP8Agfjf/I7TUNe0fSbeG41XVbGyhn/1UlzcpGsnGflLEA8c8VZs7211Gzju9PuYbq2lGY5oJA6OPUMODWbZ63Lrfha01jw7bRTm8iSWKG9mMAAPUMyo+CPQA8jr3riYNQudD8B+O3iRrTWrWe4ubiOP/VwySRhkaI55XbtbJCktklVzih3Ta7f8AaV7W6nfLr+jvrB0lNWsW1JetmLlDMOM/czu6c9OlV77xd4b0y8e01LxDpVncx43w3F7HG65GRlS2Rwc1h6bqk/hWPR9OutAtrDSr2VbW3mtbzzXSVxlTMmxQC2Dlld/mPU5zSXCa74V1TxFrUOm2WoabdSpduFvmjuERIURwEMe1jhCRlxnpkUPT0FHU665vrSzsXvbu6hgtUXe88sgVFX1LHgD3pk+q6fa6Z/aV1fW0NjtV/tUkyrFtbGDvJxg5GDnvXM+LE0vxD8OLzXUhE4OjTz2byg/uxJCTuCngNg4z1AJGcE1r+D/APkR9D/7B8H/AKLWnZ636W/X/IOz73/C3+YWfjHwzqN5Haaf4i0m6uZTiOGC+id3PXhQ2TUp8UaANV/ss65po1Df5f2Q3cfm7v7uzOc+2KwrE/8ACS/Ee51ANv0/w8rWdv0Ie7cAysP91SqfVnqP4lJqVx4Wv4Tp9vLo6RpNdTx3BN0iIwZzHEVClgFyCZBjrgkAFdm/6/pajs22kdVqWrado1sLnWNQtbCBmCCW6mWJSx5xliBng8e1T21zBeWsdzaTRzwSqHjlicMrqehBHBHvXKX8N+njGx8S2OmSa1Ytpv2eOOB41mt2Zt5kAlZFwy7Qfmz8o4IzXLtqd9ZeB/HMlrbvaY1fyooYJRuhEohEm1gQoYGRycHAYn5jjdRrquv/AAbfrcXb5flf/gHo8Gv6PdapLplrqtjNfw58y0juUaVMdcoDkYz6VWufGHhmyvXs7zxFpNvdRtseCW+jV1b0Klsg1mWGrT+HtQ0rQ77QLPS7C8Z4LFrC681UdVLhHQxptJUMcqWGQee9UZrjWvAsWv6tcaZaX2kPevqEskF6VuI4iqhsRNGFYgKTjzBntzR18v8Ahvu7hrbz/r7zuqKjgnjubaOeE7o5UDocYyCMipKNhJ3VwooooGIyh0KsMqwwR6iuY8F2d/oUNx4cu7Z/smntnT7wEFJbdiSqH0dPukdwFPeuorJ0vXl1fVtRt7O3ZrSwcQteFhtlm/jRR328An1JHY0Lf+v6/wCHB7f1/X9eRn3HgWxnN3AL6/h0u+lM11pcToIJmY5fnZ5ihiMlVcA5PHJzB8RdCufEng+bw7p9g8hvQqLOJUjitSrKQz87iOOAqtnGDjrWhd+M9Bsb6W1ub1lMMixTzLbytBA7YwskwUxoeRwzA8j1FbtKya8h3s79SvYWzWWm21q8rTtBEsZlfq5AA3H3OM1Yooqm23dkpJKyOWvfBEl74gh1l/E+sx3dusqW5RLTbCkhBZQDAcj5Ry2Tx1rp9mYfLZi3y7Sxxk+9ZaeKdFl8QrocN+kuoFXPlRqzAbMb1LgbQwyMqTkZHHIqfVdb0/RYo31Gco0zbIYo42llmb0SNAWc45IUHA56VOnLboPr5lS08MW1j4MHhq0u7uG2W2a2W4V1EyqQRkNtxu564rR03TrbSdLttOsYxHbWsSxRIOyqMCqsniCzi0mLUWh1EwStsVF0y4aUHnrEI96jg8lQOnqKr6f4u0nU9YXS7c3sd60LTrDdadcW5MYIBYGRFGMkD8ae7YdDJ/4Vtp4019JXVdVXQ3l8xtJEsfk4Lbim7Z5oQn+Hf7dKteNLe/1TTYvDekwSIuqhobq8C4jtLcAeYc/32B2qvqSeimtCfxRpUGqnTRLPcXSMqypaWk1wIS3QSNGrCPI5+YjjnpTdc8RR6BeacL21l+w3k3kSXqkbLaQ4EYcZyAxyN3QHGetG9kF9WzVt4I7W2it4ECRRIERR0VQMAflUlFFG4krKyCiiigYUUUUAFYWo+F0u9Ul1Gw1S/wBIuriIRXL2Ji/fqv3dwkRxkZIDDBwcZ4GN2sjVfFOk6Ndra3s0zXBiMxhtbSW5dIwcb2WJWKrnjJwDg+ho0GrksWgWFv4bbQ7SNrexMDQBY3O4KwIJ3HndyTk855qLw94btfDHha30LTZ7k29tGyRzSuGkGSTnOMZBPHGPatG0u7e/s4ruynjuLeZQ8csTBldT0II61KzBVLMQABkk9qH1uJdLHJaB4B/4RqMxaX4m1kRPObiZZVtHM7k5Yu5g3sT0zuzjoRUt/wCBkvfFreIo9e1W1vfJ8mMRi3dIE7iMSQttz1JByc+nFXbLxloeoajBZW91KJboMbZprSWKO5A5JikdQknHI2k5HI45p+peLNH0q8ktbq4meaFA8y21rLceQp6NIY1YRggEgtjIBPY0dmHf+v61JZtJvJdMhtU8QajDNG2WvEjtjLKOeGBiKY5/hUdB75NN8P2mk6fcW9lJOs10S8948m+eWQrt8ws2cnAGBjAwAAAMU+/1/TNNsILy5u1MNyVFv5CtM1wWGQI0QFnJHPyg8AnoKXTdc0/VraaeynO2Bis6TRtDJCQM4dHAZOMHkDIIPQ0PqHYwvD3gL/hGIRBpfiTWBAZzcSxypauZ3Y5YyOYN7E9Cd2cdCMCr974VWfU7m+0/VtR0mS8VRdLZNFtnKjaGIkRtrbeNy7TgD0GH2HjDRNSvYrW0upC0+fs8klrLHFcY6+VKyhJOMn5CcgEjgZo1TxhoujXEsN/cTKYADPJFaTSx2+eR5kiKVj4IPzEcEHoc0PXcPQgvPBOmT2mkxWElzpcmjZFjcWcg3wqRtZfnDKwYDncDn61PpPheDSZtQu1v7261HUQonv7lkMuFGECqqBFC5JAC4yec1dv9YtNOtIrmZbqeKUgIbO0luicjIOIlY4x36U3S9d07WbGS70+43RQu0cwlRonhdfvK6OAyEdcMBwQeho7h2Klh4YittUTUtQ1C+1e+hVkgmvWQCBT12JGqICe7bd2OM44qG78IRT397c2Wralpiahg3lvZvGEnYLtLZdGZGKgAlCp4B681Np3jHQ9VvYrWzu5DJcBjbtLbSxR3IXqYpHULLxz8hPHPTmptT8S6XpN2lpdSzSXTJ5gtrS1luZQmcbykSswXPG4gDPFALyEm0Erp9nY6Nqd5ottZxiNI7JIWBUAAA+bG/QDtjrzmksvDGm2mmXtlJG92NRLNfS3LbnumZQpLkYHQAYUAAcAAVpNcxR2huZX8qFU8xmkGzauMknPTj1rP0PxNo/iPRf7X0a9WewBYGdkaMDb97O8AgD1oet7/ADBaWt8inZeD4ra6spL3VtS1OLTzus4Lx4ykDbSobKIrOwUkAuW65680/VfC7ay88Woa5qjadcfLLp0bQxxMndN6xiXB7/PzyOnFP03xhomrXsVrZXUnmzqz25mtpYkuVXqYndQsgwQcoTwc9KlufFOi2muW+jzX8f8AaFxJ5SQIrOVfbvCsVBCEqCRuxkA4zRqG2wzXPDi61pH9lxaleaZZNC1vJDYpCBJGy7dp3xtgAcDbjr9KfoWhPoWliwXVr69hjjWKA3Kw7oVVcALsjXPb72elTazrumeH7I3esXkdtEAxG7JZ9oLHaoyzEAE4APAJ7Vas7uC/sYLy0fzILiNZYnwRuVhkHB5HB70b3DaxT8P6FaeG9Fh0ywMrxxFmaWZg0krsSzOxAGWJJJOKpah4VOrPPFquuandadOx8zTj5CQsp/gLJEsm3238jg5BINiDxTot14puPDlvfLJq1tD581sqMdicclsbc/MvGc89KhvPGeh2F4be7upY9soge4+yym3SQnAVpwvlqckDBYYPBo3aDZMtappE9+kUdprF9pUSKVZLJYQHB9S8bFcdtpHX6U1fDOkp4dl0NbT/AECZWEkZdizljlmLk7ixJzuJznnNXr29t9OsZ72+mWC2t4zJLK5wEUDJJrOsfFWk6p4aTX9MmnvNOkzse3tJpHbDbTiMLvPIP8Pv0pb3DsQ2PhZbfULa91HVtQ1eazUi1+2mLEBI2swEcabmI43NuOM4xk5bf+FP7WlkTVtb1O70+Vyz6a3kpCw7ISkayFR6FznGGyMgutvGej3Oq2unD+0Ibq7LCBLrSrqASbRubDSRgcD3reqvMBAAqgKAABgAdqWiikAUUUUAV9Rlkh0u6lgXdKkLsi+rBTj9awvh1HFH8NtAMGD5tjHM7A53SOu52J9SxJPvXSkAggjIPUVznhXSL/w9Je6Swjk0eNzLp0ob541diWhZfRD90/3SB2oXVd/0v/n+APZf1/X/AAThtIkn1P4U6pDfbrPTrYX76pPIMPcy+ZIWjHcKM/M3U/dXuR32h36aZ4C0m78RXcNmY7GD7TNcyCNVcooOWbpycc96dceDtDutQlu57N2aaQTTQi5lWCZxjDvCG8t2+UcspPA9BVfxz4fuvFnh2XQoY7QW178txczuxa3AYEMkYXDtwerLjg89KSul5u34X/zCyctfP8f6+Z0YIZQVIIIyCO9LUFjaR2Gn29nBu8q3iWJNxycKMDP5VPVO19BK9tTh9Tghtvi94WhtokhiXTr7akahVHMXQCi7XV7n4sXkemz2Ns0GjwmKa8t2n2q0sm8KisnUomW3cbQMHORq3PgPQ7zVBqM/9pm8XfsmXWLtTGHOWCYlG0HA4GBwPSr+p+HNN1aSCW7S4We3UpHcW93LBKFOMr5kbKxBwCQTgkA9aS0S8r/jf/Mffzt+Fv8AIq+F9euNV0++/tWOGG6027ktLiSHIikKAHeu7kAgjgk4ORk4rN8EA61c6l4wlDf8TVxFYq2fktIyQhwem87n/wCBCt0eHdLHh6TQ0tdmnyxtFJEkjKXDfeJcHcS2SS2ckkknJq/b28VpaxW1tGsUMKBI0UYCqBgAfhR/l/w7/ruw8v68v68keY6Dq3iLQ/hcviJW0uS3gE11eWbQP50x81jKfODgK/XA8tuQBk9a7XxfDbaj4B1iO8+S3l0+VmLjBQbCc+xHX8KH8GaG989y1rKfMm897f7VL9neTOd5g3eWTkbslevPXmofF+lah4ht7fQ7dRFpl4x/tO63jcIRjMSDrufON3QKG74qZLmjy9/6/r+kVF2lzF7wvdXF74Q0i6vQRcz2MMkuf7xQE/rWrSIixoqIAqqMADsKWtJO8m0ZxVopBRRRUlBRRRQAV55pc+qXHj7xdp1iGguJLq3L38iAi3t/ITbsB4Zy3mbRggfMzZ4VvQ6yNV8L6VrN0Lm8iuEn8vymltbua2Z0znaxiZSy5zgNkDJx1NHW4zE+Gnl2ngubbLiwhv7z7NJI5IEAmfBLN26811lne2uo2cd3p9zDdW0ozHNBIHRx6hhwajbTLE6S2li1iWwaEwG3RdqCMjbtAHQY44qDStB03Q9Cj0bSbb7LYRIyJEkjZUMST8xO7OSTnOaH/kLrf1OT1G7PjXx3p+m6Qm/TvDt6LvUL/wDh+0KrBbdP7zfNlscAYHXir/8AZ2teHtW1u9sf7MuNO1GUXkst7cPC9qRGqPwqMJFCoCPmTuPerOl/D/QNFiii0pdStIYX3pBFrF2Iwc5PyebtOT1BGD3q9qPhbSdXvDPqkM92pxutpruVrZsdMwFvLPryvXnrStpZfP8AD/JfdvuPrd/1/V395xvhfQ9Xl8G+DdX0027Xem28mLS8LRRzRS9PmAYowUKRw3cd81LYWF94i8TeNbLUHgtRd6db2Uxs2aVIZCkuRvYLvYK6k/KvDAY4ye31LSrfVbdIbqS7jRG3A2l5LbNnGOWiZSRz0JxS6fpNjpWnCx022S1t+fliypJPVi3UsepYnJPOc05a38xK6scHrw8RQ2vhfTNTh0uORNWtEiktJpJHn8s5ciMooiGxWJ+Z8dO+4bfjzXnt7EeHdIgF7rusRPDbWx+7GhGHmkP8KKD+J4HfGvpvhjStKvTeW8M0t2U8sXN5dS3UqJ/dV5WZlUnkgEA1UufA2h3WuXOsMl9Df3Sqs09tqdzAXVRgDEcgGB6YofvKz6u7+5f5Avdd102LVhpF3pHhGx0jS7uFLiztYrdLi5gMqHYoUkoroTkD+8K891Zruz8HfEaxlKzasi/aLq7t+EmWSIAAJ1j2xrjaSxxzuOa9Fn8O2Vzp8FnJNqQit87Gj1S5SQ/70iyB3/4ETU2naNp+lWb2tjbKkcrF5S5LtMxGCzsxLOxAAJYknFEm5OT7hH3eXyOD8R/a7+08OagM2kf9rWa6VZDhiu75pHx3MW/CdFXOfmOFsaN/wkT33iy70i40uGaPVZQ63lvJK02yKMRqWV08sbQOcP8Aezjseo03wjouk3cdzZW0oeFSsCy3UsqW4PURI7FYxjj5AOOOnFJqHhDRtUvpru6t5xLcKqXAgu5oUuFAwBKiOFk4OPmB446cUd7ef42+/b8RJbX6W/X/AD/A5LVPEv8Awlel6BFd6bqVvpGpWy32ofZrCe6Drxttt0UZ4ZuWJxlR/tVhR6rFP8IvGcVnHeR7b68kffZyxKIWn+YZZQM7M5UfMO4FexxRRwQpFCixxxqFREGAoHAAHYVUsdGsNOtbi2tLZVhuppJpkYlw7yHLk7iepJ46UPd28/zX+RS2Xy/J/wCZwniM3l9N4Y1F82m7WLZdNsQMMseG3yPj+Ixbvl6KOuSeNDxjBDb+LPBQgiSIPrErsEUDcxgkJJx3J71vaZ4S0bSLqK4sraXzIEMcHn3Usy26ngrErsRGMADCAcADoKi1PwTousail9fjUHuI5PMiZNVuo1ibG3KKsgCHGR8oHU+tG1vW/wCX+RNtPlb8/wDMTxxbwnwRr1wYkM66VcospUbgpjJIB64JA49hWdFqt5o3wh0280uzlvL0abbpBFFC8uHZFAZlQFiq53HAzgGtrUvC+m6vpsVhfm+kto4zFsXUrhDIpGCJCrgyZA/jJ7+pqbRdBsdAtfs2m/ahDhVVLi8mnCADAC+YzbRjsMCjo13t+v8AmVf4X2v+Nv8AI828OXGmaR8TdKtbZNVld9InWe4uNJuY5Li4kuI2aVw0YIBOcsflXgZHFdB8QL59dRvA2iotxqOpRg3bn7ljbZ+aRv8AaPRV6knPbnrm0myfW49XaHN9HbtbLLvbiNmDFcZx1UHOM8VjjwDoKaheX0CajbXF9L5ty9tq13D5r+pCSgfT07UdEn0v+bf6/p5i2ba8vy3/AK9fIyPFdytx4i0/RdRtNSbQ7REu7l7fTbi5W7kVv3cRMSMNqld7A9TtHTNL8I9Qhu/BCwxJcq0N1csxltZI1O64lI2sygMfUAnB4ODXbwxLBBHEhcrGoUF3LsQPViSSfcnJqpp+i2GlaUdN0+EwWpMh2LIxILsWYhicjJYnrx2o/wCCGlrehznhwr4k8Zal4lJLWllu0vTvRgrAzyjsdzgKD6R+9djVTS9Ms9F0u307TIBb2lsgSKMEnaPqeT9Tyat0bKyDd3CiiigAooooAKw9A12fX77UJ7eGNdIt5Db20+SXuZEJEjDsEBG0dyVY9MVp6l5v9lXf2b/XeS/l5/vbTj9aw/h0Yj8M/D3kY2/2dDnAx82wbvx3ZoXXyt+N/wDL8Qey/rYbeeOrK0N3MNP1CfTbGUxXepwxoYIGBw+QXDsFP3iiMBzzwcdMjq6K6MGVhkEHIIryLSt5+F+rR68/2ex0hryGe0DZkurku5AkHoS67U/jLAnggHubTVLXwZ8OdNuvFN19ljsrK3iuZWRmKvtVcYUE/e44FEdtfL8f6/EH8Wnn+B0tFMhmjubeOeB1kikUOjqchlIyCKfQG5z0HjTTbrxPb6JbRXcj3McrxXXlbYH8sgOFYkFsbh8ygqc8HIIFnVPESWGpR6daafeapfPEZ2trPyw0cedu9mkdFAJ4Azk4OBwcYes/8lk8L/8AYOvv5xVV1pZb34sW9voF5HpmsW+ll57idfNjuIGchU8nguVYbtwdduR97OAltHzv+F/8g6y8rfp/n/SOitfFCajov2/SdLvr90na3ns4/KSaCRch1fzJFX5SMcMc5BGRzUWneLDfeJDodxoep6fdi2N0TcG3ZFTdtGTFK+CTnAPXB9Kyfh1f2dv4Lv5psxfYr26+33kk4lW4lViZJg4VQVP+6MYx2zU/giKe60/UPFl1bP8Abtcbz4oWwrJbqMQR88AlfmPu5p7a+V/w6fmvIPLzt+PX8n5l/XPG2maD4g0zRrmO5nu9RkWNRbxhlh3NtVpCSNoJyB1JweOKd4n1+58NtZX0lrHLo/meXqE+8iS1DEBJMYwUB+93AIPQGvO9SOr2NppV1rPhrUxq97r9rc3c3nWpR2BISGPE5O1V+VcgDqSQSa9G8Vvby/D/AFiTU4mhgbTZjNHIVLIPLOQcEjI9ieehpN8sHJ9H+iY0rz5e/wDm0boOelFZPhX7T/wh2jfb8/avsMPnZznfsGevvWtVyXLJoiLvFMKKKKkoKKKKACsPUvFCWWqPp1jpeoatdQxCa4jsVj/cKfu7mkdBlsHCgluCcdK3K86sIb+Xx/4t0uSc2FtNNDezXQl2yvb+SqBYj1UbkcM/8OMLydyrrb+v66/IZ3Wlapaa1pcGo6bL5ttcLuRipU+hBB5BBBBB6EVaY7VJOcAZ4Ga4z4ePbaX4CuL59trphuru7t8rtWO2MrMrAD+Hb8w9jXS6NreneIdGg1XR7lbmxnBMcwUrkAkHhgCMEHqKbEZcXjKEanZWmoaTqemR6g5js7m8jjWOZ8ZC4Vy6MRkgOqngjg8VY1HxBeafNOB4Z1W5ghBJuYprRY2AGSRvnVgPqB0rnIrmX4heLrO5sBt8M6DdGZbv/oIXSgqPL/6Zpk5b+I8DIyav+O7h9RFh4StGYT65IVuGTrFaJgzN7ZGEHu/tRrZW3f8AV3/Ww+uuy/p/13LkfjWyl8N6Xq0dlfFtWIFlY+Wv2iYkFhxu2gbQW3FgAOpFWdN8Sxakt/FHYXkOo6eAZ9OmEYmG4EpghzGQwHBD46gkEHHOeLvteleMvCLaVbwrEUubG3Mx2wQSuibNwH+yj4UcsRtyM5DvDeni3+KOrtbXE12INNggvrqXkzXLSO/JHAIQj5RgKGUAAYp6N6ba/wBf13QtVG730/O39ejNO48aS2N5YQaj4Y1m1N/craws72jgu2T0SdmwACSQOADV/UfEkdnqJ06x0+91a+VBJLBZKn7lDnBd5GRFzjhd249QMAmsbTWXxR8RLvUyN9h4fDWVo3Z7lh+/cf7q7U/F6z9Osr+48TeMgviK40eSK9SYeTFCxMZt4wjuZUbKDYQNu37r8ntN9Lvtf8rf5+g7a/h/X5ep2N9qstnZQSppV/dXE+ALS3VC6nGSGYuI1x6l8E8DJxVPTvF+m32l6je3Am07+yndL+C8ULJbFRu+baWBBXDAqSCDxWTaePFs/htp3iHxBF/pl5Gqw2tqhL3crHCLEh5O/ggdgeelN0Xwdc33hrW08WPtvvEjGS8jtW4tlKBEjQnOSqgc45Oeoqmmm/617CVtL/0jWsvFsVxfWlveaXqOmrfkizmvEjC3B27toCuzIxUEgOFPBGMjFS33iWO31KTT9O06+1e8hUNPFZCMCAEZG95HRASOdu4tjnGOa5PVbfWG8R+GNFvtctdTu7e9jvGitbLyZEhjRg00uZH4JIUbQgJY9egNNtr83HjGVPEsujzWmpTTOEhhZQphRkeXzFYlNoGNpTgEZ4yFda9lf8Lf5/gGt0u9vxv/AJfid5eajb6dpU2oai/2W3giMsxkI/dgDJzjIz9M1leH/GOneIPDUuuJHc2FrC8iSrfII3jKHDbgCcfzrmZb3X/E+n+GbrUPDl3dae9tHf3sFk8CiW44MaFZpVIQH58c5OwHoat/C69nuLDWEm0y6tF/te8fzJmiKljKcp8jsdw78Y9CadnzNPz/AAaX9f8ABFdcqa8vxT/r/hje0LxXZ+INT1Kxtba8gl04xeZ9qh8rcJF3KQpO4cdmCkelQXfjS2t5btrfTNRvbKwcx3l9bRoYoGX74wzh32jk+WrY5HUEVm+Fv+SpeOf96x/9EVW1/TbnwloWsyW2uwwaZfSTSraS2YluGmlBJihfeFJZj8qsjnJPUVMnZXXb8dC0rux0uoeJrWzks4LOC41S7vojNb21kELPEMZk3Oyoq/MvLMM5AGTUmneIrHUNPu7py9l9hdo72K7wjWrKAxD4JXG0g7gSpByCRXP6f4T1G00vw7fWmppYatpulJZXH2qDz4ZE2qWDKHUghlBDBvXOc1y9wt3feA/HuqxXYvYL2ZTHdRw7YrhIo41ldFBOY/lcDk5C/ePWqkrNpdL/AJ6fgRHVJ+n5HouleIH1eZTb6NqUVk6lor64SOOOQdiEL+aM9soPXpiqvinxtpnhKSyi1CO5nmvZQiRWsYdkUsF8xskbUDMoz6sOtZs17qmkeI/Dywa6+sW2sSuklrLDCAkfllxLCY1UhVIAO4vkOOc4J4/xT/bEXh/VNS1zw1qS6hfX9qPP861aKGBLlPKhXExbnqTt5ZiTgdDql/W/9f8ADjWqueqapqV1p/l/ZNFvtU353fZHgXy8evmyJ19s9Kr2HijTb/w8+sbpLe3iZkmjmjIkikVtrRlRnLBuMLnJxjORU88N3q+lxGO5v9DmYh2EYgeVevyNuWRPyz061hfDmQjQ760Ty5oLPUZ4Yr1M/wCmjIZpWJJyxdmDEcEqcADgJbtf10/zDon/AF1NXw/4ntfEU2ox2ttd276fcCCVbqMIWJUMCBkkAhhwwBHQgGoNU8Wf2LK76pompW+npKsbajmBoVDEKGIWUyBckc7OO+BWX4H/AORq8bf9hdf/AERHTfiRZyxeHLzVG1abyrYJLHpUyIba6kVgUjbaolJZsAAPgnHBGQVfSL9A11XqdtRTIXaSCN5E8t2UFkP8Jx0p9N6CTurhRRRQMKwvD+gT+H77UIbe5R9IuJTcW1sVw9tI7EyKD0KEncB1BJHTFbpIAJPAHU1z3hbVr3xDJeauXVNIkfytOiCfNIqEhpmbrhz90dNoB70dQ6GlLoOjz6smqT6VYyahHjZePbIZlx0w5GR+dUvFXh+XxRpLaTJeR2+n3I2XiiDfLImQQEcthDx1Kt14wRmsq98dXUGn3+s2ujpPoOnSvHPdNebJnEbbZHii2EMqkHq6k7TgdM9bBPHdW0VxbuJIpUDo46MpGQfyosmgvZ+YW1vFaWsVtboEhhQRxqP4VAwB+VSUUUb6glZWRhzeCPClzPJPceGNGllkYu8j6fEzOxOSSSvJJ71c1Lw/o2sRwpq+kWN+kAIiW6tklEecZ2hgcdB09KyI/GEz+NLLRG0ee3gvYZ5Irm4kCO3lFckRYJCncMFircH5QME2dT8Q3UfiBdD0Syt72/Ft9rlF1dG3jjiLbR8yo5LEg8bcYByRwCLZW6h1fkan9l6f/Zf9mfYbb7B5flfZPJXytn93ZjGPbFWVVUQKihVUYAAwAK5SLx1HLoP2oafIdR/tBtLFiJRg3SkgqJOmzgtvxnaM7c/LV/TNeu5NcbRtbsIbK+NubqH7NcmeKWMMFbDFEIYEjIK4wwwTzg3/AK8r/lqG39edvz0Ne4tLa78v7VbxT+VIJY/MQNscdGGehHrWP4m0G48RtZ2Es6R6P5nm38Qz5lyFwUi9AhPLdyAB3NVrfxhNP4ztdEfR57aG6tpriK4uJArsI2Vc+VgkKdwI3EN1yo7yeMNW1Lw9b2+tWpjl0uzYnU7Yx5kMJxmVGz1TqVxyCe4FC6MfVo6McdKKRHWRFdCGVhkEdxS0CCiiigAooooAKz9T0DR9bMR1nSbHUPJz5f2u2SXZnrjcDjOB+VaFc7feItRfW7rTPDulQahLYxq93Jc3ht40ZhlI1IRyzkcnIAAI55oGdA8aSxNFIivGylWRhkEHsR6VDb6fZWmnrYWlnBBZqpRbeOJVjCnqNoGMcniqnhzX7TxPoFtq2n7hDcA/K+NyMCVZTgkZBBHBxWkxwpIBYgdB3oatuJGHF4H8JwTJNB4X0aKWNgyOmnxBlI5BBC8Gtb7Fa/b/ALd9mh+1+X5P2jyx5mzOdu7rtzzjpmudfxVqmnappkOv6HFZWmqT/ZoJob3zpIpSCyLKmwBcgEZVnAI6kc0viLxjNoV/ZwR6PPPDPqFvYyXUriJFaU4ynBL7cgngLzgNkEB66f1/W4HQ3thaanZyWmpWsN3bSY3wzxiRGwcjKng8gGksNOstKs0tNMs7eztkyVht4ljRcnJwoAA5rP17XX0mSxtLK0+26jqEpitoDJ5a/KpZnd8HaqgckAnJAAOag0TxK+o6lqWk39mlrq2mhHmt4LgTI6OCUZHIUnOCCGVcH2wSgNm0srWwt/IsbaG2h3FvLhjCLknJOB3JJJqpqXh7RdYnim1fSLC/lhGI3urZJWQZzwWBxWQfFGqWGtaZaa/okVnbarK0FvPb3vntHLtLKkqbFC5AblWcAjGcHNWrzXr2TV5tM8PabHf3FqFN1Lc3Rt4YSwyqbgjszkYOAuADyRwCeYGhqeh6TraRprOl2WoLESY1u7dJQhPXG4HFRWHhrQtLjnj0zRdOs0uV2Trb2iRiVeeGAA3Dk8H1NF9PrscFudN07TriVlzOtxqDxLG3HCkQtuHXkheg454y9A8V3WpXOuJq1jaWUOjOI5bm2vWnjZ9m91y0aEbQVzweTjtRpqHY2tM0bS9FheHRtNs9Pikbc6WkCxKx6ZIUDJqO+8PaLql7Feano9heXUIAjnuLVJHQA5GGIJGDzVPSNY1jV5IbpdGhtdJnG+OW5vCtyUK5VvJEZUZOODICAeQD8tU5vFeozPqM+i6LHe6fpkrw3E0l55UkjpzIIU2MGx0+ZkywI6c0PTcF5HU1WXTbFLSe1Wyt1t7guZoREoSUv98sMYO7Jznr3qjJq93e6VY3vhuxi1BL2NZke4ufIjVCoYEkK7ZOeAFPfJFQ+H/EUuu2V+GsRaalp9w9rcWrzbkEgAIxIF5VgynO3PPShrVp9AT2aH2vgzwvY3Ud1ZeG9It7iJt0csNhEjofUELkGrUegaPFq7arFpNimovndeLbIJmyMHL43dOOtZlv4h1O38RWWk6/pVtatqCSG2msr1rhS0YBZX3RRleDkEZHHbjMeo+MJrHxNpemDR5zb3941p9smkEY3CMvlEwSy/KRk7exG4c0dv68hd/68zY1TQdI1sRDWtKstQEOfL+126S7M4zjcDjOB+VXgoVQqgAAYAA6VS1SbVokj/sWysrtiT5gu7x7cKO2CsT5/SqOjeIpdW0a9uRpki31jPLbTWccqtulTsjttBByME7evIFHkPsW9N8PaLosskuj6RYWEkoxI9rbJEXHuVAzVu6tLa+g8m9t4riIsG8uVA65ByDg9wQCPcVg2niXUIfE1roniHSoLKa+heW0mtLxriNzHjejbo0KkAgjgg881H4g8T6t4ft7nU7jQo30e0YedML7/SPLyA0ixBCpAznBkBIHQHijsBr6p4e0XW3jfWtHsNQaIERtd2qSlAeoG4HFWZbCzn082E1pBJZtH5Rt3jBjKYxt29MY7Vja34hvrLWdK0zR9Ptr2bUo5pVa5u2t0RYwh6iNySd/oOlacE2rNpTyXNlZR6gA2yCO8d4mPbMhiBGe/wAhx70dA7Mq2XhDw1pt5Hd6d4e0q0uY8lJoLKNHTIxwwXI4NSQeGNBttVOp22iabDqBZnN3HaRrKWbO47wM5OTk55zVGw8RaiPE0eia9pdvZz3Fq9zbS2d41xG6owV1YtGhUjepHBByeRjB6Kn5h5BRRRSAKKKKAK+oxSTaXdRQNtleF1RvRipwfzrC+HU0c/w20DyuPKsY4XXuroux1PuGUg10tZGk+H49G1bUbmyuZRa37iZrNuUimOd7oeo3cEjpkE96F18/0v8A5g9l5fqeZ6fLDpnha+0bX545NW01rmDTdCRv3txI7MY5gnWTdvG0gFUGT1B291NqkPw8+Gdpc6xHc3KaXZwQzi2USOSAqE8kDGe+eldTWVr2gQ+IrVbO/urlbFsi4tYWVUul4O1zt3gcfwsuckHI4pK6Vl1t+H/Dhpe78/xL9pdRX1lBd25LQzxrLGSMZVhkcfQ1NTY40ijWOJVREAVVUYAA6AU6qdr6CV7anmuueK/D0fxf0CWTXtMSO1s72K4dryMCFyYwFc5+U8Hg88GneLbzTm+I1gNS1VfDaRac0ltrSyLGbnc2GhV3zEQBtYqysfmBXbjJ9IoqbaJdr/jf/MfV+f8AwP8AI8z8N2+kX3wzH9uSxaTY2OovJZauspt/NIc+Xdq0pblyx+8WDZPUHFXvDls2qePl1m01O91jT7PT5LZdSudgjnkkkU7YhGiIyqIzl1HJYDcduB31FVfW/wDW1hPa39b3PNdV8WeHY/jHpEz6/paxW+m3cM0hvIwsUhkjwjHPDcHg88Guv8ZXdtaeBNaubva1uthMWHZwUIA/HOPxrbrH1vw8mv3mn/bbhjYWcvnyWQX5biQY8suf7qnLbe52k9MGHG8OR/1ctO0ub+tB/he1uLLwhpFrekm5gsYY5c/3ggB/WtWiitJS5pNmcVypIKKKKkoKKKKACvMLn7LpPjnxFbeLdTtdM0XUZY76MTyCMagBEsbRbjgFVKfMg5bcoPy5Den0UbO4zkPBok0PwPeajqNtPbrLcXeo/Zih8yONnZ1Xb1DbcfL1ycVseHvE1j4k8LW+v2izW9lcRtIPtShGRVJBJ5I7HnJGK16KOmnyF5nlWmeLdF8deM7bU77XtNs9I0y4I0qwlu41nvbjlfPdCdygZIRcZOc8cA6HxT1/R7b+wrO41axiuoNdsp5oHuUV44w+S7KTkKBzk8V6LRRta3Rp/cHV+Z554yvd+s+G/Emk6naR6Vi4tJtWV1litRLtxJkZXqhUE/KGZc5HBk8Lw6avi/U9a0eRToVppkdr9v8AN3x3UvmPLLJv/jIyNz5PzFhnIOO/ooWm3n+P/Dsbd1ZnlejeLNF8deMrXWL7XdOtNO0+dk0jTZbuNZ7qY5Tz3QncvUhEIzznuMzSRaLp/ifxPF4r1y60h7m7W6stmpSWYljaBF3R7GXzWDIRtO7GBwN3zenUUen9f8HQRxcXiTVND+FNtquvRvLrLQKkcLx7JJ53O2JSvGGOVyO3PpS3HhW6s/hDqOh25M+p3FhOZnB5nuZFLOc+7k49sV2dFEtb+f8AX9fLsOLs15f1/XzPMbPULJ7zQD4Q168vtVkuI11Cykv3m2QY/fGWAkrAV7YRMNhRjOKt66uiaTdatb6L4gvBqN4zyS+H9Nnike4nZck7djSxbuCzKyAfeyOteh0US96/n/VvT9RLTb+vM8/1LxHF8Mfh7oel3L28mrtbR2ltFNMI4mkVQGZ3OAqKTkkn0Her/gVtE0zw7eSxeJbDWLgyteatqEVzGyeawyWO04RQFwAegWuxoptttye7ElZJdEeeQSaVP460m78Fam2ryM8iak63rX8cFuVLffdm8klwuFUruweCF4Z488SaHB4z8JxT6zp8cllqjtdI90gaAGBwC4J+UZI646ivRqKXby/zuPe/mYOuax4ak0u3/tjX7aytbwCS3mTVTaecBg5SRHUkcjoccisXwjqFvoPhzW7y4maLw5Z3Ly2F1NHhpICqsz5AzIC5fa5yz8HLZye4oo72Dtc8y8G6/pvi7xcniTVNa02O5aNrfRtGS9ieaCJuWkdQ2fNcL90fdAxyc4h8VeLdG8V+IpvCk2vWGl6NZSD+1p7i7jie6ZT/AMe0YYg7cj5mHpj6+p0UdvL+v+D/AMDQO/n/AF/X+epy3iM+Dp20271/WLaxZY3NjOurtZlkYLu2Mki7lIC+o6VB4N1Ge38O6jd63fSDSIbt/wCz7zUX2ObTA2s7tgkZ3YZuSMEk5zXYUUd/6/r/AIcOx59pH9mH4gWM/g2/k1a2ltpY9UuTdtfRxIvMaid2Yoxdj+7DYIySvANeg0UUdA63CiiigAooooARmCIWY4VRkn0Fc14Ou73XIbjxHdzyra6gf9AsycJFbqTtcju7/eJPQFR2rev7c3em3NurFWmheMMOoJBGawfhzcCf4e6RCRsmsrdbK4jPWOWL926n8VNC6/13v+n3g9l/X9f8Ax73xnrI0G88TWP9mjSbed47ezljdri+WNyrFJAwCs21tq7HzgZPPHb2N5FqGn295bHdDcRLLGSOqsMj9DXl+naZfaHomo6Pcaff6hrUf2i20kC0c2qxylisglA8tSd/zlmDAKVA6bus1a/k+HXwwS4t7E6mdHs4Y2hSXy9yqFVm3EHAAyeh6Uk1y3fl/wAH9L9gs3Ky8/8Agfr6nV0VBYXYv9OtrxEaNbiJZQj/AHlDAHB9+anqmmnZiTTV0ciPEmtp8QNN0e8srS1sr+3uZVTcZJx5RXDMwIUZ3/dAbGPvHOBavNY1W+8VXGhaDJZWjWVtHcXFzeQvPu8wsFRY1dP7hJYtxwMHORgazrEZ+KWi6gmn6y9pYWt3BcTJo12yq7GPaBiP5gdp5XI962PE0GhPqEF3eadrU2otAUik0mK7ikkQnIjeWHaoGR0kYAdeOTUr4V8/zdh9X8v0Kt54y1BPAV5qcEFtDqlnfCwmSRWkiEnnrEzAAqxUhtwGQeRzXSaZBrcUkh1nULC7QgbBaWD25U+5aZ8/kK5zQtCtdD8DXUXiXS0livruS7uNPis2vBH5j5WPYitvKgLkgEZBOe9ReGNKjj8azah4b0ybRtA+x+VLbtataJc3G4EOsDBSu1RguVGc4GQOKW9v62/z/MHt8/wvp+Bc1zVvEPh25s7m4utMvrO61CK1Wzis5IZysjbRtczMGZQdxGwZCt93tN43m1PSdPj8Q6XcylNJ3TXdiMbLu348wdMh1A3Kc9iD1rF8SwWGtTSN4Y0S7i8TNPGE1T+zJrNogGAZ2uHRQ6BQRtBbcOACK6PxvqMWleBtXuZgHP2V444+8sjjaiAdyWIGPeobahdb9P66lJJzs9jat547q2iuIHDxSoHRh0ZSMg/lUlZvhzT5NK8LaXp87FpbSzihdic5ZUAPP1FaVaSSUmkZxbcU2FFFFSUFFFFABXJ3+v6pd6xqlrol1pdhaaNGv2y81GJ5VMjKH2AK6BFVSCWJP3hxwa6yvOp9O/sTx5q95rVvqN5pV9LFf2kVlYyXKPOkaoRKI1Y5XYrKGwuWzklRtXWw0dZ4T8Qr4o8N2+p/Z2tpHLxzQNnMciMVZeQD1HcA47VsNnadoBOOATiuX8L2V/4f8G3dxeWTPqE0tzqD2UTAtvkdnEQPIJwQuRxmtLw9rV1q/ha31bUtJudKuJI2eSxlBaSPBIxjAJJAyBgHnpTYkY15rniLQdW0Ya42l3Npqt2LMw2cMiSW0jKWU72ciVRtIJ2IehwOlX/E1xr2m2N5qen6lpMNpaW7TGG9s5CW2gkgyiZQoOOuw4965HRNTfxD4xTX/FNhrVn9lkaHSNLbR7vbbhvlM8riMp5jD32ovfPI6PxS3h6+uGtdV8P3eq30KFbdo9ImcqzDIEdxs2RnOPm3rtPJIxwpX5dN/wCvvGrc3l/X3El54nvprXQLfS7SO31TW080R3mWW0jCB5GdVILkZC4BXJYcil8NeJp9Q17VNC1KS1uLzTgji6s0ZIp0YspwpZtrIylWG5uR2OQOa1HQdfttN8IX+p3F7LNYW72mryWQae5VJVXLIVyzEFArMoLYYsORkXbLQLnV9S1e90VJdAtG0qPSdMlktWjkQBmZ5PJbaygFgF3YJIJ6YJp7u3n/AMD9PvfYS+FX8v8Ag/r+HcmTxvqF58RLHTNPtrZtBnkntjdvuMks0SFn8vBxsBwuSDkhsdK1/EVx4msre+v9Ll0mO1s4TKsFzDI73G1dzZkDqIu4Hyv0z3wOXuPDXiXTfEnhG2srrTWtLATxxyQaPMI7dfKx8/8ApBzu6A5HPPPSn+N9Sudc17/hGLm01iz0CNQ2o3dtplzKb7IyII2jRsL/AH279B3qXtZPX+tf69Bx3u9v60/r1Nm78Yy3Gm+GW0pYbWfxGFMEt6hkjgHlebhlVl3MR8oG5eec8YMK+NbvSofFCa5Hb3kvh6BJ2nskMSTh0LBNjMxRhjn5jwQeOlVvGCrqGn+H4Y9KvZfDZmJvFgsH+0QKq4ixEU81Bu6sih1AGCM5pfB1kIpPEkJ026/4RmZhJCuo2befcuykz7ldfNkU/KAZAWPIBIApu15W8/0Eto38v1NEazr2k3uktr7adPa6rOLbbZQujWsjKWXLs7CVflK52pyQcc4pI9S8Sar4p1yw0y90uzttMlhjT7Rp8k7vviVySROg6tjpWJa+HbLU9d0VdB07VoNO0u5W5ludVa5ATYpCQwx3DblyWBJVQuFxkngXfF9n4dv5L+IeF57/AF502Q3MOjyK/m7RsYXZQIu3j5vMGMdcjFD0V7d/0/4ILf8Arc2dZ1nUYtY07QdHa0/tK7he4luLiNmjgijKhm8sMCxZmAA3DucnGDkW/wAQTbaN4kl1JLe7uvD/ACz2ZMcN2rA7GXcW2fMGQ8sAUbk9BnapoGrWV94c1HVri9u4otMOm6vLYRPLMxOxtwCAvtZk2sygtg9slhqaJpcFxfeINYvtKaHSbu2hs7eyltG3Pbwq2SYMbhuLsAm3OFHHNPo/n+en4W+99gW607f8H9fw7lz+19d0jVNJi199OubfVZjbqbOF4mtZdjOoJZ2EinaVzhDnBxzgQ+K9R8SeHdF1DV11XSWt4ATDbHSJXkck4SPcLkZYkgZwOT0rIsvD1pqXiPRX0PT9Vg03SpjcSXWrPcggiMqkMMdw29R84LEKq4UDJIwNrV7W717x7ptlJbSrpGkr9vmlkjIjuLjkRIpPDbOXOM4O2k1sv6t/V7X8gWmv9X/qwt/r+r2134f0MvYWus6pBJJLPLC7wI0aqXREDqWJLcDeMAE89KrR+Nrqw0HxPc6tbw3dx4ddleSyDJHc/uw4wpLFCNwDDLYwT7CPx7bvd63ocOp6deXOgI7yzzafbtLNDcLgxHMYMqDhvmjwc4BIBIOZpUGv2fgnxVD4d02X7OZHOixahbLHPIGX94XVwC3zbiplG5v4t2aTekn6/mv6t8xxWsU/I24PEGtWGuaFaarc6XqMGthxGbC3eFoSsfmb/mkfzExwT8uMqe+Kdf8AiXW7PxxoWmS2Nrb6fqdxcQ/OxknZY4iwfKkKmSOnzHBGdpyBznh3TYbLxToL+EdM1iKPyXj1R9VsZIUhh2ltqeaqhGMhHyQYTrlcAYv+K9UV/iF4XuIrDV5oNKuLn7XLDpF06IGhKqQyxkOCTjK5q3a6+ZMbta9vxt+Hp/mdfqcGuy3Cto+padaQhfmS60952LZ6hlmQAYxxg/WuY03xbrU3w713xHcmwn+yC5fT5IbZ4knjiBAdkMjHDMrYw3THrWn4zudRvPDUVjoENz9p1h1thOIXX7JE4y8r5AKYTOM4O4gVrNZadpfhv7C9p5mm29t5Jtkt2m3RhcbfLUEtx2AOahp2f3f1/XcpNXX9f1f9PMraIviCQRXGr6jptxbyRBvKtdOkhcEgEfM07jH/AAGubu/Gervo+u6/p02lx2GiXM0EtjcwOZpfJOGBlEgEbN/CNjYyvXOAzStKtX8dabe+DNGm0TTIIpRqb/YGsY7rIxHH5TKpdgSW37cAcbuSK5zU9Olul8QXGoaNrCeK5Lw/Yhaaez2swRv9GZiEMEgAYZaYll+bBXC4b307P819/p1CK018v68v68z1+1n+02kM+xo/NjV9jdVyM4PvUtQ2RuTYW5vgi3RiXzhH90Pj5se2c1NTluTHZXCiiikMKzrLQrLTtZvtSs1eKXUNhuI1b927rkb9vQMRgE98Cr8siwwvLIcIilmPoBXL+Bkm1KwfxTqDMbrWVEsUZYlbe25MMajoPlO5j3Zj6Chb/wBf1/wwdDqqz9U0PT9a8kapC1xHC24QNK4ic5B+eMHbJggEBgcHkVwt14l1m58Nz+JbHWHhlkmmGl6OltG8dykTsP3hKmTLBCSwdQgI44Oe/wBK1CPVtGs9RgGIruBJ0Gc4DKCP50LXXsD0di3RRRQAUVw/i+61zwvYDXU1+S5YXsUY0xraJYJUkkCCNcKZQ4DZzvOSpOMHaLOraxc3nii+02HWX0Sw0izjuby6ijjaR2kL7VzKrKFAQk/KSSQARg5Ol/67h/X42OvorzeDxxqknhlILiVbXUf7aXR5b6a32+WrDck5jJwrshX5TwHbkY+Wt3T9RvNM8dL4cvdWfVVuLBr2N7hIlnhKuqlT5SqCp3ZBK5yrcnoHa/8AXlf8g/r8bfmdXWbqOhWmq6np97feZJ/ZztLBAW/deYRgSFe7KM7fTcT1wRzsep+ILf4nabpupX0BtbywuZ2tLeEBIyjoE+dhvZsMQT8oPHyjvb8eWdzFpI8Q6TLKmpaIr3McayEJcRgZkhdc4IZV4OMggEe83VlL+uw7NtxX9aHU0VBY3kWoafb3tsd0NxEssZ9VYZH6Gp6ppp2ZKaaugooopDCiiigAooridR1m71HWdaVNem0PTtFMduz21vHJJcXDqr4xIj5A3IqqoDMzHk8CkM7aisDwVrtz4h8MRXeowrBfRSyW11GowFljcq2Bk4zjOMnGeprfPIPOPem9BBRXCJq89r4z07TNJ8WP4hkknkj1GxlFszWsaqcyEwxoUKvtXDZzuxjPIX4i+JdVstPvLDwpcLb6haWT393dNGsgtoUBKja2QWkK4APQBj2FJuyuNRbdjuqK4/U9bv3fwvpcN99gk1qNmlvhGjOCkavsQMCgdie6kYDYGcYl0TUbyfXdd8M3OrPdTWMUMkV+qRCdBKG4cKuzepXI+QAhlyD1NNWbRKd0mdXRXC6kmt2Pi3QtI0/xTql3LdStcXaTw2ZRLWMfMTtgVgWYqgIPcntV3xet5ouj6jrQ8TaxCkSForO3itCGc8JGu+BmOWIAySeam+lyra2OtorBs9O16bwxpttf65JBqIjU313DbxGR2xkhQVKLzxnYcgdjzWZ4b1vUpYfFFjeXwv30W5eGC/8ALVWkBjEgVwoCFkLbSQADgcA5py92/kKPvW8zsaK4T4f6sNe0/Tbx/HMmqX7WaT3mmo9mQjMg3BljiEigMf7w5ABzVfUvEd1NqPin7R4jm8PtoShobZYYWWWLywyzP5iMzhnJXCFegH3jmnL3XZhH3tj0OiuYkv5rrwZpuq67rT+FZXgjkumRoEVXZR8hM6OByeBwap6J4h1d/AusaoAdZeze4OmziMK2oRIMoxCgA5ORlQAwAIHNKXu3v0CPvWt1OzorzvTPEV4154WuNP8AEkmvJrpYzWrwwhYowhZ5U8tFZNjgKQ7N97B+bmpv7Y1bVNP1/WYfEA0waPczwx2PlQmECEnBnLqX+fr8rJhSMc8kfu3v0v8Ah/w4LW1uv63/AMjvqK4jUPGoudO0MQaha6MNWsft899cldtpDhB8u/C7y0qqpbIHJIbodFtdt9G8DXmt2+sv4kihR5IpzJCfNb7ojDQoq/e4zgkZNNpq9+gLW3mdNRXLeG71b3U3E3jS31W+jVjc6bZNb+TAc4OFCmUbTx8znnr6DAufEes32hXniHT9Ze3c3M8Ok6THbRul15Lsv7zcvmZbYxJVkCLgnoSU3bcFqekUVwx8UzeIrywh07Uzoti2kLq97dqsZkRH4RAZFZFHDliVP3R0zmpvCmsX/iTT9W0y51C6trvT7lY47+OCOOaWFlWSORo3QqrMpwQUHrhegdne39b2/MP6/C52dFcTatrEfxHt9Jt/Eeo39naWhutRF1Da7QXO2GMGOFWBOGbr0UetdtS6XDrYKKKKACiiigCG9theWFxbP92aJoz9CMf1rm/hzdiTwVZ6bNtS90dRp13DnmOSIbfyYAMD3BFdVVGKz0yHXbm5hjgTUp4UE5UgSPGpIQsPTJYA/h2oW78/0/pg9jgrHwxrWhaVq2iafpcl1c3Zmgs9Ykni8i3t5GLAMpbepUsxKqjBiASefl3fFN7d+A/hfJN4fS1mm0q2iiiW7yEdVKpjCkEsR0APJxXXVWudNsby6trm7sree4tWLW8ssSs8JPUqSMqTjtStZWXl+H9P7x6XuLYTy3Om209zCYJpYleSI9Y2IBK/geKsUUVT1ZK0VjzZrfxBqfjdtY8S+FNTubTTZCNHsra4tGiQ9PtD7p1LSHsCMIOmTzWlqegXVr48/wCEki0q61a2ureJZLKCaJWhniJ8uQrI6q4AYj73ysAQDwV7eiktEvIb1v5nJaXo9xp3h/Vp9Y0n+1brWLt7q506HynG1gqLHmRlRtqKucnBOcZ7s8NeGPs/iFtZ/sa10G2jtmt7PTbdYwy73DSSSeX8gZtiDClsAdecDsKKFo7r+tLfkD13/rqcFqJ1yT4kafrUPhTVJLOys7i1Yie0DSM7oVZQZx8uFPXB5HFbfjrVf7M8F3xjUteXkZtLODq0s8gKogHfk5PsCegroqo3NjptxrNjdXaRvf2ySfZN7/MgYAOyrnGcYGcZAOM8nK5U48r2GnaXMhNC00aN4d07TA24WdrHBn12qFz+lX6KKptyd2SlZWCiiikMKKKKACuFm0G80Px1qOtwaPda5BfbZ4IoJ4U+yXAjEbMVkdQdyhcMCxA3DAyd3dUUdbj8jnNA0fUfD3g+4iUQXWrytPduoYiJ7iRmfbnAO3JC544GeKu+HLnW7jwza3HiexhtNWZGNxbWzhlU5OADuI5GP4jyeta1FAjjtUttT8V3mlI2g3OkJYX0d493eywFwEOSkYikc5b7pztG0nr0qt4j8B3cui+JG0bW9UNzq0csjWmLXZM5Tase5otwXACj5xgdx1ruqKTSaa/rp/khptO/9f1qcudMez8G2enaxpN14q+VFlt5UtGKEDPIcxoQpGBjJ6detHhHw5JpV5f6lc2Vrpz3ixRQ6faAeXaQpuKpkAAsWd2bAxk4BOMnqKKpttt9yUrJI5nwxpWoDWtZ17XIfIu76YQW8BdX8i1jyEGVJGWJZzg/xD0o1vSr/W/GGkRyw7dE04m9lkLKfPuBxEm3OcLkvkjGdvpXTUUtreX9f8H1H38/6/4Hocz46uPE0eiJb+DrB57u6kEctyjxBrSP+J1WR1DtjoMgZ5J9TwhaJomgtp9n4c1LTo7ZS4+1y27yXchyWYskrZckclio5HYcdNRRtcHrY4y+sNS8VeItDupdFn0aLSLo3TXF3LCZpMoV8qMRO/ysSN24rwBwe2Rqmg6rLq2uyat4Zm8QTzS+Zo97FeRILJdoCou+RWgYMu4vGCTkHJIFelUUf1/X3Du7nP2c+s6F4b0q2v7C81/UEt1S6ns5IR84UZJMskecnPI545xWVZ+Htbi0XxTcaf5OkalrcjT2kAfItXMSoGcrkeYSNzFcgHu2MntaKJe9e/US921uh5tpWgap/a+hT6b4auPDlxA4k1e9lvIpPtq7SGjbZIzTszHIeQAjBIIJxWr4l0h9Zv7iPT/CNumpOvlR6/epblYV243oQzSllz8qlVGe4HNdpRQ9dwWmqOMvPDcuiat4d1LSNNbVItIsX0826NGswRgm2RC5VcjZgjcvDnGehpy+Dr7WtF8Wma2j02XX2R4LKZlcRtGigNLsyu52X5tpYYx1Oa7+ih63v/V3f8wWlrHFtY6l4h1zw7cz+H5dDXRpWmeWaWBicxFPJi8p2+UkjJbbwo4z0y7Dw1rHhy21fS9N0qW9uLt5ksNVeeLyLWGVi+1lZg67WZiQqNuwvPQL6RRQ7Pf+rht/Xb/hzzy68EyaLrOi3tlY3Gs2Fnp0dhPYwyxxszRHdDKRIyq4BLZUsMHa2CRxv+GtLvrKXWta1K3C32qzicWiMpaKNIwkcZbO0thckg4BYgEgZPSUUNt3+f4u4dv620Ob8FaPfadpdxe64oXV9VuGu7xQwbyicBIgRwQiBV9M59a6SiigAooooAKKKKAI7mdLW1luJThIkLsfYDJrmfh/ambw+viG92vqWvBb2eT+6jDMUQ/2UQgAeuT1JrprmBLq1lt5RlJUKMPYjBrlvh7eeVoC+HLxtup6CBZzxkYLIvEUoHdXQAg+uR2oW7/r1/QHsv69P1OWk1G71fwzPrlrqepDX7prifT4ILt0gtIYpGCmSIHyymF+YurFixA7Y9H0LUhrPh3TtTC7ReWsc+0dtyhsfrXH2/gnV9K03VtD0U2EVhqkshOpPM/2q3jkzlBHsIfbuYKd6gZBxkHdc8dX1x4Z8BfYPC9/HZ6usSQ6ZAUWWWfYVBRIyDuO3gnBxnJx1pJ2jr5f8H9PULNy+/8A4H6+h2dFV7A3LabbG/VVujEpnVOgfA3Y9s5qxVNWdhJ3Vzz/AMcwv4ds7fVNO1jU21u41GGO1hkvXaO5LyAGLyMiPaEJ5CgjaCTnJPQeKYNMEcVzqh1zgFEXSJb3Prytsf1Ye2a5+38PeLV8aXPiLVLDRdTuF3Raar6nLEljCeoVPs7fvG/ifOT0GBxXV6jceII5EGk6bptyhQF2udRkhKv3ACwvkdOcj6VO8f60/r9fvr7Rx6aprsvwbsr22uZtRuWZBczWTrJcfZvOw+1kyDKI+CV5DBiORVjwpfwX3jGQeE9SvNR8PCwBupp7yW5jW5LAosckjMwfYTuUHAyuQDT9R8BXk3gh9Kt762nvJNR/tK4FxCVtrpzL5hiZASRGTgfxdO9XtN0DV5/HQ8R6vFp+n+XYm0W3sJnmM+WDbpJGROFxhV2nqTntVLd3/rT8ddvPUl7WX9a/hpv9xkeLdBht5tL0nRL/AFqLUtUugok/ty8byYE+aaTBlI4X5RkYy61tePNH+1eHH1OxUJq+jI15p9x1ZXQZKE9SrgbWHfPsKs6doN2vjTUtf1SSJ2eJbTT44mJ8mAfMxOQPmZ+TjPCrzUPj3U3tPDcum2A8zVtYVrKwhXqzspBc+iouWJ7Ae4qHzcvu7/r0/r1LVubXb+rm3pOoR6to1lqMHEd3Ak6D0DKCP51bqppOnx6To1lp0HMdpAkCHHUKoA/lVutJW5nbYzjflVwoooqSgooooAK8+1C/i1fxFri6ne6pHBps0dhY2Om3clvJcTvEsjMPLZS7fMAAx2qFZjgZNeg1x8/hnUdK8Y6h4g8O2unXkupRKsq39w8Jt3UBdyFUfIYKu4YU/IOT0C6jX9f1/XYt+AdWv9W8KqdZdZNQtLiazuJFxh3ikK7uAByAOgHPYV0ckiQxNJK6oiKWZmOAoHUk1iaToFzoXhKXTrG8WTUXWaU3csfytcSFmLlcnjc3TJ445pNL0fUbzwSmk+OLiHUryeF4r6S2zEkoYngFQpHykDIApu7Ttv8AqJWv5focZFq2r6v8QvDOti+u7bR9SuLiCz09XKRzQLA7CaRe7O3zKD0UL3JroPG1jp+maLf6y8urPdsAsEEGsXcSyzNhY0VEkCjLEDgepqvqfw3trjXdCubK61BLWwlka4WXWrwvtMRVRGTIdpyRnBXjI56Vs6roN3q/i3SLq4kiGk6WGuFhDEvLdEbUYjGNqqWI5zk9OKGk9P6t/n+o7u9/L+v67EEWjJp3gSxtPEN7q95LZxIbie0ubpp5JDwxzCfMcZY8c4GPSq3gK6e7TWolvLqaxhvTHaRX0rm6gTYMiTefMXLbiof5tuO2K6PU5dUihQ6NZ2d3KW+dbu7aBQPUFY3yfbA+tZmi6LfWmparreom2OpaikafZ4GPlRJGGCJvK5Y5YkttHXG3jkbu22LZJHOiW307x5o1nod7rUG+aaO9XVri6aCdAhwsf2kkO+/aQYs/KGJOOrLi7/t2/wBblu7/AFRJob99N0qy068eBt6IpaTCkBzuYkmTKqqjjk53LrSdd8Q3mnf25Dp+nWlhdpebLO6e5ed0ztXLRRhACckgMTjHHWqq+GNV0TxHrGo+G4dNn/tciQy3szo9m5GG2hUYOhIDbcpyOT02rXr5/p93X03B+Xl+v39PyJvDMk/jPwLplxq95cxTgvHd/YJ2t/OkjZo2O9Nrgbl3YUr6HjiufsfFF1o3hHxteWV5Nqdjo9zImmXFzIZmzsUshkY5kVJGIySTjjJxWprHhLX7XwHYeGvCN9CirhL67uZ2hmkQnMnlsqPtdyT8xBxnjNXrfwzLe+DbvwvqWk6fpOmva/Z4V069ecqCDz80SYIODnnJzn3b+1b+vP8ARf1dx05b/wBf11/q3P3t1N4Z1TSptN1LU9QZL2G11mW6u3lgkMxC7VRiVSQMyviMKFXg9QDLfzWUHjHX5PFdx4itrJZIPsk1vNfxWscfkrvJeEiNRvzksRjnNaVl4X1e4g0fTdXj06107SZ0uSbKZ3e9lTlSysg8vLHefmclu/c6mtxeJNQju9OsLbS4LS4QxC+lu5HkRWGGbyBEASMnA8wdjntQ9tNd7fh92tyY+fZf15kfimG4uPClxcabq81taw2Esoa1fLz/ALvKHzskhe+VwxODuAyDBo13q03wgsLzTmN1rD6LHJC07bjLMYQQWJ6kt61Lf6Hf2PgmLw74bt7S4jWyNlvvbt4Si7Nob5Y33Hvjiqum+Hdcf4bP4X1F7TTpo9OWxhvbG5eYnEewuQyR7enQE9eopS2ml5W/H/gFR+zf+tv+Cc/oOqxXus+H/wDhGNQ1e4v3Zv7dtr66mlFsgUhxNHISsMnmABQoXODj5aW51a1nbXX13xDeaZ4gtbmddPskvJISsaZMJS3U4nDDBJKvuyR0GBpW3hPXLu78MjUrTRdLh0BhIJdMmd3lITYY1Uxp5cbZJYZbOAPetvXLPxFrMd1pUH2DT9OuFMT3yXDy3HlkYYLFsVVY5wG3tjrg9Kc+vL5/pt2/4fuKOlr+X679/X07HPapqU+s6V4N1O6XWFsLyEz340gXIYboNy7vs/z43ke1Wr/xBY6Z8Or698I39xPIJxapJdzyzyW07usfzicl1KlgdjY+nNdHPFqWlafZ2fhvT7K4hgjEW27vXg2KoAXBWKTdx646d6wH8ANqXh3XrfVrwR6jr0y3M01oCEtpEVRGEyQWClF54Lc8LnAcrc0mtv8AhtPuFFNKNzNe+Ph7xdo6aPfane2M17/ZmpTXt5JcRyzMjFfL3k7XVk+bYFUbtvJGFseOtHhstMWPSLzWE1nVrkWtljW7wKkjkln2CXAVFDNjGPlxV+x8Oard3WijWbfTdPsdEPmwWumzPIs0uwoGO5E2KoZiFG4kkc8c6A0G7ufHza5qMkTWtna/Z9OhRiSjOcyyNkAAnCqME8A+tFlon/S/4L+6/kPzXb8f16etjE1m6iHiWPRNR1S+tdJ0rS1urh4rmSOa6kZ/LjBkQiQn5W+VTlmZevSk8LeJ5NN0/wARw+I5biOHRJleM3T+ZOlvJGHjR2Gd7jJXqSeBknk6Ou+GLmXxhY+J9Igs7q8t4DbyW19M0UbLklJFZVfa6ksPunIduR3LTwTDd2Oof8JMTc3Wp3qXs4tp5IlhZAoiRHUqxCBF54yecDoErtff+f8Al/kPRPy/4H+f9aGL4Xl15viY8uu3l0v9oaQbsaY0pMNn++CooXpvC43N3JPavRa4238AxWvj6HWorq+a0isvKCy6tdSSGXzAwzuc5TH8JOM/w967Knpyr5/mydeZ/L8kFFFFIYUUUUAFMEMQnM4jQSsoQybRuKgkgZ9Mk8e9ecX3x58HafqFxZzpqxlt5Wifbpz4ypwcZ+lV/wDhoXwV/wA89Y/8Fz0AepUVzng3x1pHjqzubnQxdhLaQRyC5t2iOSMjGetdHQAUVUu9W06wlEd9qFrbSEbgk0yoSPXBNQf8JJof/QZ0/wD8Ck/xoA0qKgtL60v4zJY3UNyinBaGQOAfTIqegAopskiQxNJM6xxoNzOxwFHqTWf/AMJJof8A0GdP/wDApP8AGgDSqNraB7pLl4Y2njVkSUoCyq2MgHqAcDI9hTLS+tL+MyWN1DcopwWhkDgH0yKnoAKKjuLmC0gaa7mjgiX70kjhVH4mkt7u3u13Ws8Uy4BzG4Yc9OlAEtFFZeseJ9D8PtCut6tZ2LTuI4knmCs7E4AA6mgDUooooAKKKKACiqGpa7pOjJv1jVLKwXGc3VwkQx/wIiuduPi58P7aTZJ4u0tj6xziQfmuRQB2NFZ2h6/pXiXTBqGg38N/aMxQSwtkbh1H1rRoAKKbJIkMTSTOscaDczscBR6k1n/8JJof/QZ0/wD8Ck/xoA0qKp2ur6bfTeVZaha3MmM7IZ1c49cA1coAKKKKACis+TX9HhlaObVrGORDtZGuUBU+hGamtNTsNQLCwvbe6KYLCGVX2/XB4oAtUUUUAFFFFABRVS71bTrCUR32oWttIRuCTTKhI9cE1B/wkmh/9BnT/wDwKT/GgDSoqjBrelXU6w2up2c0rfdjjuEZj9ADV6gAooooAKKjuLmC0gaa7mjgiX70kjhVH4mq9rq+m303lWWoWtzJjOyGdXOPXANAFyiiigAooooAKKKKACiiigDlfEfwy8H+LdUGo+ItDhvbwRiPzWkdTtGcD5WHqayf+FF/Db/oVrf/AL/y/wDxdegUUAYfhjwZ4f8ABlvPB4Z0yPT47hw8oRmbeQMDlia3KKKAKup6ZZ6zpdzp2pwLcWd1GY5omzh1PUcVxP8Awov4bf8AQrW//f8Al/8Ai69AooAw/DHgzw/4Mt54PDOmR6fHcOHlCMzbyBgcsTW5RRQBmeIPDmk+KtHk0vxBZJe2UjBmidiOQcg5BBH51wU/7O3w3lIa30e4tGGMNDfTZBz1+ZjzXqFFAHlD/s6eDWlDrea6i/3F1A4P5rn9a2NA+CXgPw7qCX9to32u9jbek99M05U9iAx25HY4zXf0UAFFFFAHI+NdO8dajLap4H1zTtIg2sLmS5tvNkz2Kggrjr1Fct/wp/xHrB/4q/4n69eo33oNOC2aH2wCQfyr1eigDzfTfgD8PNPbzJdFfUJj1lvbmSQt9RkL+ldNa/D3wbZJttfCmixjuRp8WT9Ttya6KigCvY6fZ6Zai2020gs4ASRFbxCNQT1OAMVYoooAqappdlrWlXGm6rbrc2d0hjmhfOHU9uK4r/hRfw2/6Fa3/wC/8v8A8XXoFFAHJ+Hvhf4M8K6sup+H9Chs71UZFmWR2IB6/eYiusoooAKKKKAOFuvgp8PL28murnwxbvNM7SSMJZBlick4DYHPpWt4Y+HnhXwbdzXPhnRobCedBHI6O7FlznHzE45rpKKACiiigAooooA5TxF8MfB3izVf7S8Q6FDe3mwRmZndSVHQfKw9ayv+FF/Db/oVrf8A7/y//F16BRQBxek/CDwHoerW+p6V4dgt7y1fzIZRLIxRvXBYiu0oooAKKKKAMzxB4d0nxTpD6X4gso72ydlZonJAyDkHIIIrG8PfC/wZ4V1ZdT8P6FDZ3qoyLMsjsQD1+8xFdZRQAUUUUAFFFFAHE+Lfix4c8F60NL1ldQNwYll/0ezeRdpzj5hx2rAPx/0G4ymjeHfE+qyk7US200nccdOWz+leq0UAcN4T+IGr+I9bSxvvAmu6LC0bP9rvYwsakdAenJruaKKACiiigArk/GfjHUvC01rHpvhHVvEAnVmZ7BQViwRwe+TmusooA8t/4W54i/6JX4o/79j/AArufCuu3XiLQ0v77RL3RJmdkNpfKBIAP4uOxrZooAKKKKACiiigDI8UeJrDwjoMur6uLg20TKrfZ4WlbLHA4H864T/hoXwV/wA89Y/8Fz16lRQB5b/w0L4K/wCeesf+C56P+GhfBX/PPWP/AAXPXqVFAHnuhfGzwp4h1y10mwXVBc3b+XGZbB1XPue31r0KiigArifFvxY8OeC9aGl6wuoG4MSy/wCj2byLg5x83Q9O1dtRQBw/hT4t+GvGOuLpWkLqK3LRtIPtFm8a4Xr8x4FdxRRQAUUUUAFFFFABWF4i8b+GvCcsMXiPWbXT5J1LRJM2CwHU4Hat2qOo6HpOsGM6tplnfGPIQ3NukmzPXG4HHSgDlv8Ahcvw8/6GzT/++j/hXW6ZqdlrOmwahpdzHdWlwu+KaI5Vx6is7/hCvC3/AELWj/8AgBF/8TWtbW0FnbR29nBHbwRjakUSBVQegA4FAEtFFcb8Xbme0+EXiOe0mkgmSzbbJE5Vl5HQjmgDsqK/O7/hI9c/6DOof+BT/wCNH/CR65/0GdQ/8Cn/AMaAP0Roryf9m6+u7/4SLLfXM1zIL6ZQ80hcgfLxk9uTXrFABRRRQAUUUUAVrvUrHT9v2+8t7Xfnb50qpu+mTzUltdW95AJrSeOeJukkThlP4ivDP2jbO2nvtBkntoZH8uZdzxgnGV4ya7L4FwQ2/wAL7dYIkiU3MxIRQATu68UAejUUUUAFFFFAH//Z)"
      ]
    },
    {
      "cell_type": "code",
      "metadata": {
        "id": "dmT1Km7Lgzf9"
      },
      "source": [
        "from sklearn import model_selection, naive_bayes, svm\n",
        "from sklearn.linear_model import LogisticRegression\n",
        "from sklearn.metrics import accuracy_score\n",
        "from sklearn.model_selection import cross_validate as CV\n",
        "from sklearn.model_selection import cross_val_score\n",
        "from sklearn.metrics import confusion_matrix\n",
        "from sklearn.metrics import plot_confusion_matrix\n",
        "import matplotlib.pyplot as plt"
      ],
      "execution_count": 14,
      "outputs": []
    },
    {
      "cell_type": "code",
      "metadata": {
        "colab": {
          "base_uri": "https://localhost:8080/",
          "height": 296
        },
        "id": "tQ-qPbYmYdQo",
        "outputId": "3586130d-9e81-4bad-a0ce-0931fb2f4029"
      },
      "source": [
        "# fit the training dataset on the NB classifier\n",
        "Naive = naive_bayes.MultinomialNB()\n",
        "Naive.fit(X_train,y_train)\n",
        "# predict the labels on validation dataset\n",
        "y_pred = Naive.predict(X_test)\n",
        "# Use accuracy_score function to get the accuracy\n",
        "print(\"Naive Bayes Accuracy Score -> \",accuracy_score(y_pred , y_test)*100)\n",
        "\n",
        "plot_confusion_matrix(Naive, X_test, y_test)  \n",
        "plt.show()"
      ],
      "execution_count": 15,
      "outputs": [
        {
          "output_type": "stream",
          "name": "stdout",
          "text": [
            "Naive Bayes Accuracy Score ->  96.59192825112108\n"
          ]
        },
        {
          "output_type": "display_data",
          "data": {
            "image/png": "[encoded data removed]",
            "text/plain": [
              "<Figure size 432x288 with 2 Axes>"
            ]
          },
          "metadata": {
            "needs_background": "light"
          }
        }
      ]
    },
    {
      "cell_type": "markdown",
      "metadata": {
        "id": "oJ4KBVLZfynL"
      },
      "source": [
        "# Interpretation of Confusion Matrix\n",
        "## For 1115 test cases, 38 cases where the message is SPAM but the model detected it as Not SPAM\n"
      ]
    },
    {
      "cell_type": "markdown",
      "metadata": {
        "id": "YqHjIfWcZyNQ"
      },
      "source": [
        "### Five fold Cross Validataion for Naive Bayes\n",
        "\n"
      ]
    },
    {
      "cell_type": "code",
      "metadata": {
        "colab": {
          "base_uri": "https://localhost:8080/"
        },
        "id": "NhbwuhD0Y3Sk",
        "outputId": "217410c5-add2-41e5-99e6-abb7b87f6d27"
      },
      "source": [
        "Naive_acc_scores = cross_val_score(Naive, X_train, y_train, cv=5)\n",
        "Naive_acc_scores"
      ],
      "execution_count": 16,
      "outputs": [
        {
          "output_type": "execute_result",
          "data": {
            "text/plain": [
              "array([0.96188341, 0.9529148 , 0.96071829, 0.95173962, 0.9674523 ])"
            ]
          },
          "metadata": {},
          "execution_count": 16
        }
      ]
    },
    {
      "cell_type": "code",
      "metadata": {
        "colab": {
          "base_uri": "https://localhost:8080/"
        },
        "id": "HqSZ4VBVZtWP",
        "outputId": "f35ed63f-a795-4b4e-f81a-9dd1ffef6636"
      },
      "source": [
        "sum(Naive_acc_scores)/5"
      ],
      "execution_count": 17,
      "outputs": [
        {
          "output_type": "execute_result",
          "data": {
            "text/plain": [
              "0.9589416839043148"
            ]
          },
          "metadata": {},
          "execution_count": 17
        }
      ]
    },
    {
      "cell_type": "markdown",
      "metadata": {
        "id": "d33jV9S1nAMi"
      },
      "source": [
        "# Logistic Regression"
      ]
    },
    {
      "cell_type": "code",
      "metadata": {
        "colab": {
          "base_uri": "https://localhost:8080/",
          "height": 296
        },
        "id": "fSnBPLdbnDX1",
        "outputId": "58fbc192-2b5a-486a-c4f3-f24e022b275d"
      },
      "source": [
        "# fit the training dataset on the Logistic Regression classifier\n",
        "LR = LogisticRegression(random_state=0)\n",
        "LR.fit(X_train,y_train)\n",
        "# predict the labels on validation dataset\n",
        "y_pred = LR.predict(X_test)\n",
        "# Use accuracy_score function to get the accuracy\n",
        "print(\"Logistic Regression Score -> \",accuracy_score(y_pred , y_test)*100)\n",
        "\n",
        "plot_confusion_matrix(LR, X_test, y_test)  \n",
        "plt.show()"
      ],
      "execution_count": 18,
      "outputs": [
        {
          "output_type": "stream",
          "name": "stdout",
          "text": [
            "Logistic Regression Score ->  96.50224215246637\n"
          ]
        },
        {
          "output_type": "display_data",
          "data": {
            "image/png": "[encoded data removed]",
            "text/plain": [
              "<Figure size 432x288 with 2 Axes>"
            ]
          },
          "metadata": {
            "needs_background": "light"
          }
        }
      ]
    },
    {
      "cell_type": "markdown",
      "metadata": {
        "id": "18AHU6jWnVNi"
      },
      "source": [
        "### Five fold cross validation for logistic regression"
      ]
    },
    {
      "cell_type": "code",
      "metadata": {
        "colab": {
          "base_uri": "https://localhost:8080/"
        },
        "id": "TVjhJVEPnDZ0",
        "outputId": "92e94b7a-302a-4dbd-9402-74da102288ee"
      },
      "source": [
        "LR_acc_scores = cross_val_score(LR, X_train, y_train, cv=5)\n",
        "LR_acc_scores"
      ],
      "execution_count": 19,
      "outputs": [
        {
          "output_type": "execute_result",
          "data": {
            "text/plain": [
              "array([0.96748879, 0.95852018, 0.96184063, 0.95959596, 0.97418631])"
            ]
          },
          "metadata": {},
          "execution_count": 19
        }
      ]
    },
    {
      "cell_type": "code",
      "metadata": {
        "colab": {
          "base_uri": "https://localhost:8080/"
        },
        "id": "_qEs10g-nDcQ",
        "outputId": "5bec742f-7a2f-40b8-a8d8-4a761e0a632e"
      },
      "source": [
        "sum(LR_acc_scores)/5"
      ],
      "execution_count": 20,
      "outputs": [
        {
          "output_type": "execute_result",
          "data": {
            "text/plain": [
              "0.9643263728465523"
            ]
          },
          "metadata": {},
          "execution_count": 20
        }
      ]
    },
    {
      "cell_type": "markdown",
      "metadata": {
        "id": "2yjRn5wTg610"
      },
      "source": [
        "# Support Vector Machine"
      ]
    },
    {
      "cell_type": "code",
      "metadata": {
        "colab": {
          "base_uri": "https://localhost:8080/",
          "height": 296
        },
        "id": "LgnNHNPxgohI",
        "outputId": "74ffa1f5-5102-40bc-8086-12356b9d8607"
      },
      "source": [
        "# fit the training dataset on the SVC classifier\n",
        "SVM = svm.SVC(C=1.0, kernel='linear', degree=3, gamma='auto')\n",
        "SVM.fit(X_train,y_train)\n",
        "# predict the labels on validation dataset\n",
        "y_pred = SVM.predict(X_test)\n",
        "# Use accuracy_score function to get the accuracy\n",
        "print(\"Support Vector Machine Score -> \",accuracy_score(y_pred , y_test)*100)\n",
        "\n",
        "plot_confusion_matrix(SVM, X_test, y_test)  \n",
        "plt.show()"
      ],
      "execution_count": 21,
      "outputs": [
        {
          "output_type": "stream",
          "name": "stdout",
          "text": [
            "Support Vector Machine Score ->  98.9237668161435\n"
          ]
        },
        {
          "output_type": "display_data",
          "data": {
            "image/png": "[encoded data removed]",
            "text/plain": [
              "<Figure size 432x288 with 2 Axes>"
            ]
          },
          "metadata": {
            "needs_background": "light"
          }
        }
      ]
    },
    {
      "cell_type": "markdown",
      "metadata": {
        "id": "odRkrtbBhdSS"
      },
      "source": [
        "### Five fold Cross validationfor SVM"
      ]
    },
    {
      "cell_type": "code",
      "metadata": {
        "colab": {
          "base_uri": "https://localhost:8080/"
        },
        "id": "8RsN6ON9g9LI",
        "outputId": "71485853-8c65-4305-cfe4-dcce46d05506"
      },
      "source": [
        "SVM_acc_scores = cross_val_score(SVM, X_train, y_train, cv=5)\n",
        "SVM_acc_scores"
      ],
      "execution_count": 22,
      "outputs": [
        {
          "output_type": "execute_result",
          "data": {
            "text/plain": [
              "array([0.98542601, 0.97757848, 0.98765432, 0.97755331, 0.98653199])"
            ]
          },
          "metadata": {},
          "execution_count": 22
        }
      ]
    },
    {
      "cell_type": "code",
      "metadata": {
        "colab": {
          "base_uri": "https://localhost:8080/"
        },
        "id": "FQQAjI2ZhkO8",
        "outputId": "a4e3f9b3-dd7a-48b2-d59d-e8a2b50b1720"
      },
      "source": [
        "sum(SVM_acc_scores)/5"
      ],
      "execution_count": 23,
      "outputs": [
        {
          "output_type": "execute_result",
          "data": {
            "text/plain": [
              "0.9829488205422436"
            ]
          },
          "metadata": {},
          "execution_count": 23
        }
      ]
    },
    {
      "cell_type": "markdown",
      "metadata": {
        "id": "YphgDIs5jVX_"
      },
      "source": [
        "# Hyperparameter Tunning for SVM"
      ]
    },
    {
      "cell_type": "code",
      "metadata": {
        "id": "H3fXA1Veisc2"
      },
      "source": [
        "from sklearn.model_selection import GridSearchCV"
      ],
      "execution_count": 24,
      "outputs": []
    },
    {
      "cell_type": "code",
      "metadata": {
        "id": "sOmnVeYHjsxw"
      },
      "source": [
        "gridclf = GridSearchCV(svm.SVC(), \n",
        "                       {'C': [1, 2], 'kernel':['rbf', 'linear'], 'gamma':['scale', 'auto']}, cv = 5)"
      ],
      "execution_count": 25,
      "outputs": []
    },
    {
      "cell_type": "code",
      "metadata": {
        "colab": {
          "base_uri": "https://localhost:8080/"
        },
        "id": "qYEWHp5PkUry",
        "outputId": "ad484a94-f881-40ed-af2a-7931e125de0f"
      },
      "source": [
        "gridclf.fit(X_train, y_train)"
      ],
      "execution_count": 26,
      "outputs": [
        {
          "output_type": "execute_result",
          "data": {
            "text/plain": [
              "GridSearchCV(cv=5, error_score=nan,\n",
              "             estimator=SVC(C=1.0, break_ties=False, cache_size=200,\n",
              "                           class_weight=None, coef0=0.0,\n",
              "                           decision_function_shape='ovr', degree=3,\n",
              "                           gamma='scale', kernel='rbf', max_iter=-1,\n",
              "                           probability=False, random_state=None, shrinking=True,\n",
              "                           tol=0.001, verbose=False),\n",
              "             iid='deprecated', n_jobs=None,\n",
              "             param_grid={'C': [1, 2], 'gamma': ['scale', 'auto'],\n",
              "                         'kernel': ['rbf', 'linear']},\n",
              "             pre_dispatch='2*n_jobs', refit=True, return_train_score=False,\n",
              "             scoring=None, verbose=0)"
            ]
          },
          "metadata": {},
          "execution_count": 26
        }
      ]
    },
    {
      "cell_type": "code",
      "metadata": {
        "colab": {
          "base_uri": "https://localhost:8080/"
        },
        "id": "Zuk5Wc-2kaTa",
        "outputId": "9c8bdd87-8431-4d16-ca15-02ea04587043"
      },
      "source": [
        "gridclf.cv_results_"
      ],
      "execution_count": 27,
      "outputs": [
        {
          "output_type": "execute_result",
          "data": {
            "text/plain": [
              "{'mean_fit_time': array([0.92947636, 0.40454926, 0.53848891, 0.40138416, 0.95203257,\n",
              "        0.39622211, 0.54473581, 0.39197116]),\n",
              " 'mean_score_time': array([0.19393921, 0.08305326, 0.11945319, 0.08456202, 0.19698114,\n",
              "        0.07970853, 0.12049184, 0.08239121]),\n",
              " 'mean_test_score': array([0.97599261, 0.98294882, 0.86829732, 0.98294882, 0.97868546,\n",
              "        0.98519173, 0.86829732, 0.98519173]),\n",
              " 'param_C': masked_array(data=[1, 1, 1, 1, 2, 2, 2, 2],\n",
              "              mask=[False, False, False, False, False, False, False, False],\n",
              "        fill_value='?',\n",
              "             dtype=object),\n",
              " 'param_gamma': masked_array(data=['scale', 'scale', 'auto', 'auto', 'scale', 'scale',\n",
              "                    'auto', 'auto'],\n",
              "              mask=[False, False, False, False, False, False, False, False],\n",
              "        fill_value='?',\n",
              "             dtype=object),\n",
              " 'param_kernel': masked_array(data=['rbf', 'linear', 'rbf', 'linear', 'rbf', 'linear',\n",
              "                    'rbf', 'linear'],\n",
              "              mask=[False, False, False, False, False, False, False, False],\n",
              "        fill_value='?',\n",
              "             dtype=object),\n",
              " 'params': [{'C': 1, 'gamma': 'scale', 'kernel': 'rbf'},\n",
              "  {'C': 1, 'gamma': 'scale', 'kernel': 'linear'},\n",
              "  {'C': 1, 'gamma': 'auto', 'kernel': 'rbf'},\n",
              "  {'C': 1, 'gamma': 'auto', 'kernel': 'linear'},\n",
              "  {'C': 2, 'gamma': 'scale', 'kernel': 'rbf'},\n",
              "  {'C': 2, 'gamma': 'scale', 'kernel': 'linear'},\n",
              "  {'C': 2, 'gamma': 'auto', 'kernel': 'rbf'},\n",
              "  {'C': 2, 'gamma': 'auto', 'kernel': 'linear'}],\n",
              " 'rank_test_score': array([6, 3, 7, 3, 5, 1, 7, 1], dtype=int32),\n",
              " 'split0_test_score': array([0.97982063, 0.98542601, 0.867713  , 0.98542601, 0.9809417 ,\n",
              "        0.99103139, 0.867713  , 0.99103139]),\n",
              " 'split1_test_score': array([0.97309417, 0.97757848, 0.867713  , 0.97757848, 0.97533632,\n",
              "        0.97982063, 0.867713  , 0.97982063]),\n",
              " 'split2_test_score': array([0.97643098, 0.98765432, 0.86868687, 0.98765432, 0.98316498,\n",
              "        0.98989899, 0.86868687, 0.98989899]),\n",
              " 'split3_test_score': array([0.96969697, 0.97755331, 0.86868687, 0.97755331, 0.97194164,\n",
              "        0.98092031, 0.86868687, 0.98092031]),\n",
              " 'split4_test_score': array([0.98092031, 0.98653199, 0.86868687, 0.98653199, 0.98204265,\n",
              "        0.98428732, 0.86868687, 0.98428732]),\n",
              " 'std_fit_time': array([0.02320591, 0.00799831, 0.00386466, 0.01092038, 0.01619384,\n",
              "        0.0121968 , 0.00154659, 0.00869319]),\n",
              " 'std_score_time': array([0.00521932, 0.00193347, 0.00278643, 0.00302314, 0.00326638,\n",
              "        0.00239282, 0.00205069, 0.00375572]),\n",
              " 'std_test_score': array([0.00417527, 0.00445128, 0.00047709, 0.00445128, 0.00431563,\n",
              "        0.00456446, 0.00047709, 0.00456446])}"
            ]
          },
          "metadata": {},
          "execution_count": 27
        }
      ]
    },
    {
      "cell_type": "code",
      "metadata": {
        "colab": {
          "base_uri": "https://localhost:8080/",
          "height": 294
        },
        "id": "Wzhxl-iWkfbk",
        "outputId": "c396ffdd-c5be-4ea8-ba0e-a220d49eeb2f"
      },
      "source": [
        "hyper_p = pd.DataFrame(gridclf.cv_results_)[[\"param_C\", \"param_kernel\", \"param_gamma\", \"mean_test_score\"]].sort_values(by=\"mean_test_score\",ascending=False)\n",
        "hyper_p"
      ],
      "execution_count": 28,
      "outputs": [
        {
          "output_type": "execute_result",
          "data": {
            "text/html": [
              "<div>\n",
              "<style scoped>\n",
              "    .dataframe tbody tr th:only-of-type {\n",
              "        vertical-align: middle;\n",
              "    }\n",
              "\n",
              "    .dataframe tbody tr th {\n",
              "        vertical-align: top;\n",
              "    }\n",
              "\n",
              "    .dataframe thead th {\n",
              "        text-align: right;\n",
              "    }\n",
              "</style>\n",
              "<table border=\"1\" class=\"dataframe\">\n",
              "  <thead>\n",
              "    <tr style=\"text-align: right;\">\n",
              "      <th></th>\n",
              "      <th>param_C</th>\n",
              "      <th>param_kernel</th>\n",
              "      <th>param_gamma</th>\n",
              "      <th>mean_test_score</th>\n",
              "    </tr>\n",
              "  </thead>\n",
              "  <tbody>\n",
              "    <tr>\n",
              "      <th>5</th>\n",
              "      <td>2</td>\n",
              "      <td>linear</td>\n",
              "      <td>scale</td>\n",
              "      <td>0.985192</td>\n",
              "    </tr>\n",
              "    <tr>\n",
              "      <th>7</th>\n",
              "      <td>2</td>\n",
              "      <td>linear</td>\n",
              "      <td>auto</td>\n",
              "      <td>0.985192</td>\n",
              "    </tr>\n",
              "    <tr>\n",
              "      <th>1</th>\n",
              "      <td>1</td>\n",
              "      <td>linear</td>\n",
              "      <td>scale</td>\n",
              "      <td>0.982949</td>\n",
              "    </tr>\n",
              "    <tr>\n",
              "      <th>3</th>\n",
              "      <td>1</td>\n",
              "      <td>linear</td>\n",
              "      <td>auto</td>\n",
              "      <td>0.982949</td>\n",
              "    </tr>\n",
              "    <tr>\n",
              "      <th>4</th>\n",
              "      <td>2</td>\n",
              "      <td>rbf</td>\n",
              "      <td>scale</td>\n",
              "      <td>0.978685</td>\n",
              "    </tr>\n",
              "    <tr>\n",
              "      <th>0</th>\n",
              "      <td>1</td>\n",
              "      <td>rbf</td>\n",
              "      <td>scale</td>\n",
              "      <td>0.975993</td>\n",
              "    </tr>\n",
              "    <tr>\n",
              "      <th>2</th>\n",
              "      <td>1</td>\n",
              "      <td>rbf</td>\n",
              "      <td>auto</td>\n",
              "      <td>0.868297</td>\n",
              "    </tr>\n",
              "    <tr>\n",
              "      <th>6</th>\n",
              "      <td>2</td>\n",
              "      <td>rbf</td>\n",
              "      <td>auto</td>\n",
              "      <td>0.868297</td>\n",
              "    </tr>\n",
              "  </tbody>\n",
              "</table>\n",
              "</div>"
            ],
            "text/plain": [
              "  param_C param_kernel param_gamma  mean_test_score\n",
              "5       2       linear       scale         0.985192\n",
              "7       2       linear        auto         0.985192\n",
              "1       1       linear       scale         0.982949\n",
              "3       1       linear        auto         0.982949\n",
              "4       2          rbf       scale         0.978685\n",
              "0       1          rbf       scale         0.975993\n",
              "2       1          rbf        auto         0.868297\n",
              "6       2          rbf        auto         0.868297"
            ]
          },
          "metadata": {},
          "execution_count": 28
        }
      ]
    },
    {
      "cell_type": "code",
      "metadata": {
        "colab": {
          "base_uri": "https://localhost:8080/"
        },
        "id": "XzF0f3NVkjGi",
        "outputId": "2eeb71fb-7f9f-4823-ee58-6943b15a89c8"
      },
      "source": [
        "gridclf.best_estimator_ \n",
        "# the best model (98% accuracy) is the one that has C = 2 and a linear kernel"
      ],
      "execution_count": 32,
      "outputs": [
        {
          "output_type": "execute_result",
          "data": {
            "text/plain": [
              "SVC(C=2, break_ties=False, cache_size=200, class_weight=None, coef0=0.0,\n",
              "    decision_function_shape='ovr', degree=3, gamma='scale', kernel='linear',\n",
              "    max_iter=-1, probability=False, random_state=None, shrinking=True,\n",
              "    tol=0.001, verbose=False)"
            ]
          },
          "metadata": {},
          "execution_count": 32
        }
      ]
    },
    {
      "cell_type": "code",
      "metadata": {
        "colab": {
          "base_uri": "https://localhost:8080/"
        },
        "id": "dxnUHRwektS_",
        "outputId": "a73a948a-b8fe-48c9-ad7c-d9b59054b04c"
      },
      "source": [
        "gridclf.best_params_ "
      ],
      "execution_count": 31,
      "outputs": [
        {
          "output_type": "execute_result",
          "data": {
            "text/plain": [
              "{'C': 2, 'gamma': 'scale', 'kernel': 'linear'}"
            ]
          },
          "metadata": {},
          "execution_count": 31
        }
      ]
    },
    {
      "cell_type": "markdown",
      "metadata": {
        "id": "h7CInbGhtPt-"
      },
      "source": [
        "Without Hyperparameter accuracy for SVM was 98.29, with hyperparameter tuning accuracy increased to 98.52"
      ]
    },
    {
      "cell_type": "markdown",
      "metadata": {
        "id": "GF2fIkM_te2i"
      },
      "source": [
        "# Comparisons Bewtween Different Machine Learning Models"
      ]
    },
    {
      "cell_type": "markdown",
      "metadata": {
        "id": "KnjAAwuzmTh0"
      },
      "source": [
        "|Model Name|Accuracy|\n",
        "|---|---|\n",
        "|SVM|98.52|\n",
        "|Naive Bayes|95.89|\n",
        "|Logistic Regression|96.43|\n",
        "\n",
        "\n",
        "\n",
        "Findings: SVM with C = 2, and linear kernel has the best Accuracy that is 98.52 % achieved in this project\n"
      ]
    }
  ]
}