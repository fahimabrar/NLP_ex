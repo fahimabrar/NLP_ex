{
  "nbformat": 4,
  "nbformat_minor": 0,
  "metadata": {
    "colab": {
      "name": "Spam Classification(CNN,RNNs).ipynb",
      "provenance": [],
      "collapsed_sections": [],
      "authorship_tag": "ABX9TyPiESclXNfczftzRGhzboHo",
      "include_colab_link": true
    },
    "kernelspec": {
      "name": "python3",
      "display_name": "Python 3"
    },
    "language_info": {
      "name": "python"
    }
  },
  "cells": [
    {
      "cell_type": "markdown",
      "metadata": {
        "id": "view-in-github",
        "colab_type": "text"
      },
      "source": [
        "<a href=\"https://colab.research.google.com/github/fahimabrar/Natural-Language-Processing/blob/main/Spam%20Classification/Spam_Classification(CNN%2CRNNs).ipynb\" target=\"_parent\"><img src=\"https://colab.research.google.com/assets/colab-badge.svg\" alt=\"Open In Colab\"/></a>"
      ]
    },
    {
      "cell_type": "markdown",
      "metadata": {
        "id": "DS2WcQDNLNcI"
      },
      "source": [
        "\n",
        "# Classification of Spam and Non Spam message using Deep Learning\n",
        "\n",
        "## This NoteBook Covers\n",
        "- Reading data from Tab delimited binray files\n",
        "- Data Tokenization, Padding to fixed length vectors\n",
        "- Embedding using keras embedding layers\n",
        "- Training Convolutioal Neural Network, Gated Reccurent Unit, Long Short term Memory deep learning methods\n",
        "- Highest accuracy obtained 98.95 using CNN, LSTM\n",
        "- Used both Keras Sequential and Functional API\n"
      ]
    },
    {
      "cell_type": "code",
      "metadata": {
        "id": "UI4ysWHgg0He"
      },
      "source": [
        "import pandas as pd\n",
        "import numpy as np\n",
        "from tensorflow import keras \n",
        "from tensorflow.keras.preprocessing.text import Tokenizer\n",
        "from keras.preprocessing.sequence import pad_sequences\n",
        "\n",
        "import numpy as np\n",
        "np.random.seed(500)"
      ],
      "execution_count": 1,
      "outputs": []
    },
    {
      "cell_type": "code",
      "metadata": {
        "id": "98DZXpyB0943"
      },
      "source": [
        "import os\n",
        "import numpy as np\n",
        "import pandas as pd\n",
        "import matplotlib.pyplot as plt\n",
        "from keras.preprocessing.text import Tokenizer\n",
        "from keras.preprocessing.sequence import pad_sequences\n",
        "from keras.layers import Dense, Input, GlobalMaxPooling1D\n",
        "from keras.layers import LSTM, GRU, Embedding\n",
        "from keras.layers import Conv1D, MaxPooling1D, Embedding\n",
        "from keras.models import Model\n",
        "from sklearn.metrics import roc_auc_score\n",
        "import pickle"
      ],
      "execution_count": 55,
      "outputs": []
    },
    {
      "cell_type": "code",
      "metadata": {
        "colab": {
          "base_uri": "https://localhost:8080/",
          "height": 202
        },
        "id": "_a7niTe4hAaE",
        "outputId": "480297bb-e6f6-4760-e013-f853a062b7c7"
      },
      "source": [
        "\n",
        "df = pd.DataFrame(pd.read_csv(\"https://raw.githubusercontent.com/fahimabrar/Natural-Language-Processing/main/Spam%20Classification/spam\", sep='\\t', names= [\"label\", \"message\"]))\n",
        "df.tail()\n"
      ],
      "execution_count": 68,
      "outputs": [
        {
          "output_type": "execute_result",
          "data": {
            "text/html": [
              "<div>\n",
              "<style scoped>\n",
              "    .dataframe tbody tr th:only-of-type {\n",
              "        vertical-align: middle;\n",
              "    }\n",
              "\n",
              "    .dataframe tbody tr th {\n",
              "        vertical-align: top;\n",
              "    }\n",
              "\n",
              "    .dataframe thead th {\n",
              "        text-align: right;\n",
              "    }\n",
              "</style>\n",
              "<table border=\"1\" class=\"dataframe\">\n",
              "  <thead>\n",
              "    <tr style=\"text-align: right;\">\n",
              "      <th></th>\n",
              "      <th>label</th>\n",
              "      <th>message</th>\n",
              "    </tr>\n",
              "  </thead>\n",
              "  <tbody>\n",
              "    <tr>\n",
              "      <th>5567</th>\n",
              "      <td>spam</td>\n",
              "      <td>This is the 2nd time we have tried 2 contact u...</td>\n",
              "    </tr>\n",
              "    <tr>\n",
              "      <th>5568</th>\n",
              "      <td>ham</td>\n",
              "      <td>Will ü b going to esplanade fr home?</td>\n",
              "    </tr>\n",
              "    <tr>\n",
              "      <th>5569</th>\n",
              "      <td>ham</td>\n",
              "      <td>Pity, * was in mood for that. So...any other s...</td>\n",
              "    </tr>\n",
              "    <tr>\n",
              "      <th>5570</th>\n",
              "      <td>ham</td>\n",
              "      <td>The guy did some bitching but I acted like i'd...</td>\n",
              "    </tr>\n",
              "    <tr>\n",
              "      <th>5571</th>\n",
              "      <td>ham</td>\n",
              "      <td>Rofl. Its true to its name</td>\n",
              "    </tr>\n",
              "  </tbody>\n",
              "</table>\n",
              "</div>"
            ],
            "text/plain": [
              "     label                                            message\n",
              "5567  spam  This is the 2nd time we have tried 2 contact u...\n",
              "5568   ham               Will ü b going to esplanade fr home?\n",
              "5569   ham  Pity, * was in mood for that. So...any other s...\n",
              "5570   ham  The guy did some bitching but I acted like i'd...\n",
              "5571   ham                         Rofl. Its true to its name"
            ]
          },
          "metadata": {},
          "execution_count": 68
        }
      ]
    },
    {
      "cell_type": "markdown",
      "metadata": {
        "id": "JasSYQ_Cl-yo"
      },
      "source": [
        "## Data Preprocessing"
      ]
    },
    {
      "cell_type": "code",
      "metadata": {
        "colab": {
          "base_uri": "https://localhost:8080/"
        },
        "id": "mKmEFZiwjCoj",
        "outputId": "4cc090da-a200-4c72-f05b-12a4b21a0357"
      },
      "source": [
        "import numpy as np\n",
        "import nltk\n",
        "nltk.download(\"punkt\")\n",
        "nltk.download('wordnet')\n",
        "from nltk.stem import WordNetLemmatizer\n",
        "import string\n",
        "import re\n",
        "wordnet_lemmatizer = WordNetLemmatizer()"
      ],
      "execution_count": 4,
      "outputs": [
        {
          "output_type": "stream",
          "name": "stdout",
          "text": [
            "[nltk_data] Downloading package punkt to /root/nltk_data...\n",
            "[nltk_data]   Package punkt is already up-to-date!\n",
            "[nltk_data] Downloading package wordnet to /root/nltk_data...\n",
            "[nltk_data]   Package wordnet is already up-to-date!\n"
          ]
        }
      ]
    },
    {
      "cell_type": "code",
      "metadata": {
        "id": "Zny0OoKQl9R0"
      },
      "source": [
        "def preprocess(sentence):\n",
        "  sentence.translate(str.maketrans('', '', string.punctuation))\n",
        "  tokens = nltk.word_tokenize(sentence)\n",
        "  tokens = [word.lower() for word in tokens]\n",
        "  tokens = [wordnet_lemmatizer.lemmatize(word, pos=\"v\") for word in tokens]\n",
        "  tokens = [word for word in tokens if len(word)>1]\n",
        "  clean_sentence = ' '.join(tokens)\n",
        "  return clean_sentence\n"
      ],
      "execution_count": 5,
      "outputs": []
    },
    {
      "cell_type": "code",
      "metadata": {
        "id": "-nDJR4lSmb20"
      },
      "source": [
        "df[\"message\"] = df.message.apply(preprocess)"
      ],
      "execution_count": 6,
      "outputs": []
    },
    {
      "cell_type": "code",
      "metadata": {
        "colab": {
          "base_uri": "https://localhost:8080/"
        },
        "id": "iSuETxzNmmds",
        "outputId": "707df0e7-6131-4113-ef8e-55e9fdc36e86"
      },
      "source": [
        "message = list(df.message)\n",
        "label = list(df.label)\n",
        "label = list(pd.get_dummies(label, drop_first = True)['spam'])\n",
        "df.shape"
      ],
      "execution_count": 7,
      "outputs": [
        {
          "output_type": "execute_result",
          "data": {
            "text/plain": [
              "(5572, 2)"
            ]
          },
          "metadata": {},
          "execution_count": 7
        }
      ]
    },
    {
      "cell_type": "code",
      "metadata": {
        "id": "5EIV7huKn7O9"
      },
      "source": [
        "vocab_size = 10000\n",
        "max_length = 40\n",
        "embedding_dim = 32\n",
        "trunc_type = 'post'\n",
        "padding_type = 'post'\n",
        "oov_tok = \"<OOV>\"\n",
        "training_size = 20000"
      ],
      "execution_count": 8,
      "outputs": []
    },
    {
      "cell_type": "code",
      "metadata": {
        "id": "sekBg9xfXl-X"
      },
      "source": [
        "training_sentences = message[0:5000]\n",
        "training_labels = label[0:5000]\n",
        "testing_sentences = message[5000:]\n",
        "testing_labels = label[5000:]"
      ],
      "execution_count": 9,
      "outputs": []
    },
    {
      "cell_type": "code",
      "metadata": {
        "colab": {
          "base_uri": "https://localhost:8080/"
        },
        "id": "yYPjyCHJgZ7Q",
        "outputId": "e887eec3-ee3b-45a2-eff2-3ed000a25bc1"
      },
      "source": [
        "tokenizer = Tokenizer(num_words= vocab_size, oov_token= oov_tok)\n",
        "tokenizer.fit_on_texts(training_sentences)\n",
        "word_index = tokenizer.word_index\n",
        "len(word_index)\n",
        "#word_index"
      ],
      "execution_count": 10,
      "outputs": [
        {
          "output_type": "execute_result",
          "data": {
            "text/plain": [
              "7540"
            ]
          },
          "metadata": {},
          "execution_count": 10
        }
      ]
    },
    {
      "cell_type": "code",
      "metadata": {
        "id": "fjYeLlZRXecO"
      },
      "source": [
        "train_seqs = tokenizer.texts_to_sequences(training_sentences)\n",
        "train_padded = pad_sequences(train_seqs, maxlen =  max_length, padding=padding_type, truncating= trunc_type)\n",
        "test_seqs = tokenizer.texts_to_sequences(testing_sentences)\n",
        "test_padded = pad_sequences(test_seqs, maxlen =  max_length, padding= padding_type, truncating= trunc_type)"
      ],
      "execution_count": 11,
      "outputs": []
    },
    {
      "cell_type": "code",
      "metadata": {
        "colab": {
          "base_uri": "https://localhost:8080/"
        },
        "id": "oUsJKFmxX5an",
        "outputId": "7f36e9ac-d2d5-439e-b76d-400a1197ded9"
      },
      "source": [
        "train_padded"
      ],
      "execution_count": 12,
      "outputs": [
        {
          "output_type": "execute_result",
          "data": {
            "text/plain": [
              "array([[  19,  412, 3653, ...,    0,    0,    0],\n",
              "       [  48,  333,  719, ...,    0,    0,    0],\n",
              "       [  51,  477,    8, ...,    0,    0,    0],\n",
              "       ...,\n",
              "       [ 129,   97,  258, ...,    0,    0,    0],\n",
              "       [2081,   82,  110, ...,    0,    0,    0],\n",
              "       [  29,    4,  225, ...,    0,    0,    0]], dtype=int32)"
            ]
          },
          "metadata": {},
          "execution_count": 12
        }
      ]
    },
    {
      "cell_type": "code",
      "metadata": {
        "colab": {
          "base_uri": "https://localhost:8080/"
        },
        "id": "gqhQIsMvguTF",
        "outputId": "cf1b446e-ddbe-420b-ac88-595c23885fa5"
      },
      "source": [
        "test_padded.shape"
      ],
      "execution_count": 13,
      "outputs": [
        {
          "output_type": "execute_result",
          "data": {
            "text/plain": [
              "(572, 40)"
            ]
          },
          "metadata": {},
          "execution_count": 13
        }
      ]
    },
    {
      "cell_type": "code",
      "metadata": {
        "id": "eY67sALKhCj1"
      },
      "source": [
        "train_padded = np.array(train_padded)\n",
        "test_padded = np.array(test_padded)\n",
        "train_labels = np.array(training_labels)\n",
        "test_labels = np.array(testing_labels)"
      ],
      "execution_count": 14,
      "outputs": []
    },
    {
      "cell_type": "markdown",
      "metadata": {
        "id": "Kw7izmF5E_Qb"
      },
      "source": [
        "# LSTM"
      ]
    },
    {
      "cell_type": "code",
      "metadata": {
        "id": "A38gidVe1NEt"
      },
      "source": [
        "# defining the model woth keras functional API\n",
        "input = Input(shape=(max_length,))\n",
        "x = Embedding(vocab_size, embedding_dim, input_length=max_length)(input)\n",
        "x = LSTM(64, return_sequences = True)(x)\n",
        "x = GlobalMaxPooling1D()(x)\n",
        "x = Dense(32, activation='relu')(x) \n",
        "output = Dense(1, activation='sigmoid')(x)\n",
        "model = Model(input, output)"
      ],
      "execution_count": 34,
      "outputs": []
    },
    {
      "cell_type": "code",
      "metadata": {
        "colab": {
          "base_uri": "https://localhost:8080/"
        },
        "id": "XhWgeqxCnM4S",
        "outputId": "859f459e-df2e-42ed-dbfe-cc7305edcbc6"
      },
      "source": [
        "model.summary()\n",
        "model.compile(loss = 'binary_crossentropy', optimizer = 'adam', metrics = ['accuracy'])"
      ],
      "execution_count": 35,
      "outputs": [
        {
          "output_type": "stream",
          "name": "stdout",
          "text": [
            "Model: \"model_3\"\n",
            "_________________________________________________________________\n",
            "Layer (type)                 Output Shape              Param #   \n",
            "=================================================================\n",
            "input_5 (InputLayer)         [(None, 40)]              0         \n",
            "_________________________________________________________________\n",
            "embedding_4 (Embedding)      (None, 40, 32)            320000    \n",
            "_________________________________________________________________\n",
            "lstm_1 (LSTM)                (None, 40, 64)            24832     \n",
            "_________________________________________________________________\n",
            "global_max_pooling1d_3 (Glob (None, 64)                0         \n",
            "_________________________________________________________________\n",
            "dense_6 (Dense)              (None, 32)                2080      \n",
            "_________________________________________________________________\n",
            "dense_7 (Dense)              (None, 1)                 33        \n",
            "=================================================================\n",
            "Total params: 346,945\n",
            "Trainable params: 346,945\n",
            "Non-trainable params: 0\n",
            "_________________________________________________________________\n"
          ]
        }
      ]
    },
    {
      "cell_type": "code",
      "metadata": {
        "colab": {
          "base_uri": "https://localhost:8080/"
        },
        "id": "L5PgDj5xnfL5",
        "outputId": "b02120c4-603d-4708-ca1f-a5ee73ef4227"
      },
      "source": [
        "num_epochs = 5\n",
        "history = model.fit(train_padded, train_labels, epochs=num_epochs, validation_data=(test_padded, test_labels), verbose=2)"
      ],
      "execution_count": 36,
      "outputs": [
        {
          "output_type": "stream",
          "name": "stdout",
          "text": [
            "Epoch 1/5\n",
            "157/157 - 7s - loss: 0.2376 - accuracy: 0.9260 - val_loss: 0.0604 - val_accuracy: 0.9878\n",
            "Epoch 2/5\n",
            "157/157 - 4s - loss: 0.0441 - accuracy: 0.9904 - val_loss: 0.0394 - val_accuracy: 0.9878\n",
            "Epoch 3/5\n",
            "157/157 - 4s - loss: 0.0289 - accuracy: 0.9936 - val_loss: 0.0294 - val_accuracy: 0.9913\n",
            "Epoch 4/5\n",
            "157/157 - 4s - loss: 0.0152 - accuracy: 0.9968 - val_loss: 0.0403 - val_accuracy: 0.9860\n",
            "Epoch 5/5\n",
            "157/157 - 4s - loss: 0.0089 - accuracy: 0.9984 - val_loss: 0.0579 - val_accuracy: 0.9895\n"
          ]
        }
      ]
    },
    {
      "cell_type": "code",
      "metadata": {
        "id": "8JFW-7QGoLrx"
      },
      "source": [
        "import matplotlib.pyplot as plt\n",
        "\n",
        "def plot_matrics(history, metric):\n",
        "  plt.plot(history.history[metric])\n",
        "  plt.plot(history.history['val_'+metric])\n",
        "  plt.xlabel('Epochs')\n",
        "  plt.ylabel(metric)\n",
        "  plt.legend([metric, 'val_'+metric])\n",
        "  plt.show()\n"
      ],
      "execution_count": 40,
      "outputs": []
    },
    {
      "cell_type": "code",
      "metadata": {
        "colab": {
          "base_uri": "https://localhost:8080/",
          "height": 541
        },
        "id": "U7kfeVXNqFOS",
        "outputId": "f78fae0f-f057-431d-b849-e6d9d3eb86fe"
      },
      "source": [
        "plot_matrics(history, 'accuracy')\n",
        "plot_matrics(history, 'loss')"
      ],
      "execution_count": 41,
      "outputs": [
        {
          "output_type": "display_data",
          "data": {
            "image/png": "[encoded data removed]",
            "text/plain": [
              "<Figure size 432x288 with 1 Axes>"
            ]
          },
          "metadata": {
            "needs_background": "light"
          }
        },
        {
          "output_type": "display_data",
          "data": {
            "image/png": "[encoded data removed]",
            "text/plain": [
              "<Figure size 432x288 with 1 Axes>"
            ]
          },
          "metadata": {
            "needs_background": "light"
          }
        }
      ]
    },
    {
      "cell_type": "code",
      "metadata": {
        "colab": {
          "base_uri": "https://localhost:8080/"
        },
        "id": "fN2WBr_BqKfx",
        "outputId": "a5cdb3a9-5947-48e1-d328-b360c6cb799e"
      },
      "source": [
        "sentences = [\"Congratulations! you have won 1000 pounds, click on our website\", \"Your account is temporarily locked, click on this website to win! 120 dollar\", \"hello! how are you?\"]\n",
        "sequences = tokenizer.texts_to_sequences(sentences)\n",
        "padded = pad_sequences(sequences, maxlen=max_length, padding=padding_type, truncating=trunc_type)\n",
        "\n",
        "print(\"Congratulations! you have won 1000 pounds, click on our website\", model.predict(padded)[0])\n",
        "\n",
        "print(\"Your account is temporarily locked, click on this website to win! 120 dollar\", model.predict(padded)[1])\n",
        "\n",
        "print(\"hello! how are you?\", model.predict(padded)[2])"
      ],
      "execution_count": 46,
      "outputs": [
        {
          "output_type": "stream",
          "name": "stdout",
          "text": [
            "Congratulations! you have won 1000 pounds, click on our website [0.9995463]\n",
            "Your account is temporarily locked, click on this website to win! 120 dollar [0.9996272]\n",
            "hello! how are you? [0.00049153]\n"
          ]
        }
      ]
    },
    {
      "cell_type": "markdown",
      "metadata": {
        "id": "2VNgZlWFAFRN"
      },
      "source": [
        "## First two messages are identified as Spam and last message is identified as not spam\n",
        " ### Score predicted by the model,  the closest to 1 is spam, the closest to 0 is not spam\n"
      ]
    },
    {
      "cell_type": "markdown",
      "metadata": {
        "id": "-7B-ehsAGosu"
      },
      "source": [
        "# Accuracy with LSTM - training accuracy: 0.9984, validation accuracy: 0.9895"
      ]
    },
    {
      "cell_type": "markdown",
      "metadata": {
        "id": "gJO1_zS_FGkc"
      },
      "source": [
        "# GRU"
      ]
    },
    {
      "cell_type": "code",
      "metadata": {
        "id": "qOW6A2fC_9Bi"
      },
      "source": [
        "# defining the model woth keras functional API\n",
        "input = Input(shape=(max_length,))\n",
        "x = Embedding(vocab_size, embedding_dim, input_length=max_length)(input)\n",
        "x = GRU(64, return_sequences = True)(x)\n",
        "x = GlobalMaxPooling1D()(x)\n",
        "x = Dense(32, activation='relu')(x) \n",
        "output = Dense(1, activation='sigmoid')(x)\n",
        "gru_model = Model(input, output)\n",
        "\n",
        "gru_model.compile(loss = 'binary_crossentropy', optimizer = 'adam', metrics = ['accuracy'])"
      ],
      "execution_count": 50,
      "outputs": []
    },
    {
      "cell_type": "code",
      "metadata": {
        "colab": {
          "base_uri": "https://localhost:8080/"
        },
        "id": "a8391hi7GLu8",
        "outputId": "5c5f4208-7194-4c54-8f9d-acf026734cac"
      },
      "source": [
        "gru_history = gru_model.fit(train_padded, train_labels, epochs=num_epochs, validation_data=(test_padded, test_labels), verbose=2)"
      ],
      "execution_count": 51,
      "outputs": [
        {
          "output_type": "stream",
          "name": "stdout",
          "text": [
            "Epoch 1/5\n",
            "157/157 - 7s - loss: 0.3030 - accuracy: 0.8976 - val_loss: 0.0595 - val_accuracy: 0.9843\n",
            "Epoch 2/5\n",
            "157/157 - 4s - loss: 0.0438 - accuracy: 0.9892 - val_loss: 0.0309 - val_accuracy: 0.9913\n",
            "Epoch 3/5\n",
            "157/157 - 4s - loss: 0.0211 - accuracy: 0.9944 - val_loss: 0.0351 - val_accuracy: 0.9913\n",
            "Epoch 4/5\n",
            "157/157 - 4s - loss: 0.0055 - accuracy: 0.9988 - val_loss: 0.0422 - val_accuracy: 0.9913\n",
            "Epoch 5/5\n",
            "157/157 - 4s - loss: 0.0021 - accuracy: 0.9992 - val_loss: 0.0477 - val_accuracy: 0.9913\n"
          ]
        }
      ]
    },
    {
      "cell_type": "code",
      "metadata": {
        "colab": {
          "base_uri": "https://localhost:8080/",
          "height": 541
        },
        "id": "2Fk8eHB6HE0z",
        "outputId": "efe4dba0-130c-4d42-974d-47096af86b5b"
      },
      "source": [
        "plot_matrics(gru_history, 'accuracy')\n",
        "plot_matrics(gru_history, 'loss')"
      ],
      "execution_count": 52,
      "outputs": [
        {
          "output_type": "display_data",
          "data": {
            "image/png": "[encoded data removed]",
            "text/plain": [
              "<Figure size 432x288 with 1 Axes>"
            ]
          },
          "metadata": {
            "needs_background": "light"
          }
        },
        {
          "output_type": "display_data",
          "data": {
            "image/png": "[encoded data removed]",
            "text/plain": [
              "<Figure size 432x288 with 1 Axes>"
            ]
          },
          "metadata": {
            "needs_background": "light"
          }
        }
      ]
    },
    {
      "cell_type": "markdown",
      "metadata": {
        "id": "JPO11B8oG6xw"
      },
      "source": [
        "# Accuracy with GRU - training accuracy: 0.9992, validation accuracy: 0.9813"
      ]
    },
    {
      "cell_type": "code",
      "metadata": {
        "id": "KLcbGiuqGflM"
      },
      "source": [
        ""
      ],
      "execution_count": null,
      "outputs": []
    },
    {
      "cell_type": "markdown",
      "metadata": {
        "id": "Uk6EVcj3HJ6s"
      },
      "source": [
        "# CNN"
      ]
    },
    {
      "cell_type": "code",
      "metadata": {
        "id": "ql8AcLw3HMSM"
      },
      "source": [
        "# defining the model woth keras functional API\n",
        "input = Input(shape=(max_length,))\n",
        "x = Embedding(vocab_size, embedding_dim, input_length=max_length)(input)\n",
        "x = Conv1D(128, 7, activation='relu')(x)\n",
        "x = MaxPooling1D(3)(x)\n",
        "x = Conv1D(128, 7, activation='relu')(x)\n",
        "x = GlobalMaxPooling1D()(x)\n",
        "x = Dense(128, activation='relu')(x)\n",
        "output = Dense(1, activation='sigmoid')(x)\n",
        "cnn_model = Model(input, output)\n",
        "\n",
        "\n",
        "cnn_model.compile(loss = 'binary_crossentropy', optimizer = 'adam', metrics = ['accuracy'])"
      ],
      "execution_count": 61,
      "outputs": []
    },
    {
      "cell_type": "code",
      "metadata": {
        "colab": {
          "base_uri": "https://localhost:8080/"
        },
        "id": "94TqvKH-IPK2",
        "outputId": "9777f139-81dc-4806-c67c-477ef156e67f"
      },
      "source": [
        "cnn_history = cnn_model.fit(train_padded, train_labels, epochs=num_epochs, validation_data=(test_padded, test_labels), verbose=2)"
      ],
      "execution_count": 62,
      "outputs": [
        {
          "output_type": "stream",
          "name": "stdout",
          "text": [
            "Epoch 1/5\n",
            "157/157 - 3s - loss: 0.1583 - accuracy: 0.9468 - val_loss: 0.0527 - val_accuracy: 0.9808\n",
            "Epoch 2/5\n",
            "157/157 - 2s - loss: 0.0287 - accuracy: 0.9928 - val_loss: 0.0511 - val_accuracy: 0.9878\n",
            "Epoch 3/5\n",
            "157/157 - 2s - loss: 0.0104 - accuracy: 0.9982 - val_loss: 0.0535 - val_accuracy: 0.9895\n",
            "Epoch 4/5\n",
            "157/157 - 2s - loss: 0.0056 - accuracy: 0.9990 - val_loss: 0.0612 - val_accuracy: 0.9878\n",
            "Epoch 5/5\n",
            "157/157 - 2s - loss: 0.0033 - accuracy: 0.9996 - val_loss: 0.0711 - val_accuracy: 0.9895\n"
          ]
        }
      ]
    },
    {
      "cell_type": "code",
      "metadata": {
        "colab": {
          "base_uri": "https://localhost:8080/",
          "height": 541
        },
        "id": "iuyje20jI4y2",
        "outputId": "4e97db0f-1114-4be4-8045-260f217919cd"
      },
      "source": [
        "plot_matrics(cnn_history, 'accuracy')\n",
        "plot_matrics(cnn_history, 'loss')"
      ],
      "execution_count": 63,
      "outputs": [
        {
          "output_type": "display_data",
          "data": {
            "image/png": "[encoded data removed]",
            "text/plain": [
              "<Figure size 432x288 with 1 Axes>"
            ]
          },
          "metadata": {
            "needs_background": "light"
          }
        },
        {
          "output_type": "display_data",
          "data": {
            "image/png": "[encoded data removed]",
            "text/plain": [
              "<Figure size 432x288 with 1 Axes>"
            ]
          },
          "metadata": {
            "needs_background": "light"
          }
        }
      ]
    },
    {
      "cell_type": "markdown",
      "metadata": {
        "id": "aT06rKWKJDls"
      },
      "source": [
        "### CNN is superfast while trainig the network, compared to GRU and LSTM \n",
        "## training_accuracy: 0.9996 , validation accuracy: 0.9895"
      ]
    },
    {
      "cell_type": "code",
      "metadata": {
        "id": "swbQiZV-Jkwl"
      },
      "source": [
        ""
      ],
      "execution_count": null,
      "outputs": []
    },
    {
      "cell_type": "code",
      "metadata": {
        "id": "ONT49F6NJk9Q"
      },
      "source": [
        ""
      ],
      "execution_count": null,
      "outputs": []
    },
    {
      "cell_type": "code",
      "metadata": {
        "id": "TKURlyBNJk--"
      },
      "source": [
        ""
      ],
      "execution_count": null,
      "outputs": []
    },
    {
      "cell_type": "code",
      "metadata": {
        "id": "S5MgssWUJlCd"
      },
      "source": [
        ""
      ],
      "execution_count": null,
      "outputs": []
    },
    {
      "cell_type": "markdown",
      "metadata": {
        "id": "L77rc7TSJlXV"
      },
      "source": [
        "# Training LSTM with sequential API"
      ]
    },
    {
      "cell_type": "code",
      "metadata": {
        "colab": {
          "base_uri": "https://localhost:8080/"
        },
        "id": "Pb8Tc1L8Jpnu",
        "outputId": "01606a3e-af2d-48bb-a66e-15409d7cabca"
      },
      "source": [
        "import tensorflow as tf\n",
        "lstm_seq_model = tf.keras.Sequential([\n",
        "  Embedding(vocab_size, embedding_dim, input_length=max_length), \n",
        "  LSTM(64, return_sequences = True),\n",
        "  GlobalMaxPooling1D(),\n",
        "  Dense(32, activation='relu'),\n",
        "  Dense(1, activation='sigmoid')\n",
        "])\n",
        "\n",
        "\n",
        "lstm_seq_model.compile(loss = 'binary_crossentropy', optimizer = 'adam', metrics = ['accuracy'])\n",
        "lstm_seq_history = cnn_model.fit(train_padded, train_labels, epochs=num_epochs, validation_data=(test_padded, test_labels), verbose=2)\n",
        "\n"
      ],
      "execution_count": 67,
      "outputs": [
        {
          "output_type": "stream",
          "name": "stdout",
          "text": [
            "Epoch 1/5\n",
            "157/157 - 2s - loss: 0.0027 - accuracy: 0.9996 - val_loss: 0.0924 - val_accuracy: 0.9878\n",
            "Epoch 2/5\n",
            "157/157 - 2s - loss: 0.0024 - accuracy: 0.9996 - val_loss: 0.0690 - val_accuracy: 0.9895\n",
            "Epoch 3/5\n",
            "157/157 - 2s - loss: 0.0020 - accuracy: 0.9994 - val_loss: 0.0905 - val_accuracy: 0.9895\n",
            "Epoch 4/5\n",
            "157/157 - 2s - loss: 0.0057 - accuracy: 0.9982 - val_loss: 0.0817 - val_accuracy: 0.9860\n",
            "Epoch 5/5\n",
            "157/157 - 2s - loss: 0.0026 - accuracy: 0.9990 - val_loss: 0.1350 - val_accuracy: 0.9825\n"
          ]
        }
      ]
    },
    {
      "cell_type": "code",
      "metadata": {
        "id": "qJmLnow5K8aX"
      },
      "source": [
        ""
      ],
      "execution_count": null,
      "outputs": []
    }
  ]
}