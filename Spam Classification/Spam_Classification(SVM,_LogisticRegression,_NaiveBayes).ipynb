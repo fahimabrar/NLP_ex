{
  "nbformat": 4,
  "nbformat_minor": 0,
  "metadata": {
    "colab": {
      "name": "Spam Classificatoin (SVM, LogisticRegression, NaiveBayes).ipynb",
      "provenance": [],
      "mount_file_id": "1leXVFYSK4fGrPnBQ0QzTexABRuHjZWSK",
      "authorship_tag": "ABX9TyMYbiUhvsVVNNJ5AiSamltP",
      "include_colab_link": true
    },
    "kernelspec": {
      "display_name": "Python 3",
      "name": "python3"
    },
    "language_info": {
      "name": "python"
    }
  },
  "cells": [
    {
      "cell_type": "markdown",
      "metadata": {
        "id": "view-in-github",
        "colab_type": "text"
      },
      "source": [
        "<a href=\"https://colab.research.google.com/github/fahimabrar/Natural-Language-Processing/blob/main/Spam%20Classification/Spam_Classificatoin_(SVM%2C_LogisticRegression%2C_NaiveBayes).ipynb\" target=\"_parent\"><img src=\"https://colab.research.google.com/assets/colab-badge.svg\" alt=\"Open In Colab\"/></a>"
      ]
    },
    {
      "cell_type": "markdown",
      "metadata": {
        "id": "nXYC5_4Pp9Ve"
      },
      "source": [
        "# Classification of Spam and Non Spam message using Machine Learning\n",
        "\n",
        "## This NoteBook Covers\n",
        "\n",
        "- Reading data from Tab delimited binray files\n",
        "- Data preprocessing using NLTK library (tokenization, lemmatization, Using Regular expression)\n",
        "- Converting Tokens into TFIDF Vectors\n",
        "- Classification Using Support Vector Machine, Logistic Regression and Naive Bayes\n",
        "- Plotting Confusion Matrix \n",
        "- Cross Validataion \n",
        "- GridSearchCV for HyperParameter Tuning of SVM\n",
        "\n",
        "### Higest Accuracy Obtained, 98.52 %\n",
        "\n",
        "<a href = \"https://www.linkedin.com/in/abrar-fahim/\">Abrar</a>"
      ]
    },
    {
      "cell_type": "code",
      "metadata": {
        "id": "CEVsD0-lHIPy"
      },
      "source": [
        "import pandas as pd"
      ],
      "execution_count": 1,
      "outputs": []
    },
    {
      "cell_type": "code",
      "metadata": {
        "colab": {
          "base_uri": "https://localhost:8080/",
          "height": 202
        },
        "id": "LGQKu7KuHwvB",
        "outputId": "a9decab2-6cba-44ac-ddbb-6b4d2661d15c"
      },
      "source": [
        "df = pd.DataFrame(pd.read_csv(\"https://raw.githubusercontent.com/fahimabrar/Natural-Language-Processing/main/Spam%20Classification/spam\", sep='\\t', names= [\"label\", \"message\"]))\n",
        "df.head()"
      ],
      "execution_count": 2,
      "outputs": [
        {
          "output_type": "execute_result",
          "data": {
            "text/html": [
              "<div>\n",
              "<style scoped>\n",
              "    .dataframe tbody tr th:only-of-type {\n",
              "        vertical-align: middle;\n",
              "    }\n",
              "\n",
              "    .dataframe tbody tr th {\n",
              "        vertical-align: top;\n",
              "    }\n",
              "\n",
              "    .dataframe thead th {\n",
              "        text-align: right;\n",
              "    }\n",
              "</style>\n",
              "<table border=\"1\" class=\"dataframe\">\n",
              "  <thead>\n",
              "    <tr style=\"text-align: right;\">\n",
              "      <th></th>\n",
              "      <th>label</th>\n",
              "      <th>message</th>\n",
              "    </tr>\n",
              "  </thead>\n",
              "  <tbody>\n",
              "    <tr>\n",
              "      <th>0</th>\n",
              "      <td>ham</td>\n",
              "      <td>Go until jurong point, crazy.. Available only ...</td>\n",
              "    </tr>\n",
              "    <tr>\n",
              "      <th>1</th>\n",
              "      <td>ham</td>\n",
              "      <td>Ok lar... Joking wif u oni...</td>\n",
              "    </tr>\n",
              "    <tr>\n",
              "      <th>2</th>\n",
              "      <td>spam</td>\n",
              "      <td>Free entry in 2 a wkly comp to win FA Cup fina...</td>\n",
              "    </tr>\n",
              "    <tr>\n",
              "      <th>3</th>\n",
              "      <td>ham</td>\n",
              "      <td>U dun say so early hor... U c already then say...</td>\n",
              "    </tr>\n",
              "    <tr>\n",
              "      <th>4</th>\n",
              "      <td>ham</td>\n",
              "      <td>Nah I don't think he goes to usf, he lives aro...</td>\n",
              "    </tr>\n",
              "  </tbody>\n",
              "</table>\n",
              "</div>"
            ],
            "text/plain": [
              "  label                                            message\n",
              "0   ham  Go until jurong point, crazy.. Available only ...\n",
              "1   ham                      Ok lar... Joking wif u oni...\n",
              "2  spam  Free entry in 2 a wkly comp to win FA Cup fina...\n",
              "3   ham  U dun say so early hor... U c already then say...\n",
              "4   ham  Nah I don't think he goes to usf, he lives aro..."
            ]
          },
          "metadata": {},
          "execution_count": 2
        }
      ]
    },
    {
      "cell_type": "code",
      "metadata": {
        "colab": {
          "base_uri": "https://localhost:8080/"
        },
        "id": "kqeDKlCZIFg_",
        "outputId": "1ecf9734-7de3-4cd5-c60e-9b8e3b72d928"
      },
      "source": [
        "df.shape"
      ],
      "execution_count": 3,
      "outputs": [
        {
          "output_type": "execute_result",
          "data": {
            "text/plain": [
              "(5572, 2)"
            ]
          },
          "metadata": {},
          "execution_count": 3
        }
      ]
    },
    {
      "cell_type": "code",
      "metadata": {
        "id": "ZpzbNF0HIqJZ",
        "colab": {
          "base_uri": "https://localhost:8080/"
        },
        "outputId": "13e2ad8a-7401-4c4f-c95f-ed0a6ee20265"
      },
      "source": [
        "import numpy as np\n",
        "import nltk\n",
        "nltk.download(\"punkt\")\n",
        "nltk.download('wordnet')\n",
        "from nltk.stem import WordNetLemmatizer\n",
        "import string\n",
        "import re\n",
        "wordnet_lemmatizer = WordNetLemmatizer()"
      ],
      "execution_count": 4,
      "outputs": [
        {
          "output_type": "stream",
          "name": "stdout",
          "text": [
            "[nltk_data] Downloading package punkt to /root/nltk_data...\n",
            "[nltk_data]   Package punkt is already up-to-date!\n",
            "[nltk_data] Downloading package wordnet to /root/nltk_data...\n",
            "[nltk_data]   Package wordnet is already up-to-date!\n"
          ]
        }
      ]
    },
    {
      "cell_type": "code",
      "metadata": {
        "id": "ZVrCKhzd5G2D"
      },
      "source": [
        "np.random.seed(500)\n",
        "# random seed is generated to obtain same resutl in each time"
      ],
      "execution_count": 5,
      "outputs": []
    },
    {
      "cell_type": "markdown",
      "metadata": {
        "id": "lPTXuRBVo-Rc"
      },
      "source": [
        "## Preprocessing Plan:\n",
        "\n",
        "\n",
        "1.   Remove the punctuations\n",
        "2.   Remove speical characters and numbers\n",
        "3.   Tokenize the sentences into list of words\n",
        "4.   Convert each word to lower case\n",
        "5.   Lemmatize the words using nltk-wordnet Lemmatizer\n",
        "6.   Convert the list into stirng (as TFIDF vectorizer needs string as input)\n",
        "\n"
      ]
    },
    {
      "cell_type": "code",
      "metadata": {
        "id": "_qDtjmbG5G5F"
      },
      "source": [
        "def preprocess(sentence):\n",
        "  sentence.translate(str.maketrans('', '', string.punctuation))\n",
        "  sentence =  re.sub('[^A-Za-z]+', ' ', sentence)\n",
        "  tokens = nltk.word_tokenize(sentence)\n",
        "  tokens = [word.lower() for word in tokens]\n",
        "  tokens = [wordnet_lemmatizer.lemmatize(word, pos=\"v\") for word in tokens]\n",
        "  tokens = str(tokens)\n",
        "  return tokens"
      ],
      "execution_count": 6,
      "outputs": []
    },
    {
      "cell_type": "code",
      "metadata": {
        "id": "-fQEU_I3HV0W"
      },
      "source": [
        "df[\"tokens\"] = df.message.apply(preprocess)\n"
      ],
      "execution_count": 7,
      "outputs": []
    },
    {
      "cell_type": "code",
      "metadata": {
        "colab": {
          "base_uri": "https://localhost:8080/",
          "height": 202
        },
        "id": "SX8xm6YqLvHP",
        "outputId": "512bef92-b4f3-4654-8d0b-1027e543b968"
      },
      "source": [
        "df.head()"
      ],
      "execution_count": 8,
      "outputs": [
        {
          "output_type": "execute_result",
          "data": {
            "text/html": [
              "<div>\n",
              "<style scoped>\n",
              "    .dataframe tbody tr th:only-of-type {\n",
              "        vertical-align: middle;\n",
              "    }\n",
              "\n",
              "    .dataframe tbody tr th {\n",
              "        vertical-align: top;\n",
              "    }\n",
              "\n",
              "    .dataframe thead th {\n",
              "        text-align: right;\n",
              "    }\n",
              "</style>\n",
              "<table border=\"1\" class=\"dataframe\">\n",
              "  <thead>\n",
              "    <tr style=\"text-align: right;\">\n",
              "      <th></th>\n",
              "      <th>label</th>\n",
              "      <th>message</th>\n",
              "      <th>tokens</th>\n",
              "    </tr>\n",
              "  </thead>\n",
              "  <tbody>\n",
              "    <tr>\n",
              "      <th>0</th>\n",
              "      <td>ham</td>\n",
              "      <td>Go until jurong point, crazy.. Available only ...</td>\n",
              "      <td>['go', 'until', 'jurong', 'point', 'crazy', 'a...</td>\n",
              "    </tr>\n",
              "    <tr>\n",
              "      <th>1</th>\n",
              "      <td>ham</td>\n",
              "      <td>Ok lar... Joking wif u oni...</td>\n",
              "      <td>['ok', 'lar', 'joke', 'wif', 'u', 'oni']</td>\n",
              "    </tr>\n",
              "    <tr>\n",
              "      <th>2</th>\n",
              "      <td>spam</td>\n",
              "      <td>Free entry in 2 a wkly comp to win FA Cup fina...</td>\n",
              "      <td>['free', 'entry', 'in', 'a', 'wkly', 'comp', '...</td>\n",
              "    </tr>\n",
              "    <tr>\n",
              "      <th>3</th>\n",
              "      <td>ham</td>\n",
              "      <td>U dun say so early hor... U c already then say...</td>\n",
              "      <td>['u', 'dun', 'say', 'so', 'early', 'hor', 'u',...</td>\n",
              "    </tr>\n",
              "    <tr>\n",
              "      <th>4</th>\n",
              "      <td>ham</td>\n",
              "      <td>Nah I don't think he goes to usf, he lives aro...</td>\n",
              "      <td>['nah', 'i', 'don', 't', 'think', 'he', 'go', ...</td>\n",
              "    </tr>\n",
              "  </tbody>\n",
              "</table>\n",
              "</div>"
            ],
            "text/plain": [
              "  label  ...                                             tokens\n",
              "0   ham  ...  ['go', 'until', 'jurong', 'point', 'crazy', 'a...\n",
              "1   ham  ...           ['ok', 'lar', 'joke', 'wif', 'u', 'oni']\n",
              "2  spam  ...  ['free', 'entry', 'in', 'a', 'wkly', 'comp', '...\n",
              "3   ham  ...  ['u', 'dun', 'say', 'so', 'early', 'hor', 'u',...\n",
              "4   ham  ...  ['nah', 'i', 'don', 't', 'think', 'he', 'go', ...\n",
              "\n",
              "[5 rows x 3 columns]"
            ]
          },
          "metadata": {},
          "execution_count": 8
        }
      ]
    },
    {
      "cell_type": "code",
      "metadata": {
        "id": "iMEd9tT-V5tQ"
      },
      "source": [
        "from sklearn.feature_extraction.text import TfidfVectorizer"
      ],
      "execution_count": 9,
      "outputs": []
    },
    {
      "cell_type": "code",
      "metadata": {
        "id": "navZzc8JIqyw"
      },
      "source": [
        "X = list(df['tokens'])\n",
        "y = list(df['label'])\n",
        "y = list(pd.get_dummies(y, drop_first = True)['spam'])\n",
        "\n",
        "from sklearn.model_selection import train_test_split\n",
        "X_train, X_test, y_train, y_test = train_test_split(X, y, test_size = 0.2, random_state = 0)"
      ],
      "execution_count": 10,
      "outputs": []
    },
    {
      "cell_type": "code",
      "metadata": {
        "id": "To8Bqr_DI1tn"
      },
      "source": [
        "Tfidf_vect = TfidfVectorizer(max_features=5000)\n",
        "Tfidf_vect.fit(df['tokens'])\n",
        "X_train = Tfidf_vect.transform(X_train)\n",
        "X_test = Tfidf_vect.transform(X_test)\n"
      ],
      "execution_count": 11,
      "outputs": []
    },
    {
      "cell_type": "code",
      "metadata": {
        "colab": {
          "base_uri": "https://localhost:8080/"
        },
        "id": "rdC0npW3X5Ll",
        "outputId": "b837d0c1-2107-4e3b-bad2-8902721bf0ad"
      },
      "source": [
        "print(Tfidf_vect.vocabulary_)"
      ],
      "execution_count": 12,
      "outputs": [
        {
          "output_type": "stream",
          "name": "stdout",
          "text": [
            "{'go': 1666, 'until': 4442, 'point': 2695, 'crazy': 697, 'available': 212, 'only': 2550, 'in': 1891, 'bugis': 397, 'great': 1697, 'world': 4833, 'la': 2057, 'buffet': 396, 'cine': 520, 'there': 4097, 'get': 1645, 'wat': 4637, 'ok': 2535, 'lar': 2070, 'joke': 1998, 'wif': 4751, 'oni': 2547, 'free': 1516, 'entry': 1246, 'wkly': 4799, 'comp': 573, 'to': 4198, 'win': 4763, 'fa': 1317, 'cup': 750, 'final': 1397, 'tkts': 4185, 'st': 3718, 'may': 2261, 'text': 4052, 'receive': 2984, 'question': 2897, 'std': 3746, 'txt': 4351, 'rate': 2941, 'apply': 155, 'over': 2584, 'dun': 1116, 'say': 3252, 'so': 3577, 'early': 1137, 'hor': 1816, 'already': 103, 'then': 4091, 'nah': 2427, 'don': 1041, 'think': 4113, 'he': 1754, 'usf': 4480, 'live': 2135, 'around': 178, 'here': 1775, 'though': 4132, 'freemsg': 1522, 'hey': 1779, 'darling': 804, 'it': 1953, 'be': 257, 'week': 4677, 'now': 2502, 'and': 120, 'no': 2480, 'word': 4827, 'back': 228, 'like': 2118, 'some': 3590, 'fun': 1576, 'you': 4957, 'up': 4444, 'for': 1478, 'still': 3767, 'tb': 3995, 'xxx': 4902, 'send': 3324, 'rcv': 2952, 'even': 1273, 'my': 2421, 'brother': 385, 'not': 2495, 'speak': 3653, 'with': 4785, 'me': 2267, 'they': 4105, 'treat': 4292, 'aid': 74, 'as': 186, 'per': 2634, 'your': 4963, 'request': 3064, 'melle': 2282, 'oru': 2572, 'minnaminunginte': 2314, 'nurungu': 2509, 'vettam': 4533, 'have': 1748, 'set': 3345, 'callertune': 428, 'all': 97, 'callers': 427, 'press': 2760, 'copy': 649, 'friends': 1538, 'winner': 4772, 'value': 4506, 'network': 2461, 'customer': 763, 'select': 3312, 'receivea': 2985, 'prize': 2789, 'reward': 3105, 'claim': 524, 'call': 422, 'code': 549, 'kl': 2046, 'valid': 4504, 'hours': 1827, 'mobile': 2341, 'months': 2366, 'or': 2563, 'more': 2370, 'entitle': 1243, 'update': 4448, 'the': 4079, 'latest': 2076, 'colour': 558, 'mobiles': 2342, 'camera': 434, 'co': 544, 'on': 2543, 'gon': 1674, 'na': 2424, 'home': 1807, 'soon': 3616, 'want': 4624, 'talk': 3967, 'about': 8, 'this': 4119, 'stuff': 3821, 'anymore': 138, 'tonight': 4232, 've': 4519, 'cry': 724, 'enough': 1236, 'today': 4205, 'six': 3497, 'chance': 484, 'cash': 460, 'from': 1555, 'pound': 2723, 'csh': 728, 'cost': 661, 'day': 818, 'days': 819, 'tsandcs': 4319, 'reply': 3059, 'hl': 1792, 'info': 1910, 'urgent': 4461, 'membership': 2286, 'our': 2579, 'jackpot': 1966, 'www': 4883, 'dbuk': 823, 'net': 2459, 'lccltd': 2083, 'pobox': 2691, 'ldnw': 2086, 'rw': 3189, 'search': 3290, 'right': 3115, 'thank': 4070, 'promise': 2817, 'wont': 4818, 'take': 3962, 'help': 1770, 'will': 4761, 'fulfil': 1572, 'wonderful': 4817, 'bless': 321, 'at': 196, 'time': 4168, 'date': 812, 'sunday': 3872, 'xxxmobilemovieclub': 4903, 'use': 4476, 'credit': 704, 'click': 533, 'wap': 4625, 'link': 2125, 'next': 2468, 'message': 2295, 'http': 1841, 'com': 559, 'qjkgighjjgcbl': 2887, 'oh': 2531, 'watch': 4638, 'eh': 1178, 'remember': 3039, 'how': 1830, 'spell': 3666, 'his': 1788, 'name': 2431, 'yes': 4939, 'do': 1010, 'naughty': 2442, 'make': 2226, 'wet': 4709, 'fine': 1403, 'if': 1874, 'that': 4076, 'way': 4652, 'feel': 1358, 'its': 1957, 'england': 1229, 'dont': 1044, 'miss': 2324, 'goals': 1668, 'team': 4006, 'news': 2467, 'ur': 4457, 'national': 2439, 'eg': 1174, 'try': 4316, 'wales': 4610, 'scotland': 3273, 'wq': 4852, 'seriously': 3340, 'ha': 1718, 'pay': 2620, 'first': 1415, 'when': 4720, 'da': 778, 'stock': 3770, 'comin': 564, 'aft': 59, 'finish': 1406, 'lunch': 2197, 'str': 3789, 'down': 1065, 'lor': 2161, 'ard': 167, 'smth': 3560, 'ffffffffff': 1375, 'alright': 104, 'can': 436, 'meet': 2276, 'sooner': 3617, 'just': 2014, 'force': 1479, 'myself': 2422, 'eat': 1148, 'slice': 3523, 'really': 2969, 'hungry': 1848, 'tho': 4128, 'suck': 3845, 'mark': 2241, 'worry': 4836, 'know': 2049, 'sick': 3452, 'turn': 4337, 'pizza': 2672, 'lol': 2152, 'always': 108, 'convince': 642, 'catch': 466, 'bus': 403, 'fry': 1563, 'an': 119, 'egg': 1176, 'tea': 4002, 'mom': 2355, 'leave': 2091, 'dinner': 962, 'love': 2173, 'amp': 115, 'we': 4656, 're': 2956, 'pack': 2591, 'car': 447, 'll': 2138, 'let': 2103, 'room': 3148, 'work': 4828, 'vaguely': 4500, 'what': 4713, 'wait': 4607, 'clear': 530, 'sure': 3895, 'sarcastic': 3235, 'why': 4744, 'doesn': 1022, 'us': 4472, 'yeah': 4927, 'fall': 1327, 'out': 2580, 'she': 3383, 'spoil': 3687, 'child': 506, 'till': 4166, 'but': 406, 'too': 4237, 'cheer': 499, 'tell': 4021, 'anything': 141, 'fear': 1350, 'of': 2523, 'quick': 2898, 'cuppa': 752, 'subscription': 3835, 'ringtone': 3121, 'uk': 4376, 'charge': 488, 'month': 2364, 'please': 2682, 'confirm': 610, 'by': 412, 'yup': 4985, 'look': 2157, 'msg': 2396, 'again': 64, 'xuhui': 4898, 'learn': 2089, 'nd': 2444, 'her': 1774, 'lesson': 2101, 'oops': 2554, 'roommate': 3150, 'see': 3304, 'letter': 2104, 'decide': 838, 'hello': 1768, 'saturday': 3246, 'texting': 4059, 'tomo': 4224, 'invite': 1936, 'pls': 2686, 'ahead': 72, 'watts': 4648, 'weekend': 4679, 'abiola': 5, 'forget': 1485, 'need': 2453, 'crave': 695, 'most': 2380, 'sweet': 3923, 'steed': 3752, 'mmmmmm': 2335, 'yummy': 4980, 'rodger': 3138, 'burn': 402, 'sms': 3555, 'nokia': 2484, 'camcorder': 433, 'delivery': 871, 'tomorrow': 4226, 'who': 4736, 'hope': 1814, 'man': 2231, 'well': 4691, 'endow': 1220, 'lt': 2189, 'gt': 1706, 'inch': 1893, 'didn': 937, 'nigeria': 2473, 'fair': 1324, 'hopefully': 1815, 'tyler': 4361, 'could': 667, 'maybe': 2263, 'ask': 189, 'bite': 310, 'stubborn': 3813, 'hospital': 1820, 'keep': 2027, 'weak': 4657, 'sucker': 3846, 'hospitals': 1821, 'suckers': 3847, 'saw': 3251, 'class': 527, 'gram': 1692, 'usually': 4485, 'run': 3183, 'half': 1726, 'eighth': 1180, 'smarter': 3543, 'almost': 100, 'whole': 4738, 'second': 3294, 'fyi': 1592, 'ride': 3114, 'morning': 2374, 'crash': 694, 'place': 2673, 'wow': 4850, 'never': 2463, 'realize': 2968, 'embarassed': 1202, 'since': 3475, 'best': 287, 'seem': 3308, 'happy': 1739, 'sorry': 3625, 'give': 1661, 'offer': 2525, 'embarassing': 1203, 'ac': 13, 'sptv': 3704, 'new': 2464, 'devil': 917, 'detroit': 912, 'red': 3001, 'wing': 4771, 'play': 2678, 'ice': 1864, 'hockey': 1799, 'correct': 654, 'end': 1217, 'sherawat': 3389, 'yesterday': 4941, 'find': 1402, 'url': 4468, 'congrats': 614, 'year': 4928, 'special': 3654, 'cinema': 521, 'pass': 2613, 'yours': 4967, 'suprman': 3893, 'matrix': 2255, 'starwars': 3736, 'etc': 1266, 'bx': 411, 'ip': 1940, 'pm': 2689, 'later': 2075, 'where': 4724, 'reach': 2957, 'gauti': 1621, 'sehwag': 3311, 'odi': 2522, 'series': 3338, 'pick': 2658, 'burger': 401, 'yourself': 4968, 'move': 2386, 'pain': 2594, 'kill': 2039, 'good': 1676, 'girls': 1658, 'situation': 3494, 'seekers': 3307, 'part': 2609, 'check': 498, 'iq': 1943, 'roommates': 3151, 'forever': 1482, 'come': 561, 'double': 1059, 'hair': 1724, 'dresser': 1082, 'wun': 4881, 'cut': 767, 'short': 3420, 'nice': 2471, 'advise': 51, 'follow': 1462, 'recent': 2986, 'review': 3103, 'mob': 2340, 'award': 219, 'bonus': 341, 'song': 3611, 'dedicate': 845, 'which': 4730, 'valuable': 4505, 'frnds': 1547, 'rply': 3163, 'complimentary': 588, 'trip': 4299, 'eurodisinc': 1268, 'trav': 4287, 'aco': 24, 'dis': 974, 'morefrmmob': 2371, 'shracomorsglsuplt': 3436, 'ls': 2187, 'aj': 85, 'hear': 1758, 'divorce': 1000, 'plane': 2676, 'wah': 4600, 'lucky': 2194, 'save': 3250, 'money': 2361, 'hee': 1763, 'hi': 1781, 'babe': 225, 'im': 1880, 'wan': 4621, 'something': 3599, 'xx': 4899, 'perform': 2637, 'machan': 2211, 'once': 2544, 'thats': 4078, 'cool': 645, 'gentleman': 1640, 'dignity': 954, 'respect': 3079, 'people': 2633, 'very': 4532, 'much': 2410, 'shy': 3447, 'pa': 2590, 'after': 60, 'same': 3221, 'job': 1994, 'ta': 3948, 'earn': 1138, 'ah': 70, 'stop': 3777, 'urgnt': 4464, 'real': 2965, 'yo': 4952, 'ticket': 4156, 'one': 2545, 'jacket': 1965, 'start': 3734, 'bed': 265, 'coin': 551, 'nitros': 2479, 'ela': 1184, 'kano': 2019, 'il': 1877, 'download': 1066, 'wen': 4694, 'stand': 3728, 'close': 536, 'another': 130, 'night': 2474, 'spend': 3667, 'late': 2073, 'afternoon': 61, 'mean': 2269, 'haven': 1749, 'any': 136, 'moro': 2375, 'include': 1895, 'sheet': 3384, 'smile': 3549, 'pleasure': 2683, 'trouble': 4305, 'pour': 2724, 'rain': 2918, 'sum': 3865, 'hurt': 1852, 'becoz': 264, 'someone': 3593, 'service': 3343, 'representative': 3062, 'between': 290, 'guarantee': 1708, 'havent': 1750, 'plan': 2675, 'buy': 408, 'lido': 2110, 'show': 3432, 'collect': 554, 'simply': 3472, 'password': 2615, 'mix': 2329, 'verify': 4529, 'usher': 4481, 'britney': 380, 'fml': 1456, 'po': 2690, 'box': 358, 'mk': 2330, 'ppw': 2733, 'telugu': 4025, 'movie': 2387, 'abt': 10, 'load': 2141, 'loan': 2142, 'wk': 4795, 'hols': 1805, 'appointment': 156, 'four': 1499, 'shower': 3433, 'cause': 467, 'prob': 2793, 'coffee': 550, 'animation': 123, 'nothing': 2498, 'else': 1197, 'okay': 2536, 'price': 2773, 'long': 2155, 'legal': 2094, 'them': 4088, 'ave': 214, 'drive': 1086, 'test': 4048, 'yet': 4942, 'guess': 1711, 'boston': 351, 'men': 2287, 'change': 485, 'location': 2144, 'nyc': 2516, 'cuz': 773, 'signin': 3461, 'page': 2593, 'umma': 4383, 'life': 2112, 'vava': 4516, 'lot': 2164, 'dear': 829, 'wish': 4780, 'birthday': 307, 'truly': 4312, 'aight': 75, 'hit': 1790, 'would': 4846, 'address': 40, 'consider': 623, 'computer': 593, 'isn': 1950, 'server': 3342, 'old': 2540, 'better': 289, 'lie': 2111, 'busy': 405, 'noun': 2501, 'research': 3067, 'cos': 659, 'things': 4112, 'scar': 3259, 'mah': 2218, 'loud': 2168, 'gent': 1638, 'contact': 628, 'last': 2072, 'draw': 1077, 'hrs': 1839, 'ppm': 2731, 'wa': 4596, 'sentence': 3331, 'formal': 1490, 'anyway': 143, 'juz': 2015, 'tt': 4323, 'eatin': 1149, 'puttin': 2876, 'weight': 4683, 'haha': 1721, 'anythin': 140, 'happen': 1735, 'enter': 1238, 'cabin': 414, 'boss': 350, 'felt': 1365, 'askd': 190, 'apartment': 148, 'specially': 3658, 'holiday': 1803, 'flight': 1436, 'inc': 1892, 'operator': 2556, 'min': 2307, 'goodo': 1682, 'must': 2418, 'friday': 1534, 'potato': 2719, 'ratio': 2943, 'tortilla': 4252, 'hmm': 1795, 'uncle': 4392, 'inform': 1911, 'school': 3266, 'directly': 968, 'food': 1470, 'private': 2786, 'account': 21, 'statement': 3739, 'unredeemed': 4434, 'identifier': 1870, 'expire': 1306, 'caller': 426, 'landline': 2064, 'wr': 4853, 'todays': 4206, 'voda': 4578, 'number': 2508, 'match': 2251, 'quote': 2906, 'standard': 3729, 'rat': 2940, 'app': 151, 'sao': 3229, 'mu': 2408, 'predict': 2739, 'yetunde': 4944, 'hasn': 1744, 'bother': 353, 'involve': 1938, 'shouldn': 3429, 'apologise': 150, 'girl': 1656, 'del': 864, 'bak': 232, 'tmorrow': 4191, 'answer': 133, 'sunshine': 3879, 'quiz': 2904, 'top': 4245, 'sony': 3613, 'dvd': 1126, 'player': 2679, 'country': 673, 'algarve': 94, 'ansr': 132, 'sp': 3641, 'tyrone': 4364, 'lay': 2081, 'dog': 1024, 'locations': 2145, 'direct': 967, 'join': 1997, 'largest': 2071, 'bt': 390, 'txting': 4354, 'nt': 2504, 'ec': 1151, 'haf': 1720, 'msn': 2401, 'yijue': 4949, 'him': 1785, 'befor': 269, 'activities': 30, 'msgs': 2400, 'chat': 493, 'svc': 3909, 'hardcore': 1741, 'age': 67, 'yr': 4974, 'lazy': 2082, 'type': 4362, 'lect': 2092, 'pouch': 2722, 'sir': 3484, 'mail': 2221, 'swt': 3936, 'tire': 4173, 'little': 2134, 'lovable': 2172, 'persons': 2643, 'coz': 684, 'somtimes': 3608, 'those': 4129, 'occupy': 2520, 'biggest': 298, 'their': 4085, 'hearts': 1760, 'gud': 1709, 'ni': 2469, 'open': 2555, 'ya': 4912, 'dot': 1058, 'whats': 4715, 'staff': 3722, 'randy': 2935, 'sexy': 3355, 'female': 1366, 'local': 2143, 'luv': 2199, 'netcollex': 2460, 'ltd': 2190, 'ummma': 4385, 'begin': 272, 'qatar': 2881, 'pray': 2737, 'hard': 1740, 'delete': 866, 'sindu': 3477, 'birla': 304, 'soft': 3582, 'wine': 4770, 'flow': 1448, 'thk': 4120, 'plaza': 2681, 'typical': 4363, 'everywhere': 1281, 'dirt': 971, 'floor': 1445, 'windows': 4768, 'shirt': 3402, 'sometimes': 3601, 'mouth': 2385, 'dream': 1079, 'without': 4789, 'joy': 2004, 'tv': 4339, 'become': 263, 'house': 1828, 'interview': 1931, 'boy': 359, 'years': 4929, 'arrange': 179, 'safe': 3201, 'because': 262, 'envy': 1251, 'everyone': 1279, 'parent': 2606, 'hand': 1731, 'excite': 1295, 'each': 1132, 'bootydelious': 346, 'friend': 1537, 'frnd': 1546, 'order': 2567, 'should': 3427, 'content': 630, 'goto': 1686, 'internet': 1930, 'menu': 2290, 'culture': 746, 'module': 2350, 'avoid': 216, 'wit': 4784, 'beloved': 282, 'escape': 1259, 'fancy': 1330, 'completely': 585, 'form': 1489, 'clark': 526, 'also': 106, 'utter': 4488, 'waste': 4636, 'bank': 236, 'hmmm': 1796, 'hop': 1813, 'muz': 2420, 'discuss': 986, 'liao': 2106, 'bloody': 328, 'hell': 1766, 'cant': 443, 'believe': 276, 'surname': 3900, 'mr': 2391, 'ill': 1878, 'spanish': 3647, 'bath': 244, 'carlos': 454, 'mall': 2230, 'stay': 3743, 'til': 4165, 'smoke': 3552, 'worth': 4839, 'doesnt': 1023, 'log': 2148, 'maneesha': 2236, 'satisfy': 3243, 'experience': 1305, 'toll': 4219, 'lift': 2115, 'especially': 1261, 'approach': 158, 'study': 3819, 'anyways': 144, 'gr': 1689, 'trust': 4314, 'guy': 1714, 'bye': 413, 'towards': 4264, 'mummy': 2412, 'boytoy': 363, 'awesome': 221, 'minute': 2317, 'freephone': 1523, 'xmas': 4894, 'radio': 2911, 'jus': 2013, 'bathe': 245, 'sis': 3486, 'unique': 4419, 'th': 4066, 'august': 206, 'touch': 4260, 'deal': 827, 'personal': 2641, 'finally': 1399, 'complete': 584, 'course': 678, 'itself': 1958, 'however': 1832, 'suggest': 3858, 'able': 7, 'every': 1276, 'stool': 3776, 'settle': 3347, 'wishin': 4781, 'mrng': 2392, 'hav': 1747, 'story': 3788, 'hamster': 1730, 'dead': 826, 'tmr': 4192, 'orchard': 2566, 'mrt': 2393, 'kate': 2022, 'enc': 1216, 'buck': 392, 'darlin': 803, 'ive': 1961, 'college': 556, 'refill': 3010, 'successfully': 3843, 'inr': 1917, 'decimal': 839, 'keralacircle': 2031, 'prepay': 2748, 'balance': 233, 'rs': 3165, 'transaction': 4279, 'id': 1866, 'kr': 2053, 'goodmorning': 1678, 'sleep': 3518, 'ga': 1593, 'dat': 810, 'ericsson': 1256, 'oso': 2574, 'oredi': 2568, 'dats': 814, 'straight': 3790, 'dogg': 1026, 'connection': 618, 'before': 270, 'refund': 3015, 'bill': 299, 'both': 352, 'shoot': 3415, 'big': 296, 'ready': 2964, 'bruv': 387, 'break': 371, 'semester': 3320, 'noe': 2482, 'leh': 2096, 'sound': 3632, 'head': 1755, 'prediction': 2740, 'past': 2617, 'few': 1371, 'nights': 2475, 'easy': 1147, 'sen': 3323, 'exam': 1291, 'march': 2239, 'atm': 199, 'register': 3020, 'os': 2573, 'ubandu': 4366, 'instal': 1921, 'disk': 988, 'important': 1887, 'file': 1391, 'system': 3946, 'repair': 3054, 'shop': 3416, 'romantic': 3145, 'nite': 2478, 'scenery': 3263, 'tc': 3997, 'biz': 311, 'optout': 2562, 'gbp': 1628, 'mtmsg': 2406, 'appreciate': 157, 'partner': 2610, 'career': 451, 'off': 2524, 'flyng': 1454, 'horo': 1818, 'star': 3731, 'sign': 3457, 'company': 575, 'elama': 1187, 'strict': 3801, 'than': 4067, 'teacher': 4004, 'bcoz': 254, 'teach': 4003, 'conduct': 605, 'lessons': 2102, 'gandhipuram': 1605, 'walk': 4612, 'cross': 715, 'road': 3131, 'side': 3454, 'street': 3795, 'rubber': 3173, 'battery': 246, 'die': 940, 'flirt': 1441, 'sam': 3217, 'recd': 2982, 'thirtyeight': 4117, 'pence': 2630, 'print': 2780, 'upstairs': 4454, 'closer': 537, 'wil': 4757, 'theory': 4094, 'argument': 173, 'lose': 2162, 'person': 2640, 'argue': 172, 'kick': 2035, 'secret': 3296, 'admirer': 43, 'reveal': 3101, 'tomarrow': 4221, 'laptop': 2069, 'case': 459, 'tel': 4016, 'avent': 215, 'sportsx': 3694, 'shin': 3397, 'although': 107, 'into': 1932, 'face': 1319, 'fr': 1505, 'thanx': 4074, 'everything': 1280, 'commercial': 568, 'website': 4669, 'slippers': 3527, 'kallis': 2018, 'bat': 242, 'innings': 1915, 'didnt': 938, 'goodnight': 1679, 'fix': 1421, 'wake': 4609, 'dearly': 831, 'congratulations': 616, 'cd': 470, 'vouchers': 4590, 'gift': 1653, 'music': 2417, 'tncs': 4197, 'ldew': 2084, 'ppmx': 2732, 'ranjith': 2937, 'cal': 417, 'drpd': 1092, 'deeraj': 851, 'deepak': 848, 'hold': 1801, 'bcums': 255, 'angry': 122, 'wid': 4749, 'dnt': 1009, 'childish': 507, 'true': 4310, 'deep': 847, 'affection': 57, 'care': 450, 'kettoda': 2032, 'manda': 2234, 'ship': 3401, 'wks': 4801, 'other': 2575, 'usps': 4483, 'lag': 2062, 'lem': 2098, 'necessarily': 2448, 'expect': 1303, 'headin': 1757, 'mmm': 2332, 'jolt': 2001, 'suzy': 3908, 'lover': 2177, 'video': 4543, 'handset': 1733, 'anytime': 142, 'mins': 2316, 'unlimited': 4429, 'park': 2608, 'mini': 2310, 'own': 2588, 'disturb': 995, 'ring': 3120, 'horny': 1817, 'naked': 2429, 'hot': 1823, 'unsubscribe': 4439, 'dint': 964, 'wana': 4622, 'sometme': 3602, 'club': 539, 'choose': 516, 'wt': 4870, 'flash': 1430, 'jealous': 1981, 'single': 3480, 'chart': 491, 'quality': 2891, 'sort': 3626, 'sunny': 3875, 'ray': 2946, 'blue': 332, 'bay': 248, 'hmv': 1797, 'genuine': 1642, 'percent': 2635, 'might': 2302, 'bf': 293, 'rob': 3134, 'gf': 1650, 'theater': 4081, 'full': 1573, 'swing': 3932, 'tool': 4239, 'definitely': 857, 'gdeve': 1630, 'far': 1333, 'okie': 2538, 'usual': 4484, 'anybody': 137, 'throw': 4143, 'baby': 227, 'cruisin': 722, 'hour': 1826, 'fone': 1466, 'jenny': 1984, 'ge': 1631, 'shall': 3370, 'tonite': 4234, 'varunnathu': 4511, 'edukkukayee': 1166, 'raksha': 2927, 'sense': 3328, 'gautham': 1620, 'stupid': 3823, 'cam': 432, 'buzy': 409, 'accidentally': 19, 'resend': 3068, 'phone': 2653, 'upgrade': 4449, 'sim': 3468, 'card': 448, 'loyalty': 2185, 'thfeb': 4107, 'unless': 4427, 'tease': 4008, 'plz': 2688, 'rise': 3126, 'grave': 1695, 'bslvyl': 388, 'somebody': 3591, 'high': 1783, 'diesel': 941, 'shit': 3403, 'shock': 3412, 'scary': 3261, 'imagine': 1882, 'def': 852, 'somewhere': 3604, 'taxi': 3990, 'fridge': 1536, 'meal': 2268, 'womdarfull': 4812, 'actor': 31, 'blind': 322, 'rodds': 3137, 'unite': 4420, 'hide': 1782, 'remb': 3038, 'book': 343, 'friendship': 1540, 'hang': 1734, 'thread': 4137, 'themob': 4090, 'newest': 2466, 'selection': 3313, 'game': 1603, 'tone': 4228, 'gossip': 1685, 'babes': 226, 'sport': 3693, 'fit': 1419, 'funky': 1582, 'garage': 1609, 'key': 2033, 'aren': 169, 'accept': 16, 'sister': 3487, 'clos': 535, 'lvblefrnd': 2204, 'jstfrnd': 2007, 'cutefrnd': 769, 'lifpartnr': 2114, 'belovd': 281, 'swtheart': 3937, 'bstfrnd': 389, 'enemy': 1222, 'smart': 3541, 'weekly': 4680, 'cs': 725, 'winnersclub': 4773, 'uz': 4496, 'normal': 2491, 'rest': 3087, 'wot': 4842, 'advance': 48, 'pongal': 2706, 'kb': 2025, 'power': 2726, 'yoga': 4953, 'dunno': 1118, 'tahan': 3957, 'anot': 129, 'lo': 2140, 'dude': 1108, 'afraid': 58, 'december': 836, 'mths': 2405, 'cake': 416, 'merry': 2292, 'christmas': 518, 'kiss': 2045, 'cud': 742, 'ppl': 2729, 'gona': 1675, 'waitin': 4608, 'pete': 2645, 'bristol': 378, 'problem': 2795, 'track': 4270, 'record': 2994, 'read': 2961, 'women': 4813, 'light': 2116, 'apo': 149, 'return': 3099, 'immediately': 1884, 'germany': 1644, 'line': 2123, 'via': 4535, 'access': 17, 'prepayment': 2749, 'violate': 4558, 'privacy': 2785, 'steal': 3749, 'employer': 1213, 'paperwork': 2603, 'report': 3060, 'supervisor': 3885, 'valentines': 4503, 'lifetime': 2113, 'rcvd': 2953, 'custcare': 761, 'daaaaa': 779, 'din': 958, 'surf': 3897, 'post': 2716, 'texts': 4062, 'wiv': 4793, 'caroline': 455, 'favourite': 1348, 'stranger': 3793, 'interest': 1928, 'two': 4349, 'round': 3155, 'gudnite': 1710, 'practice': 2736, 'num': 2507, 'small': 3539, 'prestige': 2763, 'shag': 3364, 'sextextuk': 3353, 'xxuk': 4901, 'txts': 4356, 'ever': 1275, 'misbehave': 2322, 'slap': 3516, 'urself': 4471, 'fault': 1342, 'basically': 241, 'figure': 1389, 'alcohol': 90, 'jay': 1977, 'safely': 3202, 'weed': 4676, 'ish': 1947, 'minutes': 2318, 'ago': 68, 'wtf': 4872, 'sirji': 3485, 'insurance': 1926, 'insha': 1918, 'allah': 98, 'rakhesh': 2926, 'ex': 1288, 'tata': 3985, 'tissco': 4178, 'tayseer': 3994, 'currently': 756, 'maximize': 2260, 'cc': 469, 'hg': 1780, 'suite': 3862, 'land': 2063, 'row': 3158, 'unemployed': 4407, 'moment': 2356, 'cold': 552, 'chikku': 505, 'db': 822, 'audrey': 205, 'status': 3742, 'forward': 1497, 'dawn': 817, 'refresh': 3014, 'alive': 96, 'breathe': 373, 'air': 78, 'motorola': 2384, 'sonyericsson': 3614, 'bluetooth': 333, 'orange': 2564, 'mobileupd': 2345, 'discount': 984, 'rp': 3161, 'further': 1586, 'regalportfolio': 3018, 'uniform': 4416, 'geeee': 1633, 'cuddle': 743, 'agree': 69, 'reference': 3007, 'recognise': 2993, 'sigh': 3455, 'bar': 237, 'ptbo': 2850, 'rinu': 3124, 'bring': 377, 'hes': 1777, 'project': 2813, 'mistake': 2326, 'body': 338, 'quite': 2902, 'slow': 3533, 'guide': 1712, 'ovulation': 2585, 'relax': 3029, 'reason': 2974, 'followin': 1463, 'couple': 675, 'wallet': 4616, 'dx': 1129, 'lick': 2109, 'mm': 2331, 'rental': 3052, 'mobilesdirect': 2343, 'stoptxt': 3783, 'huh': 1845, 'sit': 3489, 'intro': 1933, 'pilates': 2666, 'office': 2526, 'shut': 3446, 'bout': 356, 'current': 755, 'period': 2639, 'actually': 33, 'rock': 3136, 'put': 2875, 'business': 404, 'picture': 2662, 'ass': 194, 'facebook': 1320, 'al': 87, 'salam': 3208, 'wahleykkum': 4605, 'share': 3378, 'grace': 1690, 'god': 1669, 'inshah': 1919, 'sometime': 3600, 'visitor': 4570, 'india': 1902, 'field': 1380, 'quickly': 2899, 'administrator': 42, 'poly': 2701, 'pw': 2879, 'chechi': 497, 'cream': 700, 'none': 2487, 'yep': 4937, 'loxahatchee': 2183, 'tree': 4295, 'stoners': 3775, 'slightly': 3525, 'disastrous': 980, 'fav': 1343, 'darlings': 805, 'wld': 4803, 'drink': 1083, 'sender': 3325, 'fullonsms': 1574, 'iron': 1944, 'thing': 4111, 'yan': 4918, 'jiu': 1991, 'skip': 3507, 'den': 876, 'blah': 315, 'wendy': 4695, 'sk': 3499, 'ch': 480, 'whatsup': 4716, 'goal': 1667, 'competition': 579, 'txttowin': 4359, 'logo': 2150, 'heart': 1759, 'mobno': 2346, 'adam': 35, 'eve': 1271, 'yahoo': 4914, 'txtno': 4355, 'ads': 46, 'tf': 4063, 'siva': 3496, 'hostel': 1822, 'aha': 71, 'voice': 4581, 'expression': 1312, 'sentiment': 3333, 'rowdy': 3159, 'ful': 1571, 'funny': 1583, 'irritate': 1945, 'aathi': 2, 'urination': 4467, 'esplanade': 1262, 'mind': 2308, 'wnt': 4807, 'bmw': 336, 'urgently': 4462, 'vry': 4592, 'hv': 1854, 'shortage': 3421, 'lacs': 2059, 'source': 3635, 'arng': 177, 'amt': 116, 'fifteen': 1384, 'fuck': 1565, 'respond': 3082, 'vary': 4512, 'bcm': 253, 'ldn': 2085, 'wc': 4655, 'askin': 191, 'dollars': 1037, 'shoul': 3426, 'iouri': 1939, 'ten': 4030, 'applebees': 153, 'journey': 2003, 'gd': 1629, 'bhaji': 294, 'cricketer': 710, 'sachin': 3195, 'tough': 4261, 'suppose': 3891, 'oic': 2533, 'tot': 4257, 'group': 1704, 'werethe': 4701, 'gorgeous': 1684, 'doin': 1030, 'foundurself': 1498, 'sausage': 3248, 'jen': 1983, 'kinda': 2041, 'concentration': 600, 'detail': 910, 'transfer': 4281, 'acc': 15, 'improve': 1890, 'purpose': 2870, 'homeowners': 1808, 'tenant': 4031, 'welcome': 4690, 'previously': 2771, 'refuse': 3016, 'si': 3448, 'oreo': 2569, 'truffles': 4311, 'amy': 118, 'ure': 4459, 'beautiful': 259, 'intelligent': 1927, 'woman': 4811, 'result': 3094, 'consistently': 624, 'kind': 2040, 'ears': 1139, 'ttyl': 4324, 'isnt': 1951, 'bad': 229, 'thru': 4145, 'different': 947, 'waver': 4650, 'decisions': 841, 'cop': 648, 'individual': 1906, 'upgrdcentre': 4450, 'july': 2011, 'opt': 2560, 'railway': 2917, 'princess': 2779, 'doggy': 1028, 'style': 3824, 'fave': 1344, 'position': 2713, 'enjoy': 1231, 'roads': 3132, 'slippery': 3528, 'many': 2237, 'language': 2068, 'dave': 816, 'notice': 2499, 'tenerife': 4033, 'tcs': 3999, 'sae': 3199, 'cw': 774, 'wx': 4884, 'scream': 3279, 'remove': 3047, 'flat': 1431, 'differ': 944, 'ja': 1964, 'moan': 2339, 'nyt': 2518, 'cum': 747, 'infront': 1913, 'wise': 4779, 'tension': 4035, 'sec': 3293, 'taste': 3982, 'fb': 1349, 'thuglyfe': 4149, 'activate': 28, 'term': 4037, 'condition': 604, 'visit': 4569, 'depend': 886, 'boye': 360, 'ralphs': 2929, 'dry': 1099, 'trade': 4272, 'reunion': 3100, 'meh': 2279, 'nope': 2489, 'monday': 2360, 'rec': 2981, 'center': 477, 'reache': 2958, 'fight': 1387, 'either': 1182, 'fightng': 1388, 'dificult': 950, 'fish': 1416, 'water': 4641, 'bore': 347, 'outside': 2581, 'westshore': 4708, 'hyde': 1856, 'village': 4556, 'near': 2446, 'anthony': 134, 'fee': 1356, 'rent': 3051, 'significance': 3459, 'opinion': 2557, 'jada': 1967, 'kusruthi': 2055, 'silent': 3464, 'spl': 3680, 'character': 487, 'mature': 2257, 'stylish': 3825, 'simple': 3470, 'scrounge': 3282, 'prabha': 2734, 'soryda': 3629, 'realy': 2971, 'frm': 1544, 'sory': 3628, 'forgive': 1486, 'jst': 2006, 'tat': 3984, 'gb': 1627, 'ipod': 1942, 'mp': 2390, 'ibhltd': 1860, 'mtmsgrcvd': 2407, 'mono': 2363, 'cha': 481, 'slide': 3524, 'toxic': 4266, 'renewal': 3050, 'pin': 2668, 'tgxxrz': 4065, 'transport': 4284, 'less': 2100, 'problematic': 2796, 'bday': 256, 'definite': 856, 'nos': 2494, 'fri': 1533, 'unconscious': 4396, 'children': 508, 'behave': 273, 'ebay': 1150, 'elsewhere': 1198, 'pickle': 2659, 'tacos': 3953, 'rude': 3174, 'campus': 435, 'attempt': 201, 'qu': 2890, 'mas': 2246, 'savamob': 3249, 'member': 2284, 'sub': 3827, 'unsub': 4438, 'pretty': 2767, 'lady': 2061, 'recieve': 2991, 'within': 4788, 'channel': 486, 'teletext': 4020, 'pg': 2648, 'un': 4387, 'redeem': 3002, 'while': 4731, 'malaria': 2228, 'lead': 2088, 'passionate': 2614, 'across': 25, 'sea': 3289, 'probably': 2794, 'fat': 1339, 'finger': 1405, 'these': 4099, 'ummmmmaah': 4386, 'tirupur': 4176, 'max': 2259, 'csc': 727, 'web': 4665, 'develop': 914, 'ability': 4, 'listen': 2132, 'unconditionally': 4395, 'temper': 4028, 'self': 3314, 'confidence': 608, 'marry': 2245, 'mine': 2309, 'recovery': 2997, 'rather': 2942, 'cooped': 646, 'hotel': 1824, 'cali': 419, 'english': 1230, 'bloke': 324, 'weddin': 4671, 'omw': 2542, 'btw': 391, 'sink': 3481, 'through': 4142, 'cock': 548, 'surround': 3903, 'remind': 3043, 'cuck': 741, 'hurry': 1851, 'deficient': 855, 'three': 4139, 'tactless': 3955, 'generally': 1636, 'faggy': 1322, 'demand': 875, 'blood': 327, 'fo': 1458, 'warm': 4628, 'milk': 2305, 'loose': 2160, 'pan': 2598, 'cheap': 494, 'perhaps': 2638, 'silly': 3466, 'likely': 2119, 'uv': 4491, 'sunscreen': 3878, 'essential': 1263, 'thesedays': 4100, 'online': 2549, 'pics': 2660, 'aiyo': 84, 'mei': 2280, 'fast': 1336, 'workin': 4831, 'sugardad': 3857, 'gee': 1632, 'geeeee': 1634, 'barely': 238, 'mrw': 2394, 'american': 111, 'freek': 1520, 'callin': 430, 'oooh': 2553, 'ey': 1315, 'gym': 1717, 'whatever': 4714, 'daddy': 783, 'dick': 933, 'yar': 4919, 'mum': 2411, 'sch': 3264, 'clean': 529, 'lab': 2058, 'door': 1051, 'marriage': 2243, 'walkin': 4614, 'unfortuntly': 4411, 'snake': 3562, 'dance': 791, 'frnt': 1552, 'sayin': 3254, 'izzit': 1963, 'textand': 4053, 'wife': 4752, 'kid': 2037, 'tendencies': 4032, 'headache': 1756, 'quit': 2901, 'jazz': 1979, 'yogasana': 4954, 'em': 1200, 'hardly': 1742, 'srsly': 3714, 'yi': 4947, 'spree': 3701, 'ag': 63, 'promo': 2818, 'grand': 1693, 'prix': 2787, 'announcement': 127, 'exhaust': 1300, 'train': 4275, 'pie': 2663, 'present': 2756, 'ar': 165, 'tsunamis': 4322, 'occur': 2521, 'rajnikant': 2925, 'swim': 3930, 'indian': 1903, 'noon': 2488, 'xclusive': 4890, 'morow': 2376, 'soiree': 3585, 'speciale': 3655, 'zouk': 4999, 'nichols': 2472, 'paris': 2607, 'roses': 3153, 'ladies': 2060, 'neva': 2462, 'imma': 1883, 'somethin': 3598, 'euro': 1267, 'daily': 786, 'valentine': 4502, 'ques': 2896, 'suit': 3861, 'dependents': 888, 'often': 2530, 'future': 1588, 'uncles': 4393, 'shuhui': 3444, 'leona': 2099, 'reaction': 2960, 'family': 1328, 'happiness': 1738, 'snow': 3572, 'weather': 4664, 'together': 4209, 'friendships': 1541, 'grow': 1705, 'dismay': 990, 'alex': 92, 'concern': 601, 'pub': 2852, 'bud': 393, 'useful': 4477, 'officially': 2528, 'market': 2242, 'tootsie': 4244, 'pop': 2710, 'longer': 2156, 'darren': 806, 'textbuddy': 4055, 'area': 168, 'postcode': 2718, 'gaytextbuddy': 1625, 'vodafone': 4579, 'seventeen': 3349, 'seven': 3348, 'hundred': 1847, 'voucher': 4589, 'holder': 1802, 'weeks': 4681, 'pc': 2624, 'tlp': 4187, 'expressoffer': 1313, 'ts': 4318, 'sweetheart': 3925, 'biola': 302, 'login': 2149, 'dad': 782, 'fetch': 1369, 'restock': 3089, 'thanksgiving': 4071, 'effect': 1171, 'wee': 4675, 'thursday': 4151, 'triumph': 4302, 'ham': 1729, 'jolly': 2000, 'cartoon': 458, 'temple': 4029, 'church': 519, 'uncomfortable': 4394, 'email': 1201, 'rstm': 3166, 'sw': 3910, 'ss': 3717, 'gentle': 1639, 'sonetimes': 3610, 'rough': 3154, 'panic': 2600, 'tuesday': 4327, 'wesleys': 4703, 'town': 4265, 'bet': 288, 'hella': 1767, 'drug': 1093, 'dealer': 828, 'impatient': 1886, 'sun': 3871, 'earth': 1140, 'river': 3130, 'evng': 1283, 'wikipedia': 4756, 'premium': 2746, 'under': 4401, 'envelope': 1249, 'paper': 2602, 'repent': 3056, 'de': 825, 'prepare': 2747, 'sutra': 3906, 'en': 1215, 'ho': 1798, 'belly': 279, 'laugh': 2078, 'ditto': 997, 'peace': 2625, 'knw': 2050, 'wetherspoons': 4710, 'awake': 218, 'freaky': 1514, 'yell': 4932, 'scrappy': 3277, 'lonely': 2154, 'hex': 1778, 'explain': 1307, 'sdryb': 3287, 'xy': 4911, 'sue': 3851, 'sex': 3351, 'bedroom': 267, 'textoperator': 4060, 'king': 2043, 'build': 398, 'map': 2238, 'tomorw': 4227, 'cochin': 547, 'accordingly': 20, 'tmorow': 4190, 'engage': 1225, 'ans': 131, 'torch': 4250, 'bold': 339, 'farm': 1334, 'law': 2080, 'purchase': 2866, 'poop': 2708, 'gpu': 1688, 'entrepreneurs': 1244, 'corporation': 652, 'gap': 1608, 'prevent': 2768, 'dehydration': 863, 'fluids': 1450, 'weird': 4685, 'idea': 1867, 'away': 220, 'trek': 4296, 'drivin': 1088, 'fantastic': 1331, 'gage': 1594, 'deck': 842, 'alert': 91, 'height': 1764, 'aeronautics': 53, 'professors': 2808, 'wer': 4698, 'calld': 425, 'aeroplane': 54, 'aftr': 62, 'ws': 4869, 'students': 3817, 'dey': 920, 'datz': 815, 'shitstorm': 3408, 'stress': 3796, 'dorm': 1053, 'sell': 3318, 'csbcm': 726, 'callcost': 424, 'mobilesvary': 2344, 'sth': 3762, 'specs': 3661, 'px': 2880, 'upset': 4453, 'assume': 195, 'wondar': 4814, 'flim': 1437, 'cookies': 644, 'admit': 44, 'mad': 2213, 'correction': 655, 'scrumptious': 3283, 'ba': 224, 'dao': 797, 'exactly': 1290, 'stewartsize': 3760, 'low': 2181, 'prescripiton': 2753, 'drvgsto': 1098, 'spring': 3702, 'yay': 4925, 'steak': 3748, 'twice': 4343, 'opportunity': 2559, 'add': 36, 'txtauction': 4352, 'ctxt': 739, 'mayb': 2262, 'rite': 3128, 'faster': 1337, 'gals': 1600, 'attach': 200, 'glad': 1662, 'clock': 534, 'shout': 3430, 'realise': 2966, 'wahay': 4602, 'shorter': 3424, 'gaze': 1626, 'eye': 1316, 'subscribe': 3832, 'helpline': 1771, 'gist': 1659, 'thousands': 4135, 'tattoo': 3986, 'premier': 2745, 'gim': 1654, 'lip': 2130, 'library': 2108, 'confuse': 613, 'holla': 1804, 'anyone': 139, 'spare': 3649, 'faith': 1325, 'possible': 2715, 'vibrate': 4537, 'act': 26, 'unclaimed': 4391, 'yf': 4945, 'mt': 2402, 'yest': 4940, 'city': 523, 'summer': 3868, 'store': 3785, 'skilgme': 3501, 'tscs': 4320, 'winawk': 4765, 'perwksub': 2644, 'goin': 1671, 'meetin': 2277, 'wonder': 4816, 'tis': 4177, 'dramatic': 1075, 'apparently': 152, 'anywhere': 145, 'damn': 788, 'hunt': 1850, 'drunkard': 1096, 'wats': 4647, 'weaseling': 4662, 'space': 3642, 'trash': 4285, 'beg': 271, 'lovely': 2175, 'sing': 3478, 'slave': 3517, 'punish': 2860, 'randomlly': 2933, 'couldn': 669, 'diff': 943, 'perfect': 2636, 'community': 571, 'polyphonic': 2704, 'toppoly': 4248, 'tune': 4334, 'subpoly': 3831, 'pole': 2697, 'fondly': 1465, 'bein': 275, 'thot': 4130, 'dogbreath': 1025, 'jan': 1970, 'omg': 2541, 'weigh': 4682, 'woohoo': 4822, 'uncountable': 4399, 'dictionary': 935, 'piece': 2664, 'thmarch': 4123, 'petey': 2646, 'whereare': 4725, 'friendsare': 1539, 'thekingshead': 4087, 'nic': 2470, 'appt': 162, 'mat': 2250, 'getzed': 1648, 'norm': 2490, 'cashto': 462, 'getstop': 1646, 'php': 2656, 'rg': 3106, 'dled': 1005, 'imp': 1885, 'ain': 76, 'smokin': 3553, 'bec': 261, 'ugh': 4370, 'nervous': 2458, 'costume': 663, 'yowifes': 4972, 'hint': 1786, 'borrow': 349, 'bag': 230, 'simonwatson': 3469, 'shinco': 3398, 'bid': 295, 'smsrewards': 3558, 'ones': 2546, 'model': 2349, 'youi': 4959, 'galileo': 1599, 'dobby': 1012, 'boo': 342, 'enjoyin': 1232, 'yourjob': 4966, 'gettin': 1647, 'hunny': 1849, 'soonlots': 3618, 'loveme': 2176, 'xxxx': 4904, 'starshine': 3733, 'ache': 22, 'sip': 3482, 'cappuccino': 445, 'smsservices': 3559, 'yourinclusive': 4965, 'comuk': 596, 'qxj': 2907, 'extra': 1314, 'cm': 540, 'ae': 52, 'alfie': 93, 'moon': 2368, 'charity': 489, 'nokias': 2485, 'polys': 2705, 'zed': 4991, 'profit': 2810, 'hahaha': 1722, 'brain': 366, 'green': 1699, 'mojibiola': 2353, 'cust': 760, 'mate': 2252, 'rv': 3187, 'hol': 1800, 'rvx': 3188, 'skyped': 3512, 'kz': 2056, 'sura': 3894, 'ultimatum': 4381, 'countin': 671, 'aburo': 12, 'surely': 3896, 'successful': 3842, 'five': 1420, 'inconsiderate': 1897, 'nag': 2425, 'recession': 2989, 'hence': 1772, 'wed': 4670, 'soo': 3615, 'understand': 4403, 'morrow': 2379, 'comprehensive': 589, 'mother': 2382, 'ibiza': 1861, 'await': 217, 'collection': 555, 'wp': 4851, 'meanwhile': 2270, 'xavier': 4888, 'warn': 4629, 'samantha': 3219, 'impress': 1889, 'doug': 1063, 'stomach': 3772, 'trauma': 4286, 'swear': 3920, 'matter': 2256, 'shoe': 3413, 'tigress': 4162, 'version': 4530, 'poor': 2709, 'urfeeling': 4460, 'probthat': 2802, 'careful': 452, 'spk': 3679, 'sn': 3561, 'lovejen': 2174, 'worlds': 4834, 'discreet': 985, 'vip': 4561, 'hai': 1723, 'sathy': 3241, 'rto': 3170, 'spoon': 3691, 'tampa': 3974, 'genius': 1637, 'whenever': 4721, 'connections': 619, 'lotta': 2166, 'corvettes': 658, 'lately': 2074, 'yrs': 4975, 'supply': 3889, 'cds': 472, 'virgin': 4564, 'mystery': 2423, 'smsco': 3556, 'approx': 160, 'wall': 4615, 'peaceful': 2626, 'xxxxxx': 4906, 'bird': 303, 'user': 4479, 'trial': 4298, 'prod': 2804, 'dob': 1011, 'asap': 187, 'drop': 1091, 'nap': 2433, 'otherwise': 2577, 'shakespeare': 3369, 'shesil': 3391, 'travel': 4288, 'ntt': 2505, 'cr': 687, 'fixedline': 1423, 'castor': 464, 'liverpool': 2136, 'mid': 2298, 'stopsms': 3781, 'reminder': 3044, 'doit': 1032, 'woul': 4845, 'curfew': 753, 'midnight': 2300, 'studdying': 3814, 'ear': 1134, 'massage': 2247, 'oil': 2534, 'sup': 3881, 'yoyyooo': 4973, 'mac': 2210, 'usb': 4474, 'gibbs': 1652, 'unsold': 4436, 'fail': 1323, 'sad': 3198, 'unbelievable': 4389, 'murder': 2415, 'cutter': 772, 'ctter': 737, 'cttergg': 738, 'cttargg': 736, 'ctargg': 732, 'ctagg': 731, 'thus': 4152, 'superb': 3883, 'due': 1111, 'several': 3350, 'outstanding': 2582, 'smell': 3546, 'tobacco': 4201, 'derek': 894, 'taylor': 3993, 'worst': 4838, 'charles': 490, 'stereophonics': 3756, 'dizzee': 1003, 'racal': 2908, 'stroke': 3805, 'plus': 2687, 'greet': 1700, 'white': 4734, 'fudge': 1568, 'january': 1972, 'male': 2229, 'sale': 3210, 'gay': 1622, 'cheaper': 495, 'peak': 2627, 'zaher': 4988, 'ym': 4950, 'piss': 2670, 'sweets': 3927, 'pig': 2665, 'diet': 942, 'chip': 513, 'iam': 1857, 'addict': 38, 'msging': 2397, 'wrong': 4867, 'photo': 2654, 'yck': 4926, 'ma': 2208, 'ashley': 188, 'attend': 202, 'million': 2306, 'mo': 2338, 'moments': 2357, 'fro': 1553, 'wherever': 4726, 'samus': 3222, 'shoulder': 3428, 'lux': 2201, 'xh': 4892, 'wear': 4661, 'jeans': 1982, 'fever': 1370, 'vomitin': 4586, 'hp': 1835, 'bleh': 320, 'least': 2090, 'writhe': 4860, 'tons': 4235, 'voila': 4583, 'theyre': 4106, 'medical': 2273, 'folks': 1461, 'sorta': 3627, 'blow': 330, 'recently': 2987, 'score': 3271, 'sophas': 3622, 'secondary': 3295, 'application': 154, 'expensive': 1304, 'photos': 2655, 'tcr': 3998, 'lodge': 2147, 'ms': 2395, 'dict': 934, 'shb': 3381, 'truth': 4315, 'against': 65, 'gravity': 1696, 'carefully': 453, 'heavy': 1762, 'bowl': 357, 'filthy': 1395, 'stories': 3786, 'brand': 367, 'decision': 840, 'simpler': 3471, 'magical': 2217, 'welp': 4693, 'retire': 3097, 'site': 3490, 'necklace': 2451, 'token': 4213, 'race': 2909, 'earlier': 1135, 'chicken': 504, 'rice': 3111, 'wrongly': 4868, 'ad': 34, 'crap': 693, 'borin': 348, 'nxt': 2514, 'weakness': 4658, 'salary': 3209, 'chocolate': 514, 'potential': 2720, 'talent': 3965, 'reckon': 2992, 'videophones': 4545, 'videochat': 4544, 'java': 1976, 'dload': 1007, 'polyph': 2703, 'noline': 2486, 'rentl': 3053, 'fuckin': 1566, 'yun': 4981, 'ubi': 4367, 'cres': 707, 'tech': 4009, 'ph': 2649, 'wkg': 4798, 'sd': 3285, 'butt': 407, 'sore': 3623, 'party': 2612, 'strip': 3804, 'skirt': 3508, 'miracle': 2320, 'jesus': 1987, 'quiet': 2900, 'aunts': 208, 'helen': 1765, 'syllabus': 3939, 'doublemins': 1060, 'doubletxt': 1061, 'contract': 634, 'unjalur': 4424, 'kerala': 2030, 'terrible': 4041, 'fan': 1329, 'lovers': 2179, 'supreme': 3892, 'regret': 3022, 'cudnt': 744, 'ctla': 734, 'ente': 1237, 'exe': 1297, 'anniversary': 126, 'prey': 2772, 'image': 1881, 'fond': 1464, 'souveniers': 3638, 'cougar': 665, 'pen': 2629, 'secretly': 3298, 'datebox': 813, 'essexcm': 1264, 'xn': 4895, 'pattern': 2618, 'throat': 4141, 'scratch': 3278, 'plm': 2685, 'asleep': 192, 'foreign': 1481, 'stamp': 3727, 'lecture': 2093, 'sheffield': 3385, 'raise': 2919, 'zoe': 4996, 'shitin': 3405, 'defo': 859, 'fill': 1392, 'loverboy': 2178, 'blanket': 319, 'sufficient': 3853, 'thx': 4153, 'edison': 1160, 'rightly': 3117, 'fool': 1471, 'speechless': 3662, 'during': 1122, 'viva': 4574, 'gm': 1663, 'gn': 1664, 'gnt': 1665, 'roast': 3133, 'hb': 1753, 'concentrate': 599, 'educational': 1165, 'serious': 3339, 'kickoff': 2036, 'june': 2012, 'rd': 2954, 'data': 811, 'thesis': 4101, 'hiya': 1791, 'april': 163, 'rudi': 3175, 'snore': 3570, 'eastenders': 1145, 'flower': 1449, 'compare': 576, 'herself': 1776, 'violet': 4560, 'tulip': 4331, 'lily': 2121, 'wkent': 4797, 'technical': 4010, 'support': 3890, 'process': 2803, 'finalise': 1398, 'flirtparty': 1442, 'bitch': 309, 'dentist': 882, 'wu': 4876, 'xchat': 4889, 'juicy': 2010, 'shes': 3390, 'oi': 2532, 'tul': 4330, 'movies': 2388, 'sculpture': 3284, 'convey': 641, 'regard': 3019, 'surya': 3905, 'vijay': 4550, 'pic': 2657, 'dearer': 830, 'dem': 874, 'thoughts': 4133, 'breath': 372, 'sorrow': 3624, 'craziest': 696, 'proove': 2825, 'planet': 2677, 'curry': 757, 'sambar': 3220, 'evn': 1282, 'itz': 1960, 'alwys': 109, 'conected': 606, 'spatula': 3652, 'sipix': 3483, 'digital': 952, 'bp': 364, 'warranty': 4631, 'doctor': 1017, 'complexities': 586, 'freely': 1521, 'tax': 3989, 'tomorro': 4225, 'ryder': 3192, 'subscriber': 3833, 'receipt': 2983, 'elvis': 1199, 'presleys': 2758, 'fret': 1532, 'ne': 2445, 'wrking': 4863, 'uni': 4414, 'depress': 890, 'sittin': 3493, 'wind': 4766, 'black': 313, 'aiyah': 82, 'information': 1912, 'onto': 2551, 'urawinner': 4458, 'surprise': 3901, 'italian': 1954, 'grin': 1701, 'math': 2253, 'dhoni': 924, 'teju': 4015, 'grind': 1702, 'durban': 1120, 'convenience': 637, 'speed': 3663, 'speedchat': 3664, 'swap': 3914, 'rcd': 2950, 'cancel': 440, 'aiyar': 83, 'survey': 3904, 'gal': 1598, 'whos': 4741, 'difficulties': 949, 'howz': 1834, 'tau': 3987, 'sar': 3231, 'stchoice': 3745, 'film': 1393, 'shade': 3362, 'luck': 2193, 'station': 3741, 'tank': 3975, 'virgins': 4565, 'fil': 1390, 'sexual': 3354, 'theirs': 4086, 'cute': 768, 'sitter': 3492, 'adult': 47, 'danger': 795, 'comment': 567, 'veggie': 4522, 'neighbor': 2455, 'computerless': 594, 'silently': 3465, 'drms': 1090, 'wrc': 4854, 'rally': 2928, 'oz': 2589, 'lucozade': 2195, 'energy': 1223, 'le': 2087, 'itcould': 1955, 'horrible': 1819, 'toot': 4241, 'bigger': 297, 'nw': 2513, 'islands': 1949, 'chennai': 501, 'velachery': 4524, 'flippin': 1440, 'cstore': 730, 'annoy': 128, 'makin': 2227, 'shame': 3371, 'popcorn': 2711, 'jordan': 2002, 'celeb': 473, 'pocketbabe': 2692, 'voicemail': 4582, 'thin': 4110, 'feed': 1357, 'neft': 2454, 'beneficiary': 285, 'tuition': 4329, 'choice': 515, 'semi': 3321, 'apart': 147, 'deliver': 869, 'strong': 3806, 'arm': 175, 'walmart': 4618, 'wuldnt': 4880, 'mite': 2327, 'creepy': 706, 'easier': 1141, 'nok': 2483, 'txtin': 4353, 'apps': 161, 'rofl': 3139, 'invest': 1935, 'anti': 135, 'products': 2805, 'hr': 1837, 'delay': 865, 'various': 4509, 'submit': 3830, 'textcomp': 4056, 'snatch': 3565, 'purse': 2871, 'drivby': 1085, 'edrunk': 1162, 'pthis': 2851, 'senrd': 3327, 'dnot': 1008, 'dancce': 790, 'drum': 1095, 'ros': 3152, 'xxxxxxx': 4907, 'morn': 2372, 'relieve': 3032, 'westonzoyland': 4707, 'europe': 1269, 'nobody': 2481, 'chinese': 512, 'docs': 1016, 'songs': 3612, 'havin': 1751, 'hun': 1846, 'mon': 2359, 'flip': 1439, 'shun': 3445, 'el': 1183, 'cbe': 468, 'honey': 1810, 'jd': 1980, 'executive': 1298, 'downstem': 1068, 'wahala': 4601, 'weirdest': 4686, 'john': 1996, 'remixed': 3045, 'didntgive': 939, 'thepub': 4096, 'tr': 4269, 'uwana': 4493, 'exact': 1289, 'jane': 1971, 'minmoremobsemspobox': 2313, 'tee': 4012, 'cell': 476, 'thts': 4148, 'dough': 1064, 'control': 636, 'weirdo': 4687, 'mode': 2348, 'stalk': 3726, 'profile': 2809, 'jerry': 1985, 'express': 1311, 'drinkin': 1084, 'others': 2576, 'tour': 4263, 'deposit': 889, 'disappear': 976, 'birthdate': 306, 'publish': 2854, 'nydc': 2517, 'wheellock': 4719, 'destination': 908, 'fifty': 1386, 'favour': 1347, 'ola': 2539, 'worthless': 4840, 'garbage': 1610, 'items': 1956, 'fran': 1507, 'knackered': 2047, 'dads': 784, 'designation': 900, 'software': 3583, 'developer': 915, 'jamster': 1969, 'videosound': 4547, 'gold': 1672, 'videosounds': 4548, 'logos': 2151, 'lions': 2129, 'lionm': 2127, 'lionp': 2128, 'ringtones': 3123, 'original': 2571, 'jokin': 1999, 'spirit': 3676, 'bb': 249, 'shatter': 3379, 'alrite': 105, 'idiot': 1872, 'darker': 800, 'whenevr': 4722, 'remembr': 3041, 'watevr': 4644, 'harry': 1743, 'potter': 2721, 'phoenix': 2652, 'among': 112, 'readers': 2962, 'shd': 3382, 'coveragd': 683, 'vasai': 4513, 'retard': 3096, 'uptown': 4456, 'february': 1354, 'rush': 3185, 'syria': 3944, 'canada': 437, 'goodnoon': 1681, 'gauge': 1619, 'patty': 2619, 'vl': 4577, 'chill': 509, 'surgical': 3898, 'emergency': 1208, 'unfold': 4409, 'frens': 1528, 'fredericksburg': 1515, 'que': 2893, 'tiempo': 4158, 'chillin': 510, 'super': 3882, 'george': 1643, 'saucy': 3247, 'theres': 4098, 'tmrw': 4193, 'compass': 577, 'soul': 3631, 'youuuuu': 4969, 'ned': 2452, 'tht': 4147, 'witot': 4791, 'main': 2223, 'sweetie': 3926, 'blackberry': 314, 'pple': 2730, 'undrstndng': 4406, 'problems': 2797, 'chain': 482, 'suffer': 3852, 'whn': 4735, 'arrest': 180, 'suntec': 3880, 'steamboat': 3751, 'moji': 2352, 'messenger': 2296, 'tp': 4268, 'fantasy': 1332, 'croydon': 717, 'wb': 4654, 'write': 4859, 'cover': 682, 'screen': 3280, 'gently': 1641, 'bear': 258, 'tom': 4220, 'fact': 1321, 'upload': 4451, 'juan': 2009, 'linerental': 2124, 'lf': 2105, 'tlk': 4186, 'ideal': 1868, 'front': 1558, 'reserve': 3071, 'thirunelvali': 4118, 'tirunelvali': 4175, 'tackle': 3952, 'storm': 3787, 'phne': 2651, 'margaret': 2240, 'girlfrnd': 1657, 'grahmbell': 1691, 'invnted': 1937, 'telphone': 4024, 'moral': 2369, 'tonght': 4230, 'wi': 4745, 'players': 2680, 'bk': 312, 'cafe': 415, 'recharge': 2990, 'shld': 3410, 'stretch': 3799, 'sinco': 3476, 'payee': 2621, 'icicibank': 1865, 'urn': 4470, 'beware': 291, 'frauds': 1512, 'disclose': 982, 'vote': 4587, 'kaiez': 2017, 'option': 2561, 'beneath': 284, 'pale': 2597, 'goodnite': 1680, 'msgrcvdhg': 2399, 'snicker': 3568, 'totally': 4259, 'rem': 3036, 'silver': 3467, 'lmao': 2139, 'silence': 3463, 'exams': 1292, 'revision': 3104, 'exeter': 1299, 'spreadsheet': 3700, 'whose': 4742, 'determine': 911, 'entire': 1241, 'arsenal': 182, 'dartboard': 807, 'treble': 4294, 'coat': 546, 'painful': 2595, 'everybody': 1277, 'alone': 101, 'duo': 1119, 'missin': 2325, 'guilty': 1713, 'aiya': 81, 'cardiff': 449, 'addie': 39, 'tues': 4326, 'bright': 375, 'fresh': 1530, 'twitter': 4348, 'restaurant': 3088, 'textpod': 4061, 'pod': 2693, 'duck': 1107, 'function': 1577, 'desperate': 905, 'rummer': 3181, 'fly': 1453, 'monkey': 2362, 'certainly': 479, 'rajini': 2923, 'practical': 2735, 'spy': 3705, 'claire': 525, 'yalru': 4916, 'lyfu': 2206, 'lyf': 2205, 'ali': 95, 'ke': 2026, 'program': 2811, 'edhae': 1159, 'vargu': 4508, 'meow': 2291, 'twelve': 4341, 'aah': 1, 'xxxxxxxxx': 4909, 'prone': 2823, 'ny': 2515, 'usa': 4473, 'msgrcvd': 2398, 'lucy': 2196, 'hubby': 1842, 'cumin': 748, 'minmobsmorelkpobox': 2312, 'fl': 1425, 'personality': 2642, 'nature': 2441, 'dose': 1056, 'tablet': 3950, 'blake': 316, 'lotr': 2165, 'google': 1683, 'modules': 2351, 'compulsory': 591, 'purity': 2868, 'musthu': 2419, 'vomit': 4585, 'aint': 77, 'sha': 3361, 'vitamin': 4573, 'centre': 478, 'crucial': 718, 'jsco': 2005, 'skills': 3503, 'psychic': 2847, 'base': 239, 'systems': 3947, 'total': 4258, 'converter': 640, 'along': 102, 'karaoke': 2021, 'sayy': 3255, 'except': 1294, 'nit': 2477, 'eight': 1179, 'format': 1492, 'disc': 981, 'hows': 1833, 'arrive': 181, 'shortly': 3425, 'corect': 650, 'speling': 3665, 'sarcasm': 3234, 'forum': 1495, 'ron': 3147, 'cts': 735, 'employee': 1212, 'aunt': 207, 'sooo': 3619, 'dang': 794, 'unfortunately': 4410, 'airport': 79, 'auction': 203, 'jhl': 1988, 'difficult': 948, 'earliest': 1136, 'konw': 2051, 'waht': 4606, 'rael': 2913, 'gving': 1716, 'yuo': 4983, 'exmpel': 1301, 'jsut': 2008, 'ese': 1260, 'tihs': 4163, 'evrey': 1285, 'splleing': 3686, 'wrnog': 4866, 'sitll': 3491, 'raed': 2912, 'wihtuot': 4755, 'ayn': 223, 'mitsake': 2328, 'conference': 607, 'ow': 2586, 'degree': 860, 'finance': 1400, 'prospect': 2833, 'shant': 3376, 'jia': 1989, 'bishan': 308, 'sux': 3907, 'raiden': 2916, 'buff': 395, 'south': 3636, 'preferably': 2742, 'kegger': 2028, 'rhythm': 3110, 'truro': 4313, 'gas': 1616, 'gang': 1607, 'adventure': 49, 'tablets': 3951, 'sunroof': 3877, 'excellent': 1293, 'doors': 1052, 'wifi': 4754, 'blank': 318, 'rumour': 3182, 'thenampet': 4092, 'idk': 1873, 'react': 2959, 'freak': 1513, 'whom': 4739, 'satanic': 3240, 'destiny': 909, 'companion': 574, 'boyfriend': 361, 'sympathetic': 3941, 'courageous': 677, 'dependable': 887, 'psychologist': 2848, 'psychiatrist': 2846, 'stylist': 3826, 'driver': 1087, 'pudunga': 2856, 'venaam': 4527, 'brothas': 384, 'chase': 492, 'strain': 3791, 'dime': 956, 'withdraw': 4786, 'smeone': 3547, 'fire': 1410, 'spark': 3650, 'flame': 1429, 'rawring': 2945, 'xoxo': 4896, 'somewhr': 3606, 'crush': 723, 'propose': 2830, 'blame': 317, 'gods': 1670, 'wildlife': 4760, 'worzels': 4841, 'wizzle': 4794, 'dippeditinadew': 966, 'lovingly': 2180, 'itwhichturnedinto': 1959, 'tomeandsaid': 4223, 'shanghai': 3374, 'instead': 1923, 'cya': 775, 'freeze': 1524, 'rt': 3167, 'pro': 2792, 'ringtoneking': 3122, 'redeemable': 3003, 'thnx': 4127, 'sef': 3309, 'batch': 243, 'fring': 1542, 'flaky': 1428, 'sooooo': 3621, 'tooo': 4240, 'wating': 4645, 'british': 379, 'hotels': 1825, 'london': 2153, 'talents': 3966, 'buzz': 410, 'adore': 45, 'eerie': 1170, 'title': 4179, 'dracula': 1072, 'ghost': 1651, 'addamsfa': 37, 'munsters': 2414, 'exorcist': 1302, 'twilight': 4345, 'shiny': 3400, 'constant': 626, 'wasn': 4634, 'french': 1527, 'allow': 99, 'responsible': 3086, 'suppliers': 3888, 'comedy': 562, 'feelin': 1359, 'moby': 2347, 'hlp': 1793, 'switch': 3934, 'dammit': 787, 'wright': 4858, 'somewhat': 3603, 'event': 1274, 'wreck': 4856, 'spontaneously': 3689, 'lei': 2097, 'action': 27, 'movietrivia': 2389, 'partnership': 2611, 'rgent': 3108, 'lookin': 2159, 'daytime': 820, 'mostly': 2381, 'inside': 1920, 'spageddies': 3644, 'fourth': 1500, 'dimension': 957, 'compromise': 590, 'mornin': 2373, 'monthly': 2365, 'dub': 1104, 'toughest': 4262, 'unspoken': 4437, 'ideas': 1869, 'sight': 3456, 'remain': 3037, 'maintain': 2224, 'sh': 3360, 'jas': 1974, 'squat': 3707, 'cramp': 692, 'digits': 953, 'nan': 2432, 'sonathaya': 3609, 'soladha': 3587, 'rap': 2939, 'dudes': 1109, 'poker': 2696, 'weightloss': 4684, 'embarrass': 1204, 'stash': 3737, 'priya': 2788, 'father': 1340, 'messy': 2297, 'tookplace': 4238, 'traffic': 4274, 'slovely': 3532, 'slip': 3526, 'nus': 2510, 'sc': 3256, 'specialise': 3657, 'wad': 4598, 'dislike': 989, 'queen': 2894, 'desparately': 904, 'fren': 1526, 'stereo': 3755, 'unknown': 4426, 'album': 89, 'connect': 617, 'vu': 4595, 'boys': 362, 'pre': 2738, 'trackmarque': 4271, 'vipclub': 4562, 'hook': 1812, 'entertain': 1239, 'stick': 3763, 'indeed': 1900, 'bin': 301, 'spain': 3645, 'dinero': 960, 'jam': 1968, 'maangalyam': 2209, 'alaipayuthe': 88, 'complain': 581, 'sullivan': 3864, 'fm': 1455, 'easter': 1146, 'telephone': 4018, 'finn': 1409, 'di': 926, 'bahamas': 231, 'callfreefone': 429, 'cruise': 721, 'calm': 431, 'downon': 1067, 'theacusations': 4080, 'wotu': 4843, 'thew': 4104, 'dine': 959, 'conacted': 598, 'social': 3580, 'slowly': 3535, 'habit': 1719, 'trainners': 4276, 'schedule': 3265, 'dhanush': 922, 'hw': 1855, 'dileep': 955, 'venugopal': 4528, 'mention': 2289, 'remembrs': 3042, 'mandan': 2235, 'ibh': 1859, 'textbook': 4054, 'edition': 1161, 'buns': 400, 'invaders': 1934, 'orig': 2570, 'arcade': 166, 'console': 625, 'settings': 3346, 'cro': 713, 'atlanta': 197, 'create': 701, 'arun': 185, 'transfr': 4282, 'takin': 3964, 'philosophy': 2650, 'urmom': 4469, 'foley': 1460, 'desparate': 903, 'fake': 1326, 'stable': 3720, 'seh': 3310, 'beer': 268, 'combine': 560, 'walsall': 4619, 'tue': 4325, 'terry': 4045, 'jess': 1986, 'sian': 3449, 'shrek': 3437, 'dirty': 973, 'fellow': 1364, 'teresa': 4036, 'package': 2592, 'dec': 834, 'usmle': 4482, 'squishy': 3711, 'prominent': 2816, 'september': 3336, 'husband': 1853, 'fraction': 1506, 'dps': 1070, 'list': 2131, 'joanna': 1993, 'comingdown': 565, 'replacement': 3058, 'sts': 3811, 'engalnd': 1227, 'telly': 4023, 'elliot': 1195, 'upto': 4455, 'mth': 2404, 'tooth': 4242, 'wv': 4882, 'wipro': 4776, 'toa': 4199, 'payoh': 2623, 'fedex': 1355, 'reception': 2988, 'hate': 1746, 'consensus': 620, 'tag': 3956, 'wednesday': 4674, 'skype': 3511, 'laundry': 2079, 'underwear': 4404, 'strew': 3800, 'waheed': 4603, 'fathima': 1341, 'mmmm': 2333, 'weaknesses': 4659, 'push': 2872, 'expose': 1310, 'pull': 2857, 'wicked': 4746, 'srt': 3715, 'thnk': 4124, 'ps': 2842, 'nearly': 2447, 'beyond': 292, 'master': 2249, 'shell': 3387, 'unconsciously': 4397, 'unhappy': 4413, 'excuse': 1296, 'jog': 1995, 'abta': 11, 'season': 3291, 'sic': 3451, 'fones': 1468, 'wild': 4758, 'uh': 4372, 'vday': 4518, 'table': 3949, 'snowman': 3575, 'snowball': 3573, 'ello': 1196, 'ikea': 1876, 'ofice': 2529, 'cn': 542, 'duffer': 1112, 'prescription': 2754, 'cook': 643, 'electricity': 1192, 'rpl': 3162, 'fffff': 1374, 'kadeem': 2016, 'fujitsu': 1570, 'scold': 3268, 'zhong': 4994, 'se': 3288, 'qing': 2886, 'wud': 4877, 'prompt': 2821, 'vpod': 4591, 'carry': 456, 'avatar': 213, 'priority': 2783, 'constantly': 627, 'ecstasy': 1156, 'reflex': 3012, 'costa': 662, 'sol': 3586, 'toclaim': 4204, 'stockport': 3771, 'lousy': 2170, 'cat': 465, 'hip': 1787, 'aka': 86, 'egbon': 1175, 'ic': 1863, 'deduct': 846, 'wrks': 4864, 'honeybee': 1811, 'sweetest': 3924, 'havnt': 1752, 'crack': 689, 'tescos': 4046, 'feathery': 1351, 'nvm': 2512, 'delhi': 867, 'thinkin': 4114, 'fifa': 1383, 'boat': 337, 'moms': 2358, 'shhhhh': 3393, 'relate': 3025, 'fringe': 1543, 'distract': 994, 'corrct': 653, 'dane': 793, 'proof': 2824, 'rupaul': 3184, 'provide': 2837, 'curtsey': 758, 'yeh': 4931, 'preschoolco': 2751, 'feelingood': 1360, 'convert': 639, 'members': 2285, 'soil': 3584, 'major': 2225, 'roles': 3142, 'mel': 2281, 'birth': 305, 'visitors': 4571, 'rule': 3178, 'responsibility': 3085, 'thia': 4109, 'preview': 2769, 'freefone': 1519, 'dha': 921, 'shave': 3380, 'natural': 2440, 'onwards': 2552, 'tactful': 3954, 'skillgame': 3502, 'winaweek': 4764, 'ppermesssubscription': 2728, 'theatre': 4082, 'obviously': 2519, 'cram': 691, 'satsgettin': 3244, 'boost': 344, 'subtoitles': 3840, 'gari': 1613, 'infernal': 1909, 'affair': 55, 'calicut': 420, 'cast': 463, 'aom': 146, 'er': 1255, 'thkin': 4121, 'parco': 2605, 'nb': 2443, 'resubbing': 3092, 'shadow': 3363, 'ahmad': 73, 'saeed': 3200, 'hallaq': 1727, 'qp': 2889, 'purple': 2869, 'pink': 2669, 'lyk': 2207, 'yelow': 4934, 'bck': 252, 'giv': 1660, 'color': 557, 'eldest': 1189, 'drugdealer': 1094, 'gender': 1635, 'wither': 4787, 'sleepwell': 3521, 'wondarfull': 4815, 'txtx': 4360, 'normally': 2492, 'donyt': 1049, 'mca': 2265, 'rich': 3112, 'sayhey': 3253, 'endof': 1219, 'uwant': 4494, 'official': 2527, 'flag': 1426, 'yer': 4938, 'eng': 1224, 'yor': 4955, 'jason': 1975, 'soooo': 3620, 'provider': 2838, 'tming': 4189, 'cutest': 770, 'dice': 932, 'art': 183, 'inclusive': 1896, 'samachara': 3218, 'simulate': 3474, 'readiness': 2963, 'armand': 176, 'rub': 3172, 'feet': 1362, 'clever': 532, 'med': 2272, 'bray': 369, 'wicklow': 4748, 'eire': 1181, 'washob': 4633, 'ryan': 3191, 'vikky': 4552, 'idew': 1871, 'argh': 171, 'spotty': 3697, 'province': 2839, 'sterling': 3757, 'xam': 4887, 'manage': 2232, 'reject': 3024, 'shitload': 3407, 'diamonds': 930, 'tessy': 4047, 'favor': 1345, 'nimya': 2476, 'shijas': 3395, 'aunty': 209, 'china': 511, 'mcat': 2266, 'reset': 3072, 'troubleshoot': 4306, 'utele': 4486, 'strongly': 3807, 'sacrifice': 3197, 'creativity': 703, 'stifle': 3765, 'morphine': 2377, 'requirements': 3066, 'stayin': 3744, 'pix': 2671, 'qlynnbv': 2888, 'cld': 528, 'prefer': 2741, 'waaaat': 4597, 'kindly': 2042, 'document': 1018, 'stapati': 3730, 'miles': 2304, 'cutie': 771, 'hill': 1784, 'colleagues': 553, 'sed': 3303, 'mood': 2367, 'minuts': 2319, 'latr': 2077, 'kidz': 2038, 'sofa': 3581, 'specialisation': 3656, 'shakara': 3367, 'smash': 3544, 'dent': 880, 'crickiting': 711, 'dontmatter': 1047, 'urgoin': 4465, 'reallyneed': 2970, 'docd': 1014, 'dontplease': 1048, 'dontignore': 1046, 'thecd': 4083, 'tome': 4222, 'yavnt': 4922, 'yam': 4917, 'fishhead': 1417, 'tok': 4212, 'specific': 3659, 'ntwk': 2506, 'thankyou': 4073, 'pending': 2631, 'ffectionate': 1373, 'ternal': 4040, 'ruthful': 3186, 'textin': 4058, 'cousin': 681, 'frndship': 1548, 'raji': 2922, 'legs': 2095, 'neck': 2450, 'progress': 2812, 'continue': 633, 'holy': 1806, 'weren': 4700, 'tryin': 4317, 'billion': 300, 'waliking': 4611, 'shelve': 3388, 'distance': 993, 'youre': 4964, 'ref': 3006, 'smidgin': 3548, 'belive': 277, 'empty': 1214, 'slot': 3531, 'knock': 2048, 'como': 572, 'temp': 4027, 'unmits': 4430, 'display': 992, 'soup': 3634, 'yummmm': 4979, 'management': 2233, 'puzzeles': 2877, 'scammers': 3258, 'regular': 3023, 'prem': 2743, 'morro': 2378, 'dena': 877, 'threats': 4138, 'sales': 3211, 'shifad': 3394, 'complaint': 582, 'lounge': 2169, 'lk': 2137, 'role': 3141, 'lov': 2171, 'tolerat': 4218, 'comfort': 563, 'splashmobile': 3682, 'subscrition': 3838, 'dust': 1124, 'watchin': 4639, 'studio': 3818, 'bedrm': 266, 'unable': 4388, 'velly': 4525, 'wkend': 4796, 'huge': 1844, 'mids': 2301, 'oranges': 2565, 'upd': 4446, 'stoptx': 3782, 'annie': 125, 'mailbox': 2222, 'retrieve': 3098, 'va': 4497, 'hrishi': 1838, 'nothin': 2497, 'poem': 2694, 'tear': 4007, 'duchess': 1106, 'cornwall': 651, 'tddnewsletter': 4000, 'emc': 1206, 'thedailydraw': 4084, 'dozens': 1069, 'prizeswith': 2791, 'significant': 3460, 'waqt': 4626, 'nahi': 2428, 'zindgi': 4995, 'wo': 4808, 'jo': 1992, 'sochte': 3579, 'worse': 4837, 'dan': 789, 'varaya': 4507, 'elaya': 1188, 'aww': 222, 'iscoming': 1946, 'todo': 4207, 'workand': 4830, 'whilltake': 4732, 'zogtorius': 4997, 'whether': 4729, 'financial': 1401, 'frwd': 1562, 'unnecessarily': 4431, 'restrictions': 3091, 'spook': 3690, 'halloween': 1728, 'issue': 1952, 'football': 1473, 'sky': 3509, 'gamestar': 1604, 'active': 29, 'stream': 3794, 'opinions': 2558, 'measure': 2271, 'transcribe': 4280, 'propsd': 2831, 'gv': 1715, 'lv': 2203, 'lttrs': 2191, 'thm': 4122, 'aproach': 164, 'dt': 1102, 'truck': 4309, 'wn': 4805, 'instantly': 1922, 'thy': 4154, 'happily': 1737, 'gthr': 1707, 'evrydy': 1287, 'paragon': 2604, 'arent': 170, 'bluff': 334, 'impossible': 1888, 'sary': 3238, 'franyxxxxx': 1511, 'pussy': 2874, 'responce': 3081, 'happend': 1736, 'wiskey': 4783, 'brandy': 368, 'rum': 3179, 'gin': 1655, 'vodka': 4580, 'scotch': 3272, 'shampain': 3372, 'kudi': 2054, 'yarasu': 4920, 'dhina': 923, 'vaazhthukkal': 4498, 'gain': 1597, 'kg': 2034, 'sugar': 3856, 'pressure': 2762, 'limit': 2122, 'dumb': 1114, 'thangam': 4069, 'okey': 2537, 'doke': 1033, 'dress': 1081, 'whassup': 4712, 'kay': 2024, 'roger': 3140, 'nasty': 2435, 'filthyguys': 1396, 'slo': 3529, 'christ': 517, 'dialogue': 928, 'reltnship': 3035, 'wipe': 4775, 'solve': 3589, 'police': 2698, 'gardener': 1612, 'vegetables': 4521, 'maid': 2220, 'neighbour': 2456, 'murderer': 2416, 'brilliant': 376, 'dryer': 1100, 'fps': 1504, 'computational': 592, 'science': 3267, 'madam': 2214, 'disturbance': 996, 'dlf': 1006, 'premarica': 2744, 'rgds': 3107, 'bloo': 326, 'indians': 1904, 'swiss': 3933, 'directors': 970, 'crore': 714, 'taxless': 3991, 'budget': 394, 'lane': 2066, 'suply': 3886, 'citizen': 522, 'block': 323, 'politicians': 2699, 'corrupt': 657, 'pura': 2865, 'torrents': 4251, 'commit': 569, 'random': 2932, 'trivia': 4303, 'rightio': 3116, 'donno': 1043, 'scorable': 3270, 'properly': 2828, 'suganya': 3855, 'dessert': 907, 'sponsor': 3688, 'rr': 3164, 'sry': 3716, 'furniture': 1585, 'lock': 2146, 'easiest': 1142, 'ru': 3171, 'sppok': 3699, 'complementary': 583, 'srs': 3713, 'drizzle': 1089, 'shove': 3431, 'drama': 1073, 'struggle': 3810, 'strange': 3792, 'ego': 1177, 'reppurcussions': 3061, 'release': 3030, 'cosign': 660, 'acl': 23, 'require': 3065, 'freshers': 1531, 'suman': 3866, 'telephonic': 4019, 'indyarocks': 1907, 'dai': 785, 'resume': 3095, 'cars': 457, 'reliant': 3031, 'fwiw': 1591, 'whr': 4743, 'maga': 2216, 'sq': 3706, 'yunny': 4982, 'prop': 2826, 'statements': 3740, 'splendid': 3684, 'computers': 595, 'mmmmm': 2334, 'medicine': 2274, 'registration': 3021, 'residency': 3073, 'plenty': 2684, 'relatives': 3028, 'risk': 3127, 'benefit': 286, 'amount': 114, 'belong': 280, 'shoranur': 3418, 'incident': 1894, 'fuel': 1569, 'prior': 2782, 'violence': 4559, 'environment': 1250, 'terrific': 4042, 'promptly': 2822, 'advice': 50, 'snap': 3563, 'quizclub': 2905, 'rwm': 3190, 'someplace': 3595, 'pressies': 2761, 'dr': 1071, 'superior': 3884, 'ultimately': 4380, 'tor': 4249, 'tui': 4328, 'dock': 1015, 'roll': 3143, 'dabble': 780, 'flute': 1452, 'behind': 274, 'wheel': 4718, 'amaze': 110, 'picsfree': 2661, 'vid': 4542, 'ruin': 3177, 'erm': 1257, 'elaborate': 1185, 'safety': 3203, 'tarot': 3980, 'department': 885, 'conform': 612, 'instructions': 1925, 'lp': 2186, 'cysts': 777, 'bc': 251, 'shrink': 3438, 'timin': 4170, 'death': 832, 'toshiba': 4255, 'spose': 3695, 'rimac': 3119, 'squid': 3710, 'dosomething': 1057, 'wrk': 4861, 'dabooks': 781, 'eachother': 1133, 'tkls': 4184, 'stoptxtstop': 3784, 'innocent': 1916, 'mental': 2288, 'smoothly': 3554, 'challenge': 483, 'marrow': 2244, 'hon': 1809, 'reality': 2967, 'unni': 4432, 'dramastorm': 1074, 'forfeit': 1484, 'digi': 951, 'fab': 1318, 'coupla': 674, 'sundayish': 3873, 'tiwary': 4180, 'rcb': 2949, 'battle': 247, 'bang': 235, 'cancer': 441, 'pap': 2601, 'smear': 3545, 'arts': 184, 'pandy': 2599, 'technologies': 4011, 'usc': 4475, 'edu': 1163, 'secretary': 3297, 'taxt': 3992, 'tie': 4157, 'dollar': 1036, 'shake': 3368, 'booty': 345, 'lil': 2120, 'scarcasim': 3260, 'bro': 381, 'amongst': 113, 'bros': 383, 'sensible': 3329, 'response': 3083, 'nalla': 2430, 'ft': 1564, 'pout': 2725, 'stomp': 3773, 'northampton': 2493, 'abj': 6, 'serve': 3341, 'sara': 3232, 'smith': 3551, 'anna': 124, 'nagar': 2426, 'yupz': 4986, 'der': 893, 'frosty': 1560, 'witin': 4790, 'sept': 3335, 'theme': 4089, 'pump': 2858, 'petrol': 2647, 'feb': 1353, 'ignore': 1875, 'evr': 1284, 'signal': 3458, 'neither': 2457, 'unusual': 4443, 'hug': 1843, 'snog': 3569, 'west': 4704, 'uks': 4378, 'fastest': 1338, 'state': 3738, 'tariff': 3979, 'dd': 824, 'steam': 3750, 'reg': 3017, 'fling': 1438, 'public': 2853, 'govt': 1687, 'instituitions': 1924, 'tunde': 4333, 'luxury': 2202, 'canary': 439, 'sleepy': 3522, 'dare': 798, 'ben': 283, 'mag': 2215, 'middle': 2299, 'tiz': 4182, 'diwali': 1001, 'tick': 4155, 'onion': 2548, 'derp': 895, 'thgt': 4108, 'rebtel': 2980, 'firefox': 1411, 'lower': 2182, 'funs': 1584, 'footy': 1477, 'stadium': 3721, 'dark': 799, 'teenager': 4013, 'replace': 3057, 'pee': 2628, 'cthen': 733, 'enuff': 1248, 'conclusion': 603, 'success': 3841, 'rugby': 3176, 'twiggs': 4344, 'division': 999, 'courtroom': 680, 'creep': 705, 'crazyin': 698, 'sleepingwith': 3520, 'finest': 1404, 'ymca': 4951, 'wtc': 4871, 'weiyi': 4689, 'property': 2829, 'interflora': 1929, 'teeth': 4014, 'romcapspam': 3146, 'presence': 2755, 'cough': 666, 'bbd': 250, 'pimples': 2667, 'sweatter': 3922, 'tunji': 4335, 'iz': 1962, 'yellow': 4933, 'frndz': 1551, 'frog': 1554, 'tall': 3970, 'doubt': 1062, 'handle': 1732, 'note': 2496, 'japanese': 1973, 'proverb': 2836, 'strike': 3802, 'toss': 4256, 'dancin': 792, 'gayle': 1623, 'crucify': 719, 'freedom': 1517, 'vs': 4593, 'twenty': 4342, 'durham': 1121, 'seat': 3292, 'porn': 2712, 'stopbcm': 3778, 'sf': 3358, 'paint': 2596, 'printer': 2781, 'transfred': 4283, 'nowadays': 2503, 'showrooms': 3435, 'shape': 3377, 'probs': 2801, 'doinat': 1031, 'swatch': 3917, 'ganesh': 1606, 'yhl': 4946, 'configure': 609, 'helloooo': 1769, 'celebrate': 474, 'such': 3844, 'resubmit': 3093, 'geva': 1649, 'studyn': 3820, 'wuld': 4879, 'xxxxxxxx': 4908, 'flake': 1427, 'tm': 4188, 'ing': 1914, 'fireplace': 1412, 'fifth': 1385, 'woozles': 4825, 'weasels': 4663, 'gary': 1615, 'sake': 3206, 'bruce': 386, 'fletcher': 1435, 'cozy': 685, 'chest': 503, 'vibrator': 4538, 'trend': 4297, 'pros': 2832, 'con': 597, 'brief': 374, 'description': 897, 'fusion': 1587, 'history': 1789, 'doesdiscount': 1021, 'shitinnit': 3406, 'abi': 3, 'slower': 3534, 'sapna': 3230, 'swalpa': 3911, 'footbl': 1474, 'crckt': 699, 'swell': 3928, 'tim': 4167, 'tol': 4215, 'bell': 278, 'qf': 2884, 'senor': 3326, 'professional': 2807, 'tiger': 4159, 'woods': 4821, 'reboot': 2979, 'pt': 2849, 'entirely': 1242, 'bottom': 355, 'disconnect': 983, 'riley': 3118, 'wesley': 4702, 'hm': 1794, 'salon': 3215, 'sankranti': 3226, 'republic': 3063, 'shivratri': 3409, 'ugadi': 4369, 'teachers': 4005, 'festival': 1368, 'dasara': 809, 'rememberi': 3040, 'raj': 2920, 'daywith': 821, 'somewheresomeone': 3605, 'tosend': 4254, 'selflessness': 3317, 'tallent': 3972, 'payment': 2622, 'crab': 688, 'shore': 3419, 'wave': 4649, 'footprints': 1476, 'fox': 1503, 'frndsship': 1550, 'dwn': 1128, 'slaaaaave': 3514, 'summon': 3869, 'range': 2936, 'slob': 3530, 'topic': 4246, 'webpage': 4668, 'yeesh': 4930, 'unsubscribed': 4440, 'subscriptions': 3836, 'admin': 41, 'xxsp': 4900, 'visionsms': 4568, 'stopcost': 3779, 'andros': 121, 'foot': 1472, 'penis': 2632, 'thinl': 4116, 'tightly': 4161, 'wnevr': 4806, 'vth': 4594, 'yen': 4935, 'pretsorginta': 2765, 'pretsovru': 2766, 'eveb': 1272, 'window': 4767, 'soundtrack': 3633, 'stdtxtrate': 3747, 'sg': 3359, 'emigrate': 1209, 'stagwood': 3724, 'winterstone': 4774, 'victors': 4541, 'enketa': 1233, 'priest': 2775, 'walkabout': 4613, 'removal': 3046, 'prove': 2835, 'footie': 1475, 'punj': 2862, 'thurs': 4150, 'sack': 3196, 'lookatme': 2158, 'twat': 4340, 'dungerees': 1117, 'punch': 2859, 'vat': 4514, 'grl': 1703, 'agalla': 66, 'thasa': 4075, 'mess': 2294, 'shudvetold': 3443, 'urgran': 4466, 'neway': 2465, 'tex': 4049, 'werebored': 4699, 'uin': 4374, 'updat': 4447, 'countinlots': 672, 'xxxxx': 4905, 'count': 670, 'describe': 896, 'randomly': 2934, 'reformat': 3013, 'otside': 2578, 'tape': 3978, 'wrench': 4857, 'thriller': 4140, 'director': 969, 'size': 3498, 'elephant': 1193, 'um': 4382, 'wouldn': 4848, 'deserve': 899, 'tight': 4160, 'diddy': 936, 'toothpaste': 4243, 'av': 211, 'everyday': 1278, 'curious': 754, 'auto': 210, 'postcard': 2717, 'talkin': 3969, 'bread': 370, 'windy': 4769, 'mahal': 2219, 'tirunelvai': 4174, 'dusk': 1123, 'puzzle': 2878, 'stairs': 3725, 'relation': 3026, 'luvs': 2200, 'recycle': 3000, 'toledo': 4216, 'ding': 961, 'tai': 3958, 'feng': 1367, 'reservations': 3070, 'swimsuit': 3931, 'necessary': 2449, 'watever': 4643, 'squeeeeeze': 3708, 'lik': 2117, 'frndshp': 1549, 'volcanoes': 4584, 'arise': 174, 'sway': 3918, 'disasters': 979, 'woould': 4824, 'deus': 913, 'deliveredtomorrow': 870, 'tap': 3977, 'spile': 3672, 'broad': 382, 'canal': 438, 'engin': 1228, 'edge': 1158, 'raviyog': 2944, 'east': 1144, 'sunoco': 3876, 'howard': 1831, 'starve': 3735, 'cheat': 496, 'owe': 2587, 'swann': 3913, 'fromm': 1556, 'wylie': 4885, 'meds': 2275, 'rct': 2951, 'thnq': 4126, 'vatian': 4515, 'yaxx': 4923, 'ee': 1168, 'sankatmochan': 3225, 'ramaduth': 2930, 'dodda': 1019, 'problum': 2799, 'siguviri': 3462, 'easily': 1143, 'tron': 4304, 'dl': 1004, 'selfish': 3316, 'spiffing': 3671, 'workage': 4829, 'supose': 3887, 'embassy': 1205, 'custom': 762, 'sac': 3194, 'yetty': 4943, 'jiayin': 1990, 'tg': 4064, 'reverse': 3102, 'mathematics': 2254, 'waxsto': 4651, 'basic': 240, 'yifeng': 4948, 'slurp': 3537, 'minimum': 2311, 'doll': 1035, 'vehicle': 4523, 'sariyag': 3237, 'elaine': 1186, 'tiime': 4164, 'resize': 3074, 'drunken': 1097, 'shortcode': 3423, 'somerset': 3596, 'dismissial': 991, 'screwd': 3281, 'float': 1443, 'das': 808, 'wellda': 4692, 'studentfinancial': 3816, 'crisis': 712, 'ths': 4146, 'ias': 1858, 'uhhhhrmm': 4373, 'mb': 2264, 'deltomorrow': 872, 'smartcall': 3542, 'subscriptn': 3837, 'callback': 423, 'fink': 1408, 'youphone': 4962, 'youwanna': 4970, 'pretend': 2764, 'reflection': 3011, 'desire': 901, 'traditions': 4273, 'gate': 1618, 'weddingfriend': 4672, 'reslove': 3075, 'western': 4705, 'outta': 2583, 'entropication': 1245, 'fidalfication': 1379, 'wotz': 4844, 'accident': 18, 'divert': 998, 'wadebridge': 4599, 'vill': 4554, 'bloomberg': 329, 'seek': 3306, 'priscilla': 2784, 'wisdom': 4778, 'wherre': 4728, 'resolution': 3076, 'frank': 1508, 'kent': 2029, 'vale': 4501, 'cann': 442, 'westlife': 4706, 'unbreakable': 4390, 'untamed': 4441, 'unkempt': 4425, 'prince': 2777, 'xxxxxxxxxxxxxx': 4910, 'dorothy': 1055, 'granite': 1694, 'explosive': 1309, 'nasdaq': 2434, 'symbol': 3940, 'cdgt': 471, 'eppolum': 1253, 'fundamentals': 1579, 'whoever': 4737, 'mega': 2278, 'doom': 1050, 'captain': 446, 'placement': 2674, 'spouse': 3698, 'sumthin': 3870, 'shldxxxx': 3411, 'scenario': 3262, 'spin': 3673, 'wrld': 4865, 'tx': 4350, 'fonin': 1469, 'frmcloud': 1545, 'xe': 4891, 'lion': 2126, 'devour': 919, 'airtel': 80, 'tense': 4034, 'sprint': 3703, 'prolly': 2814, 'filth': 1394, 'saristar': 3236, 'yt': 4977, 'wire': 4777, 'sabarish': 3193, 'jaya': 1978, 'flea': 1434, 'forums': 1496, 'taj': 3960, 'mumtaz': 2413, 'shahjahan': 3366, 'wifes': 4753, 'rtf': 3168, 'sphosting': 3668, 'webadres': 4666, 'incredible': 1898, 'fwd': 1590, 'maturity': 2258, 'twin': 4346, 'strt': 3808, 'uneventful': 4408, 'cyclists': 776, 'entey': 1240, 'kavalan': 2023, 'cps': 686, 'conserve': 622, 'epi': 1252, 'dubsack': 1105, 'macho': 2212, 'forth': 1493, 'audition': 204, 'workout': 4832, 'zac': 4987, 'tonights': 4233, 'xin': 4893, 'lib': 2107, 'difference': 945, 'versus': 4531, 'underdtand': 4402, 'skateboard': 3500, 'despite': 906, 'fell': 1363, 'swoop': 3935, 'wamma': 4620, 'doggin': 1027, 'langport': 2067, 'virtual': 4566, 'senthil': 3332, 'sri': 3712, 'relationship': 3027, 'wherevr': 4727, 'forevr': 1483, 'smack': 3538, 'promotion': 2820, 'vegas': 4520, 'lou': 2167, 'soc': 3578, 'texted': 4057, 'ything': 4978, 'vewy': 4534, 'lubly': 2192, 'specify': 3660, 'domain': 1040, 'yorge': 4956, 'ummifying': 4384, 'rip': 3125, 'uterus': 4487, 'pool': 2707, 'txtstar': 4357, 'uve': 4492, 'wildest': 4759, 'rtm': 3169, 'unhappiness': 4412, 'witout': 4792, 'wth': 4873, 'wrd': 4855, 'wthout': 4874, 'takecare': 3963, 'univ': 4422, 'rajas': 2921, 'terrorist': 4044, 'confirmd': 611, 'cnn': 543, 'ibn': 1862, 'stitch': 3769, 'trouser': 4307, 'sync': 3943, 'shangela': 3373, 'hppnss': 1836, 'goodfriend': 1677, 'uup': 4490, 'forgiveness': 1487, 'fruit': 1561, 'stone': 3774, 'wlcome': 4802, 'timi': 4169, 'mila': 2303, 'blonde': 325, 'mtalk': 2403, 'pp': 2727, 'increments': 1899, 'fishrman': 1418, 'strtd': 3809, 'throwin': 4144, 'atlast': 198, 'delicious': 868, 'salad': 3207, 'desert': 898, 'whore': 4740, 'funk': 1581, 'twinks': 4347, 'scallies': 3257, 'skin': 3504, 'nat': 2436, 'flood': 1444, 'wishlist': 4782, 'section': 3301, 'creative': 702, 'reffering': 3009, 'weirdy': 4688, 'restrict': 3090, 'funeral': 1580, 'vivek': 4575, 'tnc': 4196, 'brah': 365, 'possession': 2714, 'protect': 2834, 'sib': 3450, 'sensitive': 3330, 'passwords': 2616, 'someday': 3592, 'blu': 331, 'concert': 602, 'yuou': 4984, 'spot': 3696, 'ipad': 1941, 'ystrday': 4976, 'sublet': 3829, 'steer': 3753, 'rounder': 3156, 'zoom': 4998, 'stopcs': 3780, 'cheese': 500, 'tms': 4194, 'widelive': 4750, 'index': 1901, 'wml': 4804, 'ecef': 1152, 'ff': 1372, 'xafter': 4886, 'cst': 729, 'pure': 2867, 'enemies': 1221, 'smiley': 3550, 'gail': 1595, 'yaxxx': 4924, 'theoretically': 4093, 'formally': 1491, 'hsbc': 1840, 'vague': 4499, 'asp': 193, 'tarpon': 3981, 'step': 3754, 'radiator': 2910, 'proper': 2827, 'tongue': 4231, 'qi': 2885, 'suddenly': 3849, 'flurry': 1451, 'melt': 2283, 'eek': 1169, 'pushbutton': 2873, 'dontcha': 1045, 'webeburnin': 4667, 'sos': 3630, 'rahul': 2915, 'dengra': 878, 'toplay': 4247, 'fieldof': 1381, 'selfindependence': 3315, 'contention': 631, 'affairs': 56, 'secure': 3302, 'unsecured': 4435, 'eckankar': 1154, 'heater': 1761, 'degrees': 861, 'dodgey': 1020, 'rebel': 2978, 'dreamz': 1080, 'eta': 1265, 'dizzamn': 1002, 'suitemates': 3863, 'continent': 632, 'housewives': 1829, 'landlines': 2065, 'emerge': 1207, 'fiend': 1382, 'thousad': 4134, 'tram': 4277, 'vic': 4539, 'triple': 4300, 'echo': 1153, 'cusoon': 759, 'dial': 927, 'university': 4423, 'southern': 3637, 'california': 421, 'rayan': 2947, 'ball': 234, 'trishul': 4301, 'woo': 4819, 'thout': 4136, 'flatter': 1432, 'literally': 2133, 'motivate': 2383, 'darkness': 802, 'wknd': 4800, 'yalrigu': 4915, 'kothi': 2052, 'prof': 2806, 'sem': 3319, 'student': 3815, 'enna': 1234, 'sporadically': 3692, 'tbs': 3996, 'actual': 32, 'sickness': 3453, 'villa': 4555, 'sathya': 3242, 'gam': 1601, 'religiously': 3033, 'tip': 4172, 'doc': 1013, 'unconvinced': 4398, 'willpower': 4762, 'reasonable': 2975, 'mnth': 2336, 'prin': 2776, 'spam': 3646, 'ukp': 4377, 'thet': 4103, 'skinny': 3505, 'elections': 1191, 'serena': 3337, 'prescribe': 2752, 'kappa': 2020, 'approve': 159, 'spjanuary': 3678, 'fortune': 1494, 'depression': 891, 'simpsons': 3473, 'shite': 3404, 'renew': 3049, 'subject': 3828, 'debate': 833, 'wtlp': 4875, 'florida': 1447, 'royal': 3160, 'tog': 4208, 'swhrt': 3929, 'sticky': 3764, 'prizeawaiting': 2790, 'tuth': 4338, 'spiral': 3675, 'riddance': 3113, 'raglan': 2914, 'edward': 1167, 'cricket': 709, 'skye': 3510, 'drastic': 1076, 'indicate': 1905, 'garment': 1614, 'sez': 3357, 'evry': 1286, 'ugo': 4371, 'semiobscure': 3322, 'repeat': 3055, 'calculation': 418, 'blur': 335, 'clothe': 538, 'deluxe': 873, 'feature': 1352, 'lush': 2198, 'fumble': 1575, 'taunton': 3988, 'weekdays': 4678, 'haiz': 1725, 'common': 570, 'greatest': 1698, 'courage': 676, 'defeat': 853, 'stil': 3766, 'tobed': 4202, 'beauty': 260, 'natalja': 2438, 'prsn': 2841, 'sunlight': 3874, 'loss': 2163, 'relocate': 3034, 'thesmszone': 4102, 'woodland': 4820, 'useless': 4478, 'ed': 1157, 'shelf': 3386, 'previous': 2770, 'stu': 3812, 'truble': 4308, 'hat': 1745, 'mokka': 2354, 'view': 4549, 'gays': 1624, 'dual': 1103, 'polyh': 2702, 'tulsi': 4332, 'bone': 340, 'problms': 2798, 'watr': 4646, 'diseases': 987, 'snd': 3566, 'scouse': 3275, 'steve': 3759, 'recreation': 2999, 'epsilon': 1254, 'mesages': 2293, 'fridays': 1535, 'waheeda': 4604, 'tolerance': 4217, 'lst': 2188, 'texd': 4051, 'ward': 4627, 'emily': 1210, 'emotion': 1211, 'dsn': 1101, 'ujhhhhhhh': 4375, 'sandiago': 3223, 'sweater': 3921, 'massive': 2248, 'absolutly': 9, 'consent': 621, 'tonexs': 4229, 'polo': 2700, 'tait': 3959, 'promote': 2819, 'crowd': 716, 'snowboard': 3574, 'recpt': 2998, 'shola': 3414, 'academic': 14, 'sagamu': 3204, 'vital': 4572, 'education': 1164, 'zealand': 4989, 'qet': 2883, 'subscribers': 3834, 'conversations': 638, 'skint': 3506, 'waz': 4653, 'watchng': 4640, 'wudn': 4878, 'coast': 545, 'frequently': 1529, 'cupboard': 751, 'route': 3157, 'floppy': 1446, 'snappy': 3564, 'flavour': 1433, 'deny': 884, 'dom': 1039, 'ffffuuuuuuu': 1376, 'dehydrate': 862, 'dogwood': 1029, 'tiny': 4171, 'stun': 3822, 'visa': 4567, 'sozi': 3640, 'culdnt': 745, 'talkbut': 3968, 'wannatell': 4623, 'wenwecan': 4697, 'smsing': 3557, 'efficient': 1172, 'explicit': 1308, 'secs': 3300, 'thandiyachu': 4068, 'unrecognized': 4433, 'somone': 3607, 'definitly': 858, 'undrstnd': 4405, 'toking': 4214, 'syd': 3938, 'dhorte': 925, 'spar': 3648, 'warwick': 4632, 'tmw': 4195, 'proze': 2840, 'decorate': 844, 'roomate': 3149, 'cooperative': 647, 'clearly': 531, 'thanku': 4072, 'string': 3803, 'ea': 1131, 'sexiest': 3352, 'dirtiest': 972, 'tellmiss': 4022, 'contribute': 635, 'urgh': 4463, 'duvet': 1125, 'utxt': 4489, 'surrender': 3902, 'symptoms': 3942, 'rdy': 2955, 'zf': 4993, 'quiteamuzing': 2903, 'scool': 3269, 'probpop': 2800, 'cu': 740, 'satthen': 3245, 'psxtra': 2845, 'mnths': 2337, 'engagement': 1226, 'fixd': 1422, 'vilikkam': 4553, 'sudn': 3850, 'firsg': 1414, 'split': 3685, 'wasnt': 4635, 'sumfing': 3867, 'txtstop': 4358, 'tonsolitusaswell': 4236, 'resort': 3078, 'roller': 3144, 'recorder': 2995, 'capital': 444, 'showr': 3434, 'upon': 4452, 'presnts': 2759, 'mis': 2321, 'sneham': 3567, 'ennal': 1235, 'firmware': 1413, 'vijaykanth': 4551, 'decades': 835, 'loyal': 2184, 'customers': 765, 'spice': 3669, 'fizz': 1424, 'contain': 629, 'robinson': 3135, 'soz': 3639, 'freinds': 1525, 'sometext': 3597, 'wewa': 4711, 'surly': 3899, 'dokey': 1034, 'snuggle': 3576, 'whisper': 4733, 'error': 1258, 'scrap': 3276, 'sleepin': 3519, 'tasts': 3983, 'rayman': 2948, 'termsapply': 4039, 'minor': 2315, 'shindig': 3399, 'shijutta': 3396, 'dvg': 1127, 'vinobanagar': 4557, 'woah': 4809, 'secrets': 3299, 'cashbin': 461, 'stressfull': 3798, 'president': 2757, 'whens': 4723, 'gailxx': 1596, 'complacent': 580, 'denis': 879, 'woulda': 4847, 'dolls': 1038, 'swayze': 3919, 'santa': 3227, 'santacalling': 3228, 'miserable': 2323, 'quarter': 2892, 'aa': 0, 'punishment': 2861, 'situations': 3495, 'smaller': 3540, 'videos': 4546, 'shsex': 3440, 'fgkslpopw': 1378, 'fgkslpo': 1377, 'defer': 854, 'shah': 3365, 'shoppin': 3417, 'texas': 4050, 'weapon': 4660, 'customercare': 764, 'couch': 664, 'celebration': 475, 'swashbuckling': 3915, 'terror': 4043, 'cruel': 720, 'decent': 837, 'dip': 965, 'nuther': 2511, 'differences': 946, 'infections': 1908, 'device': 916, 'tallahassee': 3971, 'taka': 3961, 'ritten': 3129, 'fold': 1459, 'warner': 4630, 'swat': 3916, 'kiosk': 2044, 'solihull': 3588, 'terminate': 4038, 'dentists': 883, 'henry': 1773, 'yards': 4921, 'snot': 3571, 'unintentional': 4417, 'toaday': 4200, 'splat': 3683, 'yah': 4913, 'torture': 4253, 'sisters': 3488, 'sexychat': 3356, 'congratulation': 615, 'court': 679, 'frontierville': 1559, 'deer': 850, 'varma': 4510, 'woot': 4823, 'vouch': 4588, 'donate': 1042, 'unicef': 4415, 'tsunami': 4321, 'disaster': 978, 'fund': 1578, 'cme': 541, 'cumming': 749, 'thinkthis': 4115, 'dangerous': 796, 'goldviking': 1673, 'coulda': 668, 'wedlunch': 4673, 'watershd': 4642, 'fromwrk': 1557, 'punto': 2863, 'freeentry': 1518, 'xt': 4897, 'toyota': 4267, 'rencontre': 3048, 'te': 4001, 'puppy': 2864, 'sarasota': 3233, 'deepest': 849, 'darkest': 801, 'dudette': 1110, 'stage': 3723, 'cherish': 502, 'preponed': 2750, 'natalie': 2437, 'younger': 4961, 'wallpaper': 4617, 'skyving': 3513, 'rajitha': 2924, 'ranju': 2938, 'slp': 3536, 'muah': 2409, 'disagreeable': 975, 'vivekanand': 4576, 'uawake': 4365, 'feellikw': 1361, 'thatmum': 4077, 'thnov': 4125, 'fuckinnice': 1567, 'deviousbitch': 918, 'rearrange': 2973, 'dormitory': 1054, 'starer': 3732, 'election': 1190, 'recount': 2996, 'eleven': 1194, 'worm': 4835, 'dysentry': 1130, 'virgil': 4563, 'shanil': 3375, 'uncut': 4400, 'diamond': 929, 'dino': 963, 'sugababes': 3854, 'zebra': 4990, 'resent': 3069, 'query': 2895, 'customersqueries': 766, 'fassyole': 1335, 'eva': 1270, 'responsibilities': 3084, 'vco': 4517, 'reassurance': 2976, 'tohar': 4210, 'enufcredeit': 1247, 'tocall': 4203, 'zero': 4992, 'sday': 3286, 'pubs': 2855, 'frankie': 1509, 'diapers': 931, 'unlike': 4428, 'turkeys': 4336, 'princes': 2778, 'unintentionally': 4418, 'garden': 1611, 'bulbs': 399, 'seed': 3305, 'scotsman': 3274, 'notxt': 2500, 'wenever': 4696, 'stability': 3719, 'tranquility': 4278, 'vibrant': 4536, 'velusamy': 4526, 'salt': 3216, 'wound': 4849, 'fuuuuck': 1589, 'salmon': 3214, 'wrkin': 4862, 'ree': 3005, 'compensation': 578, 'splash': 3681, 'telediscount': 4017, 'gastroenteritis': 1617, 'reduce': 3004, 'illness': 1879, 'foned': 1467, 'spinout': 3674, 'uworld': 4495, 'qbank': 2882, 'someonone': 3594, 'tke': 4183, 'temales': 4026, 'finishd': 1407, 'dull': 1113, 'treadmill': 4290, 'craigslist': 690, 'swan': 3912, 'sall': 3213, 'shexy': 3392, 'foward': 1501, 'reapply': 2972, 'treatin': 4293, 'treacle': 4289, 'theplace': 4095, 'favorite': 1346, 'sashimi': 3239, 'rumble': 3180, 'correctly': 656, 'pride': 2774, 'respectful': 3080, 'steyn': 3761, 'wicket': 4747, 'sterm': 3758, 'resolve': 3077, 'wheat': 4717, 'stink': 3768, 'subsequent': 3839, 'upcharge': 4445, 'bottle': 354, 'amuse': 117, 'slack': 3515, 'ecstacy': 1155, 'dept': 892, 'sane': 3224, 'psp': 2844, 'spacebucks': 3643, 'squeeze': 3709, 'dread': 1078, 'thou': 4131, 'suggestion': 3859, 'forgt': 1488, 'yoville': 4971, 'seperated': 3334, 'ud': 4368, 'franxx': 1510, 'prometazine': 2815, 'syrup': 3945, 'shu': 3441, 'singapore': 3479, 'victoria': 4540, 'island': 1948, 'wocay': 4810, 'ramen': 2931, 'fowler': 1502, 'tix': 4181, 'fne': 1457, 'youdoing': 4958, 'worc': 4826, 'foregate': 1480, 'shrub': 3439, 'efreefone': 1173, 'toilet': 4211, 'sparkle': 3651, 'shortbreaks': 3422, 'gamb': 1602, 'treasure': 4291, 'command': 566, 'stressful': 3797, 'yeovil': 4936, 'rhode': 3109, 'ultimate': 4379, 'spider': 3670, 'tamilnadu': 3973, 'endless': 1218, 'reassure': 2977, 'young': 4960, 'referin': 3008, 'saibaba': 3205, 'declare': 843, 'disappointment': 977, 'tantrum': 3976, 'compliment': 587, 'servs': 3344, 'desk': 902, 'cribbs': 708, 'spiritual': 3677, 'sudden': 3848, 'shud': 3442, 'pshew': 2843, 'units': 4421, 'dental': 881, 'dump': 1115, 'salesman': 3212, 'suggestions': 3860}\n"
          ]
        }
      ]
    },
    {
      "cell_type": "code",
      "metadata": {
        "id": "zy6OtznHVKWJ",
        "colab": {
          "base_uri": "https://localhost:8080/"
        },
        "outputId": "410c8dad-d986-4e54-b11f-dc9ba20b39cf"
      },
      "source": [
        "type(X_train)\n",
        "#print(X_train)\n",
        "len(y_test)"
      ],
      "execution_count": 13,
      "outputs": [
        {
          "output_type": "execute_result",
          "data": {
            "text/plain": [
              "1115"
            ]
          },
          "metadata": {},
          "execution_count": 13
        }
      ]
    },
    {
      "cell_type": "markdown",
      "metadata": {
        "id": "0sAdI0U0oPbX"
      },
      "source": [
        "## If we print(X_train) we will see the data is something like the following picture, \n",
        "\n",
        "where the format is (Row number, Unique Integer number of each word in the first row)  Score calculated by TF-IDF Vectorizer\n",
        "![classic.JPG](data:image/jpeg;base64,/9j/4AAQSkZJRgABAQEAeAB4AAD/4RDaRXhpZgAATU0AKgAAAAgABAE7AAIAAAAFAAAISodpAAQAAAABAAAIUJydAAEAAAAKAAAQyOocAAcAAAgMAAAAPgAAAAAc6gAAAAgAAAAAAAAAAAAAAAAAAAAAAAAAAAAAAAAAAAAAAAAAAAAAAAAAAAAAAAAAAAAAAAAAAAAAAAAAAAAAAAAAAAAAAAAAAAAAAAAAAAAAAAAAAAAAAAAAAAAAAAAAAAAAAAAAAAAAAAAAAAAAAAAAAAAAAAAAAAAAAAAAAAAAAAAAAAAAAAAAAAAAAAAAAAAAAAAAAAAAAAAAAAAAAAAAAAAAAAAAAAAAAAAAAAAAAAAAAAAAAAAAAAAAAAAAAAAAAAAAAAAAAAAAAAAAAAAAAAAAAAAAAAAAAAAAAAAAAAAAAAAAAAAAAAAAAAAAAAAAAAAAAAAAAAAAAAAAAAAAAAAAAAAAAAAAAAAAAAAAAAAAAAAAAAAAAAAAAAAAAAAAAAAAAAAAAAAAAAAAAAAAAAAAAAAAAAAAAAAAAAAAAAAAAAAAAAAAAAAAAAAAAAAAAAAAAAAAAAAAAAAAAAAAAAAAAAAAAAAAAAAAAAAAAAAAAAAAAAAAAAAAAAAAAAAAAAAAAAAAAAAAAAAAAAAAAAAAAAAAAAAAAAAAAAAAAAAAAAAAAAAAAAAAAAAAAAAAAAAAAAAAAAAAAAAAAAAAAAAAAAAAAAAAAAAAAAAAAAAAAAAAAAAAAAAAAAAAAAAAAAAAAAAAAAAAAAAAAAAAAAAAAAAAAAAAAAAAAAAAAAAAAAAAAAAAAAAAAAAAAAAAAAAAAAAAAAAAAAAAAAAAAAAAAAAAAAAAAAAAAAAAAAAAAAAAAAAAAAAAAAAAAAAAAAAAAAAAAAAAAAAAAAAAAAAAAAAAAAAAAAAAAAAAAAAAAAAAAAAAAAAAAAAAAAAAAAAAAAAAAAAAAAAAAAAAAAAAAAAAAAAAAAAAAAAAAAAAAAAAAAAAAAAAAAAAAAAAAAAAAAAAAAAAAAAAAAAAAAAAAAAAAAAAAAAAAAAAAAAAAAAAAAAAAAAAAAAAAAAAAAAAAAAAAAAAAAAAAAAAAAAAAAAAAAAAAAAAAAAAAAAAAAAAAAAAAAAAAAAAAAAAAAAAAAAAAAAAAAAAAAAAAAAAAAAAAAAAAAAAAAAAAAAAAAAAAAAAAAAAAAAAAAAAAAAAAAAAAAAAAAAAAAAAAAAAAAAAAAAAAAAAAAAAAAAAAAAAAAAAAAAAAAAAAAAAAAAAAAAAAAAAAAAAAAAAAAAAAAAAAAAAAAAAAAAAAAAAAAAAAAAAAAAAAAAAAAAAAAAAAAAAAAAAAAAAAAAAAAAAAAAAAAAAAAAAAAAAAAAAAAAAAAAAAAAAAAAAAAAAAAAAAAAAAAAAAAAAAAAAAAAAAAAAAAAAAAAAAAAAAAAAAAAAAAAAAAAAAAAAAAAAAAAAAAAAAAAAAAAAAAAAAAAAAAAAAAAAAAAAAAAAAAAAAAAAAAAAAAAAAAAAAAAAAAAAAAAAAAAAAAAAAAAAAAAAAAAAAAAAAAAAAAAAAAAAAAAAAAAAAAAAAAAAAAAAAAAAAAAAAAAAAAAAAAAAAAAAAAAAAAAAAAAAAAAAAAAAAAAAAAAAAAAAAAAAAAAAAAAAAAAAAAAAAAAAAAAAAAAAAAAAAAAAAAAAAAAAAAAAAAAAAAAAAAAAAAAAAAAAAAAAAAAAAAAAAAAAAAAAAAAAAAAAAAAAAAAAAAAAAAAAAAAAAAAAAAAAAAAAAAAAAAAAAAAAAAAAAAAAAAAAAAAAAAAAAAAAAAAAAAAAAAAAAAAAAAAAAAAAAAAAAAAAAAAAAAAAAAAAAAAAAAAAAAAAAAAAAAAAAAAAAAAAAAAAAAAAAAAAAAAAAAAAAAAAAAAAAAAAAAAAAAAAAAAAAAAAAAAAAAAAAAAAAAAAAAAAAAAAAAAAAAAAAAAAAAAAAAAAAAAAAAAAAAAAAAAAAAAAAAAAAAAAAAAAAAAAAAAAAAAAAAAAAAAAAAAAAAAAAAAAAAAAAAAAAAAAAAAAAAAAAAAAAAAAAAAAAAAAAAAAAAAAAAAAAAAAAAAAAAAAAAAAAAAAAAAAAAAAAAAAAAAAAAAAAAAAAAAAAAAAAAAAAAAAAAAAAAAAAAAAAAAAAAAAAAAAAAAAAAAAAAAAAAAAAAAAAAAAAAAAAAAAAAAAAAAAAAAAAAAAAAAAAAAAAAAAAAAAAAAAAAAAAAAAAAAAAAAAAAAAAAAAAAAAAAAAAAAAAAAAAAAAAAAAAAAAAAAAAAAAAAAAAAAAAAAAAAAAAAAAAAAAAAAAAAAAAAAAAAAAAAAAAAAAAAAAAAAAAAAAAAAAAAAAAAAAAAAAAAAAAAAAAAAAAAAAAAAAAAAAAAAAAAAAAAAAAAAAAAAAAAAAAAAAAAAAAAAAAAAAAAAAAAAAAAAAAAAAAAAAAAAAAAAAAAAAAAAAAAAAAAAAAAAAAAAAAAAAAAAAAAAAAAAAAAAAAAAAAAAAAAAAAAAAAAAAAAAAAAAAAAAAAAAAAAAAAAAAAAAAAAAAAAAAAAAAAAAAAAAAAAAAAAAAAAAAAAAAAAAAAAAAAAAAAAAAAAAAAAAAAAAAAAAAAAAAAAAAAAAAAAAAAAAAAAAAAAAAAAAAAAAAAAAAAAAAAAAAAAAAAAAAAAAAAAAAAAAAAAAAAAAAAAAAAAAAAAAAAAAAAAAAAAAAAAAAAAAAAAAAAAAAAAAAAAAAAAAAAAAAAAAAAAAAAAAAAAAAAAAAAAAAAAAAAAAAAAAAAAAAAAAAAAAAAAAAAAAAAAAAAAAAAAAAAAAAAAAAAAAAAAAAAAAAAAAAAAAAAEFzdXMAAAAFkAMAAgAAABQAABCekAQAAgAAABQAABCykpEAAgAAAAM0NwAAkpIAAgAAAAM0NwAA6hwABwAACAwAAAiSAAAAABzqAAAACAAAAAAAAAAAAAAAAAAAAAAAAAAAAAAAAAAAAAAAAAAAAAAAAAAAAAAAAAAAAAAAAAAAAAAAAAAAAAAAAAAAAAAAAAAAAAAAAAAAAAAAAAAAAAAAAAAAAAAAAAAAAAAAAAAAAAAAAAAAAAAAAAAAAAAAAAAAAAAAAAAAAAAAAAAAAAAAAAAAAAAAAAAAAAAAAAAAAAAAAAAAAAAAAAAAAAAAAAAAAAAAAAAAAAAAAAAAAAAAAAAAAAAAAAAAAAAAAAAAAAAAAAAAAAAAAAAAAAAAAAAAAAAAAAAAAAAAAAAAAAAAAAAAAAAAAAAAAAAAAAAAAAAAAAAAAAAAAAAAAAAAAAAAAAAAAAAAAAAAAAAAAAAAAAAAAAAAAAAAAAAAAAAAAAAAAAAAAAAAAAAAAAAAAAAAAAAAAAAAAAAAAAAAAAAAAAAAAAAAAAAAAAAAAAAAAAAAAAAAAAAAAAAAAAAAAAAAAAAAAAAAAAAAAAAAAAAAAAAAAAAAAAAAAAAAAAAAAAAAAAAAAAAAAAAAAAAAAAAAAAAAAAAAAAAAAAAAAAAAAAAAAAAAAAAAAAAAAAAAAAAAAAAAAAAAAAAAAAAAAAAAAAAAAAAAAAAAAAAAAAAAAAAAAAAAAAAAAAAAAAAAAAAAAAAAAAAAAAAAAAAAAAAAAAAAAAAAAAAAAAAAAAAAAAAAAAAAAAAAAAAAAAAAAAAAAAAAAAAAAAAAAAAAAAAAAAAAAAAAAAAAAAAAAAAAAAAAAAAAAAAAAAAAAAAAAAAAAAAAAAAAAAAAAAAAAAAAAAAAAAAAAAAAAAAAAAAAAAAAAAAAAAAAAAAAAAAAAAAAAAAAAAAAAAAAAAAAAAAAAAAAAAAAAAAAAAAAAAAAAAAAAAAAAAAAAAAAAAAAAAAAAAAAAAAAAAAAAAAAAAAAAAAAAAAAAAAAAAAAAAAAAAAAAAAAAAAAAAAAAAAAAAAAAAAAAAAAAAAAAAAAAAAAAAAAAAAAAAAAAAAAAAAAAAAAAAAAAAAAAAAAAAAAAAAAAAAAAAAAAAAAAAAAAAAAAAAAAAAAAAAAAAAAAAAAAAAAAAAAAAAAAAAAAAAAAAAAAAAAAAAAAAAAAAAAAAAAAAAAAAAAAAAAAAAAAAAAAAAAAAAAAAAAAAAAAAAAAAAAAAAAAAAAAAAAAAAAAAAAAAAAAAAAAAAAAAAAAAAAAAAAAAAAAAAAAAAAAAAAAAAAAAAAAAAAAAAAAAAAAAAAAAAAAAAAAAAAAAAAAAAAAAAAAAAAAAAAAAAAAAAAAAAAAAAAAAAAAAAAAAAAAAAAAAAAAAAAAAAAAAAAAAAAAAAAAAAAAAAAAAAAAAAAAAAAAAAAAAAAAAAAAAAAAAAAAAAAAAAAAAAAAAAAAAAAAAAAAAAAAAAAAAAAAAAAAAAAAAAAAAAAAAAAAAAAAAAAAAAAAAAAAAAAAAAAAAAAAAAAAAAAAAAAAAAAAAAAAAAAAAAAAAAAAAAAAAAAAAAAAAAAAAAAAAAAAAAAAAAAAAAAAAAAAAAAAAAAAAAAAAAAAAAAAAAAAAAAAAAAAAAAAAAAAAAAAAAAAAAAAAAAAAAAAAAAAAAAAAAAAAAAAAAAAAAAAAAAAAAAAAAAAAAAAAAAAAAAAAAAAAAAAAAAAAAAAAAAAAAAAAAAAAAAAAAAAAAAAAAAAAAAAAAAAAAAAAAAAAAAAAAAAAAAAAAAAAAAAAAAAAAAAAAAAAAAAAAAAAAAAAAAAAAAAAAAAAAAAAAAAAAAAAAAAAAAAAAAAAAAAAAAAAAAAAAAAAAAAAAAAAAAAAAAAAAAAAAAAAAAAAAAAAAAAAAAAAAAAAAAAAAAAAAAAAAAAAAAAAAAAAAAAAAAAAAAAAAAAAAAAAAAAAAAAAAAAAAAAAAAAAAAAAAAAAAAAAAAAAAAAAAAAAAAAAAAAAAAAAAAAAAAAAAAAAAAAAAAAAAAAAAAAAAAAAAAAAAAAAAAAAAAAAAAAAAAAAAAAAAAAAAAAAAAAAAAAAAAAAAAAAAAAAAAAAAAAAAAAAAAAAAAAAAAAAAAAAAAAAAAAAAAAAAAAAAAAAAAAAAAAAAAAAAAAAAAAAAAAAAAAAAAAAAAAAAAAAAAAAAAAAAAAAAAAAAAAAAAAAAAAAAAAAAAAAAAAAAAAAAAAAAAAAAAAAAAAAAAAAAAAAAAAAAAAAAAAAAAAAAAAAAAAAAAAAAAAAAAAAAAAAAAAAAAAAAAAAAAAAAAAAAAAAAAAAAAAAAAAAAAAAAAAAAAAAAAAAAAAAAAAAAAAAAAAAAAAAAAAAAAAAAAAAAAAAAAAAAAAAAAAAAAAAAAAAAAAAAAAAAAAAAAAAAAAAAAAAAAAAAAAAAAAAAAAAAAAAAAAAAAAAAAAAAAAAAAAAAAAAAAAAAAAAAAAAAAAAAAAAAAAAAAAAAAAAAAAAAAAAAAAAAAAAAAAAAAAAAAAAAAAAAAAAAAAAAAAAAAAAAAAAAAAAAAAAAAAAAAAAAAAAAAAAAAAAAAAAAAAAAAAAAAAAAAAAAAAAAAAAAAAAAAAAAAAAAAAAAAAAAAAAAAAAAAAAAAAAAAAAAAAAAAAAAAAAAAAAAAAAAAAAAAAAAAAAAAAAAAAAAAAAAAAAAAAAAAAAAAAAAAAAAAAAAAAAAAAAAAAAAAAAAAAAAAAAAAAAAAAAAAAAAAAAAAAAAAAAAAAAAAAAAAAAAAAAAAAAAAAAAAAAAAAAAAAAAAAAAAAAAAMjAyMToxMDoxMCAwMTozNTo1MgAyMDIxOjEwOjEwIDAxOjM1OjUyAAAAQQBzAHUAcwAAAP/hCxdodHRwOi8vbnMuYWRvYmUuY29tL3hhcC8xLjAvADw/eHBhY2tldCBiZWdpbj0n77u/JyBpZD0nVzVNME1wQ2VoaUh6cmVTek5UY3prYzlkJz8+DQo8eDp4bXBtZXRhIHhtbG5zOng9ImFkb2JlOm5zOm1ldGEvIj48cmRmOlJERiB4bWxuczpyZGY9Imh0dHA6Ly93d3cudzMub3JnLzE5OTkvMDIvMjItcmRmLXN5bnRheC1ucyMiPjxyZGY6RGVzY3JpcHRpb24gcmRmOmFib3V0PSJ1dWlkOmZhZjViZGQ1LWJhM2QtMTFkYS1hZDMxLWQzM2Q3NTE4MmYxYiIgeG1sbnM6ZGM9Imh0dHA6Ly9wdXJsLm9yZy9kYy9lbGVtZW50cy8xLjEvIi8+PHJkZjpEZXNjcmlwdGlvbiByZGY6YWJvdXQ9InV1aWQ6ZmFmNWJkZDUtYmEzZC0xMWRhLWFkMzEtZDMzZDc1MTgyZjFiIiB4bWxuczp4bXA9Imh0dHA6Ly9ucy5hZG9iZS5jb20veGFwLzEuMC8iPjx4bXA6Q3JlYXRlRGF0ZT4yMDIxLTEwLTEwVDAxOjM1OjUyLjQ3MjwveG1wOkNyZWF0ZURhdGU+PC9yZGY6RGVzY3JpcHRpb24+PHJkZjpEZXNjcmlwdGlvbiByZGY6YWJvdXQ9InV1aWQ6ZmFmNWJkZDUtYmEzZC0xMWRhLWFkMzEtZDMzZDc1MTgyZjFiIiB4bWxuczpkYz0iaHR0cDovL3B1cmwub3JnL2RjL2VsZW1lbnRzLzEuMS8iPjxkYzpjcmVhdG9yPjxyZGY6U2VxIHhtbG5zOnJkZj0iaHR0cDovL3d3dy53My5vcmcvMTk5OS8wMi8yMi1yZGYtc3ludGF4LW5zIyI+PHJkZjpsaT5Bc3VzPC9yZGY6bGk+PC9yZGY6U2VxPg0KCQkJPC9kYzpjcmVhdG9yPjwvcmRmOkRlc2NyaXB0aW9uPjwvcmRmOlJERj48L3g6eG1wbWV0YT4NCiAgICAgICAgICAgICAgICAgICAgICAgICAgICAgICAgICAgICAgICAgICAgICAgICAgICAgICAgICAgICAgICAgICAgICAgICAgICAgICAgICAgICAgICAgICAgICAgICAgICAKICAgICAgICAgICAgICAgICAgICAgICAgICAgICAgICAgICAgICAgICAgICAgICAgICAgICAgICAgICAgICAgICAgICAgICAgICAgICAgICAgICAgICAgICAgICAgICAgICAgIAogICAgICAgICAgICAgICAgICAgICAgICAgICAgICAgICAgICAgICAgICAgICAgICAgICAgICAgICAgICAgICAgICAgICAgICAgICAgICAgICAgICAgICAgICAgICAgICAgICAgCiAgICAgICAgICAgICAgICAgICAgICAgICAgICAgICAgICAgICAgICAgICAgICAgICAgICAgICAgICAgICAgICAgICAgICAgICAgICAgICAgICAgICAgICAgICAgICAgICAgICAKICAgICAgICAgICAgICAgICAgICAgICAgICAgICAgICAgICAgICAgICAgICAgICAgICAgICAgICAgICAgICAgICAgICAgICAgICAgICAgICAgICAgICAgICAgICAgICAgICAgIAogICAgICAgICAgICAgICAgICAgICAgICAgICAgICAgICAgICAgICAgICAgICAgICAgICAgICAgICAgICAgICAgICAgICAgICAgICAgICAgICAgICAgICAgICAgICAgICAgICAgCiAgICAgICAgICAgICAgICAgICAgICAgICAgICAgICAgICAgICAgICAgICAgICAgICAgICAgICAgICAgICAgICAgICAgICAgICAgICAgICAgICAgICAgICAgICAgICAgICAgICAKICAgICAgICAgICAgICAgICAgICAgICAgICAgICAgICAgICAgICAgICAgICAgICAgICAgICAgICAgICAgICAgICAgICAgICAgICAgICAgICAgICAgICAgICAgICAgICAgICAgIAogICAgICAgICAgICAgICAgICAgICAgICAgICAgICAgICAgICAgICAgICAgICAgICAgICAgICAgICAgICAgICAgICAgICAgICAgICAgICAgICAgICAgICAgICAgICAgICAgICAgCiAgICAgICAgICAgICAgICAgICAgICAgICAgICAgICAgICAgICAgICAgICAgICAgICAgICAgICAgICAgICAgICAgICAgICAgICAgICAgICAgICAgICAgICAgICAgICAgICAgICAKICAgICAgICAgICAgICAgICAgICAgICAgICAgICAgICAgICAgICAgICAgICAgICAgICAgICAgICAgICAgICAgICAgICAgICAgICAgICAgICAgICAgICAgICAgICAgICAgICAgIAogICAgICAgICAgICAgICAgICAgICAgICAgICAgICAgICAgICAgICAgICAgICAgICAgICAgICAgICAgICAgICAgICAgICAgICAgICAgICAgICAgICAgICAgICAgICAgICAgICAgCiAgICAgICAgICAgICAgICAgICAgICAgICAgICAgICAgICAgICAgICAgICAgICAgICAgICAgICAgICAgICAgICAgICAgICAgICAgICAgICAgICAgICAgICAgICAgICAgICAgICAKICAgICAgICAgICAgICAgICAgICAgICAgICAgICAgICAgICAgICAgICAgICAgICAgICAgICAgICAgICAgICAgICAgICAgICAgICAgICAgICAgICAgICAgICAgICAgICAgICAgIAogICAgICAgICAgICAgICAgICAgICAgICAgICAgICAgICAgICAgICAgICAgICAgICAgICAgICAgICAgICAgICAgICAgICAgICAgICAgICAgICAgICAgICAgICAgICAgICAgICAgCiAgICAgICAgICAgICAgICAgICAgICAgICAgICAgICAgICAgICAgICAgICAgICAgICAgICAgICAgICAgICAgICAgICAgICAgICAgICAgICAgICAgICAgICAgICAgICAgICAgICAKICAgICAgICAgICAgICAgICAgICAgICAgICAgICAgICAgICAgICAgICAgICAgICAgICAgICAgICAgICAgICAgICAgICAgICAgICAgICAgICAgICAgICAgICAgICAgICAgICAgIAogICAgICAgICAgICAgICAgICAgICAgICAgICAgICAgICAgICAgICAgICAgICAgICAgICAgICAgICAgICAgICAgICAgICAgICAgICAgICAgICAgICAgICAgICAgICAgICAgICAgCiAgICAgICAgICAgICAgICAgICAgICAgICAgICAgICAgICAgICAgICAgICAgICAgICAgICAgICAgICAgICAgICAgICAgICAgICAgICAgICAgICAgICAgICAgICAgICAgICAgICAKICAgICAgICAgICAgICAgICAgICAgICAgICAgICAgICAgICAgICAgICAgICAgICAgICAgICAgICAgICAgICAgICAgICAgICAgICAgICAgICAgICAgICAgICAgICAgICAgICAgIAogICAgICAgICAgICAgICAgICAgICAgICAgICAgPD94cGFja2V0IGVuZD0ndyc/Pv/bAEMABwUFBgUEBwYFBggHBwgKEQsKCQkKFQ8QDBEYFRoZGBUYFxseJyEbHSUdFxgiLiIlKCkrLCsaIC8zLyoyJyorKv/bAEMBBwgICgkKFAsLFCocGBwqKioqKioqKioqKioqKioqKioqKioqKioqKioqKioqKioqKioqKioqKioqKioqKioqKv/AABEIAPoBdgMBIgACEQEDEQH/xAAfAAABBQEBAQEBAQAAAAAAAAAAAQIDBAUGBwgJCgv/xAC1EAACAQMDAgQDBQUEBAAAAX0BAgMABBEFEiExQQYTUWEHInEUMoGRoQgjQrHBFVLR8CQzYnKCCQoWFxgZGiUmJygpKjQ1Njc4OTpDREVGR0hJSlNUVVZXWFlaY2RlZmdoaWpzdHV2d3h5eoOEhYaHiImKkpOUlZaXmJmaoqOkpaanqKmqsrO0tba3uLm6wsPExcbHyMnK0tPU1dbX2Nna4eLj5OXm5+jp6vHy8/T19vf4+fr/xAAfAQADAQEBAQEBAQEBAAAAAAAAAQIDBAUGBwgJCgv/xAC1EQACAQIEBAMEBwUEBAABAncAAQIDEQQFITEGEkFRB2FxEyIygQgUQpGhscEJIzNS8BVictEKFiQ04SXxFxgZGiYnKCkqNTY3ODk6Q0RFRkdISUpTVFVWV1hZWmNkZWZnaGlqc3R1dnd4eXqCg4SFhoeIiYqSk5SVlpeYmZqio6Slpqeoqaqys7S1tre4ubrCw8TFxsfIycrS09TV1tfY2dri4+Tl5ufo6ery8/T19vf4+fr/2gAMAwEAAhEDEQA/APpGoxPCbk24lTzggcxbhuCk4Bx1xkHn2ouZ0tbWW4lOEiQux9gMmuZ+H9qZvD6+Ib3a+pa8FvZ5P7qMMxRD/ZRCAB65PUmjv5f1/n9wdDqqK8pk1G71fwzPrlrqepDX7prifT4ILt0gtIYpGCmSIHyymF+YurFixA7Y9H0LUhrPh3TtTC7ReWsc+0dtyhsfrQtVf+tf+GYPR2L9FFFABRXCTDUrH4s6HBc6xd3SXlneSSw7vLgG0x7AsY443H5m3Nzy2MAL8VhqVr4H1bUrLWLqyW2t1MUVo3lN5nmDLNIPmPGAFBUdc7sjAtk+/wDnYaV5cp3VFct451C50/QLN4p57W0mu4otQvIPv21uc733fwjgAv8AwhicjGRm+H9ZsI/HkeleHtYl1XS7vT5Lgs1694sU0bovyzOzHlX5TccYU4G7kWrt/WiuTfS/9aux3Ec8UzSCKRHMbbHCsDsbAOD6HBBx7in1xmowR+GviJpmoWSiK38QO1lfRIAFeYIzxS4/vYV1J7gj0rs6FtcfWwUUUUAFFFFABRRRQAUUV59qF/Fq/iLXF1O91SODTZo7CxsdNu5LeS4neJZGYeWyl2+YABjtUKzHAyaOthnoNFc14B1a/wBW8KqdZdZNQtLiazuJFxh3ikK7uAByAOgHPYV0pGQRQxBRXnsktvpvjjR7PQ73WoHe6kivBqtxdtbzRhD8kZuSVdy20r5WTgMfu5o1yW3g8c6rN4ll8Qw6VHZW7W0li9+luhHmeaWa3+UYGzJajpcZ6FRXNazr8eleG7JPDzrqF5qAW30oNOZhMxXIkZySWRVBdmJOQOuSKzPhrHfw2niKw1LV73U5bPV5IFurqTe4HlRngHIUZYkL0GaOrXb/AIH+Yuiff+v0O4orgdTiPh3xv4ZtdJ1bUri8v55EvbW6vZLhZoPLLNKUYlYyGVcFAo5IxjioLi7/ALdv9blu7/VEmhv303SrLTrx4G3oilpMKQHO5iSZMqqqOOTlX/r7v80H9fn/AJHotFeXxeKbnU9C8LyeJdRfTtOuRcRapfW8pt0a4hbYqmYbTErMrnIK5IAzg4Oz4V8RWUWp+IbSLVnvNF02KG7gvLidpgkbq5cCZiTIoKEhstjJGeMB6asOx29FeaaVf61ffEzRtTvru7t7LVrS6e30suVjjhTZ5bunTzG3FjnpkDtUPxO1nVNR0nWYvD2o3On2mgxebeXlpIUeW4ONsCsOyq258eqj1o7f1/X+eg0ruy/r+v8AgnqNFcZ4l1IT+J9P0W81CfT9NXT5tRvZoJ2gaRUZFVPMUhlGWJO0gnAGcEgweErm4vtR17w7qLagtnGsNzZfaLqRbqOCUN8rSAiQEMjEZYsAwBORgC1V1/XT/P7ib/1/Xy+87qiuBOkoPiTp+naNfausOnQm91IyaxdTK27KwxFXkZfmO5jx0QevMniYalY+N/C8raxdtHeao8RtYm8qFYvIchSq/fOVBJcnkcBQcUdvP/Ow3pfy/wArndUVx3jDXBBr2m6E95d2cF3BNcXD2MbvcSohRRFGEBcElySUG4KpIK9RWv8AxDY6X8P9RufCl7dSTpOtsDfyzyzW08jrGN63BLrjcG2sMH0waFr/AF8vzDqd1RXnD3x8PeLtHTR77U72xmvf7M1Ka9vJLiOWZkYr5e8na6snzbAqjdt5IwtNr+613QbvWLbUtSXXLqa5/su3t7t44rWOCRkVpIgfLZPlyzOrEltoz8opXVr/ANf1rf0HZ3t/Wt/8j1OivOrnxiut/wBgW091eWNtf6UNSuk06KR7ibJQLEnlgyBclyzIAwAHIGa6fQ30vU/Ds0Hh/U70xB3heWWeWS5t5B95W8/c6MP7rDjI4qmmr/1s7Epp2N6iuFsz/Y/xVttG0fUb66tpdNkm1C1u7yW6EBVl8pw0jMyFtzDAOCADjjNY/jbWtU1W4F7ouo3VjpOkapbWrPbSFPt87TokikjrGikqR0LE/wB2ktWrdf8AO35jel/L/K56lRRRQAUUUUAR3MCXVrLbyjKSoUYexGDXLfD288rQF8OXjbdT0ECznjIwWReIpQO6ugBB9cjtXW1ShvdOm1y5tIHifUYIUNwFXLojFtgY9s/MQCffHNC39f6/zDocbb+CdX0rTdW0PRTYRWGqSyE6k8z/AGq3jkzlBHsIfbuYKd6gZBxkHdc8dX1x4Z8BfYPC9/HZ6usSQ6ZAUWWWfYVBRIyDuO3gnBxnJx1rs6KVtLf1oPrf+tSvYG5bTbY36qt0YlM6p0D4G7HtnNWKKKpu7uSlZWOJ1PSfFd1460/XbfT9GMWnQ3ECRPqkqtKshXDHFudpATpz168VZ8f6Nr3iXwtdaJpNvpwW9hCyT3N5IhiYMDwqxNuHHXI+ldbRS6WKTs7oyopteGjsz6bpw1BWASAahIYmXjkyeTkHrxsPbnnippOiXzeIJNf16WD7a1v9lgtrUs0VtFu3MN7AF2YhcttX7oAHGT0FFHW5NtLHHam48RfETS9PtcyW+gu17eyj7qzMhSKLP97Ds5HYBfUV2NZ+mXuk3F1qFvpUluZ7a4xexwgBllIByw7kjHPfHtWhQtkPdhRRRQAUUUUAFFFFABXHz+GdR0rxjqHiDw7a6deS6lEqyrf3Dwm3dQF3IVR8hgq7hhT8g5PQdhRR1uBhaToFzoXhKXTrG8WTUXWaU3csfytcSFmLlcnjc3TJ445qfw5Brlp4ZtYfEt3b3+sIjefNCNkcjZOOijHGBnaPpWtRQByt5pOu+I7ixj12307T7Ozu47wi0u3uZJnjO5Fy0UYQbsEn5icY4zmtHVX8SPNJb6RZ6WIHXat3c3km+Mkct5KxYbHp5gz6itmiiyasHW5yth8PNGtNH0iyla9eXSrdoIbmC9mtnIYguf3Tr94jOPpUXhXwbN4Yuteu4ppJ5r27kltEm1C4kTYUQKJA5I37lOXwzY4z2rr6KNbt9/1BaKxwPhXw/wCK9I1W51PW7LR9R1S/l/0rUBqcoMcOeIoozb/Kij+HdyeSfS2vhjVdE8R6xqPhuHTZ/wC1yJDLezOj2bkYbaFRg6EgNtynI5PTb2dFG4HP2Glah4Y8L2Gl6BDb6k9uu2WS+u2t95OSz5WOTJLEnGO/Wq9r4Niu7LVR4nlF9c6y0bXgt2eGNFQAJGmG3BRjrnLEknGcDqKKN3dhtscVcfD2FvGGkanb3eofZbOKZZVm1i7eQs2zZtJc/L8p3DIB4yDUfif4Z2OpeGNVstEe7trq93uok1W6FuZHbczNGHK8nJ+6fpXc0UdBp2dzjtV8FFdR0bVdHSO7u9KDxiDU7yV1mRiG5lbe25WAZSQwGMYHBGpoGi3dnf6lq+rPC2o6kyb4oHLRwRxghI1YgFurEtgZLHgVu0UE2Of8JaFdaPa3tzq8sU2q6ldPc3TwsSg/hRFJAO1UCjoO9ZnifSPE2q+ItHu9PstJNtpF4bmMz6jKjzgxsmCogYJ97PVuldnRR28v02H38/1Ob1PSdXl1XS9e0+KyGp2tvJb3FpLcOIZEk2kgSiMkFWRSCU5GRgZyM6fwLNrWk+IRrVxHa3+utG5NkzMtoYgBEVYhS5BXcWwuc44xmu1oo6W/ruO7TucfY+HNVu7rRRrNvpun2OiHzYLXTZnkWaXYUDHcibFUMxCjcSSOeOadv4N1fRrfV9L0AafHZarLI/8AaEszi4tVkJLIIwhD7SzlfnUDdyM5Ld5RQ9dxbHKzeGrzSNQ0q+8LJay/YbD+zntLyZolkhG0owkVGIZSvTaQQx6YpbHRNa03TddvrRrA69q032hY3Z/s0LBFRF3AbmACgltoLHsB06mih3f9d3f8wVl/Xy/I4nwT4f17w7GYtTsdNnnvHMupaqupyST3EmOu026jA6BdwCj1PWHXvhfYXOgxWGgyXtt5d1DKI5dXuzEqLKrvhd5AbAODjg4OR1rvKKb1dw8iK1t0tLWO3iaRkjUKpllaRyPdmJZj7kk1LRRSAKKKKAIb25FnYXFy/wB2GJpD9AM/0rnfh5bbfBVlqMzeZeaug1C7lPV5JQGx9FBCgdgorppY1mheKQZR1KsPUGuV8CPPpthJ4W1COVbnRQIopWU7bi2JIhkVuhO0bSOxU+1C3f8AXr+n3A9l/Xp+v3nExRWvibwneajFbJceJZzcXbamT8+lIkj+UEk6rgIAsakbvmJwCTXqHhzUJdW8L6XqNwu2W7s4pnUjGGZATx9TXPt4DmistR0jTtVjtNC1OaSW4tls8zr5n+sRJt4AVueqMQCQD0w74gW95/whL6L4YOo22ozosdg2nI6+WUZeGlHyxrjglmGRnGTxSWkfu0/P9PWwWvL7/wCv62OwoqvYR3EOm20d7KJrlIlWaQdHcAbj+JzViqejsJO6uebeP9K0fTn09dEs44/FuoajG9jcxjddMQ4MrNIcsYxHuBBJULgYwAK0fFmhG+8a6dqN54W/4SLTobCaFotts/lytJGVbbM6jorcj196LHwX4g0/xNqOup4g0y6vr47BNd6RI7QQg5WFNtwoCDr0yTyc10mpW+vTNH/ZOp6faLsxJ9o095yW9VImQAexB+tJaJf1urf15lPd/wBdbmdotv4U8UeFYYbPRrJ9MhlYf2fcWKKttMpO9TERhXBJzx3JyQc1i+DNC0mbxtrGv6PpdjYWNqDpln9ktliEpU5nkO0DPzgID/sHHWuhsvDJ0jwtd6Xo9/JDd3PmyNqE0YkczyElpSo2gnJ4AwOAKvaDo1t4e0Gz0mxGILSIRqT1Y92PuTkn3NPrf+vP+vMnpb+rdP68jn/EKjR/H/h7V7YbDqUjaXeAHiVSjSRkjuVZCAfRzXYVyEwfxN8QrXyY2/s3w4zvLMwwJbtk2hF9QiMxJ6ZYDscdfSXw/wBbf1d/Mb3/AK3/AKsgooooAKKKKACiiigArzS7fTdf8Za/BrWlw63d2syWOmadPhkRfKSSSXkERjLjdJjIAUDJIU+l1zV34XvIfEN5rPhvULXT7nUYkjvPtNibgSFAQjriRCrAEg5JB449V11/r+tvmNEXw5ubybwl9n1K4a6uLC7uLIztnMojlZQckkngAZJJ4rqJFLxsqu0ZYEB1xlfcZBH5ismx8OxaV4VbRdMuZ4CYpFF2SDL5j5LSnoC25i3YZp3hvSbzQ/DVrpt/q02rXUCEPfXIO+UkkgkZJ4yB1J4603rv/wAP3/rzEvL/AIbsct4f02DS/jJq8FuZXzots8ks8rSSSsZZPmZmJJOAB7AADAAFUfiQX8V6N4gsY2ddI0SzllunUkfaboRlkiyP4U4dvVto7Gt208K+IoPGEviCXXtLkmuLeO1miXSZFUxo5b5T9oOGO48nI6cVZ8QfD3w5runajGdF0uC9vo5F+3fYI2kSRgf3mcAlgTnOc+9TJNwt6/m7FQdp39PyVzJ1u3km0/wqb+wuNR0BIc6jbQQtPuby18ovEoLSIGzkYODtJHFN8MTAeIPEuleHYJdL09bKC4s4prcwJBK4lVmWJsFFJQHaVXJDHHzZPR2+hT6NoNrpvhZ9N03ycby+nl4345OxJEwxPOcn+tMs/CcEWm6pDfXc93d6whW+vDhHfKbAEAGEVR90c47kkkm6mrlbrciGiin5Hm+iSWNz/wAIpDp2mxabr5vEN9rAKql2sf8ArdtwD/pXm8/KrMRyWA21rmPT/FGta/Hqemw6xqpv5LGxgmORZQRogMobnyhuJYuuGJ2gZIGNuLwLqc1lpGmavr0N1pekzRTRRQ2HkzS+V/qw8nmMMDAztRScdquy+E7y11jU73w5qkGmjVyrXiyWXnMHC7d8bb12nHZg4yM45OU/8/0+7ZrT9Q1/L9fv3W/b7+JtNcXVdN8Kaf4vna5sRBdyXnnKT9ukt5VhiDJyZNxIbZzubbwa2vDMN3Z+IfEGiQ2KafZ3Onx3tppsZG20LmRCnB2qW2hiq/KCTgnljtT+BLOGw0NNDkSyu9ByLGeeHzxhl2uHXKltw5JBU55z1BvaToE+nz6hqN1ex3WsagFElyLcpEioCI0WPcSFGSSC5JJPI4AGrpp+fz/rT7ilpa3l8v6/U5Hwda6J4YTw/Y634OTRNZaBLaLUpLS2YT3AjAdRLEzEMw3Eb9u7nvxVv4i6PYvp9/c2/hIXGoSQbxrkMMIe0YcCQsG88lAA3yKxwAB7bY8NahqOq2N54m1S2vV06Xz7W3s7I28fm7Su990khYgE4AKgHkg8Yn1TSte1Jri2XWrS0064BQrDp7faUQjB2ymUqG68+WcelE25a9df6/4YUbRfl/X9ajLvTvDWsaDbaprlrpurW0FoJlvby2SQeXtDFwWBwCBmuf8ABXh1Y/BWs6hZ6bBYz+IBLPDaQxLCIoihWBNowAduGPu5rf1rwlDqfhS28OWlwbLTYzDHNGqFjLbpjMQORjcAATzxnjmtySN1tGjs2jhkCFYi8e5EOOMqCMgegI+oomlJSXfT5BG65fL+v6+RwHhKDQvDk2h2Gp+Dk0HWJYBBDfPaWxFxMsfzqJYWYhiAx+bbuGep4rE8Rz6fb6l4tTxFpEWsagrBtOvkVXFojoojjeUn/RNrZfcxQHJYEmu8Tw3f32sWV/4m1O3vf7Ocy2kFnZm3jWQqVLvukkLEAkDBAGTkE4xQk8GatbnWoNF8QQ21jrE0k80dzYefLC8gw/luJFAHoGVse9E7y19f68vl+oRtHby/r+v8iHxLozz/AApm/tbUJr6az0OXzDHMRFcyiD/Wtj7/ACCQCSOc4yARteGbaO8+HmkW0+/y5tMhRvLkaNsGMZwykEH3BBqvqPhW6bwZF4Z0HULeyslsmsZHu7RriRoymwEFZEAbGeSCPYVJpuh67p/hJtI/tu0FxFbLb2d5DpzKYQq7QzI0rBzwD1Ue1OT+Jrr/AMH/ADElpDyv+n+Rz1jZ6XZfF63sfB1nBZRWdjJ/baWUQjh+bHkK4UYMmdxHfGe1c54glsof+Esh1vTIb7W1um/s/WRsK2gkAEIa4z/opiJBwxTPVdxbnuPCHhLVvCdrFZJqum3FqZGlumGmyrcXUjfekaQ3DDcTjJ2n0AHGK8ngTVI7HWNK0/xDFDpOrTyyyxzWHmzxCX/WqkvmBectgsjEZ74pP9H+dyla/wA1+X9af5Glq2k2lxodgdZ8OxeK7mCNY/8AUW7tkqNzjzmUAEgdDnkcVz2i2U+pfB/W9IsN0l5tvLZLBmINmzbiltl8fdVlGfu46Erg11kml6rZWFlZeHL+xtLe1hWHF7ZPcswUALgrLHjgehzRpegyaNpd5HZXgk1G8la5mvLqLerzMANxRSvygAAKCMADknkkrS5uzv8A1/X+YoNxUfKxgeGf+Ee0fWbOwfwinhzV7i3KwSvaW6m52jMirJCzDIxkqxBI5wecdxXO23hq8n8QWms+ItShvrmwR0s4rW0NvDEXGGchndmcjjO7AGeM810VNu+okraIKKKKQwooooAKz7TW7S/1i+0608ySSwCC4lCfu1dhkR7u7AYJA6BhnrVi/uDaabc3CqWaGF5AoHJIBOKwfh3brB8PdImBLTXtst7cSN1kllHmOx+pY0Lr5fr/AMMwexrT6/o9rqsemXOrWMN/Ljy7SS5RZXz0whOTn6VoV5BpjjxB8MdXt1ijX7Q15daxqEqcJIHcqqk9ZAFTB6IFXvgV6V4Xuri+8I6RdX2ftM9jDJLk87igJ/WiOqfy/G/+Qnv9/wCH/DmrRRRQMrNqVimpppz3tut88fmpamVRKyZxuCZyRx1xUtxcQ2ltJcXUscEMSl5JZGCqijkkk8AD1rhbrTLPS/jB4cSwt1hE1lfyysOWlcmLLMx5ZuBySTwKi8Za/oupeJP+EZ1jV9PsdOs41udQS7ukiN0x5igAYjK8b29to7mpb91P1/C/+Q18TXb/AIH+Z2U/iHRbXS4tSutXsIbCcgRXUlyixSE5xtcnB6Hoe1R6d4p8P6xdfZtI13Tb+42lvKtbyOV8DqcKScc1gfCbULK8+GekRWV3bzvbW6xzJFIrGJuTtYD7px2NP8JH/hIPEWqeLWbfbSE6fpnQjyI2+eQf78gJ+irVtWk0T9m5vv4i0SPVxpT6xp66iSFFmbpBMSRkDZnd056Uajr9lpOp6fZXxkibUZGigl8smLzAMhGforNzgHrg15VdT3J+H+oaJJGs2jS6o4bxLtbykjacu0jLjeZFb5Q4Bjzglxg16R4106HVfAmq28jgD7I8sUueY3RdyOD6hgDn2qHJKPM/60LSvLlN+is3w5qEmq+FtL1CdSst3ZxTOpGMMyAnj6mtKrknFtMiLurhRRRSGFFFFABVDVNe0jRBEda1Wy08TZ8v7XcJFvxjONxGcZH51frzqx1Ca5+IHiu2tbWO61Yyw2kTzITHa2ohVtz/AOyXdyEBBc8cAFlN3ZD82eiAhlBUggjII70tch8MVeHwcbIytNDY311a28jY+aJJmVenHGMceldcwDKVYAgjBB70PyF5Mz7PxDouoajLYWGsWF1eQ7vMtobpHkTacHKg5GDwaNQ8Q6LpFzFb6rq9hYzzDMcVzcpGzjOOAxBPPFcjrbWuq+OvDvh/w7boJNAuFvLyaBAsdjDsZVhyOAXyBsH8IzjFavjrUdN0fw7exvYR3l/rCm1gso4wZL6QrtAPqADyT0A+lJu0br/h/wDhxpXlb+l/W50d7f2mmWcl3qV1DaW0eN808gjRcnAyx4HJApLDUbLVbNLvTLy3vLZ8hZreVZEbBwcMCQea4tvD2s6bp/g2U2v9stocHl3dqsiiR5DEEEsZkIUsp3dWHDHHPFS+GJ5rv4heJ1n042MM1rZyS20ro7eYRIpLhCVDFVXIDNwF55wKa1aRKeibOmsvEWi6lfy2OnaxYXd3CCZLeC6R5EwcHKg5GCcfWpNT1nTNFgSfWdRtNPidtiyXU6xKzYzgFiMnAPFcdq7W2sfEPw9pGgWybvD0pub25hUKlnGYmRYAR0L5HyDsoOKZYXOsT+MvE+oafotnqFzZXK2cUl3emAxxCGN/LixG5+ZmLHO0HK8nHyrdf1/XUfU7a41bTrTTP7Su7+1gsdqt9qlmVYtrY2neTjByMc85pdP1Ow1a0F1pV7b31uSVE1tKsiEjqNykiuF1zXl1q08IeIdFVpZzdu8OkTLiS5PlujqMAhXTk7mIUd2AOar2djeeJH8eRxSLpOsalEluthISGt1EbLHJIwGCXyfmQsoAABJBo7/12BdDvLHX9H1O8mtNN1axvLm3z50NvcpI8eDg7lByOeOadqet6VokaSazqdnp6SHajXdwsQY+gLEZrhdSu70XXg2FvDcuiS22pRQJvmgKhDC4eOIRMxKbQc7tnAXg9BLpV5rB1zxPrFhoVrqNzBfSWvm3N75MghjRNsUQEb8E5YhigLNnnqDTXyv+Fv8AMP8Agfjf/I7TUNe0fSbeG41XVbGyhn/1UlzcpGsnGflLEA8c8VZs7211Gzju9PuYbq2lGY5oJA6OPUMODWbZ63Lrfha01jw7bRTm8iSWKG9mMAAPUMyo+CPQA8jr3riYNQudD8B+O3iRrTWrWe4ubiOP/VwySRhkaI55XbtbJCktklVzih3Ta7f8AaV7W6nfLr+jvrB0lNWsW1JetmLlDMOM/czu6c9OlV77xd4b0y8e01LxDpVncx43w3F7HG65GRlS2Rwc1h6bqk/hWPR9OutAtrDSr2VbW3mtbzzXSVxlTMmxQC2Dlld/mPU5zSXCa74V1TxFrUOm2WoabdSpduFvmjuERIURwEMe1jhCRlxnpkUPT0FHU665vrSzsXvbu6hgtUXe88sgVFX1LHgD3pk+q6fa6Z/aV1fW0NjtV/tUkyrFtbGDvJxg5GDnvXM+LE0vxD8OLzXUhE4OjTz2byg/uxJCTuCngNg4z1AJGcE1r+D/APkR9D/7B8H/AKLWnZ636W/X/IOz73/C3+YWfjHwzqN5Haaf4i0m6uZTiOGC+id3PXhQ2TUp8UaANV/ss65po1Df5f2Q3cfm7v7uzOc+2KwrE/8ACS/Ee51ANv0/w8rWdv0Ie7cAysP91SqfVnqP4lJqVx4Wv4Tp9vLo6RpNdTx3BN0iIwZzHEVClgFyCZBjrgkAFdm/6/pajs22kdVqWrado1sLnWNQtbCBmCCW6mWJSx5xliBng8e1T21zBeWsdzaTRzwSqHjlicMrqehBHBHvXKX8N+njGx8S2OmSa1Ytpv2eOOB41mt2Zt5kAlZFwy7Qfmz8o4IzXLtqd9ZeB/HMlrbvaY1fyooYJRuhEohEm1gQoYGRycHAYn5jjdRrquv/AAbfrcXb5flf/gHo8Gv6PdapLplrqtjNfw58y0juUaVMdcoDkYz6VWufGHhmyvXs7zxFpNvdRtseCW+jV1b0Klsg1mWGrT+HtQ0rQ77QLPS7C8Z4LFrC681UdVLhHQxptJUMcqWGQee9UZrjWvAsWv6tcaZaX2kPevqEskF6VuI4iqhsRNGFYgKTjzBntzR18v8Ahvu7hrbz/r7zuqKjgnjubaOeE7o5UDocYyCMipKNhJ3VwooooGIyh0KsMqwwR6iuY8F2d/oUNx4cu7Z/smntnT7wEFJbdiSqH0dPukdwFPeuorJ0vXl1fVtRt7O3ZrSwcQteFhtlm/jRR328An1JHY0Lf+v6/wCHB7f1/X9eRn3HgWxnN3AL6/h0u+lM11pcToIJmY5fnZ5ihiMlVcA5PHJzB8RdCufEng+bw7p9g8hvQqLOJUjitSrKQz87iOOAqtnGDjrWhd+M9Bsb6W1ub1lMMixTzLbytBA7YwskwUxoeRwzA8j1FbtKya8h3s79SvYWzWWm21q8rTtBEsZlfq5AA3H3OM1Yooqm23dkpJKyOWvfBEl74gh1l/E+sx3dusqW5RLTbCkhBZQDAcj5Ry2Tx1rp9mYfLZi3y7Sxxk+9ZaeKdFl8QrocN+kuoFXPlRqzAbMb1LgbQwyMqTkZHHIqfVdb0/RYo31Gco0zbIYo42llmb0SNAWc45IUHA56VOnLboPr5lS08MW1j4MHhq0u7uG2W2a2W4V1EyqQRkNtxu564rR03TrbSdLttOsYxHbWsSxRIOyqMCqsniCzi0mLUWh1EwStsVF0y4aUHnrEI96jg8lQOnqKr6f4u0nU9YXS7c3sd60LTrDdadcW5MYIBYGRFGMkD8ae7YdDJ/4Vtp4019JXVdVXQ3l8xtJEsfk4Lbim7Z5oQn+Hf7dKteNLe/1TTYvDekwSIuqhobq8C4jtLcAeYc/32B2qvqSeimtCfxRpUGqnTRLPcXSMqypaWk1wIS3QSNGrCPI5+YjjnpTdc8RR6BeacL21l+w3k3kSXqkbLaQ4EYcZyAxyN3QHGetG9kF9WzVt4I7W2it4ECRRIERR0VQMAflUlFFG4krKyCiiigYUUUUAFYWo+F0u9Ul1Gw1S/wBIuriIRXL2Ji/fqv3dwkRxkZIDDBwcZ4GN2sjVfFOk6Ndra3s0zXBiMxhtbSW5dIwcb2WJWKrnjJwDg+ho0GrksWgWFv4bbQ7SNrexMDQBY3O4KwIJ3HndyTk855qLw94btfDHha30LTZ7k29tGyRzSuGkGSTnOMZBPHGPatG0u7e/s4ruynjuLeZQ8csTBldT0II61KzBVLMQABkk9qH1uJdLHJaB4B/4RqMxaX4m1kRPObiZZVtHM7k5Yu5g3sT0zuzjoRUt/wCBkvfFreIo9e1W1vfJ8mMRi3dIE7iMSQttz1JByc+nFXbLxloeoajBZW91KJboMbZprSWKO5A5JikdQknHI2k5HI45p+peLNH0q8ktbq4meaFA8y21rLceQp6NIY1YRggEgtjIBPY0dmHf+v61JZtJvJdMhtU8QajDNG2WvEjtjLKOeGBiKY5/hUdB75NN8P2mk6fcW9lJOs10S8948m+eWQrt8ws2cnAGBjAwAAAMU+/1/TNNsILy5u1MNyVFv5CtM1wWGQI0QFnJHPyg8AnoKXTdc0/VraaeynO2Bis6TRtDJCQM4dHAZOMHkDIIPQ0PqHYwvD3gL/hGIRBpfiTWBAZzcSxypauZ3Y5YyOYN7E9Cd2cdCMCr974VWfU7m+0/VtR0mS8VRdLZNFtnKjaGIkRtrbeNy7TgD0GH2HjDRNSvYrW0upC0+fs8klrLHFcY6+VKyhJOMn5CcgEjgZo1TxhoujXEsN/cTKYADPJFaTSx2+eR5kiKVj4IPzEcEHoc0PXcPQgvPBOmT2mkxWElzpcmjZFjcWcg3wqRtZfnDKwYDncDn61PpPheDSZtQu1v7261HUQonv7lkMuFGECqqBFC5JAC4yec1dv9YtNOtIrmZbqeKUgIbO0luicjIOIlY4x36U3S9d07WbGS70+43RQu0cwlRonhdfvK6OAyEdcMBwQeho7h2Klh4YittUTUtQ1C+1e+hVkgmvWQCBT12JGqICe7bd2OM44qG78IRT397c2Wralpiahg3lvZvGEnYLtLZdGZGKgAlCp4B681Np3jHQ9VvYrWzu5DJcBjbtLbSxR3IXqYpHULLxz8hPHPTmptT8S6XpN2lpdSzSXTJ5gtrS1luZQmcbykSswXPG4gDPFALyEm0Erp9nY6Nqd5ottZxiNI7JIWBUAAA+bG/QDtjrzmksvDGm2mmXtlJG92NRLNfS3LbnumZQpLkYHQAYUAAcAAVpNcxR2huZX8qFU8xmkGzauMknPTj1rP0PxNo/iPRf7X0a9WewBYGdkaMDb97O8AgD1oet7/ADBaWt8inZeD4ra6spL3VtS1OLTzus4Lx4ykDbSobKIrOwUkAuW65680/VfC7ay88Woa5qjadcfLLp0bQxxMndN6xiXB7/PzyOnFP03xhomrXsVrZXUnmzqz25mtpYkuVXqYndQsgwQcoTwc9KlufFOi2muW+jzX8f8AaFxJ5SQIrOVfbvCsVBCEqCRuxkA4zRqG2wzXPDi61pH9lxaleaZZNC1vJDYpCBJGy7dp3xtgAcDbjr9KfoWhPoWliwXVr69hjjWKA3Kw7oVVcALsjXPb72elTazrumeH7I3esXkdtEAxG7JZ9oLHaoyzEAE4APAJ7Vas7uC/sYLy0fzILiNZYnwRuVhkHB5HB70b3DaxT8P6FaeG9Fh0ywMrxxFmaWZg0krsSzOxAGWJJJOKpah4VOrPPFquuandadOx8zTj5CQsp/gLJEsm3238jg5BINiDxTot14puPDlvfLJq1tD581sqMdicclsbc/MvGc89KhvPGeh2F4be7upY9soge4+yym3SQnAVpwvlqckDBYYPBo3aDZMtappE9+kUdprF9pUSKVZLJYQHB9S8bFcdtpHX6U1fDOkp4dl0NbT/AECZWEkZdizljlmLk7ixJzuJznnNXr29t9OsZ72+mWC2t4zJLK5wEUDJJrOsfFWk6p4aTX9MmnvNOkzse3tJpHbDbTiMLvPIP8Pv0pb3DsQ2PhZbfULa91HVtQ1eazUi1+2mLEBI2swEcabmI43NuOM4xk5bf+FP7WlkTVtb1O70+Vyz6a3kpCw7ISkayFR6FznGGyMgutvGej3Oq2unD+0Ibq7LCBLrSrqASbRubDSRgcD3reqvMBAAqgKAABgAdqWiikAUUUUAV9Rlkh0u6lgXdKkLsi+rBTj9awvh1HFH8NtAMGD5tjHM7A53SOu52J9SxJPvXSkAggjIPUVznhXSL/w9Je6Swjk0eNzLp0ob541diWhZfRD90/3SB2oXVd/0v/n+APZf1/X/AAThtIkn1P4U6pDfbrPTrYX76pPIMPcy+ZIWjHcKM/M3U/dXuR32h36aZ4C0m78RXcNmY7GD7TNcyCNVcooOWbpycc96dceDtDutQlu57N2aaQTTQi5lWCZxjDvCG8t2+UcspPA9BVfxz4fuvFnh2XQoY7QW178txczuxa3AYEMkYXDtwerLjg89KSul5u34X/zCyctfP8f6+Z0YIZQVIIIyCO9LUFjaR2Gn29nBu8q3iWJNxycKMDP5VPVO19BK9tTh9Tghtvi94WhtokhiXTr7akahVHMXQCi7XV7n4sXkemz2Ns0GjwmKa8t2n2q0sm8KisnUomW3cbQMHORq3PgPQ7zVBqM/9pm8XfsmXWLtTGHOWCYlG0HA4GBwPSr+p+HNN1aSCW7S4We3UpHcW93LBKFOMr5kbKxBwCQTgkA9aS0S8r/jf/Mffzt+Fv8AIq+F9euNV0++/tWOGG6027ktLiSHIikKAHeu7kAgjgk4ORk4rN8EA61c6l4wlDf8TVxFYq2fktIyQhwem87n/wCBCt0eHdLHh6TQ0tdmnyxtFJEkjKXDfeJcHcS2SS2ckkknJq/b28VpaxW1tGsUMKBI0UYCqBgAfhR/l/w7/ruw8v68v68keY6Dq3iLQ/hcviJW0uS3gE11eWbQP50x81jKfODgK/XA8tuQBk9a7XxfDbaj4B1iO8+S3l0+VmLjBQbCc+xHX8KH8GaG989y1rKfMm897f7VL9neTOd5g3eWTkbslevPXmofF+lah4ht7fQ7dRFpl4x/tO63jcIRjMSDrufON3QKG74qZLmjy9/6/r+kVF2lzF7wvdXF74Q0i6vQRcz2MMkuf7xQE/rWrSIixoqIAqqMADsKWtJO8m0ZxVopBRRRUlBRRRQAV55pc+qXHj7xdp1iGguJLq3L38iAi3t/ITbsB4Zy3mbRggfMzZ4VvQ6yNV8L6VrN0Lm8iuEn8vymltbua2Z0znaxiZSy5zgNkDJx1NHW4zE+Gnl2ngubbLiwhv7z7NJI5IEAmfBLN26811lne2uo2cd3p9zDdW0ozHNBIHRx6hhwajbTLE6S2li1iWwaEwG3RdqCMjbtAHQY44qDStB03Q9Cj0bSbb7LYRIyJEkjZUMST8xO7OSTnOaH/kLrf1OT1G7PjXx3p+m6Qm/TvDt6LvUL/wDh+0KrBbdP7zfNlscAYHXir/8AZ2teHtW1u9sf7MuNO1GUXkst7cPC9qRGqPwqMJFCoCPmTuPerOl/D/QNFiii0pdStIYX3pBFrF2Iwc5PyebtOT1BGD3q9qPhbSdXvDPqkM92pxutpruVrZsdMwFvLPryvXnrStpZfP8AD/JfdvuPrd/1/V395xvhfQ9Xl8G+DdX0027Xem28mLS8LRRzRS9PmAYowUKRw3cd81LYWF94i8TeNbLUHgtRd6db2Uxs2aVIZCkuRvYLvYK6k/KvDAY4ye31LSrfVbdIbqS7jRG3A2l5LbNnGOWiZSRz0JxS6fpNjpWnCx022S1t+fliypJPVi3UsepYnJPOc05a38xK6scHrw8RQ2vhfTNTh0uORNWtEiktJpJHn8s5ciMooiGxWJ+Z8dO+4bfjzXnt7EeHdIgF7rusRPDbWx+7GhGHmkP8KKD+J4HfGvpvhjStKvTeW8M0t2U8sXN5dS3UqJ/dV5WZlUnkgEA1UufA2h3WuXOsMl9Df3Sqs09tqdzAXVRgDEcgGB6YofvKz6u7+5f5Avdd102LVhpF3pHhGx0jS7uFLiztYrdLi5gMqHYoUkoroTkD+8K891Zruz8HfEaxlKzasi/aLq7t+EmWSIAAJ1j2xrjaSxxzuOa9Fn8O2Vzp8FnJNqQit87Gj1S5SQ/70iyB3/4ETU2naNp+lWb2tjbKkcrF5S5LtMxGCzsxLOxAAJYknFEm5OT7hH3eXyOD8R/a7+08OagM2kf9rWa6VZDhiu75pHx3MW/CdFXOfmOFsaN/wkT33iy70i40uGaPVZQ63lvJK02yKMRqWV08sbQOcP8Aezjseo03wjouk3cdzZW0oeFSsCy3UsqW4PURI7FYxjj5AOOOnFJqHhDRtUvpru6t5xLcKqXAgu5oUuFAwBKiOFk4OPmB446cUd7ef42+/b8RJbX6W/X/AD/A5LVPEv8Awlel6BFd6bqVvpGpWy32ofZrCe6Drxttt0UZ4ZuWJxlR/tVhR6rFP8IvGcVnHeR7b68kffZyxKIWn+YZZQM7M5UfMO4FexxRRwQpFCixxxqFREGAoHAAHYVUsdGsNOtbi2tLZVhuppJpkYlw7yHLk7iepJ46UPd28/zX+RS2Xy/J/wCZwniM3l9N4Y1F82m7WLZdNsQMMseG3yPj+Ixbvl6KOuSeNDxjBDb+LPBQgiSIPrErsEUDcxgkJJx3J71vaZ4S0bSLqK4sraXzIEMcHn3Usy26ngrErsRGMADCAcADoKi1PwTousail9fjUHuI5PMiZNVuo1ibG3KKsgCHGR8oHU+tG1vW/wCX+RNtPlb8/wDMTxxbwnwRr1wYkM66VcospUbgpjJIB64JA49hWdFqt5o3wh0280uzlvL0abbpBFFC8uHZFAZlQFiq53HAzgGtrUvC+m6vpsVhfm+kto4zFsXUrhDIpGCJCrgyZA/jJ7+pqbRdBsdAtfs2m/ahDhVVLi8mnCADAC+YzbRjsMCjo13t+v8AmVf4X2v+Nv8AI828OXGmaR8TdKtbZNVld9InWe4uNJuY5Li4kuI2aVw0YIBOcsflXgZHFdB8QL59dRvA2iotxqOpRg3bn7ljbZ+aRv8AaPRV6knPbnrm0myfW49XaHN9HbtbLLvbiNmDFcZx1UHOM8VjjwDoKaheX0CajbXF9L5ty9tq13D5r+pCSgfT07UdEn0v+bf6/p5i2ba8vy3/AK9fIyPFdytx4i0/RdRtNSbQ7REu7l7fTbi5W7kVv3cRMSMNqld7A9TtHTNL8I9Qhu/BCwxJcq0N1csxltZI1O64lI2sygMfUAnB4ODXbwxLBBHEhcrGoUF3LsQPViSSfcnJqpp+i2GlaUdN0+EwWpMh2LIxILsWYhicjJYnrx2o/wCCGlrehznhwr4k8Zal4lJLWllu0vTvRgrAzyjsdzgKD6R+9djVTS9Ms9F0u307TIBb2lsgSKMEnaPqeT9Tyat0bKyDd3CiiigAooooAKw9A12fX77UJ7eGNdIt5Db20+SXuZEJEjDsEBG0dyVY9MVp6l5v9lXf2b/XeS/l5/vbTj9aw/h0Yj8M/D3kY2/2dDnAx82wbvx3ZoXXyt+N/wDL8Qey/rYbeeOrK0N3MNP1CfTbGUxXepwxoYIGBw+QXDsFP3iiMBzzwcdMjq6K6MGVhkEHIIryLSt5+F+rR68/2ex0hryGe0DZkurku5AkHoS67U/jLAnggHubTVLXwZ8OdNuvFN19ljsrK3iuZWRmKvtVcYUE/e44FEdtfL8f6/EH8Wnn+B0tFMhmjubeOeB1kikUOjqchlIyCKfQG5z0HjTTbrxPb6JbRXcj3McrxXXlbYH8sgOFYkFsbh8ygqc8HIIFnVPESWGpR6daafeapfPEZ2trPyw0cedu9mkdFAJ4Azk4OBwcYes/8lk8L/8AYOvv5xVV1pZb34sW9voF5HpmsW+ll57idfNjuIGchU8nguVYbtwdduR97OAltHzv+F/8g6y8rfp/n/SOitfFCajov2/SdLvr90na3ns4/KSaCRch1fzJFX5SMcMc5BGRzUWneLDfeJDodxoep6fdi2N0TcG3ZFTdtGTFK+CTnAPXB9Kyfh1f2dv4Lv5psxfYr26+33kk4lW4lViZJg4VQVP+6MYx2zU/giKe60/UPFl1bP8Abtcbz4oWwrJbqMQR88AlfmPu5p7a+V/w6fmvIPLzt+PX8n5l/XPG2maD4g0zRrmO5nu9RkWNRbxhlh3NtVpCSNoJyB1JweOKd4n1+58NtZX0lrHLo/meXqE+8iS1DEBJMYwUB+93AIPQGvO9SOr2NppV1rPhrUxq97r9rc3c3nWpR2BISGPE5O1V+VcgDqSQSa9G8Vvby/D/AFiTU4mhgbTZjNHIVLIPLOQcEjI9ieehpN8sHJ9H+iY0rz5e/wDm0boOelFZPhX7T/wh2jfb8/avsMPnZznfsGevvWtVyXLJoiLvFMKKKKkoKKKKACsPUvFCWWqPp1jpeoatdQxCa4jsVj/cKfu7mkdBlsHCgluCcdK3K86sIb+Xx/4t0uSc2FtNNDezXQl2yvb+SqBYj1UbkcM/8OMLydyrrb+v66/IZ3Wlapaa1pcGo6bL5ttcLuRipU+hBB5BBBBB6EVaY7VJOcAZ4Ga4z4ePbaX4CuL59trphuru7t8rtWO2MrMrAD+Hb8w9jXS6NreneIdGg1XR7lbmxnBMcwUrkAkHhgCMEHqKbEZcXjKEanZWmoaTqemR6g5js7m8jjWOZ8ZC4Vy6MRkgOqngjg8VY1HxBeafNOB4Z1W5ghBJuYprRY2AGSRvnVgPqB0rnIrmX4heLrO5sBt8M6DdGZbv/oIXSgqPL/6Zpk5b+I8DIyav+O7h9RFh4StGYT65IVuGTrFaJgzN7ZGEHu/tRrZW3f8AV3/Ww+uuy/p/13LkfjWyl8N6Xq0dlfFtWIFlY+Wv2iYkFhxu2gbQW3FgAOpFWdN8Sxakt/FHYXkOo6eAZ9OmEYmG4EpghzGQwHBD46gkEHHOeLvteleMvCLaVbwrEUubG3Mx2wQSuibNwH+yj4UcsRtyM5DvDeni3+KOrtbXE12INNggvrqXkzXLSO/JHAIQj5RgKGUAAYp6N6ba/wBf13QtVG730/O39ejNO48aS2N5YQaj4Y1m1N/craws72jgu2T0SdmwACSQOADV/UfEkdnqJ06x0+91a+VBJLBZKn7lDnBd5GRFzjhd249QMAmsbTWXxR8RLvUyN9h4fDWVo3Z7lh+/cf7q7U/F6z9Osr+48TeMgviK40eSK9SYeTFCxMZt4wjuZUbKDYQNu37r8ntN9Lvtf8rf5+g7a/h/X5ep2N9qstnZQSppV/dXE+ALS3VC6nGSGYuI1x6l8E8DJxVPTvF+m32l6je3Am07+yndL+C8ULJbFRu+baWBBXDAqSCDxWTaePFs/htp3iHxBF/pl5Gqw2tqhL3crHCLEh5O/ggdgeelN0Xwdc33hrW08WPtvvEjGS8jtW4tlKBEjQnOSqgc45Oeoqmmm/617CVtL/0jWsvFsVxfWlveaXqOmrfkizmvEjC3B27toCuzIxUEgOFPBGMjFS33iWO31KTT9O06+1e8hUNPFZCMCAEZG95HRASOdu4tjnGOa5PVbfWG8R+GNFvtctdTu7e9jvGitbLyZEhjRg00uZH4JIUbQgJY9egNNtr83HjGVPEsujzWmpTTOEhhZQphRkeXzFYlNoGNpTgEZ4yFda9lf8Lf5/gGt0u9vxv/AJfid5eajb6dpU2oai/2W3giMsxkI/dgDJzjIz9M1leH/GOneIPDUuuJHc2FrC8iSrfII3jKHDbgCcfzrmZb3X/E+n+GbrUPDl3dae9tHf3sFk8CiW44MaFZpVIQH58c5OwHoat/C69nuLDWEm0y6tF/te8fzJmiKljKcp8jsdw78Y9CadnzNPz/AAaX9f8ABFdcqa8vxT/r/hje0LxXZ+INT1Kxtba8gl04xeZ9qh8rcJF3KQpO4cdmCkelQXfjS2t5btrfTNRvbKwcx3l9bRoYoGX74wzh32jk+WrY5HUEVm+Fv+SpeOf96x/9EVW1/TbnwloWsyW2uwwaZfSTSraS2YluGmlBJihfeFJZj8qsjnJPUVMnZXXb8dC0rux0uoeJrWzks4LOC41S7vojNb21kELPEMZk3Oyoq/MvLMM5AGTUmneIrHUNPu7py9l9hdo72K7wjWrKAxD4JXG0g7gSpByCRXP6f4T1G00vw7fWmppYatpulJZXH2qDz4ZE2qWDKHUghlBDBvXOc1y9wt3feA/HuqxXYvYL2ZTHdRw7YrhIo41ldFBOY/lcDk5C/ePWqkrNpdL/AJ6fgRHVJ+n5HouleIH1eZTb6NqUVk6lor64SOOOQdiEL+aM9soPXpiqvinxtpnhKSyi1CO5nmvZQiRWsYdkUsF8xskbUDMoz6sOtZs17qmkeI/Dywa6+sW2sSuklrLDCAkfllxLCY1UhVIAO4vkOOc4J4/xT/bEXh/VNS1zw1qS6hfX9qPP861aKGBLlPKhXExbnqTt5ZiTgdDql/W/9f8ADjWqueqapqV1p/l/ZNFvtU353fZHgXy8evmyJ19s9Kr2HijTb/w8+sbpLe3iZkmjmjIkikVtrRlRnLBuMLnJxjORU88N3q+lxGO5v9DmYh2EYgeVevyNuWRPyz061hfDmQjQ760Ty5oLPUZ4Yr1M/wCmjIZpWJJyxdmDEcEqcADgJbtf10/zDon/AF1NXw/4ntfEU2ox2ttd276fcCCVbqMIWJUMCBkkAhhwwBHQgGoNU8Wf2LK76pompW+npKsbajmBoVDEKGIWUyBckc7OO+BWX4H/AORq8bf9hdf/AERHTfiRZyxeHLzVG1abyrYJLHpUyIba6kVgUjbaolJZsAAPgnHBGQVfSL9A11XqdtRTIXaSCN5E8t2UFkP8Jx0p9N6CTurhRRRQMKwvD+gT+H77UIbe5R9IuJTcW1sVw9tI7EyKD0KEncB1BJHTFbpIAJPAHU1z3hbVr3xDJeauXVNIkfytOiCfNIqEhpmbrhz90dNoB70dQ6GlLoOjz6smqT6VYyahHjZePbIZlx0w5GR+dUvFXh+XxRpLaTJeR2+n3I2XiiDfLImQQEcthDx1Kt14wRmsq98dXUGn3+s2ujpPoOnSvHPdNebJnEbbZHii2EMqkHq6k7TgdM9bBPHdW0VxbuJIpUDo46MpGQfyosmgvZ+YW1vFaWsVtboEhhQRxqP4VAwB+VSUUUb6glZWRhzeCPClzPJPceGNGllkYu8j6fEzOxOSSSvJJ71c1Lw/o2sRwpq+kWN+kAIiW6tklEecZ2hgcdB09KyI/GEz+NLLRG0ee3gvYZ5Irm4kCO3lFckRYJCncMFircH5QME2dT8Q3UfiBdD0Syt72/Ft9rlF1dG3jjiLbR8yo5LEg8bcYByRwCLZW6h1fkan9l6f/Zf9mfYbb7B5flfZPJXytn93ZjGPbFWVVUQKihVUYAAwAK5SLx1HLoP2oafIdR/tBtLFiJRg3SkgqJOmzgtvxnaM7c/LV/TNeu5NcbRtbsIbK+NubqH7NcmeKWMMFbDFEIYEjIK4wwwTzg3/AK8r/lqG39edvz0Ne4tLa78v7VbxT+VIJY/MQNscdGGehHrWP4m0G48RtZ2Es6R6P5nm38Qz5lyFwUi9AhPLdyAB3NVrfxhNP4ztdEfR57aG6tpriK4uJArsI2Vc+VgkKdwI3EN1yo7yeMNW1Lw9b2+tWpjl0uzYnU7Yx5kMJxmVGz1TqVxyCe4FC6MfVo6McdKKRHWRFdCGVhkEdxS0CCiiigAooooAKz9T0DR9bMR1nSbHUPJz5f2u2SXZnrjcDjOB+VaFc7feItRfW7rTPDulQahLYxq93Jc3ht40ZhlI1IRyzkcnIAAI55oGdA8aSxNFIivGylWRhkEHsR6VDb6fZWmnrYWlnBBZqpRbeOJVjCnqNoGMcniqnhzX7TxPoFtq2n7hDcA/K+NyMCVZTgkZBBHBxWkxwpIBYgdB3oatuJGHF4H8JwTJNB4X0aKWNgyOmnxBlI5BBC8Gtb7Fa/b/ALd9mh+1+X5P2jyx5mzOdu7rtzzjpmudfxVqmnappkOv6HFZWmqT/ZoJob3zpIpSCyLKmwBcgEZVnAI6kc0viLxjNoV/ZwR6PPPDPqFvYyXUriJFaU4ynBL7cgngLzgNkEB66f1/W4HQ3thaanZyWmpWsN3bSY3wzxiRGwcjKng8gGksNOstKs0tNMs7eztkyVht4ljRcnJwoAA5rP17XX0mSxtLK0+26jqEpitoDJ5a/KpZnd8HaqgckAnJAAOag0TxK+o6lqWk39mlrq2mhHmt4LgTI6OCUZHIUnOCCGVcH2wSgNm0srWwt/IsbaG2h3FvLhjCLknJOB3JJJqpqXh7RdYnim1fSLC/lhGI3urZJWQZzwWBxWQfFGqWGtaZaa/okVnbarK0FvPb3vntHLtLKkqbFC5AblWcAjGcHNWrzXr2TV5tM8PabHf3FqFN1Lc3Rt4YSwyqbgjszkYOAuADyRwCeYGhqeh6TraRprOl2WoLESY1u7dJQhPXG4HFRWHhrQtLjnj0zRdOs0uV2Trb2iRiVeeGAA3Dk8H1NF9PrscFudN07TriVlzOtxqDxLG3HCkQtuHXkheg454y9A8V3WpXOuJq1jaWUOjOI5bm2vWnjZ9m91y0aEbQVzweTjtRpqHY2tM0bS9FheHRtNs9Pikbc6WkCxKx6ZIUDJqO+8PaLql7Feano9heXUIAjnuLVJHQA5GGIJGDzVPSNY1jV5IbpdGhtdJnG+OW5vCtyUK5VvJEZUZOODICAeQD8tU5vFeozPqM+i6LHe6fpkrw3E0l55UkjpzIIU2MGx0+ZkywI6c0PTcF5HU1WXTbFLSe1Wyt1t7guZoREoSUv98sMYO7Jznr3qjJq93e6VY3vhuxi1BL2NZke4ufIjVCoYEkK7ZOeAFPfJFQ+H/EUuu2V+GsRaalp9w9rcWrzbkEgAIxIF5VgynO3PPShrVp9AT2aH2vgzwvY3Ud1ZeG9It7iJt0csNhEjofUELkGrUegaPFq7arFpNimovndeLbIJmyMHL43dOOtZlv4h1O38RWWk6/pVtatqCSG2msr1rhS0YBZX3RRleDkEZHHbjMeo+MJrHxNpemDR5zb3941p9smkEY3CMvlEwSy/KRk7exG4c0dv68hd/68zY1TQdI1sRDWtKstQEOfL+126S7M4zjcDjOB+VXgoVQqgAAYAA6VS1SbVokj/sWysrtiT5gu7x7cKO2CsT5/SqOjeIpdW0a9uRpki31jPLbTWccqtulTsjttBByME7evIFHkPsW9N8PaLosskuj6RYWEkoxI9rbJEXHuVAzVu6tLa+g8m9t4riIsG8uVA65ByDg9wQCPcVg2niXUIfE1roniHSoLKa+heW0mtLxriNzHjejbo0KkAgjgg881H4g8T6t4ft7nU7jQo30e0YedML7/SPLyA0ixBCpAznBkBIHQHijsBr6p4e0XW3jfWtHsNQaIERtd2qSlAeoG4HFWZbCzn082E1pBJZtH5Rt3jBjKYxt29MY7Vja34hvrLWdK0zR9Ptr2bUo5pVa5u2t0RYwh6iNySd/oOlacE2rNpTyXNlZR6gA2yCO8d4mPbMhiBGe/wAhx70dA7Mq2XhDw1pt5Hd6d4e0q0uY8lJoLKNHTIxwwXI4NSQeGNBttVOp22iabDqBZnN3HaRrKWbO47wM5OTk55zVGw8RaiPE0eia9pdvZz3Fq9zbS2d41xG6owV1YtGhUjepHBByeRjB6Kn5h5BRRRSAKKKKAK+oxSTaXdRQNtleF1RvRipwfzrC+HU0c/w20DyuPKsY4XXuroux1PuGUg10tZGk+H49G1bUbmyuZRa37iZrNuUimOd7oeo3cEjpkE96F18/0v8A5g9l5fqeZ6fLDpnha+0bX545NW01rmDTdCRv3txI7MY5gnWTdvG0gFUGT1B291NqkPw8+Gdpc6xHc3KaXZwQzi2USOSAqE8kDGe+eldTWVr2gQ+IrVbO/urlbFsi4tYWVUul4O1zt3gcfwsuckHI4pK6Vl1t+H/Dhpe78/xL9pdRX1lBd25LQzxrLGSMZVhkcfQ1NTY40ijWOJVREAVVUYAA6AU6qdr6CV7anmuueK/D0fxf0CWTXtMSO1s72K4dryMCFyYwFc5+U8Hg88GneLbzTm+I1gNS1VfDaRac0ltrSyLGbnc2GhV3zEQBtYqysfmBXbjJ9IoqbaJdr/jf/MfV+f8AwP8AI8z8N2+kX3wzH9uSxaTY2OovJZauspt/NIc+Xdq0pblyx+8WDZPUHFXvDls2qePl1m01O91jT7PT5LZdSudgjnkkkU7YhGiIyqIzl1HJYDcduB31FVfW/wDW1hPa39b3PNdV8WeHY/jHpEz6/paxW+m3cM0hvIwsUhkjwjHPDcHg88Guv8ZXdtaeBNaubva1uthMWHZwUIA/HOPxrbrH1vw8mv3mn/bbhjYWcvnyWQX5biQY8suf7qnLbe52k9MGHG8OR/1ctO0ub+tB/he1uLLwhpFrekm5gsYY5c/3ggB/WtWiitJS5pNmcVypIKKKKkoKKKKACvMLn7LpPjnxFbeLdTtdM0XUZY76MTyCMagBEsbRbjgFVKfMg5bcoPy5Den0UbO4zkPBok0PwPeajqNtPbrLcXeo/Zih8yONnZ1Xb1DbcfL1ycVseHvE1j4k8LW+v2izW9lcRtIPtShGRVJBJ5I7HnJGK16KOmnyF5nlWmeLdF8deM7bU77XtNs9I0y4I0qwlu41nvbjlfPdCdygZIRcZOc8cA6HxT1/R7b+wrO41axiuoNdsp5oHuUV44w+S7KTkKBzk8V6LRRta3Rp/cHV+Z554yvd+s+G/Emk6naR6Vi4tJtWV1litRLtxJkZXqhUE/KGZc5HBk8Lw6avi/U9a0eRToVppkdr9v8AN3x3UvmPLLJv/jIyNz5PzFhnIOO/ooWm3n+P/Dsbd1ZnlejeLNF8deMrXWL7XdOtNO0+dk0jTZbuNZ7qY5Tz3QncvUhEIzznuMzSRaLp/ifxPF4r1y60h7m7W6stmpSWYljaBF3R7GXzWDIRtO7GBwN3zenUUen9f8HQRxcXiTVND+FNtquvRvLrLQKkcLx7JJ53O2JSvGGOVyO3PpS3HhW6s/hDqOh25M+p3FhOZnB5nuZFLOc+7k49sV2dFEtb+f8AX9fLsOLs15f1/XzPMbPULJ7zQD4Q168vtVkuI11Cykv3m2QY/fGWAkrAV7YRMNhRjOKt66uiaTdatb6L4gvBqN4zyS+H9Nnike4nZck7djSxbuCzKyAfeyOteh0US96/n/VvT9RLTb+vM8/1LxHF8Mfh7oel3L28mrtbR2ltFNMI4mkVQGZ3OAqKTkkn0Her/gVtE0zw7eSxeJbDWLgyteatqEVzGyeawyWO04RQFwAegWuxoptttye7ElZJdEeeQSaVP460m78Fam2ryM8iak63rX8cFuVLffdm8klwuFUruweCF4Z488SaHB4z8JxT6zp8cllqjtdI90gaAGBwC4J+UZI646ivRqKXby/zuPe/mYOuax4ak0u3/tjX7aytbwCS3mTVTaecBg5SRHUkcjoccisXwjqFvoPhzW7y4maLw5Z3Ly2F1NHhpICqsz5AzIC5fa5yz8HLZye4oo72Dtc8y8G6/pvi7xcniTVNa02O5aNrfRtGS9ieaCJuWkdQ2fNcL90fdAxyc4h8VeLdG8V+IpvCk2vWGl6NZSD+1p7i7jie6ZT/AMe0YYg7cj5mHpj6+p0UdvL+v+D/AMDQO/n/AF/X+epy3iM+Dp20271/WLaxZY3NjOurtZlkYLu2Mki7lIC+o6VB4N1Ge38O6jd63fSDSIbt/wCz7zUX2ObTA2s7tgkZ3YZuSMEk5zXYUUd/6/r/AIcOx59pH9mH4gWM/g2/k1a2ltpY9UuTdtfRxIvMaid2Yoxdj+7DYIySvANeg0UUdA63CiiigAooooARmCIWY4VRkn0Fc14Ou73XIbjxHdzyra6gf9AsycJFbqTtcju7/eJPQFR2rev7c3em3NurFWmheMMOoJBGawfhzcCf4e6RCRsmsrdbK4jPWOWL926n8VNC6/13v+n3g9l/X9f8Ax73xnrI0G88TWP9mjSbed47ezljdri+WNyrFJAwCs21tq7HzgZPPHb2N5FqGn295bHdDcRLLGSOqsMj9DXl+naZfaHomo6Pcaff6hrUf2i20kC0c2qxylisglA8tSd/zlmDAKVA6bus1a/k+HXwwS4t7E6mdHs4Y2hSXy9yqFVm3EHAAyeh6Uk1y3fl/wAH9L9gs3Ky8/8Agfr6nV0VBYXYv9OtrxEaNbiJZQj/AHlDAHB9+anqmmnZiTTV0ciPEmtp8QNN0e8srS1sr+3uZVTcZJx5RXDMwIUZ3/dAbGPvHOBavNY1W+8VXGhaDJZWjWVtHcXFzeQvPu8wsFRY1dP7hJYtxwMHORgazrEZ+KWi6gmn6y9pYWt3BcTJo12yq7GPaBiP5gdp5XI962PE0GhPqEF3eadrU2otAUik0mK7ikkQnIjeWHaoGR0kYAdeOTUr4V8/zdh9X8v0Kt54y1BPAV5qcEFtDqlnfCwmSRWkiEnnrEzAAqxUhtwGQeRzXSaZBrcUkh1nULC7QgbBaWD25U+5aZ8/kK5zQtCtdD8DXUXiXS0livruS7uNPis2vBH5j5WPYitvKgLkgEZBOe9ReGNKjj8azah4b0ybRtA+x+VLbtataJc3G4EOsDBSu1RguVGc4GQOKW9v62/z/MHt8/wvp+Bc1zVvEPh25s7m4utMvrO61CK1Wzis5IZysjbRtczMGZQdxGwZCt93tN43m1PSdPj8Q6XcylNJ3TXdiMbLu348wdMh1A3Kc9iD1rF8SwWGtTSN4Y0S7i8TNPGE1T+zJrNogGAZ2uHRQ6BQRtBbcOACK6PxvqMWleBtXuZgHP2V444+8sjjaiAdyWIGPeobahdb9P66lJJzs9jat547q2iuIHDxSoHRh0ZSMg/lUlZvhzT5NK8LaXp87FpbSzihdic5ZUAPP1FaVaSSUmkZxbcU2FFFFSUFFFFABXJ3+v6pd6xqlrol1pdhaaNGv2y81GJ5VMjKH2AK6BFVSCWJP3hxwa6yvOp9O/sTx5q95rVvqN5pV9LFf2kVlYyXKPOkaoRKI1Y5XYrKGwuWzklRtXWw0dZ4T8Qr4o8N2+p/Z2tpHLxzQNnMciMVZeQD1HcA47VsNnadoBOOATiuX8L2V/4f8G3dxeWTPqE0tzqD2UTAtvkdnEQPIJwQuRxmtLw9rV1q/ha31bUtJudKuJI2eSxlBaSPBIxjAJJAyBgHnpTYkY15rniLQdW0Ya42l3Npqt2LMw2cMiSW0jKWU72ciVRtIJ2IehwOlX/E1xr2m2N5qen6lpMNpaW7TGG9s5CW2gkgyiZQoOOuw4965HRNTfxD4xTX/FNhrVn9lkaHSNLbR7vbbhvlM8riMp5jD32ovfPI6PxS3h6+uGtdV8P3eq30KFbdo9ImcqzDIEdxs2RnOPm3rtPJIxwpX5dN/wCvvGrc3l/X3El54nvprXQLfS7SO31TW080R3mWW0jCB5GdVILkZC4BXJYcil8NeJp9Q17VNC1KS1uLzTgji6s0ZIp0YspwpZtrIylWG5uR2OQOa1HQdfttN8IX+p3F7LNYW72mryWQae5VJVXLIVyzEFArMoLYYsORkXbLQLnV9S1e90VJdAtG0qPSdMlktWjkQBmZ5PJbaygFgF3YJIJ6YJp7u3n/AMD9PvfYS+FX8v8Ag/r+HcmTxvqF58RLHTNPtrZtBnkntjdvuMks0SFn8vBxsBwuSDkhsdK1/EVx4msre+v9Ll0mO1s4TKsFzDI73G1dzZkDqIu4Hyv0z3wOXuPDXiXTfEnhG2srrTWtLATxxyQaPMI7dfKx8/8ApBzu6A5HPPPSn+N9Sudc17/hGLm01iz0CNQ2o3dtplzKb7IyII2jRsL/AH279B3qXtZPX+tf69Bx3u9v60/r1Nm78Yy3Gm+GW0pYbWfxGFMEt6hkjgHlebhlVl3MR8oG5eec8YMK+NbvSofFCa5Hb3kvh6BJ2nskMSTh0LBNjMxRhjn5jwQeOlVvGCrqGn+H4Y9KvZfDZmJvFgsH+0QKq4ixEU81Bu6sih1AGCM5pfB1kIpPEkJ026/4RmZhJCuo2befcuykz7ldfNkU/KAZAWPIBIApu15W8/0Eto38v1NEazr2k3uktr7adPa6rOLbbZQujWsjKWXLs7CVflK52pyQcc4pI9S8Sar4p1yw0y90uzttMlhjT7Rp8k7vviVySROg6tjpWJa+HbLU9d0VdB07VoNO0u5W5ludVa5ATYpCQwx3DblyWBJVQuFxkngXfF9n4dv5L+IeF57/AF502Q3MOjyK/m7RsYXZQIu3j5vMGMdcjFD0V7d/0/4ILf8Arc2dZ1nUYtY07QdHa0/tK7he4luLiNmjgijKhm8sMCxZmAA3DucnGDkW/wAQTbaN4kl1JLe7uvD/ACz2ZMcN2rA7GXcW2fMGQ8sAUbk9BnapoGrWV94c1HVri9u4otMOm6vLYRPLMxOxtwCAvtZk2sygtg9slhqaJpcFxfeINYvtKaHSbu2hs7eyltG3Pbwq2SYMbhuLsAm3OFHHNPo/n+en4W+99gW607f8H9fw7lz+19d0jVNJi199OubfVZjbqbOF4mtZdjOoJZ2EinaVzhDnBxzgQ+K9R8SeHdF1DV11XSWt4ATDbHSJXkck4SPcLkZYkgZwOT0rIsvD1pqXiPRX0PT9Vg03SpjcSXWrPcggiMqkMMdw29R84LEKq4UDJIwNrV7W717x7ptlJbSrpGkr9vmlkjIjuLjkRIpPDbOXOM4O2k1sv6t/V7X8gWmv9X/qwt/r+r2134f0MvYWus6pBJJLPLC7wI0aqXREDqWJLcDeMAE89KrR+Nrqw0HxPc6tbw3dx4ddleSyDJHc/uw4wpLFCNwDDLYwT7CPx7bvd63ocOp6deXOgI7yzzafbtLNDcLgxHMYMqDhvmjwc4BIBIOZpUGv2fgnxVD4d02X7OZHOixahbLHPIGX94XVwC3zbiplG5v4t2aTekn6/mv6t8xxWsU/I24PEGtWGuaFaarc6XqMGthxGbC3eFoSsfmb/mkfzExwT8uMqe+Kdf8AiXW7PxxoWmS2Nrb6fqdxcQ/OxknZY4iwfKkKmSOnzHBGdpyBznh3TYbLxToL+EdM1iKPyXj1R9VsZIUhh2ltqeaqhGMhHyQYTrlcAYv+K9UV/iF4XuIrDV5oNKuLn7XLDpF06IGhKqQyxkOCTjK5q3a6+ZMbta9vxt+Hp/mdfqcGuy3Cto+padaQhfmS60952LZ6hlmQAYxxg/WuY03xbrU3w713xHcmwn+yC5fT5IbZ4knjiBAdkMjHDMrYw3THrWn4zudRvPDUVjoENz9p1h1thOIXX7JE4y8r5AKYTOM4O4gVrNZadpfhv7C9p5mm29t5Jtkt2m3RhcbfLUEtx2AOahp2f3f1/XcpNXX9f1f9PMraIviCQRXGr6jptxbyRBvKtdOkhcEgEfM07jH/AAGubu/Gervo+u6/p02lx2GiXM0EtjcwOZpfJOGBlEgEbN/CNjYyvXOAzStKtX8dabe+DNGm0TTIIpRqb/YGsY7rIxHH5TKpdgSW37cAcbuSK5zU9Olul8QXGoaNrCeK5Lw/Yhaaez2swRv9GZiEMEgAYZaYll+bBXC4b307P819/p1CK018v68v68z1+1n+02kM+xo/NjV9jdVyM4PvUtQ2RuTYW5vgi3RiXzhH90Pj5se2c1NTluTHZXCiiikMKzrLQrLTtZvtSs1eKXUNhuI1b927rkb9vQMRgE98Cr8siwwvLIcIilmPoBXL+Bkm1KwfxTqDMbrWVEsUZYlbe25MMajoPlO5j3Zj6Chb/wBf1/wwdDqqz9U0PT9a8kapC1xHC24QNK4ic5B+eMHbJggEBgcHkVwt14l1m58Nz+JbHWHhlkmmGl6OltG8dykTsP3hKmTLBCSwdQgI44Oe/wBK1CPVtGs9RgGIruBJ0Gc4DKCP50LXXsD0di3RRRQAUVw/i+61zwvYDXU1+S5YXsUY0xraJYJUkkCCNcKZQ4DZzvOSpOMHaLOraxc3nii+02HWX0Sw0izjuby6ijjaR2kL7VzKrKFAQk/KSSQARg5Ol/67h/X42OvorzeDxxqknhlILiVbXUf7aXR5b6a32+WrDck5jJwrshX5TwHbkY+Wt3T9RvNM8dL4cvdWfVVuLBr2N7hIlnhKuqlT5SqCp3ZBK5yrcnoHa/8AXlf8g/r8bfmdXWbqOhWmq6np97feZJ/ZztLBAW/deYRgSFe7KM7fTcT1wRzsep+ILf4nabpupX0BtbywuZ2tLeEBIyjoE+dhvZsMQT8oPHyjvb8eWdzFpI8Q6TLKmpaIr3McayEJcRgZkhdc4IZV4OMggEe83VlL+uw7NtxX9aHU0VBY3kWoafb3tsd0NxEssZ9VYZH6Gp6ppp2ZKaaugooopDCiiigAooridR1m71HWdaVNem0PTtFMduz21vHJJcXDqr4xIj5A3IqqoDMzHk8CkM7aisDwVrtz4h8MRXeowrBfRSyW11GowFljcq2Bk4zjOMnGeprfPIPOPem9BBRXCJq89r4z07TNJ8WP4hkknkj1GxlFszWsaqcyEwxoUKvtXDZzuxjPIX4i+JdVstPvLDwpcLb6haWT393dNGsgtoUBKja2QWkK4APQBj2FJuyuNRbdjuqK4/U9bv3fwvpcN99gk1qNmlvhGjOCkavsQMCgdie6kYDYGcYl0TUbyfXdd8M3OrPdTWMUMkV+qRCdBKG4cKuzepXI+QAhlyD1NNWbRKd0mdXRXC6kmt2Pi3QtI0/xTql3LdStcXaTw2ZRLWMfMTtgVgWYqgIPcntV3xet5ouj6jrQ8TaxCkSForO3itCGc8JGu+BmOWIAySeam+lyra2OtorBs9O16bwxpttf65JBqIjU313DbxGR2xkhQVKLzxnYcgdjzWZ4b1vUpYfFFjeXwv30W5eGC/8ALVWkBjEgVwoCFkLbSQADgcA5py92/kKPvW8zsaK4T4f6sNe0/Tbx/HMmqX7WaT3mmo9mQjMg3BljiEigMf7w5ABzVfUvEd1NqPin7R4jm8PtoShobZYYWWWLywyzP5iMzhnJXCFegH3jmnL3XZhH3tj0OiuYkv5rrwZpuq67rT+FZXgjkumRoEVXZR8hM6OByeBwap6J4h1d/AusaoAdZeze4OmziMK2oRIMoxCgA5ORlQAwAIHNKXu3v0CPvWt1OzorzvTPEV4154WuNP8AEkmvJrpYzWrwwhYowhZ5U8tFZNjgKQ7N97B+bmpv7Y1bVNP1/WYfEA0waPczwx2PlQmECEnBnLqX+fr8rJhSMc8kfu3v0v8Ah/w4LW1uv63/AMjvqK4jUPGoudO0MQaha6MNWsft899cldtpDhB8u/C7y0qqpbIHJIbodFtdt9G8DXmt2+sv4kihR5IpzJCfNb7ojDQoq/e4zgkZNNpq9+gLW3mdNRXLeG71b3U3E3jS31W+jVjc6bZNb+TAc4OFCmUbTx8znnr6DAufEes32hXniHT9Ze3c3M8Ok6THbRul15Lsv7zcvmZbYxJVkCLgnoSU3bcFqekUVwx8UzeIrywh07Uzoti2kLq97dqsZkRH4RAZFZFHDliVP3R0zmpvCmsX/iTT9W0y51C6trvT7lY47+OCOOaWFlWSORo3QqrMpwQUHrhegdne39b2/MP6/C52dFcTatrEfxHt9Jt/Eeo39naWhutRF1Da7QXO2GMGOFWBOGbr0UetdtS6XDrYKKKKACiiigCG9theWFxbP92aJoz9CMf1rm/hzdiTwVZ6bNtS90dRp13DnmOSIbfyYAMD3BFdVVGKz0yHXbm5hjgTUp4UE5UgSPGpIQsPTJYA/h2oW78/0/pg9jgrHwxrWhaVq2iafpcl1c3Zmgs9Ykni8i3t5GLAMpbepUsxKqjBiASefl3fFN7d+A/hfJN4fS1mm0q2iiiW7yEdVKpjCkEsR0APJxXXVWudNsby6trm7sree4tWLW8ssSs8JPUqSMqTjtStZWXl+H9P7x6XuLYTy3Om209zCYJpYleSI9Y2IBK/geKsUUVT1ZK0VjzZrfxBqfjdtY8S+FNTubTTZCNHsra4tGiQ9PtD7p1LSHsCMIOmTzWlqegXVr48/wCEki0q61a2ureJZLKCaJWhniJ8uQrI6q4AYj73ysAQDwV7eiktEvIb1v5nJaXo9xp3h/Vp9Y0n+1brWLt7q506HynG1gqLHmRlRtqKucnBOcZ7s8NeGPs/iFtZ/sa10G2jtmt7PTbdYwy73DSSSeX8gZtiDClsAdecDsKKFo7r+tLfkD13/rqcFqJ1yT4kafrUPhTVJLOys7i1Yie0DSM7oVZQZx8uFPXB5HFbfjrVf7M8F3xjUteXkZtLODq0s8gKogHfk5PsCegroqo3NjptxrNjdXaRvf2ySfZN7/MgYAOyrnGcYGcZAOM8nK5U48r2GnaXMhNC00aN4d07TA24WdrHBn12qFz+lX6KKptyd2SlZWCiiikMKKKKACuFm0G80Px1qOtwaPda5BfbZ4IoJ4U+yXAjEbMVkdQdyhcMCxA3DAyd3dUUdbj8jnNA0fUfD3g+4iUQXWrytPduoYiJ7iRmfbnAO3JC544GeKu+HLnW7jwza3HiexhtNWZGNxbWzhlU5OADuI5GP4jyeta1FAjjtUttT8V3mlI2g3OkJYX0d493eywFwEOSkYikc5b7pztG0nr0qt4j8B3cui+JG0bW9UNzq0csjWmLXZM5Tase5otwXACj5xgdx1ruqKTSaa/rp/khptO/9f1qcudMez8G2enaxpN14q+VFlt5UtGKEDPIcxoQpGBjJ6detHhHw5JpV5f6lc2Vrpz3ixRQ6faAeXaQpuKpkAAsWd2bAxk4BOMnqKKpttt9yUrJI5nwxpWoDWtZ17XIfIu76YQW8BdX8i1jyEGVJGWJZzg/xD0o1vSr/W/GGkRyw7dE04m9lkLKfPuBxEm3OcLkvkjGdvpXTUUtreX9f8H1H38/6/4Hocz46uPE0eiJb+DrB57u6kEctyjxBrSP+J1WR1DtjoMgZ5J9TwhaJomgtp9n4c1LTo7ZS4+1y27yXchyWYskrZckclio5HYcdNRRtcHrY4y+sNS8VeItDupdFn0aLSLo3TXF3LCZpMoV8qMRO/ysSN24rwBwe2Rqmg6rLq2uyat4Zm8QTzS+Zo97FeRILJdoCou+RWgYMu4vGCTkHJIFelUUf1/X3Du7nP2c+s6F4b0q2v7C81/UEt1S6ns5IR84UZJMskecnPI545xWVZ+Htbi0XxTcaf5OkalrcjT2kAfItXMSoGcrkeYSNzFcgHu2MntaKJe9e/US921uh5tpWgap/a+hT6b4auPDlxA4k1e9lvIpPtq7SGjbZIzTszHIeQAjBIIJxWr4l0h9Zv7iPT/CNumpOvlR6/epblYV243oQzSllz8qlVGe4HNdpRQ9dwWmqOMvPDcuiat4d1LSNNbVItIsX0826NGswRgm2RC5VcjZgjcvDnGehpy+Dr7WtF8Wma2j02XX2R4LKZlcRtGigNLsyu52X5tpYYx1Oa7+ih63v/V3f8wWlrHFtY6l4h1zw7cz+H5dDXRpWmeWaWBicxFPJi8p2+UkjJbbwo4z0y7Dw1rHhy21fS9N0qW9uLt5ksNVeeLyLWGVi+1lZg67WZiQqNuwvPQL6RRQ7Pf+rht/Xb/hzzy68EyaLrOi3tlY3Gs2Fnp0dhPYwyxxszRHdDKRIyq4BLZUsMHa2CRxv+GtLvrKXWta1K3C32qzicWiMpaKNIwkcZbO0thckg4BYgEgZPSUUNt3+f4u4dv620Ob8FaPfadpdxe64oXV9VuGu7xQwbyicBIgRwQiBV9M59a6SiigAooooAKKKKAI7mdLW1luJThIkLsfYDJrmfh/ambw+viG92vqWvBb2eT+6jDMUQ/2UQgAeuT1JrprmBLq1lt5RlJUKMPYjBrlvh7eeVoC+HLxtup6CBZzxkYLIvEUoHdXQAg+uR2oW7/r1/QHsv69P1OWk1G71fwzPrlrqepDX7prifT4ILt0gtIYpGCmSIHyymF+YurFixA7Y9H0LUhrPh3TtTC7ReWsc+0dtyhsfrXH2/gnV9K03VtD0U2EVhqkshOpPM/2q3jkzlBHsIfbuYKd6gZBxkHdc8dX1x4Z8BfYPC9/HZ6usSQ6ZAUWWWfYVBRIyDuO3gnBxnJx1pJ2jr5f8H9PULNy+/8A4H6+h2dFV7A3LabbG/VVujEpnVOgfA3Y9s5qxVNWdhJ3Vzz/AMcwv4ds7fVNO1jU21u41GGO1hkvXaO5LyAGLyMiPaEJ5CgjaCTnJPQeKYNMEcVzqh1zgFEXSJb3Prytsf1Ye2a5+38PeLV8aXPiLVLDRdTuF3Raar6nLEljCeoVPs7fvG/ifOT0GBxXV6jceII5EGk6bptyhQF2udRkhKv3ACwvkdOcj6VO8f60/r9fvr7Rx6aprsvwbsr22uZtRuWZBczWTrJcfZvOw+1kyDKI+CV5DBiORVjwpfwX3jGQeE9SvNR8PCwBupp7yW5jW5LAosckjMwfYTuUHAyuQDT9R8BXk3gh9Kt762nvJNR/tK4FxCVtrpzL5hiZASRGTgfxdO9XtN0DV5/HQ8R6vFp+n+XYm0W3sJnmM+WDbpJGROFxhV2nqTntVLd3/rT8ddvPUl7WX9a/hpv9xkeLdBht5tL0nRL/AFqLUtUugok/ty8byYE+aaTBlI4X5RkYy61tePNH+1eHH1OxUJq+jI15p9x1ZXQZKE9SrgbWHfPsKs6doN2vjTUtf1SSJ2eJbTT44mJ8mAfMxOQPmZ+TjPCrzUPj3U3tPDcum2A8zVtYVrKwhXqzspBc+iouWJ7Ae4qHzcvu7/r0/r1LVubXb+rm3pOoR6to1lqMHEd3Ak6D0DKCP51bqppOnx6To1lp0HMdpAkCHHUKoA/lVutJW5nbYzjflVwoooqSgooooAK8+1C/i1fxFri6ne6pHBps0dhY2Om3clvJcTvEsjMPLZS7fMAAx2qFZjgZNeg1x8/hnUdK8Y6h4g8O2unXkupRKsq39w8Jt3UBdyFUfIYKu4YU/IOT0C6jX9f1/XYt+AdWv9W8KqdZdZNQtLiazuJFxh3ikK7uAByAOgHPYV0ckiQxNJK6oiKWZmOAoHUk1iaToFzoXhKXTrG8WTUXWaU3csfytcSFmLlcnjc3TJ445pNL0fUbzwSmk+OLiHUryeF4r6S2zEkoYngFQpHykDIApu7Ttv8AqJWv5focZFq2r6v8QvDOti+u7bR9SuLiCz09XKRzQLA7CaRe7O3zKD0UL3JroPG1jp+maLf6y8urPdsAsEEGsXcSyzNhY0VEkCjLEDgepqvqfw3trjXdCubK61BLWwlka4WXWrwvtMRVRGTIdpyRnBXjI56Vs6roN3q/i3SLq4kiGk6WGuFhDEvLdEbUYjGNqqWI5zk9OKGk9P6t/n+o7u9/L+v67EEWjJp3gSxtPEN7q95LZxIbie0ubpp5JDwxzCfMcZY8c4GPSq3gK6e7TWolvLqaxhvTHaRX0rm6gTYMiTefMXLbiof5tuO2K6PU5dUihQ6NZ2d3KW+dbu7aBQPUFY3yfbA+tZmi6LfWmparreom2OpaikafZ4GPlRJGGCJvK5Y5YkttHXG3jkbu22LZJHOiW307x5o1nod7rUG+aaO9XVri6aCdAhwsf2kkO+/aQYs/KGJOOrLi7/t2/wBblu7/AFRJob99N0qy068eBt6IpaTCkBzuYkmTKqqjjk53LrSdd8Q3mnf25Dp+nWlhdpebLO6e5ed0ztXLRRhACckgMTjHHWqq+GNV0TxHrGo+G4dNn/tciQy3szo9m5GG2hUYOhIDbcpyOT02rXr5/p93X03B+Xl+v39PyJvDMk/jPwLplxq95cxTgvHd/YJ2t/OkjZo2O9Nrgbl3YUr6HjiufsfFF1o3hHxteWV5Nqdjo9zImmXFzIZmzsUshkY5kVJGIySTjjJxWprHhLX7XwHYeGvCN9CirhL67uZ2hmkQnMnlsqPtdyT8xBxnjNXrfwzLe+DbvwvqWk6fpOmva/Z4V069ecqCDz80SYIODnnJzn3b+1b+vP8ARf1dx05b/wBf11/q3P3t1N4Z1TSptN1LU9QZL2G11mW6u3lgkMxC7VRiVSQMyviMKFXg9QDLfzWUHjHX5PFdx4itrJZIPsk1vNfxWscfkrvJeEiNRvzksRjnNaVl4X1e4g0fTdXj06107SZ0uSbKZ3e9lTlSysg8vLHefmclu/c6mtxeJNQju9OsLbS4LS4QxC+lu5HkRWGGbyBEASMnA8wdjntQ9tNd7fh92tyY+fZf15kfimG4uPClxcabq81taw2Esoa1fLz/ALvKHzskhe+VwxODuAyDBo13q03wgsLzTmN1rD6LHJC07bjLMYQQWJ6kt61Lf6Hf2PgmLw74bt7S4jWyNlvvbt4Si7Nob5Y33Hvjiqum+Hdcf4bP4X1F7TTpo9OWxhvbG5eYnEewuQyR7enQE9eopS2ml5W/H/gFR+zf+tv+Cc/oOqxXus+H/wDhGNQ1e4v3Zv7dtr66mlFsgUhxNHISsMnmABQoXODj5aW51a1nbXX13xDeaZ4gtbmddPskvJISsaZMJS3U4nDDBJKvuyR0GBpW3hPXLu78MjUrTRdLh0BhIJdMmd3lITYY1Uxp5cbZJYZbOAPetvXLPxFrMd1pUH2DT9OuFMT3yXDy3HlkYYLFsVVY5wG3tjrg9Kc+vL5/pt2/4fuKOlr+X679/X07HPapqU+s6V4N1O6XWFsLyEz340gXIYboNy7vs/z43ke1Wr/xBY6Z8Or698I39xPIJxapJdzyzyW07usfzicl1KlgdjY+nNdHPFqWlafZ2fhvT7K4hgjEW27vXg2KoAXBWKTdx646d6wH8ANqXh3XrfVrwR6jr0y3M01oCEtpEVRGEyQWClF54Lc8LnAcrc0mtv8AhtPuFFNKNzNe+Ph7xdo6aPfane2M17/ZmpTXt5JcRyzMjFfL3k7XVk+bYFUbtvJGFseOtHhstMWPSLzWE1nVrkWtljW7wKkjkln2CXAVFDNjGPlxV+x8Oard3WijWbfTdPsdEPmwWumzPIs0uwoGO5E2KoZiFG4kkc8c6A0G7ufHza5qMkTWtna/Z9OhRiSjOcyyNkAAnCqME8A+tFlon/S/4L+6/kPzXb8f16etjE1m6iHiWPRNR1S+tdJ0rS1urh4rmSOa6kZ/LjBkQiQn5W+VTlmZevSk8LeJ5NN0/wARw+I5biOHRJleM3T+ZOlvJGHjR2Gd7jJXqSeBknk6Ou+GLmXxhY+J9Igs7q8t4DbyW19M0UbLklJFZVfa6ksPunIduR3LTwTDd2Oof8JMTc3Wp3qXs4tp5IlhZAoiRHUqxCBF54yecDoErtff+f8Al/kPRPy/4H+f9aGL4Xl15viY8uu3l0v9oaQbsaY0pMNn++CooXpvC43N3JPavRa4238AxWvj6HWorq+a0isvKCy6tdSSGXzAwzuc5TH8JOM/w967Knpyr5/mydeZ/L8kFFFFIYUUUUAFMEMQnM4jQSsoQybRuKgkgZ9Mk8e9ecX3x58HafqFxZzpqxlt5Wifbpz4ypwcZ+lV/wDhoXwV/wA89Y/8Fz0AepUVzng3x1pHjqzubnQxdhLaQRyC5t2iOSMjGetdHQAUVUu9W06wlEd9qFrbSEbgk0yoSPXBNQf8JJof/QZ0/wD8Ck/xoA0qKgtL60v4zJY3UNyinBaGQOAfTIqegAopskiQxNJM6xxoNzOxwFHqTWf/AMJJof8A0GdP/wDApP8AGgDSqNraB7pLl4Y2njVkSUoCyq2MgHqAcDI9hTLS+tL+MyWN1DcopwWhkDgH0yKnoAKKjuLmC0gaa7mjgiX70kjhVH4mkt7u3u13Ws8Uy4BzG4Yc9OlAEtFFZeseJ9D8PtCut6tZ2LTuI4knmCs7E4AA6mgDUooooAKKKKACiqGpa7pOjJv1jVLKwXGc3VwkQx/wIiuduPi58P7aTZJ4u0tj6xziQfmuRQB2NFZ2h6/pXiXTBqGg38N/aMxQSwtkbh1H1rRoAKKbJIkMTSTOscaDczscBR6k1n/8JJof/QZ0/wD8Ck/xoA0qKp2ur6bfTeVZaha3MmM7IZ1c49cA1coAKKKKACis+TX9HhlaObVrGORDtZGuUBU+hGamtNTsNQLCwvbe6KYLCGVX2/XB4oAtUUUUAFFFFABRVS71bTrCUR32oWttIRuCTTKhI9cE1B/wkmh/9BnT/wDwKT/GgDSoqjBrelXU6w2up2c0rfdjjuEZj9ADV6gAooooAKKjuLmC0gaa7mjgiX70kjhVH4mq9rq+m303lWWoWtzJjOyGdXOPXANAFyiiigAooooAKKKKACiiigDlfEfwy8H+LdUGo+ItDhvbwRiPzWkdTtGcD5WHqayf+FF/Db/oVrf/AL/y/wDxdegUUAYfhjwZ4f8ABlvPB4Z0yPT47hw8oRmbeQMDlia3KKKAKup6ZZ6zpdzp2pwLcWd1GY5omzh1PUcVxP8Awov4bf8AQrW//f8Al/8Ai69AooAw/DHgzw/4Mt54PDOmR6fHcOHlCMzbyBgcsTW5RRQBmeIPDmk+KtHk0vxBZJe2UjBmidiOQcg5BBH51wU/7O3w3lIa30e4tGGMNDfTZBz1+ZjzXqFFAHlD/s6eDWlDrea6i/3F1A4P5rn9a2NA+CXgPw7qCX9to32u9jbek99M05U9iAx25HY4zXf0UAFFFFAHI+NdO8dajLap4H1zTtIg2sLmS5tvNkz2Kggrjr1Fct/wp/xHrB/4q/4n69eo33oNOC2aH2wCQfyr1eigDzfTfgD8PNPbzJdFfUJj1lvbmSQt9RkL+ldNa/D3wbZJttfCmixjuRp8WT9Ttya6KigCvY6fZ6Zai2020gs4ASRFbxCNQT1OAMVYoooAqappdlrWlXGm6rbrc2d0hjmhfOHU9uK4r/hRfw2/6Fa3/wC/8v8A8XXoFFAHJ+Hvhf4M8K6sup+H9Chs71UZFmWR2IB6/eYiusoooAKKKKAOFuvgp8PL28murnwxbvNM7SSMJZBlick4DYHPpWt4Y+HnhXwbdzXPhnRobCedBHI6O7FlznHzE45rpKKACiiigAooooA5TxF8MfB3izVf7S8Q6FDe3mwRmZndSVHQfKw9ayv+FF/Db/oVrf8A7/y//F16BRQBxek/CDwHoerW+p6V4dgt7y1fzIZRLIxRvXBYiu0oooAKKKKAMzxB4d0nxTpD6X4gso72ydlZonJAyDkHIIIrG8PfC/wZ4V1ZdT8P6FDZ3qoyLMsjsQD1+8xFdZRQAUUUUAFFFFAHE+Lfix4c8F60NL1ldQNwYll/0ezeRdpzj5hx2rAPx/0G4ymjeHfE+qyk7US200nccdOWz+leq0UAcN4T+IGr+I9bSxvvAmu6LC0bP9rvYwsakdAenJruaKKACiiigArk/GfjHUvC01rHpvhHVvEAnVmZ7BQViwRwe+TmusooA8t/4W54i/6JX4o/79j/AArufCuu3XiLQ0v77RL3RJmdkNpfKBIAP4uOxrZooAKKKKACiiigDI8UeJrDwjoMur6uLg20TKrfZ4WlbLHA4H864T/hoXwV/wA89Y/8Fz16lRQB5b/w0L4K/wCeesf+C56P+GhfBX/PPWP/AAXPXqVFAHnuhfGzwp4h1y10mwXVBc3b+XGZbB1XPue31r0KiigArifFvxY8OeC9aGl6wuoG4MSy/wCj2byLg5x83Q9O1dtRQBw/hT4t+GvGOuLpWkLqK3LRtIPtFm8a4Xr8x4FdxRRQAUUUUAFFFFABWF4i8b+GvCcsMXiPWbXT5J1LRJM2CwHU4Hat2qOo6HpOsGM6tplnfGPIQ3NukmzPXG4HHSgDlv8Ahcvw8/6GzT/++j/hXW6ZqdlrOmwahpdzHdWlwu+KaI5Vx6is7/hCvC3/AELWj/8AgBF/8TWtbW0FnbR29nBHbwRjakUSBVQegA4FAEtFFcb8Xbme0+EXiOe0mkgmSzbbJE5Vl5HQjmgDsqK/O7/hI9c/6DOof+BT/wCNH/CR65/0GdQ/8Cn/AMaAP0Roryf9m6+u7/4SLLfXM1zIL6ZQ80hcgfLxk9uTXrFABRRRQAUUUUAVrvUrHT9v2+8t7Xfnb50qpu+mTzUltdW95AJrSeOeJukkThlP4ivDP2jbO2nvtBkntoZH8uZdzxgnGV4ya7L4FwQ2/wAL7dYIkiU3MxIRQATu68UAejUUUUAFFFFAH//Z)"
      ]
    },
    {
      "cell_type": "code",
      "metadata": {
        "id": "dmT1Km7Lgzf9"
      },
      "source": [
        "from sklearn import model_selection, naive_bayes, svm\n",
        "from sklearn.linear_model import LogisticRegression\n",
        "from sklearn.metrics import accuracy_score\n",
        "from sklearn.model_selection import cross_validate as CV\n",
        "from sklearn.model_selection import cross_val_score\n",
        "from sklearn.metrics import confusion_matrix\n",
        "from sklearn.metrics import plot_confusion_matrix\n",
        "import matplotlib.pyplot as plt"
      ],
      "execution_count": 14,
      "outputs": []
    },
    {
      "cell_type": "code",
      "metadata": {
        "colab": {
          "base_uri": "https://localhost:8080/",
          "height": 296
        },
        "id": "tQ-qPbYmYdQo",
        "outputId": "3586130d-9e81-4bad-a0ce-0931fb2f4029"
      },
      "source": [
        "# fit the training dataset on the NB classifier\n",
        "Naive = naive_bayes.MultinomialNB()\n",
        "Naive.fit(X_train,y_train)\n",
        "# predict the labels on validation dataset\n",
        "y_pred = Naive.predict(X_test)\n",
        "# Use accuracy_score function to get the accuracy\n",
        "print(\"Naive Bayes Accuracy Score -> \",accuracy_score(y_pred , y_test)*100)\n",
        "\n",
        "plot_confusion_matrix(Naive, X_test, y_test)  \n",
        "plt.show()"
      ],
      "execution_count": 15,
      "outputs": [
        {
          "output_type": "stream",
          "name": "stdout",
          "text": [
            "Naive Bayes Accuracy Score ->  96.59192825112108\n"
          ]
        },
        {
          "output_type": "display_data",
          "data": {
            "image/png": "[encoded data removed]",
            "text/plain": [
              "<Figure size 432x288 with 2 Axes>"
            ]
          },
          "metadata": {
            "needs_background": "light"
          }
        }
      ]
    },
    {
      "cell_type": "markdown",
      "metadata": {
        "id": "oJ4KBVLZfynL"
      },
      "source": [
        "# Interpretation of Confusion Matrix\n",
        "## For 1115 test cases, 38 cases where the message is SPAM but the model detected it as Not SPAM\n"
      ]
    },
    {
      "cell_type": "markdown",
      "metadata": {
        "id": "YqHjIfWcZyNQ"
      },
      "source": [
        "### Five fold Cross Validataion for Naive Bayes\n",
        "\n"
      ]
    },
    {
      "cell_type": "code",
      "metadata": {
        "colab": {
          "base_uri": "https://localhost:8080/"
        },
        "id": "NhbwuhD0Y3Sk",
        "outputId": "217410c5-add2-41e5-99e6-abb7b87f6d27"
      },
      "source": [
        "Naive_acc_scores = cross_val_score(Naive, X_train, y_train, cv=5)\n",
        "Naive_acc_scores"
      ],
      "execution_count": 16,
      "outputs": [
        {
          "output_type": "execute_result",
          "data": {
            "text/plain": [
              "array([0.96188341, 0.9529148 , 0.96071829, 0.95173962, 0.9674523 ])"
            ]
          },
          "metadata": {},
          "execution_count": 16
        }
      ]
    },
    {
      "cell_type": "code",
      "metadata": {
        "colab": {
          "base_uri": "https://localhost:8080/"
        },
        "id": "HqSZ4VBVZtWP",
        "outputId": "f35ed63f-a795-4b4e-f81a-9dd1ffef6636"
      },
      "source": [
        "sum(Naive_acc_scores)/5"
      ],
      "execution_count": 17,
      "outputs": [
        {
          "output_type": "execute_result",
          "data": {
            "text/plain": [
              "0.9589416839043148"
            ]
          },
          "metadata": {},
          "execution_count": 17
        }
      ]
    },
    {
      "cell_type": "markdown",
      "metadata": {
        "id": "d33jV9S1nAMi"
      },
      "source": [
        "# Logistic Regression"
      ]
    },
    {
      "cell_type": "code",
      "metadata": {
        "colab": {
          "base_uri": "https://localhost:8080/",
          "height": 296
        },
        "id": "fSnBPLdbnDX1",
        "outputId": "58fbc192-2b5a-486a-c4f3-f24e022b275d"
      },
      "source": [
        "# fit the training dataset on the Logistic Regression classifier\n",
        "LR = LogisticRegression(random_state=0)\n",
        "LR.fit(X_train,y_train)\n",
        "# predict the labels on validation dataset\n",
        "y_pred = LR.predict(X_test)\n",
        "# Use accuracy_score function to get the accuracy\n",
        "print(\"Logistic Regression Score -> \",accuracy_score(y_pred , y_test)*100)\n",
        "\n",
        "plot_confusion_matrix(LR, X_test, y_test)  \n",
        "plt.show()"
      ],
      "execution_count": 18,
      "outputs": [
        {
          "output_type": "stream",
          "name": "stdout",
          "text": [
            "Logistic Regression Score ->  96.50224215246637\n"
          ]
        },
        {
          "output_type": "display_data",
          "data": {
            "image/png": "[encoded data removed]",
            "text/plain": [
              "<Figure size 432x288 with 2 Axes>"
            ]
          },
          "metadata": {
            "needs_background": "light"
          }
        }
      ]
    },
    {
      "cell_type": "markdown",
      "metadata": {
        "id": "18AHU6jWnVNi"
      },
      "source": [
        "### Five fold cross validation for logistic regression"
      ]
    },
    {
      "cell_type": "code",
      "metadata": {
        "colab": {
          "base_uri": "https://localhost:8080/"
        },
        "id": "TVjhJVEPnDZ0",
        "outputId": "92e94b7a-302a-4dbd-9402-74da102288ee"
      },
      "source": [
        "LR_acc_scores = cross_val_score(LR, X_train, y_train, cv=5)\n",
        "LR_acc_scores"
      ],
      "execution_count": 19,
      "outputs": [
        {
          "output_type": "execute_result",
          "data": {
            "text/plain": [
              "array([0.96748879, 0.95852018, 0.96184063, 0.95959596, 0.97418631])"
            ]
          },
          "metadata": {},
          "execution_count": 19
        }
      ]
    },
    {
      "cell_type": "code",
      "metadata": {
        "colab": {
          "base_uri": "https://localhost:8080/"
        },
        "id": "_qEs10g-nDcQ",
        "outputId": "5bec742f-7a2f-40b8-a8d8-4a761e0a632e"
      },
      "source": [
        "sum(LR_acc_scores)/5"
      ],
      "execution_count": 20,
      "outputs": [
        {
          "output_type": "execute_result",
          "data": {
            "text/plain": [
              "0.9643263728465523"
            ]
          },
          "metadata": {},
          "execution_count": 20
        }
      ]
    },
    {
      "cell_type": "markdown",
      "metadata": {
        "id": "2yjRn5wTg610"
      },
      "source": [
        "# Support Vector Machine"
      ]
    },
    {
      "cell_type": "code",
      "metadata": {
        "colab": {
          "base_uri": "https://localhost:8080/",
          "height": 296
        },
        "id": "LgnNHNPxgohI",
        "outputId": "74ffa1f5-5102-40bc-8086-12356b9d8607"
      },
      "source": [
        "# fit the training dataset on the SVC classifier\n",
        "SVM = svm.SVC(C=1.0, kernel='linear', degree=3, gamma='auto')\n",
        "SVM.fit(X_train,y_train)\n",
        "# predict the labels on validation dataset\n",
        "y_pred = SVM.predict(X_test)\n",
        "# Use accuracy_score function to get the accuracy\n",
        "print(\"Support Vector Machine Score -> \",accuracy_score(y_pred , y_test)*100)\n",
        "\n",
        "plot_confusion_matrix(SVM, X_test, y_test)  \n",
        "plt.show()"
      ],
      "execution_count": 21,
      "outputs": [
        {
          "output_type": "stream",
          "name": "stdout",
          "text": [
            "Support Vector Machine Score ->  98.9237668161435\n"
          ]
        },
        {
          "output_type": "display_data",
          "data": {
            "image/png": "[encoded data removed]",
            "text/plain": [
              "<Figure size 432x288 with 2 Axes>"
            ]
          },
          "metadata": {
            "needs_background": "light"
          }
        }
      ]
    },
    {
      "cell_type": "markdown",
      "metadata": {
        "id": "odRkrtbBhdSS"
      },
      "source": [
        "### Five fold Cross validationfor SVM"
      ]
    },
    {
      "cell_type": "code",
      "metadata": {
        "colab": {
          "base_uri": "https://localhost:8080/"
        },
        "id": "8RsN6ON9g9LI",
        "outputId": "71485853-8c65-4305-cfe4-dcce46d05506"
      },
      "source": [
        "SVM_acc_scores = cross_val_score(SVM, X_train, y_train, cv=5)\n",
        "SVM_acc_scores"
      ],
      "execution_count": 22,
      "outputs": [
        {
          "output_type": "execute_result",
          "data": {
            "text/plain": [
              "array([0.98542601, 0.97757848, 0.98765432, 0.97755331, 0.98653199])"
            ]
          },
          "metadata": {},
          "execution_count": 22
        }
      ]
    },
    {
      "cell_type": "code",
      "metadata": {
        "colab": {
          "base_uri": "https://localhost:8080/"
        },
        "id": "FQQAjI2ZhkO8",
        "outputId": "a4e3f9b3-dd7a-48b2-d59d-e8a2b50b1720"
      },
      "source": [
        "sum(SVM_acc_scores)/5"
      ],
      "execution_count": 23,
      "outputs": [
        {
          "output_type": "execute_result",
          "data": {
            "text/plain": [
              "0.9829488205422436"
            ]
          },
          "metadata": {},
          "execution_count": 23
        }
      ]
    },
    {
      "cell_type": "markdown",
      "metadata": {
        "id": "YphgDIs5jVX_"
      },
      "source": [
        "# Hyperparameter Tunning for SVM"
      ]
    },
    {
      "cell_type": "code",
      "metadata": {
        "id": "H3fXA1Veisc2"
      },
      "source": [
        "from sklearn.model_selection import GridSearchCV"
      ],
      "execution_count": 24,
      "outputs": []
    },
    {
      "cell_type": "code",
      "metadata": {
        "id": "sOmnVeYHjsxw"
      },
      "source": [
        "gridclf = GridSearchCV(svm.SVC(), \n",
        "                       {'C': [1, 2], 'kernel':['rbf', 'linear'], 'gamma':['scale', 'auto']}, cv = 5)"
      ],
      "execution_count": 25,
      "outputs": []
    },
    {
      "cell_type": "code",
      "metadata": {
        "colab": {
          "base_uri": "https://localhost:8080/"
        },
        "id": "qYEWHp5PkUry",
        "outputId": "ad484a94-f881-40ed-af2a-7931e125de0f"
      },
      "source": [
        "gridclf.fit(X_train, y_train)"
      ],
      "execution_count": 26,
      "outputs": [
        {
          "output_type": "execute_result",
          "data": {
            "text/plain": [
              "GridSearchCV(cv=5, error_score=nan,\n",
              "             estimator=SVC(C=1.0, break_ties=False, cache_size=200,\n",
              "                           class_weight=None, coef0=0.0,\n",
              "                           decision_function_shape='ovr', degree=3,\n",
              "                           gamma='scale', kernel='rbf', max_iter=-1,\n",
              "                           probability=False, random_state=None, shrinking=True,\n",
              "                           tol=0.001, verbose=False),\n",
              "             iid='deprecated', n_jobs=None,\n",
              "             param_grid={'C': [1, 2], 'gamma': ['scale', 'auto'],\n",
              "                         'kernel': ['rbf', 'linear']},\n",
              "             pre_dispatch='2*n_jobs', refit=True, return_train_score=False,\n",
              "             scoring=None, verbose=0)"
            ]
          },
          "metadata": {},
          "execution_count": 26
        }
      ]
    },
    {
      "cell_type": "code",
      "metadata": {
        "colab": {
          "base_uri": "https://localhost:8080/"
        },
        "id": "Zuk5Wc-2kaTa",
        "outputId": "9c8bdd87-8431-4d16-ca15-02ea04587043"
      },
      "source": [
        "gridclf.cv_results_"
      ],
      "execution_count": 27,
      "outputs": [
        {
          "output_type": "execute_result",
          "data": {
            "text/plain": [
              "{'mean_fit_time': array([0.92947636, 0.40454926, 0.53848891, 0.40138416, 0.95203257,\n",
              "        0.39622211, 0.54473581, 0.39197116]),\n",
              " 'mean_score_time': array([0.19393921, 0.08305326, 0.11945319, 0.08456202, 0.19698114,\n",
              "        0.07970853, 0.12049184, 0.08239121]),\n",
              " 'mean_test_score': array([0.97599261, 0.98294882, 0.86829732, 0.98294882, 0.97868546,\n",
              "        0.98519173, 0.86829732, 0.98519173]),\n",
              " 'param_C': masked_array(data=[1, 1, 1, 1, 2, 2, 2, 2],\n",
              "              mask=[False, False, False, False, False, False, False, False],\n",
              "        fill_value='?',\n",
              "             dtype=object),\n",
              " 'param_gamma': masked_array(data=['scale', 'scale', 'auto', 'auto', 'scale', 'scale',\n",
              "                    'auto', 'auto'],\n",
              "              mask=[False, False, False, False, False, False, False, False],\n",
              "        fill_value='?',\n",
              "             dtype=object),\n",
              " 'param_kernel': masked_array(data=['rbf', 'linear', 'rbf', 'linear', 'rbf', 'linear',\n",
              "                    'rbf', 'linear'],\n",
              "              mask=[False, False, False, False, False, False, False, False],\n",
              "        fill_value='?',\n",
              "             dtype=object),\n",
              " 'params': [{'C': 1, 'gamma': 'scale', 'kernel': 'rbf'},\n",
              "  {'C': 1, 'gamma': 'scale', 'kernel': 'linear'},\n",
              "  {'C': 1, 'gamma': 'auto', 'kernel': 'rbf'},\n",
              "  {'C': 1, 'gamma': 'auto', 'kernel': 'linear'},\n",
              "  {'C': 2, 'gamma': 'scale', 'kernel': 'rbf'},\n",
              "  {'C': 2, 'gamma': 'scale', 'kernel': 'linear'},\n",
              "  {'C': 2, 'gamma': 'auto', 'kernel': 'rbf'},\n",
              "  {'C': 2, 'gamma': 'auto', 'kernel': 'linear'}],\n",
              " 'rank_test_score': array([6, 3, 7, 3, 5, 1, 7, 1], dtype=int32),\n",
              " 'split0_test_score': array([0.97982063, 0.98542601, 0.867713  , 0.98542601, 0.9809417 ,\n",
              "        0.99103139, 0.867713  , 0.99103139]),\n",
              " 'split1_test_score': array([0.97309417, 0.97757848, 0.867713  , 0.97757848, 0.97533632,\n",
              "        0.97982063, 0.867713  , 0.97982063]),\n",
              " 'split2_test_score': array([0.97643098, 0.98765432, 0.86868687, 0.98765432, 0.98316498,\n",
              "        0.98989899, 0.86868687, 0.98989899]),\n",
              " 'split3_test_score': array([0.96969697, 0.97755331, 0.86868687, 0.97755331, 0.97194164,\n",
              "        0.98092031, 0.86868687, 0.98092031]),\n",
              " 'split4_test_score': array([0.98092031, 0.98653199, 0.86868687, 0.98653199, 0.98204265,\n",
              "        0.98428732, 0.86868687, 0.98428732]),\n",
              " 'std_fit_time': array([0.02320591, 0.00799831, 0.00386466, 0.01092038, 0.01619384,\n",
              "        0.0121968 , 0.00154659, 0.00869319]),\n",
              " 'std_score_time': array([0.00521932, 0.00193347, 0.00278643, 0.00302314, 0.00326638,\n",
              "        0.00239282, 0.00205069, 0.00375572]),\n",
              " 'std_test_score': array([0.00417527, 0.00445128, 0.00047709, 0.00445128, 0.00431563,\n",
              "        0.00456446, 0.00047709, 0.00456446])}"
            ]
          },
          "metadata": {},
          "execution_count": 27
        }
      ]
    },
    {
      "cell_type": "code",
      "metadata": {
        "colab": {
          "base_uri": "https://localhost:8080/",
          "height": 294
        },
        "id": "Wzhxl-iWkfbk",
        "outputId": "c396ffdd-c5be-4ea8-ba0e-a220d49eeb2f"
      },
      "source": [
        "hyper_p = pd.DataFrame(gridclf.cv_results_)[[\"param_C\", \"param_kernel\", \"param_gamma\", \"mean_test_score\"]].sort_values(by=\"mean_test_score\",ascending=False)\n",
        "hyper_p"
      ],
      "execution_count": 28,
      "outputs": [
        {
          "output_type": "execute_result",
          "data": {
            "text/html": [
              "<div>\n",
              "<style scoped>\n",
              "    .dataframe tbody tr th:only-of-type {\n",
              "        vertical-align: middle;\n",
              "    }\n",
              "\n",
              "    .dataframe tbody tr th {\n",
              "        vertical-align: top;\n",
              "    }\n",
              "\n",
              "    .dataframe thead th {\n",
              "        text-align: right;\n",
              "    }\n",
              "</style>\n",
              "<table border=\"1\" class=\"dataframe\">\n",
              "  <thead>\n",
              "    <tr style=\"text-align: right;\">\n",
              "      <th></th>\n",
              "      <th>param_C</th>\n",
              "      <th>param_kernel</th>\n",
              "      <th>param_gamma</th>\n",
              "      <th>mean_test_score</th>\n",
              "    </tr>\n",
              "  </thead>\n",
              "  <tbody>\n",
              "    <tr>\n",
              "      <th>5</th>\n",
              "      <td>2</td>\n",
              "      <td>linear</td>\n",
              "      <td>scale</td>\n",
              "      <td>0.985192</td>\n",
              "    </tr>\n",
              "    <tr>\n",
              "      <th>7</th>\n",
              "      <td>2</td>\n",
              "      <td>linear</td>\n",
              "      <td>auto</td>\n",
              "      <td>0.985192</td>\n",
              "    </tr>\n",
              "    <tr>\n",
              "      <th>1</th>\n",
              "      <td>1</td>\n",
              "      <td>linear</td>\n",
              "      <td>scale</td>\n",
              "      <td>0.982949</td>\n",
              "    </tr>\n",
              "    <tr>\n",
              "      <th>3</th>\n",
              "      <td>1</td>\n",
              "      <td>linear</td>\n",
              "      <td>auto</td>\n",
              "      <td>0.982949</td>\n",
              "    </tr>\n",
              "    <tr>\n",
              "      <th>4</th>\n",
              "      <td>2</td>\n",
              "      <td>rbf</td>\n",
              "      <td>scale</td>\n",
              "      <td>0.978685</td>\n",
              "    </tr>\n",
              "    <tr>\n",
              "      <th>0</th>\n",
              "      <td>1</td>\n",
              "      <td>rbf</td>\n",
              "      <td>scale</td>\n",
              "      <td>0.975993</td>\n",
              "    </tr>\n",
              "    <tr>\n",
              "      <th>2</th>\n",
              "      <td>1</td>\n",
              "      <td>rbf</td>\n",
              "      <td>auto</td>\n",
              "      <td>0.868297</td>\n",
              "    </tr>\n",
              "    <tr>\n",
              "      <th>6</th>\n",
              "      <td>2</td>\n",
              "      <td>rbf</td>\n",
              "      <td>auto</td>\n",
              "      <td>0.868297</td>\n",
              "    </tr>\n",
              "  </tbody>\n",
              "</table>\n",
              "</div>"
            ],
            "text/plain": [
              "  param_C param_kernel param_gamma  mean_test_score\n",
              "5       2       linear       scale         0.985192\n",
              "7       2       linear        auto         0.985192\n",
              "1       1       linear       scale         0.982949\n",
              "3       1       linear        auto         0.982949\n",
              "4       2          rbf       scale         0.978685\n",
              "0       1          rbf       scale         0.975993\n",
              "2       1          rbf        auto         0.868297\n",
              "6       2          rbf        auto         0.868297"
            ]
          },
          "metadata": {},
          "execution_count": 28
        }
      ]
    },
    {
      "cell_type": "code",
      "metadata": {
        "colab": {
          "base_uri": "https://localhost:8080/"
        },
        "id": "XzF0f3NVkjGi",
        "outputId": "2eeb71fb-7f9f-4823-ee58-6943b15a89c8"
      },
      "source": [
        "gridclf.best_estimator_ \n",
        "# the best model (98% accuracy) is the one that has C = 2 and a linear kernel"
      ],
      "execution_count": 32,
      "outputs": [
        {
          "output_type": "execute_result",
          "data": {
            "text/plain": [
              "SVC(C=2, break_ties=False, cache_size=200, class_weight=None, coef0=0.0,\n",
              "    decision_function_shape='ovr', degree=3, gamma='scale', kernel='linear',\n",
              "    max_iter=-1, probability=False, random_state=None, shrinking=True,\n",
              "    tol=0.001, verbose=False)"
            ]
          },
          "metadata": {},
          "execution_count": 32
        }
      ]
    },
    {
      "cell_type": "code",
      "metadata": {
        "colab": {
          "base_uri": "https://localhost:8080/"
        },
        "id": "dxnUHRwektS_",
        "outputId": "a73a948a-b8fe-48c9-ad7c-d9b59054b04c"
      },
      "source": [
        "gridclf.best_params_ "
      ],
      "execution_count": 31,
      "outputs": [
        {
          "output_type": "execute_result",
          "data": {
            "text/plain": [
              "{'C': 2, 'gamma': 'scale', 'kernel': 'linear'}"
            ]
          },
          "metadata": {},
          "execution_count": 31
        }
      ]
    },
    {
      "cell_type": "markdown",
      "metadata": {
        "id": "h7CInbGhtPt-"
      },
      "source": [
        "Without Hyperparameter accuracy for SVM was 98.29, with hyperparameter tuning accuracy increased to 98.52"
      ]
    },
    {
      "cell_type": "markdown",
      "metadata": {
        "id": "GF2fIkM_te2i"
      },
      "source": [
        "# Comparisons Bewtween Different Machine Learning Models"
      ]
    },
    {
      "cell_type": "markdown",
      "metadata": {
        "id": "KnjAAwuzmTh0"
      },
      "source": [
        "|Model Name|Accuracy|\n",
        "|---|---|\n",
        "|SVM|98.52|\n",
        "|Naive Bayes|95.89|\n",
        "|Logistic Regression|96.43|\n",
        "\n",
        "\n",
        "\n",
        "Findings: SVM with C = 2, and linear kernel has the best Accuracy that is 98.52 % achieved in this project\n"
      ]
    }
  ]
}
