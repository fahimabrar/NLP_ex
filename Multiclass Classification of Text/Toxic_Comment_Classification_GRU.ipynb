{
  "nbformat": 4,
  "nbformat_minor": 0,
  "metadata": {
    "colab": {
      "name": "Toxic Comment Classification GRU.ipynb",
      "provenance": [],
      "collapsed_sections": [],
      "mount_file_id": "1DNpyX_2S7mAaHVDqKEQQKIKWkqpcecOc",
      "authorship_tag": "ABX9TyMNV9F0whIobmxLEiCPPLf/",
      "include_colab_link": true
    },
    "kernelspec": {
      "name": "python3",
      "display_name": "Python 3"
    },
    "language_info": {
      "name": "python"
    }
  },
  "cells": [
    {
      "cell_type": "markdown",
      "metadata": {
        "id": "view-in-github",
        "colab_type": "text"
      },
      "source": [
        "<a href=\"https://colab.research.google.com/github/fahimabrar/Natural-Language-Processing/blob/main/Multiclass%20Classification%20of%20Text/Toxic_Comment_Classification_GRU.ipynb\" target=\"_parent\"><img src=\"https://colab.research.google.com/assets/colab-badge.svg\" alt=\"Open In Colab\"/></a>"
      ]
    },
    {
      "cell_type": "markdown",
      "metadata": {
        "id": "mdcK7Q4n6CEd"
      },
      "source": [
        "https://www.kaggle.com/c/jigsaw-toxic-comment-classification-challenge/data"
      ]
    },
    {
      "cell_type": "code",
      "metadata": {
        "id": "iTWK2V2fK6S8"
      },
      "source": [
        "import os\n",
        "import numpy as np\n",
        "import pandas as pd\n",
        "import matplotlib.pyplot as plt\n",
        "from keras.preprocessing.text import Tokenizer\n",
        "from keras.preprocessing.sequence import pad_sequences\n",
        "from keras.layers import Dense, Input, GlobalMaxPooling1D\n",
        "from keras.layers import LSTM, GRU, Embedding\n",
        "from keras.models import Model\n",
        "from sklearn.metrics import roc_auc_score\n",
        "import pickle"
      ],
      "execution_count": 1,
      "outputs": []
    },
    {
      "cell_type": "code",
      "metadata": {
        "id": "vFYhRQizNTUA"
      },
      "source": [
        "# some configuration\n",
        "MAX_SEQUENCE_LENGTH = 100\n",
        "# maximum size for an input/comment/sentence/line \n",
        "MAX_VOCAB_SIZE = 20000\n",
        "# max vocab size is 20000 selected, If there are more than 20000 unique words in the dataset it will be truncated automatically by keras\n",
        "EMBEDDING_DIM = 200\n",
        "# we will use gloVe pretrained embeddings, the dimension is 200\n",
        "VALIDATION_SPLIT = 0.2\n",
        "# 20 percent data is selected for validating the model\n",
        "num_words = 20000"
      ],
      "execution_count": 2,
      "outputs": []
    },
    {
      "cell_type": "code",
      "metadata": {
        "id": "HEv_yonrNWqP"
      },
      "source": [
        "data_path = '/content/drive/My Drive/NLP/Toxic_comment/'\n",
        "\n",
        "# path is defined for loading the data"
      ],
      "execution_count": 3,
      "outputs": []
    },
    {
      "cell_type": "code",
      "metadata": {
        "id": "GaP637FXyhxJ"
      },
      "source": [
        "with open(data_path +\"/embedding_matrix.pkl\", \"rb\") as encoded_pickle:\n",
        "  embedding_matrix = pickle.load(encoded_pickle)\n",
        "\n",
        "with open(data_path +\"/targets.pkl\", \"rb\") as encoded_pickle:\n",
        "  targets = pickle.load(encoded_pickle)\n",
        "\n",
        "with open(data_path +\"/data.pkl\", \"rb\") as encoded_pickle:\n",
        "  data = pickle.load(encoded_pickle)"
      ],
      "execution_count": 7,
      "outputs": []
    },
    {
      "cell_type": "code",
      "metadata": {
        "colab": {
          "base_uri": "https://localhost:8080/"
        },
        "id": "X00onB-h0r2H",
        "outputId": "dc308fef-198c-4750-a93b-5661597beabf"
      },
      "source": [
        "targets.shape"
      ],
      "execution_count": 8,
      "outputs": [
        {
          "output_type": "execute_result",
          "data": {
            "text/plain": [
              "(159571, 6)"
            ]
          },
          "metadata": {},
          "execution_count": 8
        }
      ]
    },
    {
      "cell_type": "code",
      "metadata": {
        "colab": {
          "base_uri": "https://localhost:8080/"
        },
        "id": "QpiA12T7zt8c",
        "outputId": "b767b74f-cc5e-4f2a-d126-4a126d51eeeb"
      },
      "source": [
        "embedding_matrix.shape"
      ],
      "execution_count": 9,
      "outputs": [
        {
          "output_type": "execute_result",
          "data": {
            "text/plain": [
              "(20000, 200)"
            ]
          },
          "metadata": {},
          "execution_count": 9
        }
      ]
    },
    {
      "cell_type": "code",
      "metadata": {
        "id": "vuiDiOqu1qQT"
      },
      "source": [
        "embedding_layer = Embedding(\n",
        "  num_words,\n",
        "  EMBEDDING_DIM,\n",
        "  weights=[embedding_matrix],\n",
        "  input_length=MAX_SEQUENCE_LENGTH,\n",
        "  trainable=False\n",
        ")\n",
        "\n",
        "# we made trainalbe false as we are using pretrained weights from GloVe embeddings"
      ],
      "execution_count": 10,
      "outputs": []
    },
    {
      "cell_type": "code",
      "metadata": {
        "id": "4xPqjA5j1vr0"
      },
      "source": [
        "# defining the model woth keras functional API\n",
        "input = Input(shape=(MAX_SEQUENCE_LENGTH,))\n",
        "x = embedding_layer(input)\n",
        "x = GRU(64, return_sequences = True)(x)\n",
        "x = GlobalMaxPooling1D()(x)\n",
        "x = Dense(128, activation='relu')(x)\n",
        "output = Dense(6, activation='sigmoid')(x)\n",
        "\n",
        "model = Model(input, output)"
      ],
      "execution_count": 11,
      "outputs": []
    },
    {
      "cell_type": "code",
      "metadata": {
        "colab": {
          "base_uri": "https://localhost:8080/"
        },
        "id": "_mM5qrBNUbdD",
        "outputId": "9da08f73-e732-4f6b-a4a8-a41c0ebc7bf7"
      },
      "source": [
        "model.summary()"
      ],
      "execution_count": 12,
      "outputs": [
        {
          "output_type": "stream",
          "name": "stdout",
          "text": [
            "Model: \"model\"\n",
            "_________________________________________________________________\n",
            "Layer (type)                 Output Shape              Param #   \n",
            "=================================================================\n",
            "input_2 (InputLayer)         [(None, 100)]             0         \n",
            "_________________________________________________________________\n",
            "embedding (Embedding)        (None, 100, 200)          4000000   \n",
            "_________________________________________________________________\n",
            "gru (GRU)                    (None, 100, 64)           51072     \n",
            "_________________________________________________________________\n",
            "global_max_pooling1d (Global (None, 64)                0         \n",
            "_________________________________________________________________\n",
            "dense (Dense)                (None, 128)               8320      \n",
            "_________________________________________________________________\n",
            "dense_1 (Dense)              (None, 6)                 774       \n",
            "=================================================================\n",
            "Total params: 4,060,166\n",
            "Trainable params: 60,166\n",
            "Non-trainable params: 4,000,000\n",
            "_________________________________________________________________\n"
          ]
        }
      ]
    },
    {
      "cell_type": "code",
      "metadata": {
        "id": "dbo-qf7YmGE4"
      },
      "source": [
        "model.compile(\n",
        "  loss='binary_crossentropy',\n",
        "  optimizer='rmsprop',\n",
        "  metrics=['accuracy']\n",
        ")"
      ],
      "execution_count": 13,
      "outputs": []
    },
    {
      "cell_type": "code",
      "metadata": {
        "colab": {
          "base_uri": "https://localhost:8080/"
        },
        "id": "Zt1naOOxmNaS",
        "outputId": "9729302a-219d-4929-d356-398a2d254c0f"
      },
      "source": [
        "BATCH_SIZE = 128\n",
        "# arbritary selected\n",
        "EPOCHS = 3\n",
        "# arbritary selected\n",
        "\n",
        "r = model.fit(\n",
        "  data,\n",
        "  targets,\n",
        "  batch_size=BATCH_SIZE,\n",
        "  epochs=EPOCHS,\n",
        "  validation_split=VALIDATION_SPLIT\n",
        ")"
      ],
      "execution_count": 14,
      "outputs": [
        {
          "output_type": "stream",
          "name": "stdout",
          "text": [
            "Epoch 1/3\n",
            "998/998 [==============================] - 160s 158ms/step - loss: 0.0643 - accuracy: 0.9807 - val_loss: 0.0600 - val_accuracy: 0.9605\n",
            "Epoch 2/3\n",
            "998/998 [==============================] - 157s 158ms/step - loss: 0.0500 - accuracy: 0.9852 - val_loss: 0.0548 - val_accuracy: 0.9901\n",
            "Epoch 3/3\n",
            "998/998 [==============================] - 160s 161ms/step - loss: 0.0466 - accuracy: 0.9860 - val_loss: 0.0493 - val_accuracy: 0.9939\n"
          ]
        }
      ]
    },
    {
      "cell_type": "code",
      "metadata": {
        "id": "37S7mCtu74IM"
      },
      "source": [
        ""
      ],
      "execution_count": null,
      "outputs": []
    }
  ]
}