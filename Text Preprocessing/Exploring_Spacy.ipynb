{
  "nbformat": 4,
  "nbformat_minor": 0,
  "metadata": {
    "colab": {
      "name": "Exploring Spacy.ipynb",
      "provenance": [],
      "collapsed_sections": [],
      "mount_file_id": "157YtX3b-7-GVEjV4XWj9_pIVB2JqFP3a",
      "authorship_tag": "ABX9TyPSDO9dcp5TuAiTOnGXwLbu",
      "include_colab_link": true
    },
    "kernelspec": {
      "name": "python3",
      "display_name": "Python 3"
    },
    "language_info": {
      "name": "python"
    }
  },
  "cells": [
    {
      "cell_type": "markdown",
      "metadata": {
        "id": "view-in-github",
        "colab_type": "text"
      },
      "source": [
        "<a href=\"https://colab.research.google.com/github/fahimabrar/Natural-Language-Processing/blob/main/Text%20Preprocessing/Exploring_Spacy.ipynb\" target=\"_parent\"><img src=\"https://colab.research.google.com/assets/colab-badge.svg\" alt=\"Open In Colab\"/></a>"
      ]
    },
    {
      "cell_type": "markdown",
      "metadata": {
        "id": "_WFArCeK5veE"
      },
      "source": [
        "## Spacy"
      ]
    },
    {
      "cell_type": "code",
      "metadata": {
        "id": "OsoUZmrm53Hy",
        "colab": {
          "base_uri": "https://localhost:8080/"
        },
        "outputId": "42526e34-5d7f-42ac-8337-95b034c7efcf"
      },
      "source": [
        "!pip install spacy"
      ],
      "execution_count": null,
      "outputs": [
        {
          "output_type": "stream",
          "name": "stdout",
          "text": [
            "Requirement already satisfied: spacy in /usr/local/lib/python3.7/dist-packages (2.2.4)\n",
            "Requirement already satisfied: thinc==7.4.0 in /usr/local/lib/python3.7/dist-packages (from spacy) (7.4.0)\n",
            "Requirement already satisfied: murmurhash<1.1.0,>=0.28.0 in /usr/local/lib/python3.7/dist-packages (from spacy) (1.0.5)\n",
            "Requirement already satisfied: blis<0.5.0,>=0.4.0 in /usr/local/lib/python3.7/dist-packages (from spacy) (0.4.1)\n",
            "Requirement already satisfied: wasabi<1.1.0,>=0.4.0 in /usr/local/lib/python3.7/dist-packages (from spacy) (0.8.2)\n",
            "Requirement already satisfied: tqdm<5.0.0,>=4.38.0 in /usr/local/lib/python3.7/dist-packages (from spacy) (4.62.3)\n",
            "Requirement already satisfied: preshed<3.1.0,>=3.0.2 in /usr/local/lib/python3.7/dist-packages (from spacy) (3.0.5)\n",
            "Requirement already satisfied: requests<3.0.0,>=2.13.0 in /usr/local/lib/python3.7/dist-packages (from spacy) (2.23.0)\n",
            "Requirement already satisfied: catalogue<1.1.0,>=0.0.7 in /usr/local/lib/python3.7/dist-packages (from spacy) (1.0.0)\n",
            "Requirement already satisfied: cymem<2.1.0,>=2.0.2 in /usr/local/lib/python3.7/dist-packages (from spacy) (2.0.5)\n",
            "Requirement already satisfied: numpy>=1.15.0 in /usr/local/lib/python3.7/dist-packages (from spacy) (1.19.5)\n",
            "Requirement already satisfied: setuptools in /usr/local/lib/python3.7/dist-packages (from spacy) (57.4.0)\n",
            "Requirement already satisfied: plac<1.2.0,>=0.9.6 in /usr/local/lib/python3.7/dist-packages (from spacy) (1.1.3)\n",
            "Requirement already satisfied: srsly<1.1.0,>=1.0.2 in /usr/local/lib/python3.7/dist-packages (from spacy) (1.0.5)\n",
            "Requirement already satisfied: importlib-metadata>=0.20 in /usr/local/lib/python3.7/dist-packages (from catalogue<1.1.0,>=0.0.7->spacy) (4.8.1)\n",
            "Requirement already satisfied: typing-extensions>=3.6.4 in /usr/local/lib/python3.7/dist-packages (from importlib-metadata>=0.20->catalogue<1.1.0,>=0.0.7->spacy) (3.7.4.3)\n",
            "Requirement already satisfied: zipp>=0.5 in /usr/local/lib/python3.7/dist-packages (from importlib-metadata>=0.20->catalogue<1.1.0,>=0.0.7->spacy) (3.6.0)\n",
            "Requirement already satisfied: urllib3!=1.25.0,!=1.25.1,<1.26,>=1.21.1 in /usr/local/lib/python3.7/dist-packages (from requests<3.0.0,>=2.13.0->spacy) (1.24.3)\n",
            "Requirement already satisfied: certifi>=2017.4.17 in /usr/local/lib/python3.7/dist-packages (from requests<3.0.0,>=2.13.0->spacy) (2021.5.30)\n",
            "Requirement already satisfied: chardet<4,>=3.0.2 in /usr/local/lib/python3.7/dist-packages (from requests<3.0.0,>=2.13.0->spacy) (3.0.4)\n",
            "Requirement already satisfied: idna<3,>=2.5 in /usr/local/lib/python3.7/dist-packages (from requests<3.0.0,>=2.13.0->spacy) (2.10)\n"
          ]
        }
      ]
    },
    {
      "cell_type": "code",
      "metadata": {
        "id": "ML-8scEn55Br"
      },
      "source": [
        "import spacy"
      ],
      "execution_count": null,
      "outputs": []
    },
    {
      "cell_type": "code",
      "metadata": {
        "colab": {
          "base_uri": "https://localhost:8080/",
          "height": 35
        },
        "id": "_izIyZwnDleX",
        "outputId": "f3e69a53-2f42-420e-ca1f-ae966fde0bed"
      },
      "source": [
        "spacy.__version__"
      ],
      "execution_count": null,
      "outputs": [
        {
          "output_type": "execute_result",
          "data": {
            "application/vnd.google.colaboratory.intrinsic+json": {
              "type": "string"
            },
            "text/plain": [
              "'2.2.4'"
            ]
          },
          "metadata": {},
          "execution_count": 37
        }
      ]
    },
    {
      "cell_type": "code",
      "metadata": {
        "id": "Z1Mif2Ma6DgK"
      },
      "source": [
        "from spacy.lang.en import English\n",
        "nlp = spacy.load(\"en_core_web_sm\")"
      ],
      "execution_count": null,
      "outputs": []
    },
    {
      "cell_type": "code",
      "metadata": {
        "id": "Xc1u1l1lzgz0"
      },
      "source": [
        "path = '/content/drive/My Drive/NLP/'"
      ],
      "execution_count": null,
      "outputs": []
    },
    {
      "cell_type": "code",
      "metadata": {
        "id": "mdFP-7Zv6Nk8"
      },
      "source": [
        "with open (path+'covid.txt', 'r') as f:\n",
        "  text = f.read()"
      ],
      "execution_count": null,
      "outputs": []
    },
    {
      "cell_type": "code",
      "metadata": {
        "colab": {
          "base_uri": "https://localhost:8080/"
        },
        "id": "nYgMIFtE6TCC",
        "outputId": "830eaa7b-905c-4ab5-a23a-9ce5e2123efa"
      },
      "source": [
        "print(text)"
      ],
      "execution_count": null,
      "outputs": [
        {
          "output_type": "stream",
          "name": "stdout",
          "text": [
            "The cap on prices, which went up earlier this month for households in England, Scotland and Wales, is due to be reviewed again next April, with the expectation that it will climb further.\n",
            "\n",
            "When the price cap was increased on 1 October, about 15 million households faced a 12% rise in energy bills.\n",
            "\n",
            "Those on standard tariffs, with typical household levels of energy use, saw an increase of £139 - from £1,138 to £1,277 a year.\n",
            "\n",
            "Prepayment meter customers with average energy use saw a £153 increase.\n",
            "\n",
            "Even if wholesale gas prices were to drop significantly from now, the extra costs that suppliers have had to shoulder in the last couple of months means a steep rise in household bills in April is inevitable.\n"
          ]
        }
      ]
    },
    {
      "cell_type": "code",
      "metadata": {
        "colab": {
          "base_uri": "https://localhost:8080/"
        },
        "id": "iFSSYw-Z6Tzi",
        "outputId": "d7ced804-7c4d-4784-8045-c6ec3f3e1ed1"
      },
      "source": [
        "doc = nlp(text)\n",
        "#convert text into a spacy doc object\n",
        "print(type(doc))"
      ],
      "execution_count": null,
      "outputs": [
        {
          "output_type": "stream",
          "name": "stdout",
          "text": [
            "<class 'spacy.tokens.doc.Doc'>\n"
          ]
        }
      ]
    },
    {
      "cell_type": "code",
      "metadata": {
        "id": "f9APo8Mz6ZCC",
        "colab": {
          "base_uri": "https://localhost:8080/"
        },
        "outputId": "b713dc4c-2fb7-4cf4-d5a5-1bb8a57adafa"
      },
      "source": [
        "print(len(text))\n",
        "print(len(doc))\n",
        "print() \n",
        "print()\n",
        "\n",
        "#lets see what is the difference between text file and converint it into a spacy doc type\n",
        "\n",
        "#normal text\n",
        "for token in text[50:60]:\n",
        "  print(token)\n",
        "\n",
        "print(\"Spacy begins here\")\n",
        "\n",
        "#doc type in spacy\n",
        "for token in doc[50:60]:\n",
        "  print(\"token  ---------  \",token)\n",
        "\n",
        "#we can see doctype automatically printed the tokens effortlessly and perfectly\n",
        "\n",
        "#If we split the line into white spaces we will struggle where there is a punctuations that is attaced with characters"
      ],
      "execution_count": null,
      "outputs": [
        {
          "output_type": "stream",
          "name": "stdout",
          "text": [
            "709\n",
            "146\n",
            "\n",
            "\n",
            "h\n",
            " \n",
            "f\n",
            "o\n",
            "r\n",
            " \n",
            "h\n",
            "o\n",
            "u\n",
            "s\n",
            "Spacy begins here\n",
            "token  ---------   15\n",
            "token  ---------   million\n",
            "token  ---------   households\n",
            "token  ---------   faced\n",
            "token  ---------   a\n",
            "token  ---------   12\n",
            "token  ---------   %\n",
            "token  ---------   rise\n",
            "token  ---------   in\n",
            "token  ---------   energy\n"
          ]
        }
      ]
    },
    {
      "cell_type": "code",
      "metadata": {
        "colab": {
          "base_uri": "https://localhost:8080/"
        },
        "id": "iSZ2Jr7kFOZV",
        "outputId": "15e44f2c-43a5-41a5-c316-47599066e158"
      },
      "source": [
        "for sent in doc.sents:\n",
        "    print(\"---->>   \",sent.text)"
      ],
      "execution_count": null,
      "outputs": [
        {
          "output_type": "stream",
          "name": "stdout",
          "text": [
            "---->>    The cap on prices, which went up earlier this month for households in England, Scotland and Wales, is due to be reviewed again next April, with the expectation that it will climb further.\n",
            "\n",
            "\n",
            "---->>    When the price cap was increased on 1 October, about 15 million households faced a 12% rise in energy bills.\n",
            "\n",
            "\n",
            "---->>    Those on standard tariffs, with typical household levels of energy use, saw an increase of £139 - from\n",
            "---->>    £1,138 to £1,277 a year.\n",
            "\n",
            "\n",
            "---->>    Prepayment meter customers with average energy use saw a £153 increase.\n",
            "\n",
            "\n",
            "---->>    Even if wholesale gas prices were to drop significantly from now, the extra costs that suppliers have had to shoulder in the last couple of months means a steep rise in household bills in April is inevitable.\n"
          ]
        }
      ]
    },
    {
      "cell_type": "code",
      "metadata": {
        "id": "tg4bJOIP5bCZ"
      },
      "source": [
        "sent1 = list(doc.sents)[0]\n",
        "#python generator"
      ],
      "execution_count": null,
      "outputs": []
    },
    {
      "cell_type": "code",
      "metadata": {
        "colab": {
          "base_uri": "https://localhost:8080/"
        },
        "id": "hxsJ2kK06c4S",
        "outputId": "c2b83187-b612-4e4e-b947-a87049d1d0d9"
      },
      "source": [
        "token = sent1[10]\n",
        "print(token)"
      ],
      "execution_count": null,
      "outputs": [
        {
          "output_type": "stream",
          "name": "stdout",
          "text": [
            "month\n"
          ]
        }
      ]
    },
    {
      "cell_type": "code",
      "metadata": {
        "colab": {
          "base_uri": "https://localhost:8080/"
        },
        "id": "65srmzgfPxKw",
        "outputId": "8a6d646b-f42d-4b27-ed2f-cf5bddce2e02"
      },
      "source": [
        "print(sent1)"
      ],
      "execution_count": null,
      "outputs": [
        {
          "output_type": "stream",
          "name": "stdout",
          "text": [
            "The cap on prices, which went up earlier this month for households in England, Scotland and Wales, is due to be reviewed again next April, with the expectation that it will climb further.\n",
            "\n",
            "\n"
          ]
        }
      ]
    },
    {
      "cell_type": "code",
      "metadata": {
        "id": "2H169fTG4Udw",
        "colab": {
          "base_uri": "https://localhost:8080/",
          "height": 35
        },
        "outputId": "6c47a3ed-df02-42a4-e0b6-269e24c284e3"
      },
      "source": [
        "token.text"
      ],
      "execution_count": null,
      "outputs": [
        {
          "output_type": "execute_result",
          "data": {
            "application/vnd.google.colaboratory.intrinsic+json": {
              "type": "string"
            },
            "text/plain": [
              "'month'"
            ]
          },
          "metadata": {},
          "execution_count": 48
        }
      ]
    },
    {
      "cell_type": "code",
      "metadata": {
        "colab": {
          "base_uri": "https://localhost:8080/"
        },
        "id": "QARaxZ0fQvKw",
        "outputId": "e7be09cb-098d-4c38-82d3-41e6103447ce"
      },
      "source": [
        "token.left_edge"
      ],
      "execution_count": null,
      "outputs": [
        {
          "output_type": "execute_result",
          "data": {
            "text/plain": [
              "earlier"
            ]
          },
          "metadata": {},
          "execution_count": 49
        }
      ]
    },
    {
      "cell_type": "code",
      "metadata": {
        "colab": {
          "base_uri": "https://localhost:8080/"
        },
        "id": "7BapkNt3QxVj",
        "outputId": "1c749f9e-bbf1-4253-e667-4d06f3b7fe9e"
      },
      "source": [
        "token.right_edge"
      ],
      "execution_count": null,
      "outputs": [
        {
          "output_type": "execute_result",
          "data": {
            "text/plain": [
              "month"
            ]
          },
          "metadata": {},
          "execution_count": 50
        }
      ]
    },
    {
      "cell_type": "code",
      "metadata": {
        "colab": {
          "base_uri": "https://localhost:8080/",
          "height": 35
        },
        "id": "O6mzpdGCQyix",
        "outputId": "1f0e8bfb-ffea-405e-b762-e84fb140376c"
      },
      "source": [
        "token.ent_type_"
      ],
      "execution_count": null,
      "outputs": [
        {
          "output_type": "execute_result",
          "data": {
            "application/vnd.google.colaboratory.intrinsic+json": {
              "type": "string"
            },
            "text/plain": [
              "'DATE'"
            ]
          },
          "metadata": {},
          "execution_count": 51
        }
      ]
    },
    {
      "cell_type": "code",
      "metadata": {
        "colab": {
          "base_uri": "https://localhost:8080/",
          "height": 35
        },
        "id": "9O9XajEkRPUY",
        "outputId": "aa3f4ed8-e392-482c-cb58-424896730240"
      },
      "source": [
        "token.lemma_"
      ],
      "execution_count": null,
      "outputs": [
        {
          "output_type": "execute_result",
          "data": {
            "application/vnd.google.colaboratory.intrinsic+json": {
              "type": "string"
            },
            "text/plain": [
              "'month'"
            ]
          },
          "metadata": {},
          "execution_count": 52
        }
      ]
    },
    {
      "cell_type": "code",
      "metadata": {
        "colab": {
          "base_uri": "https://localhost:8080/"
        },
        "id": "cOD3xMVrfENw",
        "outputId": "ff926438-65e4-4dab-8ddb-a74e1bdb8c07"
      },
      "source": [
        "for ent in doc.ents:\n",
        "  print(ent.text, ent.label_)"
      ],
      "execution_count": null,
      "outputs": [
        {
          "output_type": "stream",
          "name": "stdout",
          "text": [
            "earlier this month DATE\n",
            "England GPE\n",
            "Scotland GPE\n",
            "Wales GPE\n",
            "next April DATE\n",
            "1 October DATE\n",
            "about 15 million CARDINAL\n",
            "12% PERCENT\n",
            "£1,138 to £1,277 MONEY\n",
            "the last couple of months DATE\n",
            "April DATE\n"
          ]
        }
      ]
    },
    {
      "cell_type": "code",
      "metadata": {
        "colab": {
          "base_uri": "https://localhost:8080/",
          "height": 400
        },
        "id": "fV_Xr1GUglsb",
        "outputId": "25bc3186-e2fb-4111-ed48-c2d487ab4369"
      },
      "source": [
        "from spacy import displacy\n",
        "displacy.render(doc, style = \"ent\", jupyter=True)"
      ],
      "execution_count": null,
      "outputs": [
        {
          "output_type": "display_data",
          "data": {
            "text/html": [
              "<span class=\"tex2jax_ignore\"><div class=\"entities\" style=\"line-height: 2.5; direction: ltr\">The cap on prices, which went up \n",
              "<mark class=\"entity\" style=\"background: #bfe1d9; padding: 0.45em 0.6em; margin: 0 0.25em; line-height: 1; border-radius: 0.35em;\">\n",
              "    earlier this month\n",
              "    <span style=\"font-size: 0.8em; font-weight: bold; line-height: 1; border-radius: 0.35em; text-transform: uppercase; vertical-align: middle; margin-left: 0.5rem\">DATE</span>\n",
              "</mark>\n",
              " for households in \n",
              "<mark class=\"entity\" style=\"background: #feca74; padding: 0.45em 0.6em; margin: 0 0.25em; line-height: 1; border-radius: 0.35em;\">\n",
              "    England\n",
              "    <span style=\"font-size: 0.8em; font-weight: bold; line-height: 1; border-radius: 0.35em; text-transform: uppercase; vertical-align: middle; margin-left: 0.5rem\">GPE</span>\n",
              "</mark>\n",
              ", \n",
              "<mark class=\"entity\" style=\"background: #feca74; padding: 0.45em 0.6em; margin: 0 0.25em; line-height: 1; border-radius: 0.35em;\">\n",
              "    Scotland\n",
              "    <span style=\"font-size: 0.8em; font-weight: bold; line-height: 1; border-radius: 0.35em; text-transform: uppercase; vertical-align: middle; margin-left: 0.5rem\">GPE</span>\n",
              "</mark>\n",
              " and \n",
              "<mark class=\"entity\" style=\"background: #feca74; padding: 0.45em 0.6em; margin: 0 0.25em; line-height: 1; border-radius: 0.35em;\">\n",
              "    Wales\n",
              "    <span style=\"font-size: 0.8em; font-weight: bold; line-height: 1; border-radius: 0.35em; text-transform: uppercase; vertical-align: middle; margin-left: 0.5rem\">GPE</span>\n",
              "</mark>\n",
              ", is due to be reviewed again \n",
              "<mark class=\"entity\" style=\"background: #bfe1d9; padding: 0.45em 0.6em; margin: 0 0.25em; line-height: 1; border-radius: 0.35em;\">\n",
              "    next April\n",
              "    <span style=\"font-size: 0.8em; font-weight: bold; line-height: 1; border-radius: 0.35em; text-transform: uppercase; vertical-align: middle; margin-left: 0.5rem\">DATE</span>\n",
              "</mark>\n",
              ", with the expectation that it will climb further.</br></br>When the price cap was increased on \n",
              "<mark class=\"entity\" style=\"background: #bfe1d9; padding: 0.45em 0.6em; margin: 0 0.25em; line-height: 1; border-radius: 0.35em;\">\n",
              "    1 October\n",
              "    <span style=\"font-size: 0.8em; font-weight: bold; line-height: 1; border-radius: 0.35em; text-transform: uppercase; vertical-align: middle; margin-left: 0.5rem\">DATE</span>\n",
              "</mark>\n",
              ", \n",
              "<mark class=\"entity\" style=\"background: #e4e7d2; padding: 0.45em 0.6em; margin: 0 0.25em; line-height: 1; border-radius: 0.35em;\">\n",
              "    about 15 million\n",
              "    <span style=\"font-size: 0.8em; font-weight: bold; line-height: 1; border-radius: 0.35em; text-transform: uppercase; vertical-align: middle; margin-left: 0.5rem\">CARDINAL</span>\n",
              "</mark>\n",
              " households faced a \n",
              "<mark class=\"entity\" style=\"background: #e4e7d2; padding: 0.45em 0.6em; margin: 0 0.25em; line-height: 1; border-radius: 0.35em;\">\n",
              "    12%\n",
              "    <span style=\"font-size: 0.8em; font-weight: bold; line-height: 1; border-radius: 0.35em; text-transform: uppercase; vertical-align: middle; margin-left: 0.5rem\">PERCENT</span>\n",
              "</mark>\n",
              " rise in energy bills.</br></br>Those on standard tariffs, with typical household levels of energy use, saw an increase of £139 - from \n",
              "<mark class=\"entity\" style=\"background: #e4e7d2; padding: 0.45em 0.6em; margin: 0 0.25em; line-height: 1; border-radius: 0.35em;\">\n",
              "    £1,138 to £1,277\n",
              "    <span style=\"font-size: 0.8em; font-weight: bold; line-height: 1; border-radius: 0.35em; text-transform: uppercase; vertical-align: middle; margin-left: 0.5rem\">MONEY</span>\n",
              "</mark>\n",
              " a year.</br></br>Prepayment meter customers with average energy use saw a £153 increase.</br></br>Even if wholesale gas prices were to drop significantly from now, the extra costs that suppliers have had to shoulder in \n",
              "<mark class=\"entity\" style=\"background: #bfe1d9; padding: 0.45em 0.6em; margin: 0 0.25em; line-height: 1; border-radius: 0.35em;\">\n",
              "    the last couple of months\n",
              "    <span style=\"font-size: 0.8em; font-weight: bold; line-height: 1; border-radius: 0.35em; text-transform: uppercase; vertical-align: middle; margin-left: 0.5rem\">DATE</span>\n",
              "</mark>\n",
              " means a steep rise in household bills in \n",
              "<mark class=\"entity\" style=\"background: #bfe1d9; padding: 0.45em 0.6em; margin: 0 0.25em; line-height: 1; border-radius: 0.35em;\">\n",
              "    April\n",
              "    <span style=\"font-size: 0.8em; font-weight: bold; line-height: 1; border-radius: 0.35em; text-transform: uppercase; vertical-align: middle; margin-left: 0.5rem\">DATE</span>\n",
              "</mark>\n",
              " is inevitable.</div></span>"
            ],
            "text/plain": [
              "<IPython.core.display.HTML object>"
            ]
          },
          "metadata": {}
        }
      ]
    },
    {
      "cell_type": "code",
      "metadata": {
        "colab": {
          "base_uri": "https://localhost:8080/"
        },
        "id": "9aA472f2pAuO",
        "outputId": "71f01662-a6ec-4ddd-885b-293e82be7605"
      },
      "source": [
        "!python3 -m spacy download en_core_web_md\n",
        "nlp = spacy.load('en_core_web_md')"
      ],
      "execution_count": null,
      "outputs": [
        {
          "output_type": "stream",
          "name": "stdout",
          "text": [
            "Collecting en_core_web_md==2.2.5\n",
            "  Downloading https://github.com/explosion/spacy-models/releases/download/en_core_web_md-2.2.5/en_core_web_md-2.2.5.tar.gz (96.4 MB)\n",
            "\u001b[K     |████████████████████████████████| 96.4 MB 1.2 MB/s \n",
            "\u001b[?25hRequirement already satisfied: spacy>=2.2.2 in /usr/local/lib/python3.7/dist-packages (from en_core_web_md==2.2.5) (2.2.4)\n",
            "Requirement already satisfied: setuptools in /usr/local/lib/python3.7/dist-packages (from spacy>=2.2.2->en_core_web_md==2.2.5) (57.4.0)\n",
            "Requirement already satisfied: murmurhash<1.1.0,>=0.28.0 in /usr/local/lib/python3.7/dist-packages (from spacy>=2.2.2->en_core_web_md==2.2.5) (1.0.5)\n",
            "Requirement already satisfied: requests<3.0.0,>=2.13.0 in /usr/local/lib/python3.7/dist-packages (from spacy>=2.2.2->en_core_web_md==2.2.5) (2.23.0)\n",
            "Requirement already satisfied: wasabi<1.1.0,>=0.4.0 in /usr/local/lib/python3.7/dist-packages (from spacy>=2.2.2->en_core_web_md==2.2.5) (0.8.2)\n",
            "Requirement already satisfied: numpy>=1.15.0 in /usr/local/lib/python3.7/dist-packages (from spacy>=2.2.2->en_core_web_md==2.2.5) (1.19.5)\n",
            "Requirement already satisfied: srsly<1.1.0,>=1.0.2 in /usr/local/lib/python3.7/dist-packages (from spacy>=2.2.2->en_core_web_md==2.2.5) (1.0.5)\n",
            "Requirement already satisfied: tqdm<5.0.0,>=4.38.0 in /usr/local/lib/python3.7/dist-packages (from spacy>=2.2.2->en_core_web_md==2.2.5) (4.62.3)\n",
            "Requirement already satisfied: cymem<2.1.0,>=2.0.2 in /usr/local/lib/python3.7/dist-packages (from spacy>=2.2.2->en_core_web_md==2.2.5) (2.0.5)\n",
            "Requirement already satisfied: catalogue<1.1.0,>=0.0.7 in /usr/local/lib/python3.7/dist-packages (from spacy>=2.2.2->en_core_web_md==2.2.5) (1.0.0)\n",
            "Requirement already satisfied: preshed<3.1.0,>=3.0.2 in /usr/local/lib/python3.7/dist-packages (from spacy>=2.2.2->en_core_web_md==2.2.5) (3.0.5)\n",
            "Requirement already satisfied: plac<1.2.0,>=0.9.6 in /usr/local/lib/python3.7/dist-packages (from spacy>=2.2.2->en_core_web_md==2.2.5) (1.1.3)\n",
            "Requirement already satisfied: thinc==7.4.0 in /usr/local/lib/python3.7/dist-packages (from spacy>=2.2.2->en_core_web_md==2.2.5) (7.4.0)\n",
            "Requirement already satisfied: blis<0.5.0,>=0.4.0 in /usr/local/lib/python3.7/dist-packages (from spacy>=2.2.2->en_core_web_md==2.2.5) (0.4.1)\n",
            "Requirement already satisfied: importlib-metadata>=0.20 in /usr/local/lib/python3.7/dist-packages (from catalogue<1.1.0,>=0.0.7->spacy>=2.2.2->en_core_web_md==2.2.5) (4.8.1)\n",
            "Requirement already satisfied: typing-extensions>=3.6.4 in /usr/local/lib/python3.7/dist-packages (from importlib-metadata>=0.20->catalogue<1.1.0,>=0.0.7->spacy>=2.2.2->en_core_web_md==2.2.5) (3.7.4.3)\n",
            "Requirement already satisfied: zipp>=0.5 in /usr/local/lib/python3.7/dist-packages (from importlib-metadata>=0.20->catalogue<1.1.0,>=0.0.7->spacy>=2.2.2->en_core_web_md==2.2.5) (3.6.0)\n",
            "Requirement already satisfied: chardet<4,>=3.0.2 in /usr/local/lib/python3.7/dist-packages (from requests<3.0.0,>=2.13.0->spacy>=2.2.2->en_core_web_md==2.2.5) (3.0.4)\n",
            "Requirement already satisfied: urllib3!=1.25.0,!=1.25.1,<1.26,>=1.21.1 in /usr/local/lib/python3.7/dist-packages (from requests<3.0.0,>=2.13.0->spacy>=2.2.2->en_core_web_md==2.2.5) (1.24.3)\n",
            "Requirement already satisfied: certifi>=2017.4.17 in /usr/local/lib/python3.7/dist-packages (from requests<3.0.0,>=2.13.0->spacy>=2.2.2->en_core_web_md==2.2.5) (2021.5.30)\n",
            "Requirement already satisfied: idna<3,>=2.5 in /usr/local/lib/python3.7/dist-packages (from requests<3.0.0,>=2.13.0->spacy>=2.2.2->en_core_web_md==2.2.5) (2.10)\n",
            "\u001b[38;5;2m✔ Download and installation successful\u001b[0m\n",
            "You can now load the model via spacy.load('en_core_web_md')\n"
          ]
        }
      ]
    },
    {
      "cell_type": "code",
      "metadata": {
        "colab": {
          "base_uri": "https://localhost:8080/"
        },
        "id": "Ng5F4SgKi-Dr",
        "outputId": "0fb5a129-400a-4f18-c242-9c4c95b7967c"
      },
      "source": [
        "word = \"City\"\n",
        "\n",
        "import numpy as np\n",
        "similar =  nlp.vocab.vectors.most_similar(\n",
        "    np.asarray([nlp.vocab.vectors[nlp.vocab.strings[word]]]), n=20)\n",
        "\n",
        "words = [nlp.vocab.strings[w] for w in similar[0][0]]\n",
        "distances = similar[2]\n",
        "print(words)"
      ],
      "execution_count": null,
      "outputs": [
        {
          "output_type": "stream",
          "name": "stdout",
          "text": [
            "['city', 'METROPOLIS', 'cities', 'METROPOLISES', 'TOWN', 'town', 'RIVERFRONT', 'downtown', 'TOWNSHIPS', 'ALLEYS', 'district', 'PRECINCT', 'Urbanizing', 'urban', 'NEIGHBORHOOD', 'BROWNSTONES', 'capital', 'CAPTIAL', 'mayor', 'Brunie']\n"
          ]
        }
      ]
    },
    {
      "cell_type": "code",
      "metadata": {
        "colab": {
          "base_uri": "https://localhost:8080/"
        },
        "id": "Pt-3JDGjrdxa",
        "outputId": "cd21ff47-b456-4495-ca53-0ecac231ab3f"
      },
      "source": [
        "d1 = nlp(\"I like crispy chips with tomato sauce.\")\n",
        "d2 = nlp(\"Foods are good with sauce.\")\n",
        "\n",
        "d3 = nlp(\"Politics is not always dirty.\")\n",
        "\n",
        "\n",
        "print(d1, \"<-->\", d2, d1.similarity(d2))\n",
        "print(d1, \"<-->\", d3, d1.similarity(d3))\n",
        "\n",
        "d4 = nlp(\"I enjoy apples\")\n",
        "d5 = nlp(\"I enjoy bananas\")\n",
        "d6 = nlp(\"I enjoy movies\")\n",
        "print(d4, \"<-->\", d5, d4.similarity(d5))\n",
        "print(d4, \"<-->\", d6, d4.similarity(d6))"
      ],
      "execution_count": null,
      "outputs": [
        {
          "output_type": "stream",
          "name": "stdout",
          "text": [
            "I like crispy chips with tomato sauce. <--> Foods are good with sauce. 0.8567436566867069\n",
            "I like crispy chips with tomato sauce. <--> Politics is not always dirty. 0.5612064232388411\n",
            "I enjoy apples <--> I enjoy bananas 0.9390143202150736\n",
            "I enjoy apples <--> I enjoy movies 0.7904442971057877\n"
          ]
        }
      ]
    },
    {
      "cell_type": "code",
      "metadata": {
        "id": "_gwR6lEo20T0"
      },
      "source": [
        ""
      ],
      "execution_count": null,
      "outputs": []
    },
    {
      "cell_type": "markdown",
      "metadata": {
        "id": "ppjjGnEc-y61"
      },
      "source": [
        "## POS tagging with SPacy"
      ]
    },
    {
      "cell_type": "code",
      "metadata": {
        "id": "tinZI6aA-8Y3"
      },
      "source": [
        "doc2 = nlp(\"He is not a very good person. Guten Morgen!\")"
      ],
      "execution_count": null,
      "outputs": []
    },
    {
      "cell_type": "code",
      "metadata": {
        "colab": {
          "base_uri": "https://localhost:8080/"
        },
        "id": "n8BCbXkj-_-Q",
        "outputId": "e97c38da-8c78-4071-ac0a-30fa5648044c"
      },
      "source": [
        "for token in doc2:\n",
        "  print(token.text, \"---->\", token.pos_)"
      ],
      "execution_count": null,
      "outputs": [
        {
          "output_type": "stream",
          "name": "stdout",
          "text": [
            "He ----> PRON\n",
            "is ----> AUX\n",
            "not ----> PART\n",
            "a ----> DET\n",
            "very ----> ADV\n",
            "good ----> ADJ\n",
            "person ----> NOUN\n",
            ". ----> PUNCT\n",
            "Guten ----> PROPN\n",
            "Morgen ----> PROPN\n",
            "! ----> PUNCT\n"
          ]
        }
      ]
    },
    {
      "cell_type": "code",
      "metadata": {
        "colab": {
          "base_uri": "https://localhost:8080/",
          "height": 35
        },
        "id": "f7PCF3MBCWat",
        "outputId": "ef6ddc17-a3ff-42d9-ea1f-418b1953782f"
      },
      "source": [
        "spacy.explain('DET')"
      ],
      "execution_count": null,
      "outputs": [
        {
          "output_type": "execute_result",
          "data": {
            "application/vnd.google.colaboratory.intrinsic+json": {
              "type": "string"
            },
            "text/plain": [
              "'determiner'"
            ]
          },
          "metadata": {},
          "execution_count": 60
        }
      ]
    },
    {
      "cell_type": "markdown",
      "metadata": {
        "id": "bLJKZcOD_uC-"
      },
      "source": [
        "## Syntactic Dependencies Prediction"
      ]
    },
    {
      "cell_type": "code",
      "metadata": {
        "colab": {
          "base_uri": "https://localhost:8080/"
        },
        "id": "me9KrTRn_OO4",
        "outputId": "e367290a-db94-4e1d-ebcf-4fe187e0d001"
      },
      "source": [
        "for token in doc2:\n",
        "  print(token.text, token.pos_, token.dep_, token.head.text, token.lang_)"
      ],
      "execution_count": null,
      "outputs": [
        {
          "output_type": "stream",
          "name": "stdout",
          "text": [
            "He PRON nsubj is en\n",
            "is AUX ROOT is en\n",
            "not PART neg is en\n",
            "a DET det person en\n",
            "very ADV advmod good en\n",
            "good ADJ amod person en\n",
            "person NOUN attr is en\n",
            ". PUNCT punct is en\n",
            "Guten PROPN compound Morgen en\n",
            "Morgen PROPN ROOT Morgen en\n",
            "! PUNCT punct Morgen en\n"
          ]
        }
      ]
    },
    {
      "cell_type": "markdown",
      "metadata": {
        "id": "BUOdBoM6Bnzx"
      },
      "source": [
        "## Predicting Named Entties"
      ]
    },
    {
      "cell_type": "code",
      "metadata": {
        "id": "Qdbhd1bnBkPv"
      },
      "source": [
        "doc3 = nlp(u\"Apple is looking at buying UK startup for 1 billion pounds. He lost 2 pounds weight.\")"
      ],
      "execution_count": null,
      "outputs": []
    },
    {
      "cell_type": "code",
      "metadata": {
        "colab": {
          "base_uri": "https://localhost:8080/"
        },
        "id": "IF6YjDhpB-Tn",
        "outputId": "b88dcd43-5380-4efa-c5b0-8c5dbc9dcd0d"
      },
      "source": [
        "for ent in doc3.ents:\n",
        "  print(ent.text, ent.label_)"
      ],
      "execution_count": null,
      "outputs": [
        {
          "output_type": "stream",
          "name": "stdout",
          "text": [
            "Apple ORG\n",
            "UK GPE\n",
            "1 billion pounds MONEY\n",
            "2 pounds QUANTITY\n"
          ]
        }
      ]
    },
    {
      "cell_type": "code",
      "metadata": {
        "colab": {
          "base_uri": "https://localhost:8080/",
          "height": 35
        },
        "id": "MpUAlW2sCC4-",
        "outputId": "0c97f23d-7279-40bf-ce9c-f31e5f45448d"
      },
      "source": [
        "spacy.explain('MONEY')"
      ],
      "execution_count": null,
      "outputs": [
        {
          "output_type": "execute_result",
          "data": {
            "application/vnd.google.colaboratory.intrinsic+json": {
              "type": "string"
            },
            "text/plain": [
              "'Monetary values, including unit'"
            ]
          },
          "metadata": {},
          "execution_count": 64
        }
      ]
    },
    {
      "cell_type": "code",
      "metadata": {
        "id": "1urKG9dRCQHX",
        "colab": {
          "base_uri": "https://localhost:8080/",
          "height": 35
        },
        "outputId": "c897ec5d-5896-4389-9292-274f4bee5f34"
      },
      "source": [
        "ent.lemma_"
      ],
      "execution_count": null,
      "outputs": [
        {
          "output_type": "execute_result",
          "data": {
            "application/vnd.google.colaboratory.intrinsic+json": {
              "type": "string"
            },
            "text/plain": [
              "'2 pound'"
            ]
          },
          "metadata": {},
          "execution_count": 65
        }
      ]
    },
    {
      "cell_type": "code",
      "metadata": {
        "id": "e19tztywRfox"
      },
      "source": [
        ""
      ],
      "execution_count": null,
      "outputs": []
    }
  ]
}