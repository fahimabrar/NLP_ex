{
  "nbformat": 4,
  "nbformat_minor": 0,
  "metadata": {
    "colab": {
      "name": "Toxic Comment Classification.ipynb",
      "provenance": [],
      "collapsed_sections": []
    },
    "kernelspec": {
      "name": "python3",
      "display_name": "Python 3"
    },
    "language_info": {
      "name": "python"
    }
  },
  "cells": [
    {
      "cell_type": "markdown",
      "metadata": {
        "id": "mdcK7Q4n6CEd"
      },
      "source": [
        "https://www.kaggle.com/c/jigsaw-toxic-comment-classification-challenge/data"
      ]
    },
    {
      "cell_type": "code",
      "metadata": {
        "id": "cZcjuEjDKu5J"
      },
      "source": [
        "from __future__ import print_function, division\n",
        "from builtins import range"
      ],
      "execution_count": 1,
      "outputs": []
    },
    {
      "cell_type": "code",
      "metadata": {
        "id": "iTWK2V2fK6S8"
      },
      "source": [
        "import os\n",
        "import numpy as np\n",
        "import pandas as pd\n",
        "import matplotlib.pyplot as plt\n",
        "from keras.preprocessing.text import Tokenizer\n",
        "from keras.preprocessing.sequence import pad_sequences\n",
        "from keras.layers import Dense, Input, GlobalMaxPooling1D\n",
        "from keras.layers import Conv1D, MaxPooling1D, Embedding\n",
        "from keras.models import Model\n",
        "from sklearn.metrics import roc_auc_score"
      ],
      "execution_count": 2,
      "outputs": []
    },
    {
      "cell_type": "code",
      "metadata": {
        "id": "vFYhRQizNTUA"
      },
      "source": [
        "# some configuration\n",
        "MAX_SEQUENCE_LENGTH = 100\n",
        "# maximum size for an input/comment/sentence/line \n",
        "MAX_VOCAB_SIZE = 20000\n",
        "# max vocab size is 20000 selected, If there are more than 20000 unique words in the dataset it will be truncated automatically by keras\n",
        "EMBEDDING_DIM = 200\n",
        "# we will use gloVe pretrained embeddings, the dimension is 200\n",
        "VALIDATION_SPLIT = 0.2\n",
        "# 20 percent data is selected for validating the model"
      ],
      "execution_count": 3,
      "outputs": []
    },
    {
      "cell_type": "code",
      "metadata": {
        "id": "HEv_yonrNWqP"
      },
      "source": [
        "glove_path = '/content/drive/My Drive/Flickr8k_Dataset/'\n",
        "data_path = '/content/drive/My Drive/NLP/Toxic_comment/'\n",
        "\n",
        "# path is defined for both the data and the gloVe embeddings"
      ],
      "execution_count": 4,
      "outputs": []
    },
    {
      "cell_type": "code",
      "metadata": {
        "id": "SFKGDzUHOlWp"
      },
      "source": [
        "embeddings_index = {} \n",
        "f = open(os.path.join(glove_path, 'glove.6B.200d.txt'), encoding=\"utf-8\")\n",
        "# reading the text file\n",
        "for line in f:\n",
        "    values = line.split()\n",
        "    #spliting each embeddings into tokens/vector values\n",
        "    word = values[0]\n",
        "    # on gloVe embeddings in each line the first value is the word itself\n",
        "    coefs = np.asarray(values[1:], dtype='float32')\n",
        "    # and the rest of the values are the vector values\n",
        "    embeddings_index[word] = coefs\n",
        "    # entering the values in dictionaries, where the word is the key and the embeddings/vector is the value"
      ],
      "execution_count": 5,
      "outputs": []
    },
    {
      "cell_type": "code",
      "metadata": {
        "colab": {
          "base_uri": "https://localhost:8080/"
        },
        "id": "c9nZQqvbRJme",
        "outputId": "6456194f-37c0-4f27-dc9f-1b675506e13f"
      },
      "source": [
        "len(embeddings_index)\n",
        "# on glove 6B.200d version it has embeddings for 400000 words"
      ],
      "execution_count": 6,
      "outputs": [
        {
          "output_type": "execute_result",
          "data": {
            "text/plain": [
              "400000"
            ]
          },
          "metadata": {},
          "execution_count": 6
        }
      ]
    },
    {
      "cell_type": "code",
      "metadata": {
        "id": "Iqmrplx-RYo_"
      },
      "source": [
        "train_data =  pd.read_csv(data_path + \"train.csv/train.csv\")\n",
        "test_data = pd.read_csv(data_path + \"test.csv/test.csv\")\n",
        "test_labels = pd.read_csv(data_path + \"test_labels.csv/test_labels.csv\")\n",
        "# reading the train and test files "
      ],
      "execution_count": 7,
      "outputs": []
    },
    {
      "cell_type": "code",
      "metadata": {
        "colab": {
          "base_uri": "https://localhost:8080/",
          "height": 206
        },
        "id": "0N46UdOCkSY0",
        "outputId": "0689522a-fcef-42c6-e1de-a3b10363cd96"
      },
      "source": [
        "train_data.head()\n",
        "# to see the structures of the data"
      ],
      "execution_count": 8,
      "outputs": [
        {
          "output_type": "execute_result",
          "data": {
            "text/html": [
              "<div>\n",
              "<style scoped>\n",
              "    .dataframe tbody tr th:only-of-type {\n",
              "        vertical-align: middle;\n",
              "    }\n",
              "\n",
              "    .dataframe tbody tr th {\n",
              "        vertical-align: top;\n",
              "    }\n",
              "\n",
              "    .dataframe thead th {\n",
              "        text-align: right;\n",
              "    }\n",
              "</style>\n",
              "<table border=\"1\" class=\"dataframe\">\n",
              "  <thead>\n",
              "    <tr style=\"text-align: right;\">\n",
              "      <th></th>\n",
              "      <th>id</th>\n",
              "      <th>comment_text</th>\n",
              "      <th>toxic</th>\n",
              "      <th>severe_toxic</th>\n",
              "      <th>obscene</th>\n",
              "      <th>threat</th>\n",
              "      <th>insult</th>\n",
              "      <th>identity_hate</th>\n",
              "    </tr>\n",
              "  </thead>\n",
              "  <tbody>\n",
              "    <tr>\n",
              "      <th>0</th>\n",
              "      <td>0000997932d777bf</td>\n",
              "      <td>Explanation\\nWhy the edits made under my usern...</td>\n",
              "      <td>0</td>\n",
              "      <td>0</td>\n",
              "      <td>0</td>\n",
              "      <td>0</td>\n",
              "      <td>0</td>\n",
              "      <td>0</td>\n",
              "    </tr>\n",
              "    <tr>\n",
              "      <th>1</th>\n",
              "      <td>000103f0d9cfb60f</td>\n",
              "      <td>D'aww! He matches this background colour I'm s...</td>\n",
              "      <td>0</td>\n",
              "      <td>0</td>\n",
              "      <td>0</td>\n",
              "      <td>0</td>\n",
              "      <td>0</td>\n",
              "      <td>0</td>\n",
              "    </tr>\n",
              "    <tr>\n",
              "      <th>2</th>\n",
              "      <td>000113f07ec002fd</td>\n",
              "      <td>Hey man, I'm really not trying to edit war. It...</td>\n",
              "      <td>0</td>\n",
              "      <td>0</td>\n",
              "      <td>0</td>\n",
              "      <td>0</td>\n",
              "      <td>0</td>\n",
              "      <td>0</td>\n",
              "    </tr>\n",
              "    <tr>\n",
              "      <th>3</th>\n",
              "      <td>0001b41b1c6bb37e</td>\n",
              "      <td>\"\\nMore\\nI can't make any real suggestions on ...</td>\n",
              "      <td>0</td>\n",
              "      <td>0</td>\n",
              "      <td>0</td>\n",
              "      <td>0</td>\n",
              "      <td>0</td>\n",
              "      <td>0</td>\n",
              "    </tr>\n",
              "    <tr>\n",
              "      <th>4</th>\n",
              "      <td>0001d958c54c6e35</td>\n",
              "      <td>You, sir, are my hero. Any chance you remember...</td>\n",
              "      <td>0</td>\n",
              "      <td>0</td>\n",
              "      <td>0</td>\n",
              "      <td>0</td>\n",
              "      <td>0</td>\n",
              "      <td>0</td>\n",
              "    </tr>\n",
              "  </tbody>\n",
              "</table>\n",
              "</div>"
            ],
            "text/plain": [
              "                 id  ... identity_hate\n",
              "0  0000997932d777bf  ...             0\n",
              "1  000103f0d9cfb60f  ...             0\n",
              "2  000113f07ec002fd  ...             0\n",
              "3  0001b41b1c6bb37e  ...             0\n",
              "4  0001d958c54c6e35  ...             0\n",
              "\n",
              "[5 rows x 8 columns]"
            ]
          },
          "metadata": {},
          "execution_count": 8
        }
      ]
    },
    {
      "cell_type": "code",
      "metadata": {
        "colab": {
          "base_uri": "https://localhost:8080/"
        },
        "id": "FpggaPqIeFgw",
        "outputId": "123f59ab-e5a9-4680-d77b-936babfc26ed"
      },
      "source": [
        "train_data.shape"
      ],
      "execution_count": 9,
      "outputs": [
        {
          "output_type": "execute_result",
          "data": {
            "text/plain": [
              "(159571, 8)"
            ]
          },
          "metadata": {},
          "execution_count": 9
        }
      ]
    },
    {
      "cell_type": "markdown",
      "metadata": {
        "id": "yTPREL3JnrYX"
      },
      "source": [
        "# Checking for null values"
      ]
    },
    {
      "cell_type": "code",
      "metadata": {
        "colab": {
          "base_uri": "https://localhost:8080/"
        },
        "id": "AChnPSF0lxXV",
        "outputId": "639c6e03-855e-4407-e31b-ca44a2659662"
      },
      "source": [
        "train_data.isna().any().any()\n",
        "# so there is no null values"
      ],
      "execution_count": 10,
      "outputs": [
        {
          "output_type": "execute_result",
          "data": {
            "text/plain": [
              "False"
            ]
          },
          "metadata": {},
          "execution_count": 10
        }
      ]
    },
    {
      "cell_type": "code",
      "metadata": {
        "id": "osKdv5CcuYjk"
      },
      "source": [
        "targets = train_data[[\"toxic\", \"severe_toxic\", \"obscene\", \"threat\", \"insult\", \"identity_hate\"]].values\n",
        "# the target/y/dependant values"
      ],
      "execution_count": 11,
      "outputs": []
    },
    {
      "cell_type": "code",
      "metadata": {
        "colab": {
          "base_uri": "https://localhost:8080/"
        },
        "id": "My-0M9uaubU8",
        "outputId": "54d7119e-453b-403e-8586-d66893385427"
      },
      "source": [
        "targets.shape"
      ],
      "execution_count": 12,
      "outputs": [
        {
          "output_type": "execute_result",
          "data": {
            "text/plain": [
              "(159571, 6)"
            ]
          },
          "metadata": {},
          "execution_count": 12
        }
      ]
    },
    {
      "cell_type": "code",
      "metadata": {
        "id": "sFISBeG9vGnw"
      },
      "source": [
        "sentences = train_data['comment_text'].values\n",
        "# the input/x/independent values"
      ],
      "execution_count": 13,
      "outputs": []
    },
    {
      "cell_type": "code",
      "metadata": {
        "id": "CVq0bjly_IMJ"
      },
      "source": [
        "tokenizer = Tokenizer(num_words=MAX_VOCAB_SIZE)\n",
        "tokenizer.fit_on_texts(sentences)"
      ],
      "execution_count": 14,
      "outputs": []
    },
    {
      "cell_type": "code",
      "metadata": {
        "colab": {
          "base_uri": "https://localhost:8080/"
        },
        "id": "qxF9ZxYNgvHo",
        "outputId": "d00b82ba-bd56-4685-bfc3-bf03f0bc7cf1"
      },
      "source": [
        "len(tokenizer.word_index)\n",
        "# In train sentences we have 210337 unique words"
      ],
      "execution_count": 15,
      "outputs": [
        {
          "output_type": "execute_result",
          "data": {
            "text/plain": [
              "210337"
            ]
          },
          "metadata": {},
          "execution_count": 15
        }
      ]
    },
    {
      "cell_type": "markdown",
      "metadata": {
        "id": "yqmhAMcjhIDf"
      },
      "source": [
        "### converting words to sequence of numbers based on word index"
      ]
    },
    {
      "cell_type": "code",
      "metadata": {
        "id": "ddnOht0DvNT6"
      },
      "source": [
        "sequences = tokenizer.texts_to_sequences(sentences)"
      ],
      "execution_count": 16,
      "outputs": []
    },
    {
      "cell_type": "code",
      "metadata": {
        "colab": {
          "base_uri": "https://localhost:8080/"
        },
        "id": "6mLojmbEvapj",
        "outputId": "49ab4177-46d0-424f-81fb-10900d325a78"
      },
      "source": [
        "type(sequences)"
      ],
      "execution_count": 17,
      "outputs": [
        {
          "output_type": "execute_result",
          "data": {
            "text/plain": [
              "list"
            ]
          },
          "metadata": {},
          "execution_count": 17
        }
      ]
    },
    {
      "cell_type": "code",
      "metadata": {
        "id": "IruYshH0vcSq"
      },
      "source": [
        "#sequences[0]\n",
        "# word sequence for the first comment in the train dataset"
      ],
      "execution_count": 18,
      "outputs": []
    },
    {
      "cell_type": "markdown",
      "metadata": {
        "id": "86qe5T0rhPL4"
      },
      "source": [
        ""
      ]
    },
    {
      "cell_type": "code",
      "metadata": {
        "colab": {
          "base_uri": "https://localhost:8080/"
        },
        "id": "8gvNfRnVvkT6",
        "outputId": "51151116-9d4c-4bf2-93fa-900b590a5340"
      },
      "source": [
        "max(len(s) for s in sequences)\n",
        "# maxumul length of a single comment"
      ],
      "execution_count": 19,
      "outputs": [
        {
          "output_type": "execute_result",
          "data": {
            "text/plain": [
              "1400"
            ]
          },
          "metadata": {},
          "execution_count": 19
        }
      ]
    },
    {
      "cell_type": "code",
      "metadata": {
        "colab": {
          "base_uri": "https://localhost:8080/"
        },
        "id": "L30Wr-8wxdro",
        "outputId": "699cf467-7c69-4864-bebb-8ade89aab8e8"
      },
      "source": [
        "min(len(s) for s in sequences)\n",
        "# minimum length of a single comment"
      ],
      "execution_count": 20,
      "outputs": [
        {
          "output_type": "execute_result",
          "data": {
            "text/plain": [
              "0"
            ]
          },
          "metadata": {},
          "execution_count": 20
        }
      ]
    },
    {
      "cell_type": "code",
      "metadata": {
        "id": "GDYBHFQKwE8s"
      },
      "source": [
        "data = pad_sequences(sequences, maxlen=MAX_SEQUENCE_LENGTH)\n",
        "# in keras the sentenc are pre padded and pre truncated\n",
        "# padding is basically replacing the empty positions with zeros\n",
        "# e.g  a senntence has only 5 words, here we selected maxumu sequence length is 100. \n",
        "# So the first 95 values will be zeoros and the last 5 values will be gahtered from the word index dictionary\n",
        "\n",
        "# Truncating means if the sentence/comment contains more than 100 words/sequence the extra wors will be removed from the beginig of the sentnece/comments\n"
      ],
      "execution_count": 21,
      "outputs": []
    },
    {
      "cell_type": "code",
      "metadata": {
        "colab": {
          "base_uri": "https://localhost:8080/"
        },
        "id": "XWgd3k2GiCcb",
        "outputId": "8fa7bd27-a684-4c50-e103-284de1f756b2"
      },
      "source": [
        "data[0]"
      ],
      "execution_count": 22,
      "outputs": [
        {
          "output_type": "execute_result",
          "data": {
            "text/plain": [
              "array([    0,     0,     0,     0,     0,     0,     0,     0,     0,\n",
              "           0,     0,     0,     0,     0,     0,     0,     0,     0,\n",
              "           0,     0,     0,     0,     0,     0,     0,     0,     0,\n",
              "           0,     0,     0,     0,     0,     0,     0,     0,     0,\n",
              "           0,     0,     0,     0,     0,     0,     0,     0,     0,\n",
              "           0,     0,     0,     0,     0,     0,     0,     0,   688,\n",
              "          75,     1,   126,   130,   177,    29,   672,  4511, 12052,\n",
              "        1116,    86,   331,    51,  2278, 11448,    50,  6864,    15,\n",
              "          60,  2756,   148,     7,  2937,    34,   117,  1221, 15190,\n",
              "        2825,     4,    45,    59,   244,     1,   365,    31,     1,\n",
              "          38,    27,   143,    73,  3462,    89,  3085,  4583,  2273,\n",
              "         985], dtype=int32)"
            ]
          },
          "metadata": {},
          "execution_count": 22
        }
      ]
    },
    {
      "cell_type": "code",
      "metadata": {
        "id": "qtOiXZMYwWf7"
      },
      "source": [
        "num_words = 20000\n",
        "embedding_matrix = np.zeros((num_words, EMBEDDING_DIM))\n",
        "for word, i in tokenizer.word_index.items():\n",
        "  if i < 20000:\n",
        "    embedding_vector = embeddings_index.get(word)\n",
        "    if embedding_vector is not None:\n",
        "      embedding_matrix[i] = embedding_vector"
      ],
      "execution_count": 23,
      "outputs": []
    },
    {
      "cell_type": "code",
      "metadata": {
        "colab": {
          "base_uri": "https://localhost:8080/"
        },
        "id": "Np9nUFNN1KTp",
        "outputId": "e4b72d00-bcde-4243-8f32-8c104fcad018"
      },
      "source": [
        "embedding_matrix.shape"
      ],
      "execution_count": 24,
      "outputs": [
        {
          "output_type": "execute_result",
          "data": {
            "text/plain": [
              "(20000, 200)"
            ]
          },
          "metadata": {},
          "execution_count": 24
        }
      ]
    },
    {
      "cell_type": "code",
      "metadata": {
        "id": "vuiDiOqu1qQT"
      },
      "source": [
        "embedding_layer = Embedding(\n",
        "  num_words,\n",
        "  EMBEDDING_DIM,\n",
        "  weights=[embedding_matrix],\n",
        "  input_length=MAX_SEQUENCE_LENGTH,\n",
        "  trainable=False\n",
        ")\n",
        "\n",
        "# we made trainalbe false as we are using pretrained weights from GloVe embeddings"
      ],
      "execution_count": 25,
      "outputs": []
    },
    {
      "cell_type": "code",
      "metadata": {
        "id": "4xPqjA5j1vr0"
      },
      "source": [
        "# defining the model woth keras functional API\n",
        "input = Input(shape=(MAX_SEQUENCE_LENGTH,))\n",
        "x = embedding_layer(input)\n",
        "x = Conv1D(128, 7, activation='relu')(x)\n",
        "# here filters = 128 and kernel_size = 7\n",
        "x = MaxPooling1D(3)(x)\n",
        "x = Conv1D(128, 7, activation='relu')(x)\n",
        "x = MaxPooling1D(3)(x)\n",
        "x = Conv1D(128, 7, activation='relu')(x)\n",
        "x = GlobalMaxPooling1D()(x)\n",
        "x = Dense(128, activation='relu')(x)\n",
        "output = Dense(6, activation='sigmoid')(x)\n",
        "\n",
        "model = Model(input, output)"
      ],
      "execution_count": 26,
      "outputs": []
    },
    {
      "cell_type": "code",
      "metadata": {
        "id": "GlQ59N3bmelP",
        "colab": {
          "base_uri": "https://localhost:8080/",
          "height": 1000
        },
        "outputId": "e0e0d905-e738-4bbb-b01b-ec04651f8b03"
      },
      "source": [
        "from keras.utils.vis_utils import plot_model\n",
        "plot_model(model, show_shapes=True, show_layer_names=True)"
      ],
      "execution_count": 27,
      "outputs": [
        {
          "output_type": "execute_result",
          "data": {
            "image/png": "[encoded data removed]",
            "text/plain": [
              "<IPython.core.display.Image object>"
            ]
          },
          "metadata": {},
          "execution_count": 27
        }
      ]
    },
    {
      "cell_type": "code",
      "metadata": {
        "colab": {
          "base_uri": "https://localhost:8080/"
        },
        "id": "_mM5qrBNUbdD",
        "outputId": "741bd851-f766-4008-d3c0-b355b6e21039"
      },
      "source": [
        "model.summary()"
      ],
      "execution_count": 28,
      "outputs": [
        {
          "output_type": "stream",
          "name": "stdout",
          "text": [
            "Model: \"model\"\n",
            "_________________________________________________________________\n",
            "Layer (type)                 Output Shape              Param #   \n",
            "=================================================================\n",
            "input_1 (InputLayer)         [(None, 100)]             0         \n",
            "_________________________________________________________________\n",
            "embedding (Embedding)        (None, 100, 200)          4000000   \n",
            "_________________________________________________________________\n",
            "conv1d (Conv1D)              (None, 94, 128)           179328    \n",
            "_________________________________________________________________\n",
            "max_pooling1d (MaxPooling1D) (None, 31, 128)           0         \n",
            "_________________________________________________________________\n",
            "conv1d_1 (Conv1D)            (None, 25, 128)           114816    \n",
            "_________________________________________________________________\n",
            "max_pooling1d_1 (MaxPooling1 (None, 8, 128)            0         \n",
            "_________________________________________________________________\n",
            "conv1d_2 (Conv1D)            (None, 2, 128)            114816    \n",
            "_________________________________________________________________\n",
            "global_max_pooling1d (Global (None, 128)               0         \n",
            "_________________________________________________________________\n",
            "dense (Dense)                (None, 128)               16512     \n",
            "_________________________________________________________________\n",
            "dense_1 (Dense)              (None, 6)                 774       \n",
            "=================================================================\n",
            "Total params: 4,426,246\n",
            "Trainable params: 426,246\n",
            "Non-trainable params: 4,000,000\n",
            "_________________________________________________________________\n"
          ]
        }
      ]
    },
    {
      "cell_type": "code",
      "metadata": {
        "id": "dbo-qf7YmGE4"
      },
      "source": [
        "model.compile(\n",
        "  loss='binary_crossentropy',\n",
        "  optimizer='rmsprop',\n",
        "  metrics=['accuracy']\n",
        ")"
      ],
      "execution_count": null,
      "outputs": []
    },
    {
      "cell_type": "code",
      "metadata": {
        "colab": {
          "base_uri": "https://localhost:8080/"
        },
        "id": "Zt1naOOxmNaS",
        "outputId": "648cca33-5c71-43a1-b157-e32670db4e27"
      },
      "source": [
        "BATCH_SIZE = 128\n",
        "# arbritary selected\n",
        "EPOCHS = 3\n",
        "# arbritary selected\n",
        "\n",
        "r = model.fit(\n",
        "  data,\n",
        "  targets,\n",
        "  batch_size=BATCH_SIZE,\n",
        "  epochs=EPOCHS,\n",
        "  validation_split=VALIDATION_SPLIT\n",
        ")"
      ],
      "execution_count": null,
      "outputs": [
        {
          "output_type": "stream",
          "name": "stdout",
          "text": [
            "Epoch 1/3\n",
            "998/998 [==============================] - 283s 282ms/step - loss: 0.0926 - accuracy: 0.9750 - val_loss: 0.0826 - val_accuracy: 0.9940\n",
            "Epoch 2/3\n",
            "998/998 [==============================] - 281s 281ms/step - loss: 0.0754 - accuracy: 0.9893 - val_loss: 0.1000 - val_accuracy: 0.9941\n",
            "Epoch 3/3\n",
            "998/998 [==============================] - 281s 282ms/step - loss: 0.0703 - accuracy: 0.9873 - val_loss: 0.0889 - val_accuracy: 0.9941\n"
          ]
        }
      ]
    },
    {
      "cell_type": "code",
      "metadata": {
        "colab": {
          "base_uri": "https://localhost:8080/",
          "height": 265
        },
        "id": "RB5nC8OX100a",
        "outputId": "94460777-f0a0-4aa5-8446-72377d49413a"
      },
      "source": [
        "\n",
        "# plot some data\n",
        "plt.plot(r.history['loss'], label='loss')\n",
        "plt.plot(r.history['val_loss'], label='val_loss')\n",
        "plt.legend()\n",
        "plt.show()"
      ],
      "execution_count": null,
      "outputs": [
        {
          "output_type": "display_data",
          "data": {
            "image/png": "[encoded data removed]",
            "text/plain": [
              "<Figure size 432x288 with 1 Axes>"
            ]
          },
          "metadata": {
            "needs_background": "light"
          }
        }
      ]
    },
    {
      "cell_type": "code",
      "metadata": {
        "colab": {
          "base_uri": "https://localhost:8080/",
          "height": 269
        },
        "id": "X4eXGuyw14kZ",
        "outputId": "78f80776-c660-4227-db11-67d2987dd4e5"
      },
      "source": [
        "# accuracies\n",
        "plt.plot(r.history['accuracy'], label='acc')\n",
        "plt.plot(r.history['val_accuracy'], label='val_acc')\n",
        "plt.legend()\n",
        "plt.show()"
      ],
      "execution_count": null,
      "outputs": [
        {
          "output_type": "display_data",
          "data": {
            "image/png": "[encoded data removed]",
            "text/plain": [
              "<Figure size 432x288 with 1 Axes>"
            ]
          },
          "metadata": {
            "needs_background": "light"
          }
        }
      ]
    },
    {
      "cell_type": "code",
      "metadata": {
        "id": "aedGS1iP66Wk"
      },
      "source": [
        ""
      ],
      "execution_count": null,
      "outputs": []
    }
  ]
}
