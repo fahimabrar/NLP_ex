{
  "nbformat": 4,
  "nbformat_minor": 0,
  "metadata": {
    "colab": {
      "name": "Embeddings with Keras Embeddding Layer.ipynb",
      "provenance": [],
      "collapsed_sections": [],
      "authorship_tag": "ABX9TyNxeecvkIS2ezOI8fhx7g+Q",
      "include_colab_link": true
    },
    "kernelspec": {
      "name": "python3",
      "display_name": "Python 3"
    },
    "language_info": {
      "name": "python"
    }
  },
  "cells": [
    {
      "cell_type": "markdown",
      "metadata": {
        "id": "view-in-github",
        "colab_type": "text"
      },
      "source": [
        "<a href=\"https://colab.research.google.com/github/fahimabrar/Natural-Language-Processing/blob/main/Word%2520Embeddings/Embeddings_with_Keras_Embeddding_Layer.ipynb\" target=\"_parent\"><img src=\"https://colab.research.google.com/assets/colab-badge.svg\" alt=\"Open In Colab\"/></a>"
      ]
    },
    {
      "cell_type": "code",
      "metadata": {
        "id": "cZAB8AeAt1uP"
      },
      "source": [
        "import tensorflow as tf\n",
        "import tensorflow_datasets as tfds\n",
        "\n",
        "from tensorflow import keras \n",
        "from tensorflow.keras.preprocessing.text import Tokenizer\n",
        "from keras.preprocessing.sequence import pad_sequences\n",
        "\n",
        "import numpy as np"
      ],
      "execution_count": 1,
      "outputs": []
    },
    {
      "cell_type": "code",
      "metadata": {
        "colab": {
          "base_uri": "https://localhost:8080/"
        },
        "id": "bcAnf3piu5Kl",
        "outputId": "67aa0992-0919-4425-ebfa-0ac35671388b"
      },
      "source": [
        "print(tf.__version__)"
      ],
      "execution_count": 2,
      "outputs": [
        {
          "output_type": "stream",
          "name": "stdout",
          "text": [
            "2.6.0\n"
          ]
        }
      ]
    },
    {
      "cell_type": "code",
      "metadata": {
        "id": "oT4wNUndvBE0"
      },
      "source": [
        "data, info = tfds.load(\"imdb_reviews\", with_info = True, as_supervised= True)"
      ],
      "execution_count": 3,
      "outputs": []
    },
    {
      "cell_type": "code",
      "metadata": {
        "id": "1A9fKe6-vIdt"
      },
      "source": [
        "train_data, test_data = data['train'], data['test']"
      ],
      "execution_count": 4,
      "outputs": []
    },
    {
      "cell_type": "code",
      "metadata": {
        "id": "Vq_w_QE_vPbl"
      },
      "source": [
        "train_sentences = []\n",
        "test_sentences = []\n",
        "\n",
        "train_labels = []\n",
        "test_labels = []"
      ],
      "execution_count": 5,
      "outputs": []
    },
    {
      "cell_type": "code",
      "metadata": {
        "id": "l2_1SCM0vYrd"
      },
      "source": [
        "for sent, label in train_data:\n",
        "  train_sentences.append(str(sent.numpy().decode('utf8')))\n",
        "  train_labels.append(label.numpy())\n",
        "\n",
        "\n",
        "\n",
        "for sent, label in test_data:\n",
        "  test_sentences.append(str(sent.numpy().decode('utf8')))\n",
        "  test_labels.append(label.numpy())"
      ],
      "execution_count": 6,
      "outputs": []
    },
    {
      "cell_type": "code",
      "metadata": {
        "colab": {
          "base_uri": "https://localhost:8080/",
          "height": 105
        },
        "id": "fHcJ6BQFv5B0",
        "outputId": "4aad3b69-6a90-4dbb-8ed2-1687fa7b2497"
      },
      "source": [
        "train_sentences[0]"
      ],
      "execution_count": 7,
      "outputs": [
        {
          "output_type": "execute_result",
          "data": {
            "application/vnd.google.colaboratory.intrinsic+json": {
              "type": "string"
            },
            "text/plain": [
              "\"This was an absolutely terrible movie. Don't be lured in by Christopher Walken or Michael Ironside. Both are great actors, but this must simply be their worst role in history. Even their great acting could not redeem this movie's ridiculous storyline. This movie is an early nineties US propaganda piece. The most pathetic scenes were those when the Columbian rebels were making their cases for revolutions. Maria Conchita Alonso appeared phony, and her pseudo-love affair with Walken was nothing but a pathetic emotional plug in a movie that was devoid of any real meaning. I am disappointed that there are movies like this, ruining actor's like Christopher Walken's good name. I could barely sit through it.\""
            ]
          },
          "metadata": {},
          "execution_count": 7
        }
      ]
    },
    {
      "cell_type": "code",
      "metadata": {
        "colab": {
          "base_uri": "https://localhost:8080/"
        },
        "id": "tL1ia6SAv_YU",
        "outputId": "236027ef-e385-4a09-8b3e-a07c7eea53db"
      },
      "source": [
        "train_labels[0]"
      ],
      "execution_count": 8,
      "outputs": [
        {
          "output_type": "execute_result",
          "data": {
            "text/plain": [
              "0"
            ]
          },
          "metadata": {},
          "execution_count": 8
        }
      ]
    },
    {
      "cell_type": "code",
      "metadata": {
        "id": "HXk8gQu-wBVE"
      },
      "source": [
        "train_labels = np.array(train_labels)\n",
        "test_labels = np.array(test_labels)"
      ],
      "execution_count": 9,
      "outputs": []
    },
    {
      "cell_type": "code",
      "metadata": {
        "colab": {
          "base_uri": "https://localhost:8080/"
        },
        "id": "yeQCPKBzynCQ",
        "outputId": "06e6fe86-87e4-4555-d04e-d839e0c1106f"
      },
      "source": [
        "type(train_sentences)"
      ],
      "execution_count": 10,
      "outputs": [
        {
          "output_type": "execute_result",
          "data": {
            "text/plain": [
              "list"
            ]
          },
          "metadata": {},
          "execution_count": 10
        }
      ]
    },
    {
      "cell_type": "code",
      "metadata": {
        "id": "I83YmYV9y8zj"
      },
      "source": [
        "vocab_size = 10000\n",
        "embedding_dim = 50\n",
        "max_length = 150\n",
        "trunc_type = \"post\"\n",
        "oov_tok = \"<oov>\""
      ],
      "execution_count": 11,
      "outputs": []
    },
    {
      "cell_type": "code",
      "metadata": {
        "id": "HZHPimW1zfsM",
        "colab": {
          "base_uri": "https://localhost:8080/"
        },
        "outputId": "d1e539d6-dbc8-42a8-bdc1-a2d134bccaad"
      },
      "source": [
        "tokenizer = Tokenizer(num_words= vocab_size, oov_token= oov_tok)\n",
        "\n",
        "tokenizer.fit_on_texts(train_sentences)\n",
        "word_index = tokenizer.word_index\n",
        "len(word_index)"
      ],
      "execution_count": 12,
      "outputs": [
        {
          "output_type": "execute_result",
          "data": {
            "text/plain": [
              "88583"
            ]
          },
          "metadata": {},
          "execution_count": 12
        }
      ]
    },
    {
      "cell_type": "code",
      "metadata": {
        "id": "6rCFd4Xb5WTp"
      },
      "source": [
        "text = \"\"\n",
        "text = \" \".join(train_sentences)"
      ],
      "execution_count": 13,
      "outputs": []
    },
    {
      "cell_type": "code",
      "metadata": {
        "id": "hBy66cI62ckF"
      },
      "source": [
        "from collections import Counter\n",
        "def word_count(text):\n",
        "  return Counter(text.split())\n",
        "\n",
        "counter  = word_count(text)"
      ],
      "execution_count": 14,
      "outputs": []
    },
    {
      "cell_type": "code",
      "metadata": {
        "id": "KEQ9lI7Q7FxM"
      },
      "source": [
        "vocab_dictionary =  dict(counter.most_common())"
      ],
      "execution_count": 15,
      "outputs": []
    },
    {
      "cell_type": "code",
      "metadata": {
        "id": "2bSaFioL8XwY"
      },
      "source": [
        "#uncomment the follwing line to see the word frequency\n",
        "# vocab_dictionary\n"
      ],
      "execution_count": 16,
      "outputs": []
    },
    {
      "cell_type": "code",
      "metadata": {
        "id": "J_WzpN-Izs60"
      },
      "source": [
        "train_seqs = tokenizer.texts_to_sequences(train_sentences)\n",
        "train_padded = pad_sequences(train_seqs, maxlen =  max_length, truncating= trunc_type)\n",
        "test_seqs = tokenizer.texts_to_sequences(test_sentences)\n",
        "test_padded = pad_sequences(test_seqs, maxlen =  max_length, truncating= trunc_type)"
      ],
      "execution_count": 17,
      "outputs": []
    },
    {
      "cell_type": "code",
      "metadata": {
        "colab": {
          "base_uri": "https://localhost:8080/"
        },
        "id": "BfSzNKkG1tST",
        "outputId": "6cf179a2-6619-4540-da96-a42c92f2d29b"
      },
      "source": [
        "model = tf.keras.Sequential([\n",
        "    tf.keras.layers.Embedding(vocab_size, embedding_dim, input_length=max_length),\n",
        "    tf.keras.layers.Flatten(),\n",
        "    tf.keras.layers.Dense(6, activation='relu'),\n",
        "    tf.keras.layers.Dense(1, activation='sigmoid')\n",
        "])\n",
        "\n",
        "\n",
        "model.compile(loss= 'binary_crossentropy', optimizer= 'adam', metrics=['accuracy'])\n",
        "model.summary()"
      ],
      "execution_count": 18,
      "outputs": [
        {
          "output_type": "stream",
          "name": "stdout",
          "text": [
            "Model: \"sequential\"\n",
            "_________________________________________________________________\n",
            "Layer (type)                 Output Shape              Param #   \n",
            "=================================================================\n",
            "embedding (Embedding)        (None, 150, 50)           500000    \n",
            "_________________________________________________________________\n",
            "flatten (Flatten)            (None, 7500)              0         \n",
            "_________________________________________________________________\n",
            "dense (Dense)                (None, 6)                 45006     \n",
            "_________________________________________________________________\n",
            "dense_1 (Dense)              (None, 1)                 7         \n",
            "=================================================================\n",
            "Total params: 545,013\n",
            "Trainable params: 545,013\n",
            "Non-trainable params: 0\n",
            "_________________________________________________________________\n"
          ]
        }
      ]
    },
    {
      "cell_type": "code",
      "metadata": {
        "colab": {
          "base_uri": "https://localhost:8080/"
        },
        "id": "GtbF_kUL45xP",
        "outputId": "1b0a00fe-58e9-4de5-c55c-14d1d5fb411a"
      },
      "source": [
        "num_epoch = 10\n",
        "model.fit(train_padded, train_labels, epochs = num_epoch, validation_data=(test_padded, test_labels))"
      ],
      "execution_count": 20,
      "outputs": [
        {
          "output_type": "stream",
          "name": "stdout",
          "text": [
            "Epoch 1/10\n",
            "782/782 [==============================] - 6s 7ms/step - loss: 0.0236 - accuracy: 0.9961 - val_loss: 0.5042 - val_accuracy: 0.8273\n",
            "Epoch 2/10\n",
            "782/782 [==============================] - 6s 8ms/step - loss: 0.0033 - accuracy: 0.9999 - val_loss: 0.5631 - val_accuracy: 0.8286\n",
            "Epoch 3/10\n",
            "782/782 [==============================] - 6s 7ms/step - loss: 0.0010 - accuracy: 1.0000 - val_loss: 0.6009 - val_accuracy: 0.8318\n",
            "Epoch 4/10\n",
            "782/782 [==============================] - 6s 8ms/step - loss: 5.0749e-04 - accuracy: 1.0000 - val_loss: 0.6344 - val_accuracy: 0.8320\n",
            "Epoch 5/10\n",
            "782/782 [==============================] - 6s 7ms/step - loss: 2.8498e-04 - accuracy: 1.0000 - val_loss: 0.6671 - val_accuracy: 0.8325\n",
            "Epoch 6/10\n",
            "782/782 [==============================] - 6s 8ms/step - loss: 1.6482e-04 - accuracy: 1.0000 - val_loss: 0.6989 - val_accuracy: 0.8321\n",
            "Epoch 7/10\n",
            "782/782 [==============================] - 7s 10ms/step - loss: 9.9610e-05 - accuracy: 1.0000 - val_loss: 0.7300 - val_accuracy: 0.8317\n",
            "Epoch 8/10\n",
            "782/782 [==============================] - 7s 8ms/step - loss: 6.1292e-05 - accuracy: 1.0000 - val_loss: 0.7596 - val_accuracy: 0.8324\n",
            "Epoch 9/10\n",
            "782/782 [==============================] - 6s 8ms/step - loss: 3.8200e-05 - accuracy: 1.0000 - val_loss: 0.7901 - val_accuracy: 0.8324\n",
            "Epoch 10/10\n",
            "782/782 [==============================] - 6s 8ms/step - loss: 2.3849e-05 - accuracy: 1.0000 - val_loss: 0.8155 - val_accuracy: 0.8322\n"
          ]
        },
        {
          "output_type": "execute_result",
          "data": {
            "text/plain": [
              "<keras.callbacks.History at 0x7f636af40b10>"
            ]
          },
          "metadata": {},
          "execution_count": 20
        }
      ]
    },
    {
      "cell_type": "code",
      "metadata": {
        "id": "eYSV6f77A_az"
      },
      "source": [
        "l1 = model.layers[0]"
      ],
      "execution_count": 21,
      "outputs": []
    },
    {
      "cell_type": "code",
      "metadata": {
        "colab": {
          "base_uri": "https://localhost:8080/"
        },
        "id": "F1cZMDiYBChi",
        "outputId": "dfc45b5d-7c27-4ee0-c3b5-6054a4d8bbff"
      },
      "source": [
        "l1"
      ],
      "execution_count": 22,
      "outputs": [
        {
          "output_type": "execute_result",
          "data": {
            "text/plain": [
              "<keras.layers.embeddings.Embedding at 0x7f6369f1dd90>"
            ]
          },
          "metadata": {},
          "execution_count": 22
        }
      ]
    },
    {
      "cell_type": "code",
      "metadata": {
        "colab": {
          "base_uri": "https://localhost:8080/"
        },
        "id": "3_aS7uxoBDFU",
        "outputId": "aba3c0a4-6e44-4005-e092-0a64be0db78c"
      },
      "source": [
        "weights = l1.get_weights()[0]\n",
        "print(weights.shape)\n",
        "print(weights)"
      ],
      "execution_count": 23,
      "outputs": [
        {
          "output_type": "stream",
          "name": "stdout",
          "text": [
            "(10000, 50)\n",
            "[[-0.02459711 -0.0377754  -0.02033278 ... -0.02471545  0.01482258\n",
            "   0.00475845]\n",
            " [-0.04864111 -0.03107286  0.00214711 ... -0.01085368 -0.00985176\n",
            "   0.02486526]\n",
            " [ 0.01042906 -0.00317019  0.00701924 ... -0.00587262 -0.01009039\n",
            "   0.05139241]\n",
            " ...\n",
            " [-0.00577927 -0.04583653  0.06259663 ... -0.05582897  0.09835495\n",
            "   0.06188731]\n",
            " [-0.00279514 -0.10847239  0.07720436 ... -0.07776046  0.03525668\n",
            "   0.05743249]\n",
            " [ 0.04638394 -0.09902145  0.02673982 ... -0.08700522 -0.0023003\n",
            "   0.00439921]]\n"
          ]
        }
      ]
    },
    {
      "cell_type": "code",
      "metadata": {
        "colab": {
          "base_uri": "https://localhost:8080/"
        },
        "id": "9LvtdGiAXFbP",
        "outputId": "8ceaaa42-06a9-4166-8400-35971477e28d"
      },
      "source": [
        "weights.shape"
      ],
      "execution_count": 25,
      "outputs": [
        {
          "output_type": "execute_result",
          "data": {
            "text/plain": [
              "(10000, 50)"
            ]
          },
          "metadata": {},
          "execution_count": 25
        }
      ]
    }
  ]
}